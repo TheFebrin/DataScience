{
 "cells": [
  {
   "cell_type": "code",
   "execution_count": 1,
   "metadata": {},
   "outputs": [],
   "source": [
    "import numpy as np\n",
    "import matplotlib.pyplot as plt\n",
    "import time\n",
    "import seaborn as sns\n",
    "import urllib.request\n",
    "from tqdm import tqdm\n",
    "import pandas as pd\n",
    "\n",
    "%matplotlib inline"
   ]
  },
  {
   "cell_type": "markdown",
   "metadata": {},
   "source": [
    "#  Quadratic Assignment Problem"
   ]
  },
  {
   "cell_type": "markdown",
   "metadata": {},
   "source": [
    "## 1. Read data"
   ]
  },
  {
   "cell_type": "markdown",
   "metadata": {},
   "source": [
    "Popular QAP with loss function minimums: <br>\n",
    "- Nug12 12 578 (OPT) (12,7,9,3,4,8,11,1,5,6,10,2) \n",
    "- Nug14 14 1014 (OPT) (9,8,13,2,1,11,7,14,3,4,12,5,6,10) \n",
    "- Nug15 15 1150 (OPT) (1,2,13,8,9,4,3,14,7,11,10,15,6,5,12) \n",
    "- Nug16a 16 1610 (OPT) (9,14,2,15,16,3,10,12,8,11,6,5,7,1,4,13) \n",
    "- Nug16b 16 1240 (OPT) (16,12,13,8,4,2,9,11,15,10,7,3,14,6,1,5) \n",
    "- Nug17 17 1732 (OPT) (16,15,2,14,9,11,8,12,10,3,4,1,7,6,13,17,5) \n",
    "- Nug18 18 1930 (OPT) (10,3,14,2,18,6,7,12,15,4,5,1,11,8,17,13,9,16) \n",
    "- Nug20 20 2570 (OPT) (18,14,10,3,9,4,2,12,11,16,19,15,20,8,13,17,5,7,1,6) \n",
    "- Nug21 21 2438 (OPT) (4,21,3,9,13,2,5,14,18,11,16,10,6,15,20,19,8,7,1,12,17) \n",
    "- Nug22 22 3596 (OPT) (2,21,9,10,7,3,1,19,8,20,17,5,13,6,12,16,11,22,18,14,15) \n",
    "- Nug24 24 3488 (OPT) (17,8,11,23,4,20,15,19,22,18,3,14,1,10,7,9,16,21,24,12,6,13,5,2) \n",
    "- Nug25 25 3744 (OPT) (5,11,20,15,22,2,25,8,9,1,18,16,3,6,19,24,21,14,7,10,17,12,4,23,13) * \n",
    "- Nug27 27 5234 (OPT) (23,18,3,1,27,17,5,12,7,15,4,26,8,19,20,2,24,21,14,10,9,13,22,25,6,16,11) * \n",
    "- Nug28 28 5166 (OPT) (18,21,9,1,28,20,11,3,13,12,10,19,14,22,15,2,25,16,4,23,7,17,24,26,5,27,8,6) * \n",
    "- Nug30 30 6124 (OPT) (5 12 6 13 2 21 26 24 10 9 29 28 17 1 8 7 19 25 23 22 11 16 30 4 15 18 27 3 14 20)"
   ]
  },
  {
   "cell_type": "code",
   "execution_count": 2,
   "metadata": {},
   "outputs": [],
   "source": [
    "def get_nug(no):\n",
    "    QAP_INSTANCE_URL = f'http://anjos.mgi.polymtl.ca/qaplib/data.d/nug{no}.dat'\n",
    "    qap_instance_file = urllib.request.urlopen(QAP_INSTANCE_URL)\n",
    "\n",
    "    line = qap_instance_file.readline()\n",
    "    n = int(line.decode()[:-1].split()[0])\n",
    "  \n",
    "\n",
    "    A = np.empty((n, n))\n",
    "    qap_instance_file.readline()\n",
    "    for i in range(n):\n",
    "        line = qap_instance_file.readline()\n",
    "        A[i, :] = list(map(int, line.decode()[:-1].split()))\n",
    "  \n",
    "\n",
    "    B = np.empty((n, n))\n",
    "    qap_instance_file.readline()\n",
    "    for i in range(n):\n",
    "        line = qap_instance_file.readline()\n",
    "        B[i, :] = list(map(int, line.decode()[:-1].split()))\n",
    "  \n",
    "    return n, A, B"
   ]
  },
  {
   "cell_type": "code",
   "execution_count": 3,
   "metadata": {},
   "outputs": [
    {
     "name": "stdout",
     "output_type": "stream",
     "text": [
      "Problem size: 12\n",
      "Flow matrix:\n",
      " [[0. 1. 2. 3. 1. 2. 3. 4. 2. 3. 4. 5.]\n",
      " [1. 0. 1. 2. 2. 1. 2. 3. 3. 2. 3. 4.]\n",
      " [2. 1. 0. 1. 3. 2. 1. 2. 4. 3. 2. 3.]\n",
      " [3. 2. 1. 0. 4. 3. 2. 1. 5. 4. 3. 2.]\n",
      " [1. 2. 3. 4. 0. 1. 2. 3. 1. 2. 3. 4.]\n",
      " [2. 1. 2. 3. 1. 0. 1. 2. 2. 1. 2. 3.]\n",
      " [3. 2. 1. 2. 2. 1. 0. 1. 3. 2. 1. 2.]\n",
      " [4. 3. 2. 1. 3. 2. 1. 0. 4. 3. 2. 1.]\n",
      " [2. 3. 4. 5. 1. 2. 3. 4. 0. 1. 2. 3.]\n",
      " [3. 2. 3. 4. 2. 1. 2. 3. 1. 0. 1. 2.]\n",
      " [4. 3. 2. 3. 3. 2. 1. 2. 2. 1. 0. 1.]\n",
      " [5. 4. 3. 2. 4. 3. 2. 1. 3. 2. 1. 0.]]\n",
      "Distance matrix:\n",
      " [[ 0.  5.  2.  4.  1.  0.  0.  6.  2.  1.  1.  1.]\n",
      " [ 5.  0.  3.  0.  2.  2.  2.  0.  4.  5.  0.  0.]\n",
      " [ 2.  3.  0.  0.  0.  0.  0.  5.  5.  2.  2.  2.]\n",
      " [ 4.  0.  0.  0.  5.  2.  2. 10.  0.  0.  5.  5.]\n",
      " [ 1.  2.  0.  5.  0. 10.  0.  0.  0.  5.  1.  1.]\n",
      " [ 0.  2.  0.  2. 10.  0.  5.  1.  1.  5.  4.  0.]\n",
      " [ 0.  2.  0.  2.  0.  5.  0. 10.  5.  2.  3.  3.]\n",
      " [ 6.  0.  5. 10.  0.  1. 10.  0.  0.  0.  5.  0.]\n",
      " [ 2.  4.  5.  0.  0.  1.  5.  0.  0.  0. 10. 10.]\n",
      " [ 1.  5.  2.  0.  5.  5.  2.  0.  0.  0.  5.  0.]\n",
      " [ 1.  0.  2.  5.  1.  4.  3.  5. 10.  5.  0.  2.]\n",
      " [ 1.  0.  2.  5.  1.  0.  3.  0. 10.  0.  2.  0.]]\n"
     ]
    }
   ],
   "source": [
    "n, A, B = get_nug(12)\n",
    "\n",
    "print('Problem size: %d' % n)\n",
    "print('Flow matrix:\\n', A)\n",
    "print('Distance matrix:\\n', B)"
   ]
  },
  {
   "cell_type": "markdown",
   "metadata": {},
   "source": [
    "## 2. Objective function"
   ]
  },
  {
   "cell_type": "code",
   "execution_count": 3,
   "metadata": {},
   "outputs": [],
   "source": [
    "def qap_objective_function(p):\n",
    "    s = 0.0\n",
    "    for i in range(n):\n",
    "        s += (A[i, :] * B[p, p[i]]).sum()\n",
    "    return s"
   ]
  },
  {
   "cell_type": "code",
   "execution_count": 96,
   "metadata": {},
   "outputs": [
    {
     "name": "stdout",
     "output_type": "stream",
     "text": [
      "578.0 [11, 6, 8, 2, 3, 7, 10, 0, 4, 5, 9, 1]\n"
     ]
    }
   ],
   "source": [
    "p = [11, 6, 8, 2, 3, 7, 10, 0, 4, 5, 9, 1]\n",
    "print(qap_objective_function(p), p)"
   ]
  },
  {
   "cell_type": "markdown",
   "metadata": {},
   "source": [
    "# 3. Random Sampling"
   ]
  },
  {
   "cell_type": "code",
   "execution_count": 51,
   "metadata": {},
   "outputs": [
    {
     "name": "stderr",
     "output_type": "stream",
     "text": [
      "100%|█████████████████████████████████████████████████████████████████████| 1000000/1000000 [01:30<00:00, 11082.18it/s]\n"
     ]
    },
    {
     "name": "stdout",
     "output_type": "stream",
     "text": [
      "594.0 [ 4  6  3 11  5 10  7  8  9  1  0  2]\n",
      "Wall time: 1min 30s\n"
     ]
    }
   ],
   "source": [
    "%%time\n",
    "\n",
    "T = 1000000\n",
    "\n",
    "permutations = np.empty((T, n), dtype=np.int64)\n",
    "costs = np.zeros(T)\n",
    "for i in tqdm(range(T)):\n",
    "    permutations[i, :] = np.random.permutation(n)\n",
    "    costs[i] = qap_objective_function(permutations[i, :])\n",
    "\n",
    "p = permutations[costs.argmin(), :]\n",
    "print(qap_objective_function(p), p)"
   ]
  },
  {
   "cell_type": "code",
   "execution_count": 56,
   "metadata": {},
   "outputs": [
    {
     "data": {
      "image/png": "[encoded data removed]",
      "text/plain": [
       "<Figure size 432x288 with 1 Axes>"
      ]
     },
     "metadata": {
      "needs_background": "light"
     },
     "output_type": "display_data"
    },
    {
     "name": "stdout",
     "output_type": "stream",
     "text": [
      "812.058624 49.733344098568544\n"
     ]
    }
   ],
   "source": [
    "plt.figure()\n",
    "plt.hist(costs, bins=100, edgecolor='black')\n",
    "plt.show()\n",
    "\n",
    "print(costs.mean(), costs.std())"
   ]
  },
  {
   "cell_type": "markdown",
   "metadata": {},
   "source": [
    "## 4. Simulated Annealing"
   ]
  },
  {
   "cell_type": "code",
   "execution_count": 110,
   "metadata": {},
   "outputs": [],
   "source": [
    "def qap_objective_function(p):\n",
    "    s = 0.0\n",
    "    for i in range(n):\n",
    "        s += (A[i, :] * B[p, p[i]]).sum()\n",
    "    return s"
   ]
  },
  {
   "cell_type": "code",
   "execution_count": 104,
   "metadata": {},
   "outputs": [],
   "source": [
    "q = p.copy()\n",
    "\n",
    "i, j = 4, 8\n",
    "q[i], q[j] = q[j], q[i]"
   ]
  },
  {
   "cell_type": "code",
   "execution_count": 112,
   "metadata": {},
   "outputs": [
    {
     "data": {
      "text/plain": [
       "654.0"
      ]
     },
     "execution_count": 112,
     "metadata": {},
     "output_type": "execute_result"
    }
   ],
   "source": [
    "qap_objective_function(q)"
   ]
  },
  {
   "cell_type": "code",
   "execution_count": 118,
   "metadata": {},
   "outputs": [
    {
     "data": {
      "text/plain": [
       "578.0"
      ]
     },
     "execution_count": 118,
     "metadata": {},
     "output_type": "execute_result"
    }
   ],
   "source": [
    "qap_objective_function(p)"
   ]
  },
  {
   "cell_type": "code",
   "execution_count": 86,
   "metadata": {},
   "outputs": [
    {
     "data": {
      "text/plain": [
       "682.0"
      ]
     },
     "execution_count": 86,
     "metadata": {},
     "output_type": "execute_result"
    }
   ],
   "source": [
    "z = q.copy()\n",
    "i, j = 2, 3\n",
    "z[i], z[j] = z[j], z[i]\n",
    "qap_objective_function(z)"
   ]
  },
  {
   "cell_type": "code",
   "execution_count": 126,
   "metadata": {},
   "outputs": [],
   "source": [
    "def delta(p, r, s, A, B):\n",
    "    n = len(p)\n",
    "    ans = 0\n",
    "    q = p.copy()\n",
    "    q[r], q[s] = q[s], q[r]\n",
    "    for i in range(n):\n",
    "        for j in range(n):\n",
    "            ans += A[i][j] * B[p[i], p[j]] - A[i][j] * B[q[i], q[j]]\n",
    "    return -ans"
   ]
  },
  {
   "cell_type": "code",
   "execution_count": 223,
   "metadata": {},
   "outputs": [],
   "source": [
    "def delta2(p, r, s, A, B):\n",
    "    n = len(p)\n",
    "    ans = 0\n",
    "    for k in range(n):\n",
    "        if k == r or k == s:\n",
    "            continue\n",
    "        ans += (A[s, k] - A[r, k]) * (B[p[s], p[k]] - B[p[r], p[k]])\n",
    "        \n",
    "    return -2 * ans"
   ]
  },
  {
   "cell_type": "code",
   "execution_count": 224,
   "metadata": {},
   "outputs": [
    {
     "name": "stdout",
     "output_type": "stream",
     "text": [
      "76.0\n",
      "54.0\n"
     ]
    }
   ],
   "source": [
    "r, s = 4, 8\n",
    "u, v = 2, 6\n",
    "\n",
    "print(delta2(p, r, s, A, B))\n",
    "print(delta2(q, u, v, A, B))"
   ]
  },
  {
   "cell_type": "code",
   "execution_count": 174,
   "metadata": {},
   "outputs": [
    {
     "data": {
      "text/plain": [
       "54.0"
      ]
     },
     "execution_count": 174,
     "metadata": {},
     "output_type": "execute_result"
    }
   ],
   "source": []
  },
  {
   "cell_type": "code",
   "execution_count": 191,
   "metadata": {},
   "outputs": [],
   "source": [
    "for u in range(n):\n",
    "    for v in range(n):\n",
    "        a = delta2(p, r, s, A, B)\n",
    "        b = delta2(q, u, v, A, B)\n",
    "        c = delta2(p, u, v, A, B) + 2 * (A[r, u] - A[r, v] + A[s, v] - A[s, u]) * (B[q[s], q[u]] - B[q[s], q[v]] + B[q[r], q[v]] - B[q[r], q[u]])\n",
    "        if u in [r, s] or v in [r, s]:\n",
    "            2 + 2\n",
    "        else:\n",
    "            if b != c:\n",
    "                print(u, v)\n",
    "                print(a)\n",
    "                print(b)\n",
    "                print(c)\n",
    "                print()"
   ]
  },
  {
   "cell_type": "code",
   "execution_count": 4,
   "metadata": {},
   "outputs": [],
   "source": [
    "class SA:\n",
    "    def __init__(self, flow_m, dist_m, QAP_name='', T=10000, radius=1, alpha=1.0, cost_dist=False):\n",
    "        self.T = T\n",
    "        self.radius = radius\n",
    "        self.alpha = alpha\n",
    "        \n",
    "        n1, n2 = flow_m.shape\n",
    "        n3, n4 = dist_m.shape\n",
    "        assert(n1 == n2 == n3 == n4)\n",
    "        self.FLOW = flow_m\n",
    "        self.DIST = dist_m\n",
    "        self.n = n1\n",
    "        \n",
    "        self.last_perm = np.random.permutation(n1)\n",
    "        self.act_perm =  self.last_perm.copy()\n",
    "        self.r, self.s = 0, 1\n",
    "        self.act_perm[0], self.act_perm[1] = self.act_perm[1], self.act_perm[0]\n",
    "        \n",
    "        self.p_cost = self.qap_objective_function(self.act_perm)\n",
    "        self.costs = np.zeros(T)\n",
    "        self.all_perms = [self.act_perm]\n",
    "        self.all_jumps = []\n",
    "        self.QAP_name = QAP_name\n",
    "        self.cost_and_perms_dist = []\n",
    "        self.cost_dist = cost_dist\n",
    "        \n",
    "        self.last_swap_costs = {}\n",
    "        self.act_swap_costs = {}\n",
    "        for u in range(self.n):\n",
    "            for v in range(u, self.n):\n",
    "                self.last_swap_costs[(u, v)] = self.delta(self.last_perm, u, v)\n",
    "                self.act_swap_costs[(u, v)] = self.delta(self.act_perm, u, v)\n",
    "        \n",
    "    \n",
    "    def delta(self, p, r, s):\n",
    "        '''\n",
    "        Change of Cost after swap(r, s)\n",
    "        '''\n",
    "        n = self.n\n",
    "        A, B = self.FLOW, self.DIST\n",
    "        ans = 0\n",
    "        for k in range(n):\n",
    "            if k == r or k == s:\n",
    "                continue\n",
    "            ans += (A[s, k] - A[r, k]) * (B[p[s], p[k]] - B[p[r], p[k]])\n",
    "\n",
    "        return -2 * ans\n",
    "\n",
    "\n",
    "    def qap_objective_function(self, p):\n",
    "        s = 0.0\n",
    "        for i in range(self.n):\n",
    "            s += (self.FLOW[i, :] * self.DIST[p, p[i]]).sum()\n",
    "        return s\n",
    "\n",
    "\n",
    "    def random_neighbor(self):\n",
    "        q = self.act_perm.copy()\n",
    "        for r in range(self.radius):\n",
    "            i, j = np.random.choice(self.n, 2, replace=False)\n",
    "            q[i], q[j] = q[j], q[i]\n",
    "        return q\n",
    "    \n",
    "    \n",
    "    def run(self):\n",
    "        for t in tqdm(range(self.T), desc='Simulated Annealing', position=0):\n",
    "            good_jump, random_jump = 0, 0\n",
    "            q = self.random_neighbor()\n",
    "            q_cost = self.qap_objective_function(q)\n",
    "            \n",
    "       \n",
    "            if(q_cost < self.p_cost):\n",
    "                if self.cost_dist:\n",
    "                    self.cost_and_perms_dist.append((self.p_cost - q_cost))\n",
    "                    \n",
    "                self.act_perm, self.p_cost = q, q_cost\n",
    "                self.all_perms.append(self.act_perm)\n",
    "                good_jump = 1\n",
    "                \n",
    "            elif(np.random.rand() < np.exp(-self.alpha * (q_cost - self.p_cost) * t / self.T)):\n",
    "                self.act_perm, self.p_cost = q, q_cost\n",
    "                self.all_perms.append(self.act_perm)\n",
    "                random_jump = 1\n",
    "                \n",
    "            self.costs[t] = self.p_cost\n",
    "            self.all_jumps.append((good_jump, random_jump))\n",
    "            \n",
    "    \n",
    "    def update_swap_costs(self):\n",
    "        cost = 0\n",
    "        r, s = self.r, self.s\n",
    "        A, B = self.FLOW, self.DIST\n",
    "        q = self.act_perm\n",
    "        \n",
    "        self.last_swap_costs = self.act_swap_costs\n",
    "        self.act_swap_costs = {}\n",
    "        \n",
    "        for u in range(self.n):\n",
    "            for v in range(u, self.n):\n",
    "                if u in [r, s] or v in [r, s]:\n",
    "                    # calculate (u, v) swap cost in O(N)\n",
    "                    self.act_swap_costs[(u, v)] = self.delta(self.act_perm, u, v)\n",
    "                else:\n",
    "                    # swap in O(1)\n",
    "                    self.act_swap_costs[(u, v)] = self.last_swap_costs[u, v] \\\n",
    "                    + 2 * (A[r, u] - A[r, v] + A[s, v] - A[s, u]) \\\n",
    "                    * (B[q[s], q[u]] - B[q[s], q[v]] + B[q[r], q[v]] - B[q[r], q[u]])\n",
    "    \n",
    "    \n",
    "    def run_faster(self):\n",
    "        '''\n",
    "        We make only single swaps per iter.\n",
    "        Insted of calculating qap_objective_function in every iteration,\n",
    "        we calculate cost of swapping every pair every time\n",
    "        we change a state.\n",
    "        \n",
    "        qap_objective_function -> O(n^2) every itereation\n",
    "        new approach -> O(n^2) only when we change a state\n",
    "        '''\n",
    "        for t in tqdm(range(self.T), desc='Simulated Annealing', position=0):\n",
    "            good_jump, random_jump = 0, 0\n",
    "            u, v = np.random.choice(self.n, 2, replace=False)\n",
    "            q = self.act_perm.copy()\n",
    "            q[u], q[v] = q[v], q[u]\n",
    "            q_cost = self.act_swap_costs[(min(u, v), max(u, v))] + self.p_cost\n",
    "            \n",
    "#             if q_cost != self.qap_objective_function(q):\n",
    "#                 print('IMPLEMENTATION DOES NOT WORK!!!')\n",
    "       \n",
    "            if(q_cost < self.p_cost):\n",
    "                self.act_perm, self.p_cost = q, q_cost\n",
    "                self.all_perms.append(self.act_perm)\n",
    "                self.r, self.s = u, v\n",
    "                self.last_perm = self.act_perm\n",
    "                self.update_swap_costs()\n",
    "                good_jump = 1\n",
    "                \n",
    "            elif(np.random.rand() < np.exp(-self.alpha * (q_cost - self.p_cost) * t / self.T)):\n",
    "                self.act_perm, self.p_cost = q, q_cost\n",
    "                self.all_perms.append(self.act_perm)\n",
    "                self.r, self.s = u, v\n",
    "                self.last_perm = self.act_perm\n",
    "                self.update_swap_costs()\n",
    "                random_jump = 1\n",
    "                \n",
    "            self.costs[t] = self.p_cost\n",
    "            self.all_jumps.append((good_jump, random_jump))\n",
    "            \n",
    "            \n",
    "    def plot_cost(self):\n",
    "        plt.figure(figsize=(15, 5))\n",
    "        plt.plot(self.costs)\n",
    "        plt.title('Cost function ' + self.QAP_name)\n",
    "        plt.show()\n",
    "        \n",
    "    \n",
    "    def plot_hist(self, bins):\n",
    "        plt.figure(figsize=(15, 5))\n",
    "        plt.hist(self.costs, bins=bins, edgecolor='black')\n",
    "        plt.title('Cost function histogram ' + self.QAP_name)\n",
    "        plt.show()\n",
    "        \n",
    "        \n",
    "    def plot_jumps(self):\n",
    "        x = np.array(self.all_jumps).reshape(-1, 50)\n",
    "        x = x.sum(axis=1)\n",
    "\n",
    "        f, ax = plt.subplots(2,1, figsize=(15,10))\n",
    "        ax[0].bar(range(x.shape[0]), x, color='green')\n",
    "        ax[1].bar(range(x.shape[0]), x, color='red')\n",
    "        ax[0].set_title('Successes')\n",
    "        ax[1].set_title('Accepted failures')\n",
    "        plt.show()\n",
    "        \n",
    "        \n",
    "    def plot_all(self, bins):\n",
    "        self.plot_cost()\n",
    "        self.plot_hist(bins=bins)\n",
    "        self.plot_jumps()"
   ]
  },
  {
   "cell_type": "markdown",
   "metadata": {},
   "source": [
    "### 4.1 Basic implementation"
   ]
  },
  {
   "cell_type": "code",
   "execution_count": 100,
   "metadata": {},
   "outputs": [
    {
     "name": "stderr",
     "output_type": "stream",
     "text": [
      "Simulated Annealing: 100%|███████████████████████████████████████████████████| 500000/500000 [01:01<00:00, 8138.42it/s]\n"
     ]
    },
    {
     "name": "stdout",
     "output_type": "stream",
     "text": [
      "Wall time: 1min 1s\n"
     ]
    }
   ],
   "source": [
    "%%time\n",
    "\n",
    "n, A, B = get_nug(12)\n",
    "simulation = SA(flow_m=A, dist_m=B, QAP_name='nug12', T=500000, cost_dist=True)\n",
    "simulation.run()"
   ]
  },
  {
   "cell_type": "code",
   "execution_count": 101,
   "metadata": {},
   "outputs": [
    {
     "data": {
      "text/plain": [
       "578.0"
      ]
     },
     "execution_count": 101,
     "metadata": {},
     "output_type": "execute_result"
    }
   ],
   "source": [
    "simulation.costs.min()"
   ]
  },
  {
   "cell_type": "code",
   "execution_count": 32,
   "metadata": {},
   "outputs": [
    {
     "data": {
      "image/png": "[encoded data removed]",
      "text/plain": [
       "<Figure size 1080x360 with 1 Axes>"
      ]
     },
     "metadata": {
      "needs_background": "light"
     },
     "output_type": "display_data"
    },
    {
     "data": {
      "image/png": "[encoded data removed]",
      "text/plain": [
       "<Figure size 1080x360 with 1 Axes>"
      ]
     },
     "metadata": {
      "needs_background": "light"
     },
     "output_type": "display_data"
    },
    {
     "data": {
      "image/png": "[encoded data removed]",
      "text/plain": [
       "<Figure size 1080x720 with 2 Axes>"
      ]
     },
     "metadata": {
      "needs_background": "light"
     },
     "output_type": "display_data"
    }
   ],
   "source": [
    "simulation.plot_all(bins=50)"
   ]
  },
  {
   "cell_type": "markdown",
   "metadata": {},
   "source": [
    "### 4.2 Improved implementation based on\n",
    "https://arxiv.org/pdf/1111.1353.pdf"
   ]
  },
  {
   "cell_type": "code",
   "execution_count": 90,
   "metadata": {},
   "outputs": [
    {
     "name": "stderr",
     "output_type": "stream",
     "text": [
      "Simulated Annealing: 100%|██████████████████████████████████████████████████| 500000/500000 [00:44<00:00, 11117.41it/s]\n"
     ]
    },
    {
     "name": "stdout",
     "output_type": "stream",
     "text": [
      "Wall time: 45.2 s\n"
     ]
    }
   ],
   "source": [
    "%%time\n",
    "\n",
    "n, A, B = get_nug(12)\n",
    "simulation = SA(flow_m=A, dist_m=B, QAP_name='nug12', T=500000)\n",
    "simulation.run_faster()"
   ]
  },
  {
   "cell_type": "code",
   "execution_count": 91,
   "metadata": {},
   "outputs": [
    {
     "data": {
      "text/plain": [
       "578.0"
      ]
     },
     "execution_count": 91,
     "metadata": {},
     "output_type": "execute_result"
    }
   ],
   "source": [
    "simulation.costs.min()"
   ]
  },
  {
   "cell_type": "markdown",
   "metadata": {},
   "source": [
    "## 5. Parameters tunning"
   ]
  },
  {
   "cell_type": "markdown",
   "metadata": {},
   "source": [
    "### 5.1 Radius"
   ]
  },
  {
   "cell_type": "code",
   "execution_count": 107,
   "metadata": {},
   "outputs": [
    {
     "name": "stdout",
     "output_type": "stream",
     "text": [
      "r: 1\n"
     ]
    },
    {
     "name": "stderr",
     "output_type": "stream",
     "text": [
      "Simulated Annealing: 100%|███████████████████████████████████████████████████| 200000/200000 [00:26<00:00, 7663.33it/s]\n"
     ]
    },
    {
     "name": "stdout",
     "output_type": "stream",
     "text": [
      "r: 2\n"
     ]
    },
    {
     "name": "stderr",
     "output_type": "stream",
     "text": [
      "Simulated Annealing: 100%|███████████████████████████████████████████████████| 200000/200000 [00:35<00:00, 5581.21it/s]\n"
     ]
    },
    {
     "name": "stdout",
     "output_type": "stream",
     "text": [
      "r: 3\n"
     ]
    },
    {
     "name": "stderr",
     "output_type": "stream",
     "text": [
      "Simulated Annealing: 100%|███████████████████████████████████████████████████| 200000/200000 [00:44<00:00, 4476.03it/s]\n"
     ]
    },
    {
     "name": "stdout",
     "output_type": "stream",
     "text": [
      "r: 4\n"
     ]
    },
    {
     "name": "stderr",
     "output_type": "stream",
     "text": [
      "Simulated Annealing: 100%|███████████████████████████████████████████████████| 200000/200000 [00:53<00:00, 3722.38it/s]\n"
     ]
    },
    {
     "name": "stdout",
     "output_type": "stream",
     "text": [
      "r: 5\n"
     ]
    },
    {
     "name": "stderr",
     "output_type": "stream",
     "text": [
      "Simulated Annealing: 100%|███████████████████████████████████████████████████| 200000/200000 [01:02<00:00, 3206.11it/s]\n"
     ]
    },
    {
     "name": "stdout",
     "output_type": "stream",
     "text": [
      "r: 6\n"
     ]
    },
    {
     "name": "stderr",
     "output_type": "stream",
     "text": [
      "Simulated Annealing: 100%|███████████████████████████████████████████████████| 200000/200000 [01:11<00:00, 2789.93it/s]\n"
     ]
    },
    {
     "name": "stdout",
     "output_type": "stream",
     "text": [
      "r: 7\n"
     ]
    },
    {
     "name": "stderr",
     "output_type": "stream",
     "text": [
      "Simulated Annealing: 100%|███████████████████████████████████████████████████| 200000/200000 [01:20<00:00, 2478.42it/s]\n"
     ]
    },
    {
     "name": "stdout",
     "output_type": "stream",
     "text": [
      "r: 8\n"
     ]
    },
    {
     "name": "stderr",
     "output_type": "stream",
     "text": [
      "Simulated Annealing: 100%|███████████████████████████████████████████████████| 200000/200000 [01:29<00:00, 2243.72it/s]\n"
     ]
    },
    {
     "name": "stdout",
     "output_type": "stream",
     "text": [
      "r: 9\n"
     ]
    },
    {
     "name": "stderr",
     "output_type": "stream",
     "text": [
      "Simulated Annealing: 100%|███████████████████████████████████████████████████| 200000/200000 [01:37<00:00, 2043.64it/s]\n"
     ]
    },
    {
     "name": "stdout",
     "output_type": "stream",
     "text": [
      "r: 10\n"
     ]
    },
    {
     "name": "stderr",
     "output_type": "stream",
     "text": [
      "Simulated Annealing: 100%|███████████████████████████████████████████████████| 200000/200000 [01:46<00:00, 1873.72it/s]\n"
     ]
    },
    {
     "name": "stdout",
     "output_type": "stream",
     "text": [
      "r: 11\n"
     ]
    },
    {
     "name": "stderr",
     "output_type": "stream",
     "text": [
      "Simulated Annealing: 100%|███████████████████████████████████████████████████| 200000/200000 [01:55<00:00, 1738.90it/s]\n"
     ]
    },
    {
     "name": "stdout",
     "output_type": "stream",
     "text": [
      "r: 12\n"
     ]
    },
    {
     "name": "stderr",
     "output_type": "stream",
     "text": [
      "Simulated Annealing: 100%|███████████████████████████████████████████████████| 200000/200000 [02:02<00:00, 1632.33it/s]\n"
     ]
    },
    {
     "name": "stdout",
     "output_type": "stream",
     "text": [
      "r: 13\n"
     ]
    },
    {
     "name": "stderr",
     "output_type": "stream",
     "text": [
      "Simulated Annealing: 100%|███████████████████████████████████████████████████| 200000/200000 [02:11<00:00, 1518.29it/s]\n"
     ]
    },
    {
     "name": "stdout",
     "output_type": "stream",
     "text": [
      "r: 14\n"
     ]
    },
    {
     "name": "stderr",
     "output_type": "stream",
     "text": [
      "Simulated Annealing: 100%|███████████████████████████████████████████████████| 200000/200000 [02:22<00:00, 1401.98it/s]\n"
     ]
    },
    {
     "name": "stdout",
     "output_type": "stream",
     "text": [
      "r: 15\n"
     ]
    },
    {
     "name": "stderr",
     "output_type": "stream",
     "text": [
      "Simulated Annealing: 100%|███████████████████████████████████████████████████| 200000/200000 [02:28<00:00, 1343.64it/s]\n"
     ]
    },
    {
     "name": "stdout",
     "output_type": "stream",
     "text": [
      "r: 16\n"
     ]
    },
    {
     "name": "stderr",
     "output_type": "stream",
     "text": [
      "Simulated Annealing: 100%|███████████████████████████████████████████████████| 200000/200000 [02:38<00:00, 1259.81it/s]\n"
     ]
    },
    {
     "name": "stdout",
     "output_type": "stream",
     "text": [
      "r: 17\n"
     ]
    },
    {
     "name": "stderr",
     "output_type": "stream",
     "text": [
      "Simulated Annealing: 100%|███████████████████████████████████████████████████| 200000/200000 [02:46<00:00, 1201.48it/s]\n"
     ]
    },
    {
     "name": "stdout",
     "output_type": "stream",
     "text": [
      "r: 18\n"
     ]
    },
    {
     "name": "stderr",
     "output_type": "stream",
     "text": [
      "Simulated Annealing: 100%|███████████████████████████████████████████████████| 200000/200000 [02:57<00:00, 1129.49it/s]\n"
     ]
    },
    {
     "name": "stdout",
     "output_type": "stream",
     "text": [
      "r: 19\n"
     ]
    },
    {
     "name": "stderr",
     "output_type": "stream",
     "text": [
      "Simulated Annealing: 100%|███████████████████████████████████████████████████| 200000/200000 [03:04<00:00, 1082.80it/s]\n"
     ]
    },
    {
     "name": "stdout",
     "output_type": "stream",
     "text": [
      "Wall time: 33min 41s\n"
     ]
    }
   ],
   "source": [
    "%%time\n",
    "scores_r = []\n",
    "\n",
    "for r in range(1, 20):\n",
    "    print(f'r: {r}')\n",
    "    n, A, B = get_nug(12)\n",
    "    simulation = SA(flow_m=A, dist_m=B, QAP_name='nug12', T=200000, radius=r, cost_dist=True)\n",
    "    simulation.run()\n",
    "    scores_r.append((r, simulation.costs, simulation.cost_and_perms_dist))"
   ]
  },
  {
   "cell_type": "code",
   "execution_count": 108,
   "metadata": {},
   "outputs": [
    {
     "data": {
      "image/png": "[encoded data removed]",
      "text/plain": [
       "<Figure size 432x288 with 1 Axes>"
      ]
     },
     "metadata": {
      "needs_background": "light"
     },
     "output_type": "display_data"
    }
   ],
   "source": [
    "scores_r = np.array(scores_r)\n",
    "plt.plot(scores_r[:, 0], list(map(lambda x: min(x), scores_r[:, 1])))\n",
    "plt.xlabel('Distance between permutations')\n",
    "plt.ylabel('Min cost')\n",
    "\n",
    "# save scores\n",
    "# pd.DataFrame(scores_r).to_csv('scores_for_different_radius.csv')"
   ]
  },
  {
   "cell_type": "code",
   "execution_count": 77,
   "metadata": {},
   "outputs": [],
   "source": [
    "# scores_r = pd.read_csv('scores_for_different_radius.csv', names=['r', 'cost'],\n",
    "#                        header=None).reset_index(drop=True).iloc[1:]"
   ]
  },
  {
   "cell_type": "code",
   "execution_count": 131,
   "metadata": {},
   "outputs": [
    {
     "data": {
      "image/png": "[encoded data removed]",
      "text/plain": [
       "<Figure size 1224x1080 with 20 Axes>"
      ]
     },
     "metadata": {
      "needs_background": "light"
     },
     "output_type": "display_data"
    }
   ],
   "source": [
    "# distances between cost_f(perms) in successes\n",
    "\n",
    "f, ax = plt.subplots(4, 5, figsize=(17,15))\n",
    "for r in range(19):\n",
    "    ax[r // 5, r % 5].plot(scores_r[:, 2][r])\n",
    "    ax[r // 5, r % 5].set_title(f'r: {r}')"
   ]
  },
  {
   "cell_type": "markdown",
   "metadata": {},
   "source": [
    "### 5.2 alpha"
   ]
  },
  {
   "cell_type": "code",
   "execution_count": 148,
   "metadata": {},
   "outputs": [
    {
     "name": "stdout",
     "output_type": "stream",
     "text": [
      "alpha: 0.01\n"
     ]
    },
    {
     "name": "stderr",
     "output_type": "stream",
     "text": [
      "Simulated Annealing: 100%|███████████████████████████████████████████████████| 200000/200000 [02:10<00:00, 1532.04it/s]\n"
     ]
    },
    {
     "name": "stdout",
     "output_type": "stream",
     "text": [
      "alpha: 0.02\n"
     ]
    },
    {
     "name": "stderr",
     "output_type": "stream",
     "text": [
      "Simulated Annealing: 100%|███████████████████████████████████████████████████| 200000/200000 [02:00<00:00, 1653.07it/s]\n"
     ]
    },
    {
     "name": "stdout",
     "output_type": "stream",
     "text": [
      "alpha: 0.03\n"
     ]
    },
    {
     "name": "stderr",
     "output_type": "stream",
     "text": [
      "Simulated Annealing: 100%|███████████████████████████████████████████████████| 200000/200000 [01:51<00:00, 1786.77it/s]\n"
     ]
    },
    {
     "name": "stdout",
     "output_type": "stream",
     "text": [
      "alpha: 0.05\n"
     ]
    },
    {
     "name": "stderr",
     "output_type": "stream",
     "text": [
      "Simulated Annealing: 100%|███████████████████████████████████████████████████| 200000/200000 [01:35<00:00, 2089.38it/s]\n"
     ]
    },
    {
     "name": "stdout",
     "output_type": "stream",
     "text": [
      "alpha: 0.1\n"
     ]
    },
    {
     "name": "stderr",
     "output_type": "stream",
     "text": [
      "Simulated Annealing: 100%|███████████████████████████████████████████████████| 200000/200000 [01:08<00:00, 2924.04it/s]\n"
     ]
    },
    {
     "name": "stdout",
     "output_type": "stream",
     "text": [
      "alpha: 0.2\n"
     ]
    },
    {
     "name": "stderr",
     "output_type": "stream",
     "text": [
      "Simulated Annealing: 100%|███████████████████████████████████████████████████| 200000/200000 [00:44<00:00, 4501.95it/s]\n"
     ]
    },
    {
     "name": "stdout",
     "output_type": "stream",
     "text": [
      "alpha: 0.3\n"
     ]
    },
    {
     "name": "stderr",
     "output_type": "stream",
     "text": [
      "Simulated Annealing: 100%|███████████████████████████████████████████████████| 200000/200000 [00:33<00:00, 5888.03it/s]\n"
     ]
    },
    {
     "name": "stdout",
     "output_type": "stream",
     "text": [
      "alpha: 0.5\n"
     ]
    },
    {
     "name": "stderr",
     "output_type": "stream",
     "text": [
      "Simulated Annealing: 100%|███████████████████████████████████████████████████| 200000/200000 [00:25<00:00, 7967.46it/s]\n"
     ]
    },
    {
     "name": "stdout",
     "output_type": "stream",
     "text": [
      "alpha: 0.7\n"
     ]
    },
    {
     "name": "stderr",
     "output_type": "stream",
     "text": [
      "Simulated Annealing: 100%|███████████████████████████████████████████████████| 200000/200000 [00:22<00:00, 9038.80it/s]\n"
     ]
    },
    {
     "name": "stdout",
     "output_type": "stream",
     "text": [
      "alpha: 1.01\n"
     ]
    },
    {
     "name": "stderr",
     "output_type": "stream",
     "text": [
      "Simulated Annealing: 100%|██████████████████████████████████████████████████| 200000/200000 [00:18<00:00, 10672.69it/s]\n"
     ]
    },
    {
     "name": "stdout",
     "output_type": "stream",
     "text": [
      "alpha: 1.03\n"
     ]
    },
    {
     "name": "stderr",
     "output_type": "stream",
     "text": [
      "Simulated Annealing: 100%|██████████████████████████████████████████████████| 200000/200000 [00:17<00:00, 11266.53it/s]\n"
     ]
    },
    {
     "name": "stdout",
     "output_type": "stream",
     "text": [
      "alpha: 1.05\n"
     ]
    },
    {
     "name": "stderr",
     "output_type": "stream",
     "text": [
      "Simulated Annealing: 100%|██████████████████████████████████████████████████| 200000/200000 [00:18<00:00, 10938.51it/s]\n"
     ]
    },
    {
     "name": "stdout",
     "output_type": "stream",
     "text": [
      "alpha: 1.1\n"
     ]
    },
    {
     "name": "stderr",
     "output_type": "stream",
     "text": [
      "Simulated Annealing: 100%|██████████████████████████████████████████████████| 200000/200000 [00:17<00:00, 11526.12it/s]\n"
     ]
    },
    {
     "name": "stdout",
     "output_type": "stream",
     "text": [
      "alpha: 1.2\n"
     ]
    },
    {
     "name": "stderr",
     "output_type": "stream",
     "text": [
      "Simulated Annealing: 100%|██████████████████████████████████████████████████| 200000/200000 [00:19<00:00, 10414.40it/s]\n"
     ]
    },
    {
     "name": "stdout",
     "output_type": "stream",
     "text": [
      "alpha: 1.4\n"
     ]
    },
    {
     "name": "stderr",
     "output_type": "stream",
     "text": [
      "Simulated Annealing: 100%|██████████████████████████████████████████████████| 200000/200000 [00:16<00:00, 12285.61it/s]\n"
     ]
    },
    {
     "name": "stdout",
     "output_type": "stream",
     "text": [
      "alpha: 1.5\n"
     ]
    },
    {
     "name": "stderr",
     "output_type": "stream",
     "text": [
      "Simulated Annealing: 100%|██████████████████████████████████████████████████| 200000/200000 [00:15<00:00, 12756.63it/s]\n"
     ]
    },
    {
     "name": "stdout",
     "output_type": "stream",
     "text": [
      "alpha: 1.7\n"
     ]
    },
    {
     "name": "stderr",
     "output_type": "stream",
     "text": [
      "Simulated Annealing: 100%|██████████████████████████████████████████████████| 200000/200000 [00:15<00:00, 12675.10it/s]\n"
     ]
    },
    {
     "name": "stdout",
     "output_type": "stream",
     "text": [
      "alpha: 2\n"
     ]
    },
    {
     "name": "stderr",
     "output_type": "stream",
     "text": [
      "Simulated Annealing: 100%|██████████████████████████████████████████████████| 200000/200000 [00:14<00:00, 13371.53it/s]\n"
     ]
    },
    {
     "name": "stdout",
     "output_type": "stream",
     "text": [
      "alpha: 4\n"
     ]
    },
    {
     "name": "stderr",
     "output_type": "stream",
     "text": [
      "Simulated Annealing: 100%|██████████████████████████████████████████████████| 200000/200000 [00:13<00:00, 15337.08it/s]\n"
     ]
    },
    {
     "name": "stdout",
     "output_type": "stream",
     "text": [
      "alpha: 5\n"
     ]
    },
    {
     "name": "stderr",
     "output_type": "stream",
     "text": [
      "Simulated Annealing: 100%|██████████████████████████████████████████████████| 200000/200000 [00:12<00:00, 15667.86it/s]\n"
     ]
    },
    {
     "name": "stdout",
     "output_type": "stream",
     "text": [
      "alpha: 10\n"
     ]
    },
    {
     "name": "stderr",
     "output_type": "stream",
     "text": [
      "Simulated Annealing: 100%|██████████████████████████████████████████████████| 200000/200000 [00:11<00:00, 16729.08it/s]\n"
     ]
    },
    {
     "name": "stdout",
     "output_type": "stream",
     "text": [
      "Wall time: 14min 10s\n"
     ]
    }
   ],
   "source": [
    "%%time\n",
    "\n",
    "scores_a = []\n",
    "alphas = [0.01, 0.02, 0.03, 0.05, 0.1, 0.2, 0.3, 0.5, 0.7, 1.01, 1.03, 1.05, 1.1, 1.2, 1.4, 1.5, 1.7, 2, 4, 5, 10]\n",
    "for a in alphas:\n",
    "    print(f'alpha: {a}')\n",
    "    n, A, B = get_nug(12)\n",
    "    simulation = SA(flow_m=A, dist_m=B, QAP_name='nug12', T=200000, alpha=a)\n",
    "    simulation.run_faster()\n",
    "    scores_a.append(simulation.costs)"
   ]
  },
  {
   "cell_type": "code",
   "execution_count": 150,
   "metadata": {},
   "outputs": [],
   "source": [
    "# save scores\n",
    "\n",
    "# pd.DataFrame(scores_a).to_csv('scores_for_different_alpha.csv')"
   ]
  },
  {
   "cell_type": "code",
   "execution_count": 154,
   "metadata": {},
   "outputs": [
    {
     "data": {
      "text/plain": [
       "[<matplotlib.lines.Line2D at 0x1db6f4824e0>]"
      ]
     },
     "execution_count": 154,
     "metadata": {},
     "output_type": "execute_result"
    },
    {
     "data": {
      "image/png": "[encoded data removed]",
      "text/plain": [
       "<Figure size 1080x360 with 1 Axes>"
      ]
     },
     "metadata": {
      "needs_background": "light"
     },
     "output_type": "display_data"
    }
   ],
   "source": [
    "scores_a = np.array(scores_a)\n",
    "plt.figure(figsize=(15, 5))\n",
    "plt.xticks(np.linspace(0, 10, 20))\n",
    "plt.plot(alphas, scores_a.min(axis=1))"
   ]
  },
  {
   "cell_type": "code",
   "execution_count": 160,
   "metadata": {},
   "outputs": [
    {
     "name": "stdout",
     "output_type": "stream",
     "text": [
      "0.01  ->  610.0\n",
      "0.02  ->  606.0\n",
      "0.03  ->  600.0\n",
      "0.05  ->  582.0\n",
      "0.1  ->  578.0\n",
      "0.2  ->  578.0\n",
      "0.3  ->  578.0\n",
      "0.5  ->  578.0\n",
      "0.7  ->  578.0\n",
      "1.01  ->  578.0\n",
      "1.03  ->  578.0\n",
      "1.05  ->  582.0\n",
      "1.1  ->  578.0\n",
      "1.2  ->  578.0\n",
      "1.4  ->  578.0\n",
      "1.5  ->  578.0\n",
      "1.7  ->  578.0\n",
      "2  ->  586.0\n",
      "4  ->  578.0\n",
      "5  ->  586.0\n",
      "10  ->  586.0\n"
     ]
    }
   ],
   "source": [
    "for i, a in enumerate(alphas):\n",
    "    print(a, ' -> ', scores_a.min(axis=1)[i])"
   ]
  },
  {
   "cell_type": "markdown",
   "metadata": {},
   "source": [
    "## 6. SA on different QAP"
   ]
  },
  {
   "cell_type": "code",
   "execution_count": 5,
   "metadata": {},
   "outputs": [
    {
     "name": "stdout",
     "output_type": "stream",
     "text": [
      "Nug 12 appended!\n",
      "Nug 13 wasn t found :c\n",
      "Nug 14 appended!\n",
      "Nug 15 appended!\n",
      "Nug 16 wasn t found :c\n",
      "Nug 17 appended!\n",
      "Nug 18 appended!\n",
      "Nug 19 wasn t found :c\n",
      "Nug 20 appended!\n",
      "Nug 21 appended!\n",
      "Nug 22 appended!\n",
      "Nug 23 wasn t found :c\n",
      "Nug 24 appended!\n",
      "Nug 25 appended!\n",
      "Nug 26 wasn t found :c\n",
      "Nug 27 appended!\n",
      "Nug 28 appended!\n",
      "Nug 29 wasn t found :c\n"
     ]
    }
   ],
   "source": [
    "from urllib.error import HTTPError\n",
    "\n",
    "nugs = []\n",
    "for i in range(12, 30):\n",
    "    try:\n",
    "        x = get_nug(i)\n",
    "        nugs.append(x)\n",
    "        print(f'Nug {i} appended!')\n",
    "    except HTTPError:\n",
    "        print(f'Nug {i} wasn t found :c')"
   ]
  },
  {
   "cell_type": "code",
   "execution_count": 12,
   "metadata": {},
   "outputs": [
    {
     "name": "stdout",
     "output_type": "stream",
     "text": [
      "Running nug: 12\n"
     ]
    },
    {
     "name": "stderr",
     "output_type": "stream",
     "text": [
      "Simulated Annealing: 100%|████████████████████████████████████████████████| 1000000/1000000 [01:30<00:00, 11078.24it/s]\n"
     ]
    },
    {
     "name": "stdout",
     "output_type": "stream",
     "text": [
      "Running nug: 14\n"
     ]
    },
    {
     "name": "stderr",
     "output_type": "stream",
     "text": [
      "Simulated Annealing: 100%|████████████████████████████████████████████████| 1000000/1000000 [01:38<00:00, 10103.00it/s]\n"
     ]
    },
    {
     "name": "stdout",
     "output_type": "stream",
     "text": [
      "Running nug: 15\n"
     ]
    },
    {
     "name": "stderr",
     "output_type": "stream",
     "text": [
      "Simulated Annealing: 100%|████████████████████████████████████████████████| 1000000/1000000 [01:39<00:00, 10094.53it/s]\n"
     ]
    },
    {
     "name": "stdout",
     "output_type": "stream",
     "text": [
      "Running nug: 17\n"
     ]
    },
    {
     "name": "stderr",
     "output_type": "stream",
     "text": [
      "Simulated Annealing: 100%|█████████████████████████████████████████████████| 1000000/1000000 [01:53<00:00, 8792.56it/s]\n"
     ]
    },
    {
     "name": "stdout",
     "output_type": "stream",
     "text": [
      "Running nug: 18\n"
     ]
    },
    {
     "name": "stderr",
     "output_type": "stream",
     "text": [
      "Simulated Annealing: 100%|█████████████████████████████████████████████████| 1000000/1000000 [01:53<00:00, 8821.39it/s]\n"
     ]
    },
    {
     "name": "stdout",
     "output_type": "stream",
     "text": [
      "Running nug: 20\n"
     ]
    },
    {
     "name": "stderr",
     "output_type": "stream",
     "text": [
      "Simulated Annealing: 100%|█████████████████████████████████████████████████| 1000000/1000000 [01:58<00:00, 8417.23it/s]\n"
     ]
    },
    {
     "name": "stdout",
     "output_type": "stream",
     "text": [
      "Running nug: 21\n"
     ]
    },
    {
     "name": "stderr",
     "output_type": "stream",
     "text": [
      "Simulated Annealing: 100%|█████████████████████████████████████████████████| 1000000/1000000 [02:02<00:00, 8134.50it/s]\n"
     ]
    },
    {
     "name": "stdout",
     "output_type": "stream",
     "text": [
      "Running nug: 22\n"
     ]
    },
    {
     "name": "stderr",
     "output_type": "stream",
     "text": [
      "Simulated Annealing: 100%|█████████████████████████████████████████████████| 1000000/1000000 [01:57<00:00, 8490.82it/s]\n"
     ]
    },
    {
     "name": "stdout",
     "output_type": "stream",
     "text": [
      "Running nug: 24\n"
     ]
    },
    {
     "name": "stderr",
     "output_type": "stream",
     "text": [
      "Simulated Annealing: 100%|█████████████████████████████████████████████████| 1000000/1000000 [02:09<00:00, 7746.91it/s]\n"
     ]
    },
    {
     "name": "stdout",
     "output_type": "stream",
     "text": [
      "Running nug: 25\n"
     ]
    },
    {
     "name": "stderr",
     "output_type": "stream",
     "text": [
      "Simulated Annealing: 100%|█████████████████████████████████████████████████| 1000000/1000000 [02:30<00:00, 6649.90it/s]\n"
     ]
    },
    {
     "name": "stdout",
     "output_type": "stream",
     "text": [
      "Running nug: 27\n"
     ]
    },
    {
     "name": "stderr",
     "output_type": "stream",
     "text": [
      "Simulated Annealing: 100%|█████████████████████████████████████████████████| 1000000/1000000 [02:19<00:00, 7179.75it/s]\n"
     ]
    },
    {
     "name": "stdout",
     "output_type": "stream",
     "text": [
      "Running nug: 28\n"
     ]
    },
    {
     "name": "stderr",
     "output_type": "stream",
     "text": [
      "Simulated Annealing: 100%|█████████████████████████████████████████████████| 1000000/1000000 [02:22<00:00, 7010.09it/s]\n"
     ]
    },
    {
     "name": "stdout",
     "output_type": "stream",
     "text": [
      "Wall time: 24min 17s\n"
     ]
    }
   ],
   "source": [
    "%%time\n",
    "\n",
    "SCORES = []\n",
    "for n, A, B in nugs:\n",
    "    print(f'Running nug: {n}')\n",
    "    simulation = SA(flow_m=A, dist_m=B, QAP_name=f'Nug {n}', T=1000000)\n",
    "    simulation.run_faster()\n",
    "    \n",
    "    SCORES.append(simulation.costs)\n",
    "    save_costs = pd.DataFrame(simulation.costs)\n",
    "    save_costs.to_csv(f'scores_for_nug{n}.csv')"
   ]
  },
  {
   "cell_type": "code",
   "execution_count": 17,
   "metadata": {},
   "outputs": [
    {
     "data": {
      "text/plain": [
       "(12, 1000000)"
      ]
     },
     "execution_count": 17,
     "metadata": {},
     "output_type": "execute_result"
    }
   ],
   "source": [
    "SCORES = np.array(SCORES)\n",
    "\n",
    "n, m = SCORES.shape\n",
    "n, m"
   ]
  },
  {
   "cell_type": "code",
   "execution_count": 22,
   "metadata": {},
   "outputs": [
    {
     "data": {
      "image/png": "[encoded data removed]",
      "text/plain": [
       "<Figure size 1224x1080 with 12 Axes>"
      ]
     },
     "metadata": {
      "needs_background": "light"
     },
     "output_type": "display_data"
    }
   ],
   "source": [
    "f, ax = plt.subplots(4, 3, figsize=(17,15))\n",
    "for i in range(n):\n",
    "    ax[i // 3, i % 3].plot(SCORES[i])\n",
    "    ax[i // 3, i % 3].set_title(f'nug{nugs[i][0]}')"
   ]
  },
  {
   "cell_type": "code",
   "execution_count": 25,
   "metadata": {},
   "outputs": [
    {
     "name": "stdout",
     "output_type": "stream",
     "text": [
      "Min cost:\n",
      "nug12: 578.0\n",
      "nug14: 1016.0\n",
      "nug15: 1150.0\n",
      "nug17: 1736.0\n",
      "nug18: 1938.0\n",
      "nug20: 2570.0\n",
      "nug21: 2438.0\n",
      "nug22: 3596.0\n",
      "nug24: 3488.0\n",
      "nug25: 3758.0\n",
      "nug27: 5234.0\n",
      "nug28: 5186.0\n"
     ]
    }
   ],
   "source": [
    "print('Min cost:')\n",
    "for i, s in enumerate(SCORES.min(axis=1)):\n",
    "    print(f'nug{nugs[i][0]}: {s}')"
   ]
  },
  {
   "cell_type": "markdown",
   "metadata": {},
   "source": []
  }
 ],
 "metadata": {
  "kernelspec": {
   "display_name": "Python 3",
   "language": "python",
   "name": "python3"
  },
  "language_info": {
   "codemirror_mode": {
    "name": "ipython",
    "version": 3
   },
   "file_extension": ".py",
   "mimetype": "text/x-python",
   "name": "python",
   "nbconvert_exporter": "python",
   "pygments_lexer": "ipython3",
   "version": "3.7.3"
  }
 },
 "nbformat": 4,
 "nbformat_minor": 4
}
