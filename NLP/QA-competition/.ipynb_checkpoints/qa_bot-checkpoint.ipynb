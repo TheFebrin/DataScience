{
 "cells": [
  {
   "cell_type": "code",
   "execution_count": 1,
   "metadata": {},
   "outputs": [],
   "source": [
    "import numpy as np\n",
    "import pandas as pd"
   ]
  },
  {
   "cell_type": "markdown",
   "metadata": {},
   "source": [
    "## Explore questions and answers"
   ]
  },
  {
   "cell_type": "code",
   "execution_count": 7,
   "metadata": {},
   "outputs": [],
   "source": [
    "questions, answers = [], []\n",
    "with open('data/task2_questions_with_answers.tsv', encoding=\"UTF-8\") as f:\n",
    "    for line in f.readlines():\n",
    "        try:\n",
    "            q, *a = line.strip().split('\\t')\n",
    "            questions.append(q)\n",
    "            answers.append(a)\n",
    "        except Exception as e:\n",
    "            print(line)"
   ]
  },
  {
   "cell_type": "code",
   "execution_count": 15,
   "metadata": {},
   "outputs": [
    {
     "name": "stdout",
     "output_type": "stream",
     "text": [
      "Wyspy Zielonego Przylądka leżą bliżej Afryki czy Azji?\n",
      "['Kto śpiewa piosenkę z czołówki M jak miłość?']\n",
      "---\n",
      "Proszę rozszyfrować skrót KBWE?\n",
      "['Konferencja Bezpieczeństwa i Współpracy w Europie']\n",
      "---\n",
      "Dybuk to dusza zmarłego grzesznika wstępująca do ciała żywego czy duch w domostwie domowym?\n",
      "['dusza zmarłego grzesznika wstępująca do ciała żywego']\n",
      "---\n",
      "Jakie dwie prace Heraklesa były związane z końmi?\n",
      "['posprzątanie stajni Augiasza i schwytanie koni Diomedesa', 'schwytanie koni Diomedesa i posprzątanie stajni Augiasza']\n",
      "---\n"
     ]
    }
   ],
   "source": [
    "longest_answer = 30\n",
    "for i, ans in enumerate(answers):\n",
    "    for a in ans:\n",
    "        if len(a) > longest_answer:\n",
    "            longest_answer = len(a)\n",
    "            print(questions[i])\n",
    "            print(ans)\n",
    "            print('---')"
   ]
  },
  {
   "cell_type": "markdown",
   "metadata": {},
   "source": [
    "## GPT fine tuning ideas:\n",
    "1. limit number of tokens\n",
    "2. self-ask https://the-decoder.com/new-prompt-method-lets-gpt-3-answer-questions-better/\n",
    "3. rules for \"or\" type questions"
   ]
  },
  {
   "cell_type": "code",
   "execution_count": null,
   "metadata": {},
   "outputs": [],
   "source": []
  }
 ],
 "metadata": {
  "kernelspec": {
   "display_name": "Python 3",
   "language": "python",
   "name": "python3"
  },
  "language_info": {
   "codemirror_mode": {
    "name": "ipython",
    "version": 3
   },
   "file_extension": ".py",
   "mimetype": "text/x-python",
   "name": "python",
   "nbconvert_exporter": "python",
   "pygments_lexer": "ipython3",
   "version": "3.7.3"
  }
 },
 "nbformat": 4,
 "nbformat_minor": 4
}
