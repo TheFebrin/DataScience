{
 "cells": [
  {
   "cell_type": "code",
   "execution_count": 2,
   "metadata": {},
   "outputs": [
    {
     "name": "stdout",
     "output_type": "stream",
     "text": [
      "Using matplotlib backend: TkAgg\n",
      "Populating the interactive namespace from numpy and matplotlib\n",
      "Populating the interactive namespace from numpy and matplotlib\n",
      "The autoreload extension is already loaded. To reload it, use:\n",
      "  %reload_ext autoreload\n"
     ]
    }
   ],
   "source": [
    "# Set up\n",
    "%pylab\n",
    "%pylab inline\n",
    "%matplotlib inline\n",
    "%load_ext autoreload\n",
    "%autoreload 2\n",
    "import tqdm\n",
    "import spectral\n",
    "from sklearn.cluster import KMeans, MiniBatchKMeans"
   ]
  },
  {
   "cell_type": "markdown",
   "metadata": {},
   "source": [
    "# 1. Load data <br/>\n",
    "Link: http://apex.vgt.vito.be/content/free-data-cubes?fbclid=IwAR1yKu7SKlNokPOSOY4fXDrQg1Di-8X6FiA9j8_kBKlWbcciK5au9n0vRaI"
   ]
  },
  {
   "cell_type": "code",
   "execution_count": null,
   "metadata": {},
   "outputs": [],
   "source": [
    "img = spectral.open_image(\n",
    "    'APEX_OSD_V1_calibr_cube.hdr'\n",
    ")\n",
    "data = img.load()\n",
    "X = data.reshape(-1, data.shape[-1])\n",
    "X_std = (X - X.mean()) / X.std()\n",
    "X_norm = (X - np.min(X)) / (np.max(X) - np.min(X))"
   ]
  },
  {
   "cell_type": "code",
   "execution_count": null,
   "metadata": {},
   "outputs": [],
   "source": [
    "def show_results(model):\n",
    "    '''\n",
    "    Use given model to break down the spectral photo\n",
    "    into layers\n",
    "    '''\n",
    "    Y = model.labels_.reshape(data.shape[0], data.shape[1]).astype(np.uint8)\n",
    "    labels_no = np.unique(model.labels_).size\n",
    "    table_width = 3\n",
    "    table_hight = (labels_no + table_width - 1) // table_width\n",
    "    \n",
    "    fig, axes = plt.subplots(table_hight, table_width)\n",
    "    fig.set_size_inches(15, table_hight * 5)\n",
    "    for i in tqdm.tqdm(np.unique(model.labels_), desc='Plotting groups', position=0, leave=True):\n",
    "        map_feature = np.zeros(Y.shape, dtype=np.uint8)\n",
    "        map_feature[Y == i] = 1\n",
    "        row, col = i // table_width, i % table_width\n",
    "        \n",
    "        if table_hight == 1:\n",
    "            axes[col].imshow(map_feature, cmap='summer')\n",
    "            axes[col].set_title(f'Group: {i}')\n",
    "        else:\n",
    "            axes[row][col].imshow(map_feature, cmap='summer')\n",
    "            axes[row][col].set_title(f'Group: {i}')\n",
    "        \n",
    "    plt.figure(figsize=(15, 10))\n",
    "    plt.title('All groups')\n",
    "    plt.imshow(Y, cmap='gist_earth')"
   ]
  }
 ],
 "metadata": {
  "kernelspec": {
   "display_name": "Python 3",
   "language": "python",
   "name": "python3"
  },
  "language_info": {
   "codemirror_mode": {
    "name": "ipython",
    "version": 3
   },
   "file_extension": ".py",
   "mimetype": "text/x-python",
   "name": "python",
   "nbconvert_exporter": "python",
   "pygments_lexer": "ipython3",
   "version": "3.7.3"
  }
 },
 "nbformat": 4,
 "nbformat_minor": 4
}
