{
 "cells": [
  {
   "cell_type": "code",
   "execution_count": 6,
   "metadata": {},
   "outputs": [
    {
     "name": "stdout",
     "output_type": "stream",
     "text": [
      "Using matplotlib backend: TkAgg\n",
      "Populating the interactive namespace from numpy and matplotlib\n",
      "Populating the interactive namespace from numpy and matplotlib\n",
      "The autoreload extension is already loaded. To reload it, use:\n",
      "  %reload_ext autoreload\n"
     ]
    }
   ],
   "source": [
    "# Set up\n",
    "%pylab\n",
    "%pylab inline\n",
    "%matplotlib inline\n",
    "%load_ext autoreload\n",
    "%autoreload 2\n",
    "import tqdm\n",
    "import pandas as pd\n",
    "import seaborn as sns \n",
    "\n",
    "from sklearn.model_selection import train_test_split\n",
    "from sklearn import datasets, metrics\n",
    "\n",
    "import RandomForest"
   ]
  },
  {
   "cell_type": "markdown",
   "metadata": {},
   "source": [
    "# 1. Random Forest on German Credit DS"
   ]
  },
  {
   "cell_type": "code",
   "execution_count": 2,
   "metadata": {},
   "outputs": [],
   "source": [
    "german_df = pd.read_csv(\n",
    "    'https://archive.ics.uci.edu/ml/machine-learning-databases/statlog/german/german.data',\n",
    "    names=[f'A{d}' for d in range(1,21)] + ['target'], header=None, sep=' ')"
   ]
  },
  {
   "cell_type": "code",
   "execution_count": 35,
   "metadata": {},
   "outputs": [
    {
     "data": {
      "text/html": [
       "<div>\n",
       "<style scoped>\n",
       "    .dataframe tbody tr th:only-of-type {\n",
       "        vertical-align: middle;\n",
       "    }\n",
       "\n",
       "    .dataframe tbody tr th {\n",
       "        vertical-align: top;\n",
       "    }\n",
       "\n",
       "    .dataframe thead th {\n",
       "        text-align: right;\n",
       "    }\n",
       "</style>\n",
       "<table border=\"1\" class=\"dataframe\">\n",
       "  <thead>\n",
       "    <tr style=\"text-align: right;\">\n",
       "      <th></th>\n",
       "      <th>A1</th>\n",
       "      <th>A2</th>\n",
       "      <th>A3</th>\n",
       "      <th>A4</th>\n",
       "      <th>A5</th>\n",
       "      <th>A6</th>\n",
       "      <th>A7</th>\n",
       "      <th>A8</th>\n",
       "      <th>A9</th>\n",
       "      <th>A10</th>\n",
       "      <th>...</th>\n",
       "      <th>A12</th>\n",
       "      <th>A13</th>\n",
       "      <th>A14</th>\n",
       "      <th>A15</th>\n",
       "      <th>A16</th>\n",
       "      <th>A17</th>\n",
       "      <th>A18</th>\n",
       "      <th>A19</th>\n",
       "      <th>A20</th>\n",
       "      <th>target</th>\n",
       "    </tr>\n",
       "  </thead>\n",
       "  <tbody>\n",
       "    <tr>\n",
       "      <th>0</th>\n",
       "      <td>A11</td>\n",
       "      <td>6</td>\n",
       "      <td>A34</td>\n",
       "      <td>A43</td>\n",
       "      <td>1169</td>\n",
       "      <td>A65</td>\n",
       "      <td>A75</td>\n",
       "      <td>4</td>\n",
       "      <td>A93</td>\n",
       "      <td>A101</td>\n",
       "      <td>...</td>\n",
       "      <td>A121</td>\n",
       "      <td>67</td>\n",
       "      <td>A143</td>\n",
       "      <td>A152</td>\n",
       "      <td>2</td>\n",
       "      <td>A173</td>\n",
       "      <td>1</td>\n",
       "      <td>A192</td>\n",
       "      <td>A201</td>\n",
       "      <td>1</td>\n",
       "    </tr>\n",
       "    <tr>\n",
       "      <th>1</th>\n",
       "      <td>A12</td>\n",
       "      <td>48</td>\n",
       "      <td>A32</td>\n",
       "      <td>A43</td>\n",
       "      <td>5951</td>\n",
       "      <td>A61</td>\n",
       "      <td>A73</td>\n",
       "      <td>2</td>\n",
       "      <td>A92</td>\n",
       "      <td>A101</td>\n",
       "      <td>...</td>\n",
       "      <td>A121</td>\n",
       "      <td>22</td>\n",
       "      <td>A143</td>\n",
       "      <td>A152</td>\n",
       "      <td>1</td>\n",
       "      <td>A173</td>\n",
       "      <td>1</td>\n",
       "      <td>A191</td>\n",
       "      <td>A201</td>\n",
       "      <td>2</td>\n",
       "    </tr>\n",
       "    <tr>\n",
       "      <th>2</th>\n",
       "      <td>A14</td>\n",
       "      <td>12</td>\n",
       "      <td>A34</td>\n",
       "      <td>A46</td>\n",
       "      <td>2096</td>\n",
       "      <td>A61</td>\n",
       "      <td>A74</td>\n",
       "      <td>2</td>\n",
       "      <td>A93</td>\n",
       "      <td>A101</td>\n",
       "      <td>...</td>\n",
       "      <td>A121</td>\n",
       "      <td>49</td>\n",
       "      <td>A143</td>\n",
       "      <td>A152</td>\n",
       "      <td>1</td>\n",
       "      <td>A172</td>\n",
       "      <td>2</td>\n",
       "      <td>A191</td>\n",
       "      <td>A201</td>\n",
       "      <td>1</td>\n",
       "    </tr>\n",
       "    <tr>\n",
       "      <th>3</th>\n",
       "      <td>A11</td>\n",
       "      <td>42</td>\n",
       "      <td>A32</td>\n",
       "      <td>A42</td>\n",
       "      <td>7882</td>\n",
       "      <td>A61</td>\n",
       "      <td>A74</td>\n",
       "      <td>2</td>\n",
       "      <td>A93</td>\n",
       "      <td>A103</td>\n",
       "      <td>...</td>\n",
       "      <td>A122</td>\n",
       "      <td>45</td>\n",
       "      <td>A143</td>\n",
       "      <td>A153</td>\n",
       "      <td>1</td>\n",
       "      <td>A173</td>\n",
       "      <td>2</td>\n",
       "      <td>A191</td>\n",
       "      <td>A201</td>\n",
       "      <td>1</td>\n",
       "    </tr>\n",
       "    <tr>\n",
       "      <th>4</th>\n",
       "      <td>A11</td>\n",
       "      <td>24</td>\n",
       "      <td>A33</td>\n",
       "      <td>A40</td>\n",
       "      <td>4870</td>\n",
       "      <td>A61</td>\n",
       "      <td>A73</td>\n",
       "      <td>3</td>\n",
       "      <td>A93</td>\n",
       "      <td>A101</td>\n",
       "      <td>...</td>\n",
       "      <td>A124</td>\n",
       "      <td>53</td>\n",
       "      <td>A143</td>\n",
       "      <td>A153</td>\n",
       "      <td>2</td>\n",
       "      <td>A173</td>\n",
       "      <td>2</td>\n",
       "      <td>A191</td>\n",
       "      <td>A201</td>\n",
       "      <td>2</td>\n",
       "    </tr>\n",
       "  </tbody>\n",
       "</table>\n",
       "<p>5 rows × 21 columns</p>\n",
       "</div>"
      ],
      "text/plain": [
       "    A1  A2   A3   A4    A5   A6   A7  A8   A9   A10  ...   A12 A13   A14  \\\n",
       "0  A11   6  A34  A43  1169  A65  A75   4  A93  A101  ...  A121  67  A143   \n",
       "1  A12  48  A32  A43  5951  A61  A73   2  A92  A101  ...  A121  22  A143   \n",
       "2  A14  12  A34  A46  2096  A61  A74   2  A93  A101  ...  A121  49  A143   \n",
       "3  A11  42  A32  A42  7882  A61  A74   2  A93  A103  ...  A122  45  A143   \n",
       "4  A11  24  A33  A40  4870  A61  A73   3  A93  A101  ...  A124  53  A143   \n",
       "\n",
       "    A15 A16   A17 A18   A19   A20 target  \n",
       "0  A152   2  A173   1  A192  A201      1  \n",
       "1  A152   1  A173   1  A191  A201      2  \n",
       "2  A152   1  A172   2  A191  A201      1  \n",
       "3  A153   1  A173   2  A191  A201      1  \n",
       "4  A153   2  A173   2  A191  A201      2  \n",
       "\n",
       "[5 rows x 21 columns]"
      ]
     },
     "execution_count": 35,
     "metadata": {},
     "output_type": "execute_result"
    }
   ],
   "source": [
    "train, test = train_test_split(german_df, test_size=0.3)\n",
    "german_df.head()"
   ]
  },
  {
   "cell_type": "code",
   "execution_count": 39,
   "metadata": {},
   "outputs": [],
   "source": [
    "# nattrs - when creating a tree in forest and doing\n",
    "# a split we draw number of attributes equal to nattrs"
   ]
  },
  {
   "cell_type": "code",
   "execution_count": 59,
   "metadata": {},
   "outputs": [
    {
     "name": "stderr",
     "output_type": "stream",
     "text": [
      "Creating forest: 100%|█████████████████████████████████████████████████████████████████| 25/25 [02:42<00:00,  6.48s/it]\n"
     ]
    }
   ],
   "source": [
    "# create random forest for nattrs = 1\n",
    "RF = RandomForest.RandomForest(train, test, 25, criterion='infogain_ratio', nattrs=2)"
   ]
  },
  {
   "cell_type": "code",
   "execution_count": 60,
   "metadata": {},
   "outputs": [
    {
     "name": "stdout",
     "output_type": "stream",
     "text": [
      "nattr = 1\n",
      "Tree: 0  --> Forest error: 36.000%, \t                   Tree error rate: 36.000%, \t                   OOB error: 34.848%\n",
      "Tree: 1  --> Forest error: 32.667%, \t                   Tree error rate: 36.333%, \t                   OOB error: 30.038%\n",
      "Tree: 2  --> Forest error: 33.667%, \t                   Tree error rate: 34.667%, \t                   OOB error: 36.328%\n",
      "Tree: 3  --> Forest error: 31.333%, \t                   Tree error rate: 41.667%, \t                   OOB error: 32.296%\n",
      "Tree: 4  --> Forest error: 32.667%, \t                   Tree error rate: 34.000%, \t                   OOB error: 33.333%\n",
      "Tree: 5  --> Forest error: 29.333%, \t                   Tree error rate: 38.667%, \t                   OOB error: 43.600%\n",
      "Tree: 6  --> Forest error: 29.333%, \t                   Tree error rate: 36.667%, \t                   OOB error: 38.603%\n",
      "Tree: 7  --> Forest error: 28.333%, \t                   Tree error rate: 39.333%, \t                   OOB error: 43.580%\n",
      "Tree: 8  --> Forest error: 28.667%, \t                   Tree error rate: 32.333%, \t                   OOB error: 35.849%\n",
      "Tree: 9  --> Forest error: 26.667%, \t                   Tree error rate: 32.000%, \t                   OOB error: 35.060%\n",
      "Tree: 10  --> Forest error: 27.000%, \t                   Tree error rate: 39.000%, \t                   OOB error: 38.000%\n",
      "Tree: 11  --> Forest error: 26.333%, \t                   Tree error rate: 34.333%, \t                   OOB error: 34.866%\n",
      "Tree: 12  --> Forest error: 25.000%, \t                   Tree error rate: 35.000%, \t                   OOB error: 36.614%\n",
      "Tree: 13  --> Forest error: 25.000%, \t                   Tree error rate: 36.000%, \t                   OOB error: 38.610%\n",
      "Tree: 14  --> Forest error: 23.667%, \t                   Tree error rate: 37.667%, \t                   OOB error: 34.413%\n",
      "Tree: 15  --> Forest error: 25.333%, \t                   Tree error rate: 32.000%, \t                   OOB error: 34.661%\n",
      "Tree: 16  --> Forest error: 23.333%, \t                   Tree error rate: 37.333%, \t                   OOB error: 35.145%\n",
      "Tree: 17  --> Forest error: 23.667%, \t                   Tree error rate: 30.667%, \t                   OOB error: 38.314%\n",
      "Tree: 18  --> Forest error: 24.000%, \t                   Tree error rate: 36.000%, \t                   OOB error: 34.413%\n",
      "Tree: 19  --> Forest error: 23.667%, \t                   Tree error rate: 28.000%, \t                   OOB error: 32.520%\n",
      "Tree: 20  --> Forest error: 23.000%, \t                   Tree error rate: 31.000%, \t                   OOB error: 34.127%\n",
      "Tree: 21  --> Forest error: 23.333%, \t                   Tree error rate: 33.333%, \t                   OOB error: 35.632%\n",
      "Tree: 22  --> Forest error: 23.667%, \t                   Tree error rate: 35.000%, \t                   OOB error: 29.297%\n",
      "Tree: 23  --> Forest error: 24.000%, \t                   Tree error rate: 34.333%, \t                   OOB error: 33.468%\n",
      "Tree: 24  --> Forest error: 23.667%, \t                   Tree error rate: 36.333%, \t                   OOB error: 32.432%\n",
      "Forest OOB error rate: 28.571%\n",
      "Mean trees error rate: 35.107%\n",
      "Mean trees agreement: 61.976%\n"
     ]
    }
   ],
   "source": [
    "print('nattr = 1')\n",
    "RF.print_forest()\n",
    "print(f'Forest OOB error rate: {RF.get_forest_OOB_err() * 100:.3f}%')\n",
    "print(f'Mean trees error rate: {RF.mean_tree_errors()[0] * 100:.3f}%')\n",
    "print(f'Mean trees agreement: {RF.forest_mean_agreement() * 100:.3f}%')"
   ]
  },
  {
   "cell_type": "code",
   "execution_count": 61,
   "metadata": {},
   "outputs": [
    {
     "name": "stderr",
     "output_type": "stream",
     "text": [
      "Creating forest: 100%|█████████████████████████████████████████████████████████████████| 25/25 [02:37<00:00,  6.28s/it]\n"
     ]
    }
   ],
   "source": [
    "# create random forest for nattrs = 2\n",
    "RF = RandomForest.RandomForest(train, test, 25, criterion='infogain_ratio', nattrs=2)"
   ]
  },
  {
   "cell_type": "code",
   "execution_count": 62,
   "metadata": {},
   "outputs": [
    {
     "name": "stdout",
     "output_type": "stream",
     "text": [
      "nattr = 2\n",
      "Tree: 0  --> Forest error: 32.000%, \t                   Tree error rate: 32.000%, \t                   OOB error: 32.143%\n",
      "Tree: 1  --> Forest error: 29.333%, \t                   Tree error rate: 33.333%, \t                   OOB error: 32.453%\n",
      "Tree: 2  --> Forest error: 28.333%, \t                   Tree error rate: 37.333%, \t                   OOB error: 40.304%\n",
      "Tree: 3  --> Forest error: 26.667%, \t                   Tree error rate: 33.667%, \t                   OOB error: 33.333%\n",
      "Tree: 4  --> Forest error: 30.000%, \t                   Tree error rate: 36.667%, \t                   OOB error: 35.496%\n",
      "Tree: 5  --> Forest error: 28.000%, \t                   Tree error rate: 39.667%, \t                   OOB error: 38.281%\n",
      "Tree: 6  --> Forest error: 28.667%, \t                   Tree error rate: 38.000%, \t                   OOB error: 36.364%\n",
      "Tree: 7  --> Forest error: 26.000%, \t                   Tree error rate: 34.333%, \t                   OOB error: 36.111%\n",
      "Tree: 8  --> Forest error: 27.333%, \t                   Tree error rate: 34.667%, \t                   OOB error: 43.333%\n",
      "Tree: 9  --> Forest error: 27.333%, \t                   Tree error rate: 29.000%, \t                   OOB error: 34.241%\n",
      "Tree: 10  --> Forest error: 26.667%, \t                   Tree error rate: 33.667%, \t                   OOB error: 35.537%\n",
      "Tree: 11  --> Forest error: 26.000%, \t                   Tree error rate: 35.333%, \t                   OOB error: 34.444%\n",
      "Tree: 12  --> Forest error: 27.667%, \t                   Tree error rate: 36.667%, \t                   OOB error: 33.878%\n",
      "Tree: 13  --> Forest error: 27.333%, \t                   Tree error rate: 38.000%, \t                   OOB error: 37.643%\n",
      "Tree: 14  --> Forest error: 25.000%, \t                   Tree error rate: 35.667%, \t                   OOB error: 36.694%\n",
      "Tree: 15  --> Forest error: 26.333%, \t                   Tree error rate: 34.000%, \t                   OOB error: 30.000%\n",
      "Tree: 16  --> Forest error: 25.000%, \t                   Tree error rate: 36.667%, \t                   OOB error: 31.621%\n",
      "Tree: 17  --> Forest error: 25.333%, \t                   Tree error rate: 34.333%, \t                   OOB error: 38.224%\n",
      "Tree: 18  --> Forest error: 24.000%, \t                   Tree error rate: 35.333%, \t                   OOB error: 37.795%\n",
      "Tree: 19  --> Forest error: 25.333%, \t                   Tree error rate: 31.333%, \t                   OOB error: 31.939%\n",
      "Tree: 20  --> Forest error: 25.333%, \t                   Tree error rate: 32.333%, \t                   OOB error: 31.373%\n",
      "Tree: 21  --> Forest error: 25.333%, \t                   Tree error rate: 34.667%, \t                   OOB error: 34.263%\n",
      "Tree: 22  --> Forest error: 24.667%, \t                   Tree error rate: 33.667%, \t                   OOB error: 29.478%\n",
      "Tree: 23  --> Forest error: 25.333%, \t                   Tree error rate: 39.667%, \t                   OOB error: 36.576%\n",
      "Tree: 24  --> Forest error: 24.000%, \t                   Tree error rate: 37.000%, \t                   OOB error: 39.062%\n",
      "Forest OOB error rate: 26.571%\n",
      "Mean trees error rate: 35.080%\n",
      "Mean trees agreement: 62.698%\n"
     ]
    }
   ],
   "source": [
    "print('nattr = 2')\n",
    "RF.print_forest()\n",
    "print(f'Forest OOB error rate: {RF.get_forest_OOB_err() * 100:.3f}%')\n",
    "print(f'Mean trees error rate: {RF.mean_tree_errors()[0] * 100:.3f}%')\n",
    "print(f'Mean trees agreement: {RF.forest_mean_agreement() * 100:.3f}%')"
   ]
  },
  {
   "cell_type": "code",
   "execution_count": 63,
   "metadata": {},
   "outputs": [
    {
     "name": "stderr",
     "output_type": "stream",
     "text": [
      "Creating forest: 100%|█████████████████████████████████████████████████████████████████| 25/25 [02:55<00:00,  7.01s/it]\n"
     ]
    }
   ],
   "source": [
    "# create random forest for nattrs = 3\n",
    "RF = RandomForest.RandomForest(train, test, 25, criterion='infogain_ratio', nattrs=3)"
   ]
  },
  {
   "cell_type": "code",
   "execution_count": 64,
   "metadata": {},
   "outputs": [
    {
     "name": "stdout",
     "output_type": "stream",
     "text": [
      "nattr = 3\n",
      "Tree: 0  --> Forest error: 34.000%, \t                   Tree error rate: 34.000%, \t                   OOB error: 35.907%\n",
      "Tree: 1  --> Forest error: 27.000%, \t                   Tree error rate: 33.000%, \t                   OOB error: 31.765%\n",
      "Tree: 2  --> Forest error: 27.333%, \t                   Tree error rate: 34.667%, \t                   OOB error: 35.039%\n",
      "Tree: 3  --> Forest error: 28.000%, \t                   Tree error rate: 36.000%, \t                   OOB error: 38.095%\n",
      "Tree: 4  --> Forest error: 28.333%, \t                   Tree error rate: 33.333%, \t                   OOB error: 33.071%\n",
      "Tree: 5  --> Forest error: 29.667%, \t                   Tree error rate: 37.000%, \t                   OOB error: 36.508%\n",
      "Tree: 6  --> Forest error: 30.000%, \t                   Tree error rate: 35.667%, \t                   OOB error: 37.083%\n",
      "Tree: 7  --> Forest error: 29.333%, \t                   Tree error rate: 37.333%, \t                   OOB error: 39.004%\n",
      "Tree: 8  --> Forest error: 28.000%, \t                   Tree error rate: 32.667%, \t                   OOB error: 30.337%\n",
      "Tree: 9  --> Forest error: 28.000%, \t                   Tree error rate: 37.000%, \t                   OOB error: 34.231%\n",
      "Tree: 10  --> Forest error: 28.667%, \t                   Tree error rate: 35.333%, \t                   OOB error: 38.583%\n",
      "Tree: 11  --> Forest error: 28.333%, \t                   Tree error rate: 38.333%, \t                   OOB error: 40.602%\n",
      "Tree: 12  --> Forest error: 27.000%, \t                   Tree error rate: 36.000%, \t                   OOB error: 38.132%\n",
      "Tree: 13  --> Forest error: 26.333%, \t                   Tree error rate: 35.667%, \t                   OOB error: 38.431%\n",
      "Tree: 14  --> Forest error: 26.333%, \t                   Tree error rate: 36.667%, \t                   OOB error: 37.450%\n",
      "Tree: 15  --> Forest error: 25.667%, \t                   Tree error rate: 32.000%, \t                   OOB error: 35.472%\n",
      "Tree: 16  --> Forest error: 24.000%, \t                   Tree error rate: 35.667%, \t                   OOB error: 34.413%\n",
      "Tree: 17  --> Forest error: 25.000%, \t                   Tree error rate: 41.333%, \t                   OOB error: 40.417%\n",
      "Tree: 18  --> Forest error: 25.000%, \t                   Tree error rate: 34.333%, \t                   OOB error: 35.156%\n",
      "Tree: 19  --> Forest error: 25.000%, \t                   Tree error rate: 38.333%, \t                   OOB error: 37.200%\n",
      "Tree: 20  --> Forest error: 23.333%, \t                   Tree error rate: 31.000%, \t                   OOB error: 34.909%\n",
      "Tree: 21  --> Forest error: 24.333%, \t                   Tree error rate: 36.667%, \t                   OOB error: 40.310%\n",
      "Tree: 22  --> Forest error: 22.667%, \t                   Tree error rate: 38.000%, \t                   OOB error: 40.157%\n",
      "Tree: 23  --> Forest error: 23.667%, \t                   Tree error rate: 32.667%, \t                   OOB error: 37.308%\n",
      "Tree: 24  --> Forest error: 24.000%, \t                   Tree error rate: 34.000%, \t                   OOB error: 39.184%\n",
      "Forest OOB error rate: 30.429%\n",
      "Mean trees error rate: 35.467%\n",
      "Mean trees agreement: 62.458%\n"
     ]
    }
   ],
   "source": [
    "print('nattr = 3')\n",
    "RF.print_forest()\n",
    "print(f'Forest OOB error rate: {RF.get_forest_OOB_err() * 100:.3f}%')\n",
    "print(f'Mean trees error rate: {RF.mean_tree_errors()[0] * 100:.3f}%')\n",
    "print(f'Mean trees agreement: {RF.forest_mean_agreement() * 100:.3f}%')"
   ]
  },
  {
   "cell_type": "markdown",
   "metadata": {},
   "source": [
    "# 2. Compare with single tree"
   ]
  },
  {
   "cell_type": "code",
   "execution_count": 65,
   "metadata": {},
   "outputs": [],
   "source": [
    "german_tree = DecisionTree.Tree(train, criterion='infogain_ratio')"
   ]
  },
  {
   "cell_type": "code",
   "execution_count": 66,
   "metadata": {},
   "outputs": [
    {
     "name": "stdout",
     "output_type": "stream",
     "text": [
      "Classification for single tree:\n",
      "True     207\n",
      "False     93\n",
      "dtype: int64\n",
      "Error: 31.000%\n"
     ]
    }
   ],
   "source": [
    "preds = []\n",
    "for i in range(len(test)):\n",
    "    preds.append(german_tree.classify(test.iloc[i]))\n",
    "print('Classification for single tree:')\n",
    "classification = pd.Series(np.array(test['target']) == np.array(preds)).value_counts()\n",
    "print(classification)\n",
    "print(f'Error: {classification[False] / len(test) * 100:.3f}%')"
   ]
  },
  {
   "cell_type": "code",
   "execution_count": 67,
   "metadata": {},
   "outputs": [
    {
     "name": "stdout",
     "output_type": "stream",
     "text": [
      "Confusion matrix:\n"
     ]
    },
    {
     "data": {
      "text/plain": [
       "array([[158,  44],\n",
       "       [ 49,  49]], dtype=int64)"
      ]
     },
     "execution_count": 67,
     "metadata": {},
     "output_type": "execute_result"
    }
   ],
   "source": [
    "print('Confusion matrix:')\n",
    "metrics.confusion_matrix(np.array(preds), test['target'])"
   ]
  },
  {
   "cell_type": "code",
   "execution_count": null,
   "metadata": {},
   "outputs": [],
   "source": []
  }
 ],
 "metadata": {
  "kernelspec": {
   "display_name": "Python 3",
   "language": "python",
   "name": "python3"
  },
  "language_info": {
   "codemirror_mode": {
    "name": "ipython",
    "version": 3
   },
   "file_extension": ".py",
   "mimetype": "text/x-python",
   "name": "python",
   "nbconvert_exporter": "python",
   "pygments_lexer": "ipython3",
   "version": "3.7.3"
  }
 },
 "nbformat": 4,
 "nbformat_minor": 4
}
