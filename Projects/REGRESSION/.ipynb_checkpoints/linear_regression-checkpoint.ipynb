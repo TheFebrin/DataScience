{
 "cells": [
  {
   "cell_type": "code",
   "execution_count": 1,
   "metadata": {},
   "outputs": [],
   "source": [
    "# Standard IPython notebook imports\n",
    "%matplotlib inline\n",
    "\n",
    "import os\n",
    "\n",
    "from io import StringIO\n",
    "import itertools\n",
    "import httpimport\n",
    "import matplotlib.pyplot as plt\n",
    "import numpy as np\n",
    "import pandas as pd\n",
    "from tqdm import tqdm_notebook\n",
    "\n",
    "import scipy.stats as sstats\n",
    "import scipy.optimize as sopt\n",
    "\n",
    "import seaborn as sns\n",
    "import sklearn.tree\n",
    "import sklearn.ensemble\n",
    "\n",
    "import graphviz\n",
    "from numpy.linalg import inv"
   ]
  },
  {
   "cell_type": "markdown",
   "metadata": {},
   "source": [
    "1. Implement a function generating a dataset of $n$ points\n",
    "  according to the following algorithm:\n",
    "  1. Draw $n$ points $x \\propto U(0;10)$ (uniformly distributed on $[0,10]$).\n",
    "  2. Draw $n$ points $y \\propto \\mathcal{N}(1+20x-1.3x^2, 7)$\n",
    "    (from a Gaussian distribution with $\\mu=1+20x-1.3x^2$ and $\\sigma=7$).\n",
    "\n",
    "  Prepare a dataset of 30 elements and make a scatterplot of\n",
    "  the expected value $y$ in function $x$.\n",
    "\n",
    "2. Use linear regression to fit polynomials to the\n",
    "  generated dataset. Fit polynomials of degrees zero (a constant line),\n",
    "  one, two and three. An easy way to do it is to transform each data\n",
    "  point $x$ into a vector of its powers $[1, x, x^2, \\ldots, x^m]$.\n",
    "\n",
    "  Plot the dataset and all regression curves on one figure.\n",
    "\n",
    "  **Note:** The name _linear regression_ signifies that the\n",
    "  hypothesis is linear with respect to parameters $\\Theta$.\n",
    "  However, the relationship between $x$ and $y$ is not constrained\n",
    "  to a linear one. In this exercise it is a polynomial one."
   ]
  },
  {
   "cell_type": "code",
   "execution_count": 4,
   "metadata": {},
   "outputs": [
    {
     "data": {
      "text/plain": [
       "<matplotlib.collections.PathCollection at 0x24b22ea3518>"
      ]
     },
     "execution_count": 4,
     "metadata": {},
     "output_type": "execute_result"
    },
    {
     "data": {
      "image/png": "[encoded data removed]",
      "text/plain": [
       "<Figure size 432x288 with 1 Axes>"
      ]
     },
     "metadata": {
      "needs_background": "light"
     },
     "output_type": "display_data"
    }
   ],
   "source": [
    "def make_dataset(N):\n",
    "    X = np.random.uniform(0, 10, N)\n",
    "    mu = 1 + 20*X - 1.3 * X ** 2\n",
    "    sigma = 7\n",
    "    Y = np.random.normal(mu, sigma, N)\n",
    "    return X, Y\n",
    "\n",
    "data = make_dataset(30)\n",
    "plt.scatter(data[0], data[1])"
   ]
  },
  {
   "cell_type": "code",
   "execution_count": 12,
   "metadata": {},
   "outputs": [
    {
     "name": "stdout",
     "output_type": "stream",
     "text": [
      "Theta:\n",
      "[[52.13714049]], Shape: (1, 1)\n",
      "\n",
      "Theta:\n",
      "[[16.96227915]\n",
      " [ 7.72231598]], Shape: (2, 1)\n",
      "\n",
      "Theta:\n",
      "[[-0.12696835]\n",
      " [19.3574461 ]\n",
      " [-1.1842933 ]], Shape: (3, 1)\n",
      "\n",
      "Theta:\n",
      "[[ 4.88150753e-01]\n",
      " [ 1.84973532e+01]\n",
      " [-9.52420267e-01]\n",
      " [-1.60578028e-02]], Shape: (4, 1)\n",
      "\n"
     ]
    },
    {
     "data": {
      "text/plain": [
       "<matplotlib.legend.Legend at 0x24b232e3e80>"
      ]
     },
     "execution_count": 12,
     "metadata": {},
     "output_type": "execute_result"
    },
    {
     "data": {
      "image/png": "[encoded data removed]",
      "text/plain": [
       "<Figure size 432x288 with 1 Axes>"
      ]
     },
     "metadata": {
      "needs_background": "light"
     },
     "output_type": "display_data"
    }
   ],
   "source": [
    "def powers_of_X(X, degree):\n",
    "    powers = np.arange(degree + 1).reshape(-1,1)\n",
    "    return X**powers\n",
    "\n",
    "def compute_polynomial(X, Theta):\n",
    "    XP = powers_of_X(X, len(Theta) - 1) # len(Theta) x N\n",
    "    Y = XP * Theta\n",
    "    Y = np.sum(Y, axis=0)\n",
    "    return Y\n",
    "\n",
    "plot_x_space = np.linspace(0,10,100)\n",
    "plt.scatter(data[0], data[1])\n",
    "for degree in range(4):\n",
    "    X = powers_of_X(data[0], degree) # Matrix d x N\n",
    "    Y = data[1].reshape(1, -1)       # Matrix 1 x N\n",
    "    Theta = inv(X.dot(X.T)).dot(X).dot(Y.T)\n",
    "    plt.plot(plot_x_space, compute_polynomial(plot_x_space, Theta).ravel(), \n",
    "         label=\"degree: %d\" %(degree, ))\n",
    "    print(f'Theta:\\n{Theta}, Shape: {Theta.shape}\\n')\n",
    "plt.legend(loc='lower right')"
   ]
  },
  {
   "cell_type": "code",
   "execution_count": null,
   "metadata": {},
   "outputs": [],
   "source": []
  }
 ],
 "metadata": {
  "kernelspec": {
   "display_name": "Python 3",
   "language": "python",
   "name": "python3"
  },
  "language_info": {
   "codemirror_mode": {
    "name": "ipython",
    "version": 3
   },
   "file_extension": ".py",
   "mimetype": "text/x-python",
   "name": "python",
   "nbconvert_exporter": "python",
   "pygments_lexer": "ipython3",
   "version": "3.7.3"
  }
 },
 "nbformat": 4,
 "nbformat_minor": 4
}
