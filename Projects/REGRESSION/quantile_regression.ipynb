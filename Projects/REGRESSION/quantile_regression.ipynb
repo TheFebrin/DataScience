{
 "cells": [
  {
   "cell_type": "code",
   "execution_count": 1,
   "metadata": {},
   "outputs": [],
   "source": [
    "# Standard IPython notebook imports\n",
    "%matplotlib inline\n",
    "\n",
    "import os\n",
    "\n",
    "from io import StringIO\n",
    "import itertools\n",
    "import httpimport\n",
    "import matplotlib.pyplot as plt\n",
    "import numpy as np\n",
    "import pandas as pd\n",
    "from tqdm import tqdm_notebook\n",
    "\n",
    "import scipy.stats as sstats\n",
    "import scipy.optimize as sopt\n",
    "\n",
    "import seaborn as sns\n",
    "import sklearn.tree\n",
    "import sklearn.ensemble\n",
    "\n",
    "import graphviz\n",
    "from numpy.linalg import inv"
   ]
  },
  {
   "cell_type": "markdown",
   "metadata": {},
   "source": [
    "# Quantile regression\n",
    "\n",
    "  The least squares method results in estimates that approximate\n",
    "  the conditional mean of the response variable given certain values\n",
    "  of the predictor variables.  However, for many applications we are interested\n",
    "  in a median or other percentile rather than the mean of the response\n",
    "  variable. An approximation of a percentile can be achieved\n",
    "  indirectly by using the least squares method to fit a model,\n",
    "  assuming a gaussian distribution on residuals of this model and\n",
    "  calculating the required percentile of the gaussian distribution.\n",
    "  The problems with this commonly used technique appear when the\n",
    "  distribution of residuals does not follow a gaussian distribution.\n",
    "\n",
    "  The quantile regression\n",
    "  (https://en.wikipedia.org/wiki/Quantile_regression) aims at\n",
    "  directly estimating a value of the conditional percentile of the\n",
    "  response variable. It is often use in e.g. sales forecasting, where\n",
    "  we are interested in e.g. keeping enough items to have a 90% chance\n",
    "  to cover the demand. In quantile regression, instead of minimizing the mean squared error,\n",
    "  quantile regression minimizes a different cost function namely:\n",
    "  \\begin{equation}\n",
    "  f_{\\tau} = \\left\\{\n",
    "    \\begin{array}{rl}\n",
    "      \\tau\\cdot x & \\text{if } x \\geq 0,\\\\\n",
    "      -(1-\\tau)\\cdot x & \\text{if } x < 0,\n",
    "    \\end{array} \\right.\n",
    "  \\end{equation}\n",
    "  where $\\tau$ is the precentile of interest.\n",
    "\n",
    "\n",
    "   Download the house pricing data set from\n",
    "    https://raw.githubusercontent.com/janchorowski/nn_assignments/nn18/assignment3/03-house-prices-outliers.csv. To\n",
    "    load it into Python, you can use the `pandas.read_csv`\n",
    "    function, similarly to how we read the height/weight table in the\n",
    "    notebook for lecture 3.\n",
    "\n",
    "    This data contains information about areas and prices of around\n",
    "    5000 houses offered for sale. Imagine you want to buy a 60 squared\n",
    "    meters flat. How much money do you need to have to be able to\n",
    "    choose between $75\\%$ of all flats offered for sale?\n",
    "\n",
    "\n",
    "   Fit a quantile regression model by minimizing the $f_{\\tau}$\n",
    "    function. To fit the model write a function returning the cost,\n",
    "    and its derivative (you can assume that the derivative is 0 at the\n",
    "    singular points).  Use the L-BFGS solver (without step size\n",
    "    control the GD algorithm does not converge to good solutions). You\n",
    "    can start the solver from the least squares solution. Check the\n",
    "    goodness of fit as described above.\n",
    "\n",
    "   Now you can calculate the 75 percentile price value for a 60\n",
    "    squared meters flat using the more adequate model. \n",
    "    \n",
    "   **Note**: Technically, we can not use a gradient-based\n",
    "    optimization method to minimize the $f_{\\tau}$ loss because it\n",
    "    doesn't have a derivative at $x=0$. One solution is to use a\n",
    "    subgradient method\n",
    "    https://en.wikipedia.org/wiki/Subderivative. It is also\n",
    "    possible to use a smooth loss function -- common variants are the\n",
    "    Huber loss (https://en.wikipedia.org/wiki/Huber_loss) or a\n",
    "    variant of the smooth approximation to the absolute value\n",
    "    $\\text{abs}(x) \\approx \\sqrt{x^2+\\epsilon}$ with a small\n",
    "    $\\epsilon$. However, just ignoring the singular points tends to\n",
    "    work well in practice.\n"
   ]
  },
  {
   "cell_type": "code",
   "execution_count": 15,
   "metadata": {},
   "outputs": [],
   "source": [
    "def powers_of_X(X, degree):\n",
    "    powers = np.arange(degree + 1).reshape(-1,1)\n",
    "    return X**powers\n",
    "\n",
    "\n",
    "def compute_polynomial(X, Theta):\n",
    "    XP = powers_of_X(X, len(Theta) - 1) # len(Theta) x N\n",
    "    Y = XP * Theta\n",
    "    Y = np.sum(Y, axis=0)\n",
    "    return Y\n",
    "\n",
    "\n",
    "def quantile_cost(Y, Theta, X, tau):\n",
    "    '''\n",
    "    Returns:\n",
    "        pair (x, G), where\n",
    "        x: mean of cost function values\n",
    "        G: mean Gradient\n",
    "    '''\n",
    "    \n",
    "    residuals = Y - Theta.T.dot(X)\n",
    "    residuals = residuals.ravel()\n",
    "    ans = []\n",
    "\n",
    "    for i, r in enumerate(residuals):\n",
    "        if r == 0:\n",
    "            val = np.array([0, np.array([0, 0])])\n",
    "            ans.append(val)\n",
    "        elif r > 0:\n",
    "            val = np.array([np.array(tau * r),\n",
    "                            np.array(-tau * X[:, i])])\n",
    "            ans.append(val)\n",
    "        else:\n",
    "            val = np.array([np.array((tau - 1) * r),\n",
    "                            np.array((1 - tau) * X[:, i])])\n",
    "            ans.append(val)\n",
    "  \n",
    "    ans = np.array(ans)\n",
    "    N = residuals.size\n",
    "    func_val, gradient_vals = 0, np.array([0, 0], dtype=np.float64)\n",
    "    \n",
    "    for f_val, gradient_val in ans:\n",
    "        func_val += f_val\n",
    "        gradient_vals += gradient_val\n",
    "        \n",
    "    func_val /= N\n",
    "    gradient_vals /= N\n",
    "    \n",
    "    return (func_val, gradient_vals)\n",
    "       \n",
    "    \n",
    "def get_theta(X, Y, Theta, tau=0.75):\n",
    "    hist = []\n",
    "    def save_hist(x):\n",
    "        hist.append(np.array(x))\n",
    "    \n",
    "    lbfsgb_ret = sopt.fmin_l_bfgs_b(lambda theta: quantile_cost(Y, theta, X, tau),\n",
    "                                    Theta, callback=save_hist)\n",
    "    \n",
    "    return hist[-1]"
   ]
  },
  {
   "cell_type": "markdown",
   "metadata": {},
   "source": [
    "### Get data"
   ]
  },
  {
   "cell_type": "code",
   "execution_count": 5,
   "metadata": {},
   "outputs": [
    {
     "data": {
      "text/html": [
       "<div>\n",
       "<style scoped>\n",
       "    .dataframe tbody tr th:only-of-type {\n",
       "        vertical-align: middle;\n",
       "    }\n",
       "\n",
       "    .dataframe tbody tr th {\n",
       "        vertical-align: top;\n",
       "    }\n",
       "\n",
       "    .dataframe thead th {\n",
       "        text-align: right;\n",
       "    }\n",
       "</style>\n",
       "<table border=\"1\" class=\"dataframe\">\n",
       "  <thead>\n",
       "    <tr style=\"text-align: right;\">\n",
       "      <th></th>\n",
       "      <th>rooms</th>\n",
       "      <th>area</th>\n",
       "      <th>price</th>\n",
       "    </tr>\n",
       "  </thead>\n",
       "  <tbody>\n",
       "    <tr>\n",
       "      <th>0</th>\n",
       "      <td>3</td>\n",
       "      <td>66.80</td>\n",
       "      <td>367.801</td>\n",
       "    </tr>\n",
       "    <tr>\n",
       "      <th>1</th>\n",
       "      <td>3</td>\n",
       "      <td>55.03</td>\n",
       "      <td>289.458</td>\n",
       "    </tr>\n",
       "    <tr>\n",
       "      <th>2</th>\n",
       "      <td>4</td>\n",
       "      <td>70.80</td>\n",
       "      <td>389.000</td>\n",
       "    </tr>\n",
       "    <tr>\n",
       "      <th>3</th>\n",
       "      <td>1</td>\n",
       "      <td>29.02</td>\n",
       "      <td>195.695</td>\n",
       "    </tr>\n",
       "    <tr>\n",
       "      <th>4</th>\n",
       "      <td>2</td>\n",
       "      <td>45.76</td>\n",
       "      <td>265.754</td>\n",
       "    </tr>\n",
       "  </tbody>\n",
       "</table>\n",
       "</div>"
      ],
      "text/plain": [
       "   rooms   area    price\n",
       "0      3  66.80  367.801\n",
       "1      3  55.03  289.458\n",
       "2      4  70.80  389.000\n",
       "3      1  29.02  195.695\n",
       "4      2  45.76  265.754"
      ]
     },
     "execution_count": 5,
     "metadata": {},
     "output_type": "execute_result"
    }
   ],
   "source": [
    "data = pd.read_csv(\n",
    "    'https://raw.githubusercontent.com/janchorowski/nn_assignments/nn18/assignment3/03-house-prices-outliers.csv',\n",
    "    index_col=0)\n",
    "data.head()"
   ]
  },
  {
   "cell_type": "code",
   "execution_count": 6,
   "metadata": {},
   "outputs": [
    {
     "data": {
      "text/plain": [
       "array([[ 1.  ,  1.  ,  1.  , ...,  1.  ,  1.  ,  1.  ],\n",
       "       [66.8 , 55.03, 70.8 , ..., 46.7 , 50.41, 48.1 ]])"
      ]
     },
     "execution_count": 6,
     "metadata": {},
     "output_type": "execute_result"
    }
   ],
   "source": [
    "X = np.vstack((np.ones_like(data.rooms), data.area))\n",
    "X"
   ]
  },
  {
   "cell_type": "code",
   "execution_count": 7,
   "metadata": {},
   "outputs": [
    {
     "data": {
      "text/plain": [
       "array([[367.801, 289.458, 389.   , ..., 266.   , 267.1  , 269.   ]])"
      ]
     },
     "execution_count": 7,
     "metadata": {},
     "output_type": "execute_result"
    }
   ],
   "source": [
    "Y = np.asarray(data.price)[None,:]\n",
    "Y"
   ]
  },
  {
   "cell_type": "code",
   "execution_count": 16,
   "metadata": {},
   "outputs": [
    {
     "name": "stdout",
     "output_type": "stream",
     "text": [
      "Quant: 0.25\n",
      "[20.64137477  5.02339598]\n",
      "Fraction of negative errors: 0.25050675675675677\n",
      "mu: 55.695356043236245, sigma: 630.2959767540905\n",
      "\n",
      "Quant: 0.5\n",
      "[11.67149725  5.76942524]\n",
      "Fraction of negative errors: 0.5\n",
      "mu: 20.21795295196857, sigma: 629.7466938306659\n",
      "\n",
      "Quant: 0.75\n",
      "[6.61045759 6.36053903]\n",
      "Fraction of negative errors: 0.75\n",
      "mu: -9.938661445595296, sigma: 629.5655145241594\n",
      "\n",
      "Wall time: 4.67 s\n"
     ]
    },
    {
     "data": {
      "text/plain": [
       "(0, 200)"
      ]
     },
     "execution_count": 16,
     "metadata": {},
     "output_type": "execute_result"
    },
    {
     "data": {
      "image/png": "[encoded data removed]",
      "text/plain": [
       "<Figure size 432x288 with 1 Axes>"
      ]
     },
     "metadata": {
      "needs_background": "light"
     },
     "output_type": "display_data"
    }
   ],
   "source": [
    "%%time\n",
    "Theta = inv(X.dot(X.T)).dot(X).dot(Y.T)\n",
    "taus = [0.25, 0.50, 0.75]\n",
    "colors = ['red', 'green', 'blue']\n",
    "x_space = np.linspace(0, np.max(X), 100)\n",
    "\n",
    "for i, tau in enumerate(taus):\n",
    "    theta = get_theta(X, Y, Theta, tau=tau)\n",
    "    plt.plot(x_space, theta[0] + theta[1] * x_space, \n",
    "             c=colors[i], label=tau)\n",
    "    residuals = Y - compute_polynomial(X[1, :], theta[:, np.newaxis]).ravel()\n",
    "    mu = residuals.mean()\n",
    "    sigma = np.sqrt(np.mean((residuals - mu) ** 2))\n",
    "    errors = residuals[residuals < 0].size / residuals.size\n",
    "    \n",
    "    print(f'Quant: {tau}\\n{theta}')\n",
    "    print(f'Fraction of negative errors: {errors}')\n",
    "    print(f'mu: {mu}, sigma: {sigma}\\n')\n",
    "    \n",
    "\n",
    "plt.legend(loc='lower right')\n",
    "plt.scatter(X[1, :], Y, edgecolors='black', s=30, alpha=0.7)\n",
    "plt.ylim([0, 2000])\n",
    "plt.xlim([0, 200])"
   ]
  },
  {
   "cell_type": "code",
   "execution_count": null,
   "metadata": {},
   "outputs": [],
   "source": []
  }
 ],
 "metadata": {
  "kernelspec": {
   "display_name": "Python 3",
   "language": "python",
   "name": "python3"
  },
  "language_info": {
   "codemirror_mode": {
    "name": "ipython",
    "version": 3
   },
   "file_extension": ".py",
   "mimetype": "text/x-python",
   "name": "python",
   "nbconvert_exporter": "python",
   "pygments_lexer": "ipython3",
   "version": "3.7.3"
  }
 },
 "nbformat": 4,
 "nbformat_minor": 4
}
