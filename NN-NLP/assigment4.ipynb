{
  "cells": [
    {
      "cell_type": "markdown",
      "id": "5ef34449",
      "metadata": {
        "id": "5ef34449"
      },
      "source": [
        "### Assigment 4\n",
        "\n",
        "**Submission deadlines**:\n",
        "\n",
        "* get at least 4 points by 17.05.2023\n",
        "* remaining points: last lab session before or on 26.05.2023\n",
        "\n",
        "**Points:** Aim to get 12 out of 15+ possible points\n",
        "\n",
        "All needed data files should be on Drive: <https://drive.google.com/drive/folders/1HaMbhzaBxxNa_z_QJXSDCbv5VddmhVVZ?usp=sharing> \n",
        "\n"
      ]
    },
    {
      "cell_type": "code",
      "source": [
        "!ls"
      ],
      "metadata": {
        "colab": {
          "base_uri": "https://localhost:8080/"
        },
        "id": "eIzFKEWqDGo_",
        "outputId": "a04d5b0d-b9ae-443f-97f0-40881f884de8"
      },
      "id": "eIzFKEWqDGo_",
      "execution_count": 3,
      "outputs": [
        {
          "output_type": "stream",
          "name": "stdout",
          "text": [
            "'Assigment 4-20230526T031220Z-001.zip'\t task3_polish_lower.txt.gz\n",
            " sample_data\t\t\t\t task3_polish_upper.txt.gz\n"
          ]
        }
      ]
    },
    {
      "cell_type": "markdown",
      "source": [
        "## Task 1 (5 points)\n",
        "\n",
        "Implement simplified word2vec with negative sampling from scratch (using pure numpy). Assume that in the training data objects and contexts are given explicitly, one pair per line, and objects are on the left. The result of the training should be object vectors. Please, write them to a file using *natural* text format, ie\n",
        "\n",
        "<pre>\n",
        "word1 x1_1 x1_2 ... x1_N \n",
        "word2 x2_1 x2_2 ... x2_N\n",
        "...\n",
        "wordK xK_1 xK_2 ... xk_N\n",
        "</pre>\n",
        "\n",
        "Use the loss from Slide 25 in Lecture NLP.01, compute the gradient manually. You can use some gradient clipping, or regularisation. \n",
        "\n",
        "**Remark**: the data is specially prepared to make the learning process easier. \n",
        "Present vectors using the code below. In this task we define success as 'obtaining a result which looks definitely not random'"
      ],
      "metadata": {
        "id": "zCQSi6DcDBKL"
      },
      "id": "zCQSi6DcDBKL"
    },
    {
      "cell_type": "code",
      "execution_count": null,
      "id": "7ae909d9",
      "metadata": {
        "id": "7ae909d9"
      },
      "outputs": [],
      "source": [
        "from gensim.models import KeyedVectors\n",
        "task1_wv = KeyedVectors.load_word2vec_format('task1_w2v_vectors.txt', binary=False)\n",
        "\n",
        "example_english_words = ['dog', 'dragon', 'love', 'bicycle', 'marathon', 'logic', 'butterfly']  # replace, or add your own examples\n",
        "example_polish_words = ['pies', 'smok', 'miłość', 'rower', 'maraton', 'logika', 'motyl']\n",
        "\n",
        "example_words = example_polish_words\n",
        "\n",
        "for w0 in example_words:\n",
        "    print ('WORD:', w)\n",
        "    for w, v in task1_wv.most_similar(w0):\n",
        "        print ('   ', w, v)\n",
        "    print ()"
      ]
    },
    {
      "cell_type": "markdown",
      "id": "41228961",
      "metadata": {
        "id": "41228961"
      },
      "source": [
        "## Task 2 (4 points)\n",
        "\n",
        "Your task is to train the embeddings for Simple Wikipedia titles, using gensim library. As the example below shows, training is really simple:\n",
        "\n",
        "```python\n",
        "from gensim.test.utils import common_texts\n",
        "from gensim.models import Word2Vec\n",
        "model = Word2Vec(sentences=common_texts, vector_size=100, window=5, min_count=1, workers=4)\n",
        "model.save(\"word2vec.model\")\n",
        "```\n",
        "*sentences* can be a list of list of tokens, you can also use *gensim.models.word2vec.LineSentence(source)* to create restartable iterator from file. At first, use [this file] containing such pairs of titles, that one article links to another.\n",
        "\n",
        "We say that two titles are *related* if they both contain a word (or a word bigram) which is not very popular (it occurs only in several titles). Make this definition more precise, and create the corpora which contains pairs of related titles. Make a mixture of the original corpora, and the new one, then train title vectors again.\n",
        "\n",
        "Compare these two approaches using similar code to the code from Task 1."
      ]
    },
    {
      "cell_type": "code",
      "execution_count": null,
      "id": "2f6ad8e4",
      "metadata": {
        "id": "2f6ad8e4"
      },
      "outputs": [],
      "source": [
        "# The cell for your presentation"
      ]
    },
    {
      "cell_type": "markdown",
      "id": "d711fdca",
      "metadata": {
        "id": "d711fdca"
      },
      "source": [
        "# Task 3 (4 points)\n",
        "\n",
        "Suppose that we have two languages: Upper and Lower. This is an example Upper sentence:\n",
        "\n",
        "<pre>\n",
        "THE QUICK BROWN FOX JUMPS OVER THE LAZY DOG.\n",
        "</pre>\n",
        "\n",
        "And this is its translation into Lower:\n",
        "\n",
        "<pre>\n",
        "the quick brown fox jumps over the lazy dog\n",
        "</pre>\n",
        "\n",
        "You have two corpora for these languages (with different sentences). Your task is to train word embedings for both languages together, so as to make embeddings of the words which are its translations as close as possible. But unfortunately, you have the budget which allows you to prepare the translation only for 1000 words (we call it D, you have to deside which words you want to be in D)\n",
        "\n",
        "Prepare the corpora wich contains three kind of sentences:\n",
        "* Upper corpus sentences\n",
        "* Lower corpus sentences\n",
        "* sentences derived from Upper/Lower corpus, modified using D\n",
        "\n",
        "There are many possible ways of doing this, for instance this one (ROT13.COM: hfr rirel fragrapr sebz obgu pbecben gjvpr: jvgubhg nal zbqvsvpngvbaf, naq jvgu rirel jbeqf sebz Q ercynprq ol vgf genafyngvba)\n",
        "\n",
        "We define the score for an Upper WORD as  $\\frac{1}{p}$, where $p$ is a position of its translation in the list of **Lower** words most similar to WORD. For instance, when most similar words to DOG are:\n",
        "\n",
        "<pre>\n",
        "WOLF, CAT, WOLVES, LION, gopher, dog\n",
        "</pre>\n",
        "\n",
        "then the score for the word DOG is 0.5. Compute the average score separately for words from D, and for words out of D (hint: if the computation takes to much time do it for a random sample).\n"
      ]
    },
    {
      "cell_type": "code",
      "source": [
        "file_lower = \"task3_polish_lower.txt.gz\"\n",
        "file_upper = \"task3_polish_upper.txt.gz\""
      ],
      "metadata": {
        "id": "0l_NXXnrEXw0"
      },
      "id": "0l_NXXnrEXw0",
      "execution_count": 4,
      "outputs": []
    },
    {
      "cell_type": "code",
      "source": [
        "!gzip -d task3_polish_lower.txt.gz && gzip -d task3_polish_upper.txt.gz"
      ],
      "metadata": {
        "id": "IIiI80sKEcpm"
      },
      "id": "IIiI80sKEcpm",
      "execution_count": 5,
      "outputs": []
    },
    {
      "cell_type": "code",
      "source": [
        "!ls"
      ],
      "metadata": {
        "colab": {
          "base_uri": "https://localhost:8080/"
        },
        "id": "dLmyAiFVE-2n",
        "outputId": "15d0f1af-0399-4e07-dfb8-aa01c45cf4f1"
      },
      "id": "dLmyAiFVE-2n",
      "execution_count": 6,
      "outputs": [
        {
          "output_type": "stream",
          "name": "stdout",
          "text": [
            "'Assigment 4-20230526T031220Z-001.zip'\t task3_polish_lower.txt\n",
            " sample_data\t\t\t\t task3_polish_upper.txt\n"
          ]
        }
      ]
    },
    {
      "cell_type": "code",
      "source": [
        "from collections import Counter\n",
        "from random import sample\n",
        "from gensim.models import Word2Vec\n",
        "from tqdm import tqdm"
      ],
      "metadata": {
        "id": "vB41Ho13xc3Q"
      },
      "id": "vB41Ho13xc3Q",
      "execution_count": 8,
      "outputs": []
    },
    {
      "cell_type": "markdown",
      "source": [
        "### Reading the data"
      ],
      "metadata": {
        "id": "TPtS-k72FClp"
      },
      "id": "TPtS-k72FClp"
    },
    {
      "cell_type": "code",
      "source": [
        "%%time\n",
        "upper_words = set()\n",
        "all_line_words = []\n",
        "corpus = []\n",
        "\n",
        "with open(\"task3_polish_lower.txt\", \"r\") as f:\n",
        "    for line in f.readlines():\n",
        "        line_words = line.split()\n",
        "        all_line_words += line_words\n",
        "\n",
        "with open(\"task3_polish_upper.txt\", \"r\") as f:\n",
        "    for line in f.readlines():\n",
        "        line_words = line.split()\n",
        "        for word in line_words:\n",
        "            upper_words.add(word)\n",
        "\n",
        "        corpus.append(line_words)\n",
        "        line_words = [word.lower() for word in line_words]\n",
        "        all_line_words += line_words\n",
        "\n",
        "all_line_words = Counter(all_line_words)"
      ],
      "metadata": {
        "colab": {
          "base_uri": "https://localhost:8080/"
        },
        "id": "FMuRQe6BCexa",
        "outputId": "95dba375-1ab7-472f-e549-281feaed6d54"
      },
      "id": "FMuRQe6BCexa",
      "execution_count": 19,
      "outputs": [
        {
          "output_type": "stream",
          "name": "stdout",
          "text": [
            "CPU times: user 22.9 s, sys: 1.93 s, total: 24.8 s\n",
            "Wall time: 25.8 s\n"
          ]
        }
      ]
    },
    {
      "cell_type": "code",
      "source": [
        "len(all_line_words)"
      ],
      "metadata": {
        "colab": {
          "base_uri": "https://localhost:8080/"
        },
        "id": "FyApkFe_CeIG",
        "outputId": "5e2ff541-127a-4af0-e159-81372d77fca3"
      },
      "id": "FyApkFe_CeIG",
      "execution_count": 20,
      "outputs": [
        {
          "output_type": "execute_result",
          "data": {
            "text/plain": [
              "29877"
            ]
          },
          "metadata": {},
          "execution_count": 20
        }
      ]
    },
    {
      "cell_type": "code",
      "source": [
        "%%time\n",
        "D_size = 1000\n",
        "min_word_length = 4\n",
        "top_words = set()\n",
        "\n",
        "for word, word_count in all_line_words.most_common():\n",
        "    if len(word) >= min_word_length:\n",
        "        top_words.add(word.lower())\n",
        "        \n",
        "    if len(top_words) >= D_size:\n",
        "        break"
      ],
      "metadata": {
        "colab": {
          "base_uri": "https://localhost:8080/"
        },
        "id": "m0xM7AsaF8lg",
        "outputId": "28eff314-35c4-4dd1-c3ac-0a9f3291574d"
      },
      "id": "m0xM7AsaF8lg",
      "execution_count": 21,
      "outputs": [
        {
          "output_type": "stream",
          "name": "stdout",
          "text": [
            "CPU times: user 26.4 ms, sys: 1e+03 µs, total: 27.4 ms\n",
            "Wall time: 31.5 ms\n"
          ]
        }
      ]
    },
    {
      "cell_type": "code",
      "source": [
        "D_lower, D_upper = {}, {}\n",
        "\n",
        "for w in top_words:\n",
        "    wu = w.upper()\n",
        "    wl = w.lower()\n",
        "    D_lower[wu] = wl\n",
        "    D_upper[wl] = wu"
      ],
      "metadata": {
        "id": "RHc6nb9NJjeh"
      },
      "id": "RHc6nb9NJjeh",
      "execution_count": 22,
      "outputs": []
    },
    {
      "cell_type": "code",
      "source": [
        "list(D_upper.items())[:6], list(D_lower.items())[:6]"
      ],
      "metadata": {
        "colab": {
          "base_uri": "https://localhost:8080/"
        },
        "id": "GRitGXsuGKCd",
        "outputId": "c28b0bff-56e8-47bc-8213-3354cc3c4a22"
      },
      "id": "GRitGXsuGKCd",
      "execution_count": 23,
      "outputs": [
        {
          "output_type": "execute_result",
          "data": {
            "text/plain": [
              "([('sektor', 'SEKTOR'),\n",
              "  ('izba', 'IZBA'),\n",
              "  ('czynność', 'CZYNNOŚĆ'),\n",
              "  ('obowiązek', 'OBOWIĄZEK'),\n",
              "  ('ubezpieczenie', 'UBEZPIECZENIE'),\n",
              "  ('dobro_dobrze', 'DOBRO_DOBRZE')],\n",
              " [('SEKTOR', 'sektor'),\n",
              "  ('IZBA', 'izba'),\n",
              "  ('CZYNNOŚĆ', 'czynność'),\n",
              "  ('OBOWIĄZEK', 'obowiązek'),\n",
              "  ('UBEZPIECZENIE', 'ubezpieczenie'),\n",
              "  ('DOBRO_DOBRZE', 'dobro_dobrze')])"
            ]
          },
          "metadata": {},
          "execution_count": 23
        }
      ]
    },
    {
      "cell_type": "code",
      "source": [
        "%%time\n",
        "with open(\"task3_polish_lower.txt\", \"r\") as f:\n",
        "    for line in f.readlines():\n",
        "        line_words = line.split()\n",
        "        line_words = [D_upper.get(word, word) for word in line_words]\n",
        "        corpus.append(line_words)\n",
        "\n",
        "with open(\"task3_polish_upper.txt\", \"r\") as f:\n",
        "    for line in f.readlines():\n",
        "        line_words = line.split()\n",
        "        line_words = [D_lower.get(word, word) for word in line_words]\n",
        "        corpus.append(line_words)"
      ],
      "metadata": {
        "colab": {
          "base_uri": "https://localhost:8080/"
        },
        "id": "POtndAbGGTtr",
        "outputId": "3c918949-bbc6-4241-80de-694bf6dc236e"
      },
      "id": "POtndAbGGTtr",
      "execution_count": 24,
      "outputs": [
        {
          "output_type": "stream",
          "name": "stdout",
          "text": [
            "CPU times: user 13.3 s, sys: 141 ms, total: 13.5 s\n",
            "Wall time: 13.8 s\n"
          ]
        }
      ]
    },
    {
      "cell_type": "code",
      "source": [
        "task3_model = Word2Vec(\n",
        "    sentences=corpus, \n",
        "    vector_size=100, \n",
        "    window=5, \n",
        "    min_count=1, \n",
        "    workers=4, \n",
        "    sg=1\n",
        ")"
      ],
      "metadata": {
        "id": "CuJl5J1bGXTr"
      },
      "id": "CuJl5J1bGXTr",
      "execution_count": 15,
      "outputs": []
    },
    {
      "cell_type": "code",
      "source": [
        "task3_model.wv.most_similar(\"SEKTOR\", topn=5)"
      ],
      "metadata": {
        "colab": {
          "base_uri": "https://localhost:8080/"
        },
        "id": "e-e0nECJGtFv",
        "outputId": "8891fcf4-f112-490c-be19-7cdb76a9f767"
      },
      "id": "e-e0nECJGtFv",
      "execution_count": 25,
      "outputs": [
        {
          "output_type": "execute_result",
          "data": {
            "text/plain": [
              "[('PRZEDSIĘBIORSTWO', 0.8303931355476379),\n",
              " ('branża', 0.7982797026634216),\n",
              " ('mśp', 0.7803087830543518),\n",
              " ('rolno-spożywczego', 0.7764489054679871),\n",
              " ('inwestujący', 0.7649809718132019)]"
            ]
          },
          "metadata": {},
          "execution_count": 25
        }
      ]
    },
    {
      "cell_type": "markdown",
      "source": [
        "### Score words in D"
      ],
      "metadata": {
        "id": "MBR3EVniG6aa"
      },
      "id": "MBR3EVniG6aa"
    },
    {
      "cell_type": "code",
      "source": [
        "def get_similar_words(fetch_topn: int, word: str) -> list[str]:\n",
        "    return [\n",
        "        result[0] \n",
        "        for result in task3_model.wv.most_similar(word, topn=fetch_topn)\n",
        "    ]"
      ],
      "metadata": {
        "id": "rtKaz_A1LuFr"
      },
      "id": "rtKaz_A1LuFr",
      "execution_count": 33,
      "outputs": []
    },
    {
      "cell_type": "code",
      "source": [
        "%%time\n",
        "\n",
        "score_in_D = 0\n",
        "fetch_topn = 50\n",
        "\n",
        "for w in top_words:\n",
        "    similar_words = get_similar_words(word=w.upper(), fetch_topn=fetch_topn)\n",
        "    for i, word in enumerate(similar_words):\n",
        "        if word == word.lower():\n",
        "            score_in_D += 1.0 / (i + 1)\n",
        "            break\n",
        "\n",
        "print(f\"{score_in_D / 10 :.2f}%\")"
      ],
      "metadata": {
        "colab": {
          "base_uri": "https://localhost:8080/"
        },
        "id": "oN7MabU0G5iA",
        "outputId": "2a374f09-b2f8-4f5c-b08f-0ca117b8284f"
      },
      "id": "oN7MabU0G5iA",
      "execution_count": 35,
      "outputs": [
        {
          "output_type": "stream",
          "name": "stdout",
          "text": [
            "78.24%\n",
            "CPU times: user 6.11 s, sys: 1.41 s, total: 7.52 s\n",
            "Wall time: 5.78 s\n"
          ]
        }
      ]
    },
    {
      "cell_type": "markdown",
      "source": [
        "### Score words not in D"
      ],
      "metadata": {
        "id": "ko3KN70wHClJ"
      },
      "id": "ko3KN70wHClJ"
    },
    {
      "cell_type": "code",
      "source": [
        "%%time\n",
        "score_not_in_D = 0\n",
        "fetch_topn = 800\n",
        "n_samples = 10000\n",
        "\n",
        "words_not_in_d = [\n",
        "    word for word in upper_words if word.lower() not in top_words\n",
        "]\n",
        "\n",
        "words_sample = sample(words_not_in_d, n_samples)\n",
        "for w in tqdm(words_sample):\n",
        "    similar_words = get_similar_words(word=w.upper(), fetch_topn=fetch_topn)\n",
        "    for i, word in enumerate(similar_words):\n",
        "        if word == word.lower():\n",
        "            score_not_in_D += 1.0 / (i + 1)\n",
        "            break\n"
      ],
      "metadata": {
        "colab": {
          "base_uri": "https://localhost:8080/"
        },
        "id": "q3aHcQC0G-11",
        "outputId": "04d64d0c-1e75-476f-d269-9853250fff9d"
      },
      "id": "q3aHcQC0G-11",
      "execution_count": 46,
      "outputs": [
        {
          "output_type": "stream",
          "name": "stderr",
          "text": [
            "100%|██████████| 10000/10000 [01:23<00:00, 119.51it/s]"
          ]
        },
        {
          "output_type": "stream",
          "name": "stdout",
          "text": [
            "CPU times: user 1min 36s, sys: 38.5 s, total: 2min 14s\n",
            "Wall time: 1min 23s\n"
          ]
        },
        {
          "output_type": "stream",
          "name": "stderr",
          "text": [
            "\n"
          ]
        }
      ]
    },
    {
      "cell_type": "code",
      "source": [
        "print(f\"{score_not_in_D / n_samples * 100 :.2f}%\")"
      ],
      "metadata": {
        "colab": {
          "base_uri": "https://localhost:8080/"
        },
        "id": "7sjFiTIWM1qm",
        "outputId": "ab34a4fa-b8c6-4688-8f04-3e99235d85ec"
      },
      "id": "7sjFiTIWM1qm",
      "execution_count": 48,
      "outputs": [
        {
          "output_type": "stream",
          "name": "stdout",
          "text": [
            "14.24%\n"
          ]
        }
      ]
    },
    {
      "cell_type": "markdown",
      "id": "4947e307",
      "metadata": {
        "id": "4947e307"
      },
      "source": [
        "# Task 4 (4 points)\n",
        "\n",
        "In this task you are asked to do two things:\n",
        "1. compare the embeddings computed on small corpus (like Brown Corpus , see: <https://en.wikipedia.org/wiki/Brown_Corpus>) with the ones coming from Google News Corpus\n",
        "2. Try to use other resourses like WordNet to enrich to corpus, and obtain better embeddings\n",
        "\n",
        "You can use the following code snippets:\n",
        "\n",
        "```python\n",
        "# printing tokenized Brown Corpora\n",
        "from nltk.corpus import brown\n",
        "for s in brown.sents():\n",
        "    print(*s)\n",
        "    \n",
        "#iterating over all synsets in WordNet\n",
        "from nltk.corpus import wordnet as wn\n",
        "\n",
        "for synset_type in 'avrns': # n == noun, v == verb, ...\n",
        "    for synset in list(wn.all_synsets(synset_type)))[:10]:\n",
        "        print (synset.definition())\n",
        "        print (synset.examples())\n",
        "        print ([lem.name() for lem in synset.lemmas()])\n",
        "        print (synset.hyperonims()) # nodes 1 level up in ontology\n",
        "        \n",
        "# loading model and compute cosine similarity between words\n",
        "\n",
        "model = Word2Vec.load('models/w2v.wordnet5.model') \n",
        "print (model.wv.similarity('dog', 'cat'))\n",
        "```\n",
        "\n",
        "Embeddings will be tested using WordSim-353 dataset, the code showing the quality is in the cell below. Prepare the following corpora:\n",
        "1. Tokenized Brown Corpora\n",
        "2. Definitions and examples from Princeton WordNet\n",
        "3. (1) and (2) together\n",
        "4. (3) enriched with pseudosentences containing (a subset) of WordNet knowledge (such as 'tiger is a carnivore')\n",
        "\n",
        "Train 4 Word2Vec models, and raport Spearman correletion between similarities based on your vectors, and similarities based on human judgements.\n",
        "\n"
      ]
    },
    {
      "cell_type": "code",
      "execution_count": null,
      "id": "947a2fbc",
      "metadata": {
        "id": "947a2fbc"
      },
      "outputs": [],
      "source": [
        "# Code for computing correlation between W2V similarity, and human judgements\n",
        "\n",
        "import gensim.downloader\n",
        "from scipy.stats import spearmanr\n",
        "\n",
        "gn = gensim.downloader.load('word2vec-google-news-300')\n",
        "\n",
        "for similarity_type in ['relatedness', 'similarity']:\n",
        "    ws353 = []\n",
        "    for x in open(f'wordsim_{similarity_type}_goldstandard.txt'): \n",
        "        a,b,val = x.split()\n",
        "        val = float(val)\n",
        "        ws353.append( (a,b,val))\n",
        "    # spearmanr returns 2 vallues: correlation and pval. pval should be close to zero\n",
        "    print (similarity_type + ':', spearmanr(vals, ys)) "
      ]
    },
    {
      "cell_type": "code",
      "source": [
        "import nltk\n",
        "import shutil\n",
        "import string\n",
        "import gensim\n",
        "import gensim.downloader\n",
        "\n",
        "from tqdm import tqdm\n",
        "\n",
        "from nltk.corpus import wordnet as wn\n",
        "from nltk.corpus import brown\n",
        "\n",
        "from scipy.stats import spearmanr\n",
        "from sklearn.metrics.pairwise import cosine_similarity "
      ],
      "metadata": {
        "id": "tLsjRTksOeju"
      },
      "id": "tLsjRTksOeju",
      "execution_count": 1,
      "outputs": []
    },
    {
      "cell_type": "code",
      "source": [
        "%%time\n",
        "nltk.download('brown')\n",
        "nltk.download('wordnet')\n",
        "nltk.download('omw-1.4')"
      ],
      "metadata": {
        "colab": {
          "base_uri": "https://localhost:8080/"
        },
        "id": "sqQQmXM1Oh_6",
        "outputId": "224cbb96-beaf-47bf-87f7-12ff12549529"
      },
      "id": "sqQQmXM1Oh_6",
      "execution_count": 2,
      "outputs": [
        {
          "output_type": "stream",
          "name": "stderr",
          "text": [
            "[nltk_data] Downloading package brown to /root/nltk_data...\n",
            "[nltk_data]   Unzipping corpora/brown.zip.\n",
            "[nltk_data] Downloading package wordnet to /root/nltk_data...\n",
            "[nltk_data] Downloading package omw-1.4 to /root/nltk_data...\n"
          ]
        },
        {
          "output_type": "stream",
          "name": "stdout",
          "text": [
            "CPU times: user 186 ms, sys: 124 ms, total: 310 ms\n",
            "Wall time: 704 ms\n"
          ]
        },
        {
          "output_type": "execute_result",
          "data": {
            "text/plain": [
              "True"
            ]
          },
          "metadata": {},
          "execution_count": 2
        }
      ]
    },
    {
      "cell_type": "markdown",
      "source": [
        "### Brown vs Google News"
      ],
      "metadata": {
        "id": "h7AhbtPKOaQi"
      },
      "id": "h7AhbtPKOaQi"
    },
    {
      "cell_type": "code",
      "source": [
        "!gdown \"0B7XkCwpI5KDYNlNUTTlSS21pQmM\""
      ],
      "metadata": {
        "colab": {
          "base_uri": "https://localhost:8080/"
        },
        "id": "5tObhu8zk45c",
        "outputId": "23675b48-de0d-411c-e65b-11b8ef2d584e"
      },
      "id": "5tObhu8zk45c",
      "execution_count": 3,
      "outputs": [
        {
          "output_type": "stream",
          "name": "stdout",
          "text": [
            "Downloading...\n",
            "From: https://drive.google.com/uc?id=0B7XkCwpI5KDYNlNUTTlSS21pQmM\n",
            "To: /content/GoogleNews-vectors-negative300.bin.gz\n",
            "100% 1.65G/1.65G [00:07<00:00, 234MB/s]\n"
          ]
        }
      ]
    },
    {
      "cell_type": "code",
      "source": [
        "google_news = gensim.models.KeyedVectors.load_word2vec_format(\n",
        "    'GoogleNews-vectors-negative300.bin.gz', binary=True\n",
        ")"
      ],
      "metadata": {
        "id": "93Cp_tKOOcG-"
      },
      "id": "93Cp_tKOOcG-",
      "execution_count": 4,
      "outputs": []
    },
    {
      "cell_type": "code",
      "source": [
        "%%time\n",
        "# remove punctuation and create brown corpus\n",
        "\n",
        "brown_corpus = []\n",
        "for sent in brown.sents():\n",
        "    sent =  ' '.join(sent)\n",
        "    sent = sent.translate(str.maketrans('', '', string.punctuation))\n",
        "    sent = sent.split()\n",
        "    sent = [i.lower() for i in sent]\n",
        "    brown_corpus.append(sent)"
      ],
      "metadata": {
        "colab": {
          "base_uri": "https://localhost:8080/"
        },
        "id": "_u04IxkIlGGa",
        "outputId": "826f36ef-035a-4f3a-ec7a-2457b8ad0d37"
      },
      "id": "_u04IxkIlGGa",
      "execution_count": 6,
      "outputs": [
        {
          "output_type": "stream",
          "name": "stdout",
          "text": [
            "CPU times: user 3.81 s, sys: 99.6 ms, total: 3.91 s\n",
            "Wall time: 4.44 s\n"
          ]
        }
      ]
    },
    {
      "cell_type": "code",
      "source": [
        "%%time\n",
        "brown_corpus_model = Word2Vec(\n",
        "    sentences=brown_corpus, \n",
        "    vector_size=100, \n",
        "    window=5, \n",
        "    min_count=1, \n",
        "    workers=4, \n",
        "    sg=1\n",
        ")"
      ],
      "metadata": {
        "colab": {
          "base_uri": "https://localhost:8080/"
        },
        "id": "ByXX39FxlPaY",
        "outputId": "d2995809-7cc9-4d5a-e503-96678de24e03"
      },
      "id": "ByXX39FxlPaY",
      "execution_count": 9,
      "outputs": [
        {
          "output_type": "stream",
          "name": "stdout",
          "text": [
            "CPU times: user 47.9 s, sys: 125 ms, total: 48 s\n",
            "Wall time: 30.1 s\n"
          ]
        }
      ]
    },
    {
      "cell_type": "code",
      "source": [
        "!ls"
      ],
      "metadata": {
        "colab": {
          "base_uri": "https://localhost:8080/"
        },
        "id": "UIJ7ToWbl7ph",
        "outputId": "29979cf1-4ba0-4da4-d3e3-7bc41abcf3b8"
      },
      "id": "UIJ7ToWbl7ph",
      "execution_count": 10,
      "outputs": [
        {
          "output_type": "stream",
          "name": "stdout",
          "text": [
            "GoogleNews-vectors-negative300.bin.gz\n",
            "sample_data\n",
            "task4_wordsim_relatedness_goldstandard.txt\n",
            "task4_wordsim_similarity_goldstandard.txt\n"
          ]
        }
      ]
    },
    {
      "cell_type": "code",
      "source": [
        "# compare models using goldstandard\n",
        "\n",
        "def evaluate(model):\n",
        "    for t in (\n",
        "        \"task4_wordsim_relatedness_goldstandard.txt\",\n",
        "        \"task4_wordsim_similarity_goldstandard.txt\"\n",
        "    ):\n",
        "        similarities_vectors = []\n",
        "        similarities_human = []\n",
        "        with open(t) as f:\n",
        "            for line in f.readlines():\n",
        "                line_split = line.split()\n",
        "                x = line_split[0].lower()\n",
        "                y = line_split[1].lower()\n",
        "                v = float(line_split[2])\n",
        "\n",
        "                if all((x in model, y in model)):\n",
        "                    similarities_human.append(v)\n",
        "                    similarities_vectors.append(\n",
        "                        cosine_similarity(\n",
        "                            model[x].reshape(1,-1), \n",
        "                            model[y].reshape(1,-1)\n",
        "                        )[0,0]\n",
        "                    )\n",
        "        score = spearmanr(similarities_vectors, similarities_human)\n",
        "        print(f\"Result {t[6:-5]} score: {score}\")\n",
        "                "
      ],
      "metadata": {
        "id": "C9AbICsQloiK"
      },
      "id": "C9AbICsQloiK",
      "execution_count": 26,
      "outputs": []
    },
    {
      "cell_type": "code",
      "source": [
        "evaluate(model=brown_corpus_model.wv)"
      ],
      "metadata": {
        "colab": {
          "base_uri": "https://localhost:8080/"
        },
        "id": "-jfipLmtmjtv",
        "outputId": "da56c826-ddb9-4b1b-8e9e-b1e324ef67e4"
      },
      "id": "-jfipLmtmjtv",
      "execution_count": 27,
      "outputs": [
        {
          "output_type": "stream",
          "name": "stdout",
          "text": [
            "Result wordsim_relatedness_goldstandar score: SignificanceResult(statistic=0.15864483117650194, pvalue=0.015352496557146414)\n",
            "Result wordsim_similarity_goldstandar score: SignificanceResult(statistic=0.2959432553861848, pvalue=3.9169315228460296e-05)\n"
          ]
        }
      ]
    },
    {
      "cell_type": "code",
      "source": [
        "evaluate(model=google_news)"
      ],
      "metadata": {
        "colab": {
          "base_uri": "https://localhost:8080/"
        },
        "id": "qwSXuf4toQ6s",
        "outputId": "4f22dbfd-c397-48a0-b7dd-31363517c118"
      },
      "id": "qwSXuf4toQ6s",
      "execution_count": 29,
      "outputs": [
        {
          "output_type": "stream",
          "name": "stdout",
          "text": [
            "Result wordsim_relatedness_goldstandar score: SignificanceResult(statistic=0.6219276471962092, pvalue=3.7240687603511443e-28)\n",
            "Result wordsim_similarity_goldstandar score: SignificanceResult(statistic=0.7771097696126599, pvalue=4.360432258522682e-42)\n"
          ]
        }
      ]
    },
    {
      "cell_type": "markdown",
      "source": [
        "### Enriched with pseudosentences from WordNet"
      ],
      "metadata": {
        "id": "XgmVQMVvoX2N"
      },
      "id": "XgmVQMVvoX2N"
    },
    {
      "cell_type": "code",
      "source": [
        "%%time\n",
        "wn_corpus = []\n",
        "for synset_type in tqdm('avrns'): # n == noun, v == verb, ...\n",
        "    for synset in list(wn.all_synsets(synset_type)):\n",
        "        defintion = synset.definition()\n",
        "        defintion = defintion.translate(\n",
        "            str.maketrans('', '', string.punctuation)\n",
        "        )\n",
        "        defintion = defintion.split()\n",
        "        defintion = [i.lower() for i in defintion]\n",
        "        wn_corpus.append(defintion)\n",
        "        for example in synset.examples():\n",
        "            example = example.translate(\n",
        "                str.maketrans('', '', string.punctuation)\n",
        "            )\n",
        "            example = example.split()\n",
        "            example = [i.lower() for i in example]\n",
        "            wn_corpus.append(example)"
      ],
      "metadata": {
        "colab": {
          "base_uri": "https://localhost:8080/"
        },
        "id": "z05Q9p-9odpQ",
        "outputId": "64c5d9c7-19d0-495c-89da-91dbd1b91523"
      },
      "id": "z05Q9p-9odpQ",
      "execution_count": 31,
      "outputs": [
        {
          "output_type": "stream",
          "name": "stderr",
          "text": [
            "100%|██████████| 5/5 [00:06<00:00,  1.28s/it]"
          ]
        },
        {
          "output_type": "stream",
          "name": "stdout",
          "text": [
            "CPU times: user 5.92 s, sys: 471 ms, total: 6.39 s\n",
            "Wall time: 6.4 s\n"
          ]
        },
        {
          "output_type": "stream",
          "name": "stderr",
          "text": [
            "\n"
          ]
        }
      ]
    },
    {
      "cell_type": "code",
      "source": [
        "%%time\n",
        "wordnet_model = Word2Vec(\n",
        "    sentences=wn_corpus, \n",
        "    vector_size=100, \n",
        "    window=5, \n",
        "    min_count=1, \n",
        "    workers=8, \n",
        "    sg=1\n",
        ")"
      ],
      "metadata": {
        "colab": {
          "base_uri": "https://localhost:8080/"
        },
        "id": "fh4H-QVUo3MY",
        "outputId": "e68a9265-4980-4787-f250-2c21bc7442da"
      },
      "id": "fh4H-QVUo3MY",
      "execution_count": 32,
      "outputs": [
        {
          "output_type": "stream",
          "name": "stdout",
          "text": [
            "CPU times: user 1min 1s, sys: 239 ms, total: 1min 2s\n",
            "Wall time: 41.2 s\n"
          ]
        }
      ]
    },
    {
      "cell_type": "code",
      "source": [
        "evaluate(model=wordnet_model.wv)"
      ],
      "metadata": {
        "colab": {
          "base_uri": "https://localhost:8080/"
        },
        "id": "3LvHYV_-o_GG",
        "outputId": "4ae4f1ae-9667-4b09-d1f4-ff10ae3449ac"
      },
      "id": "3LvHYV_-o_GG",
      "execution_count": 33,
      "outputs": [
        {
          "output_type": "stream",
          "name": "stdout",
          "text": [
            "Result wordsim_relatedness_goldstandar score: SignificanceResult(statistic=0.2598249075571557, pvalue=3.312448690865059e-05)\n",
            "Result wordsim_similarity_goldstandar score: SignificanceResult(statistic=0.43692677652125295, pvalue=1.103805652074943e-10)\n"
          ]
        }
      ]
    },
    {
      "cell_type": "markdown",
      "source": [
        "### WordNet + Brown"
      ],
      "metadata": {
        "id": "K-coBeSFpE5d"
      },
      "id": "K-coBeSFpE5d"
    },
    {
      "cell_type": "code",
      "source": [
        "%%time\n",
        "wn_brown_corpus = brown_corpus + wn_corpus\n",
        "\n",
        "wordnet_brown_model = Word2Vec(\n",
        "    sentences=wn_brown_corpus, \n",
        "    vector_size=100, \n",
        "    window=5, \n",
        "    min_count=1, \n",
        "    workers=8, \n",
        "    sg=1\n",
        ")"
      ],
      "metadata": {
        "colab": {
          "base_uri": "https://localhost:8080/"
        },
        "id": "fJjCvPF6pC5S",
        "outputId": "9a7c23df-37cb-45b4-fecc-b69b8db01d00"
      },
      "id": "fJjCvPF6pC5S",
      "execution_count": 34,
      "outputs": [
        {
          "output_type": "stream",
          "name": "stdout",
          "text": [
            "CPU times: user 1min 57s, sys: 389 ms, total: 1min 57s\n",
            "Wall time: 1min 13s\n"
          ]
        }
      ]
    },
    {
      "cell_type": "code",
      "source": [
        "evaluate(model=wordnet_brown_model.wv)"
      ],
      "metadata": {
        "colab": {
          "base_uri": "https://localhost:8080/"
        },
        "id": "z2g_ooscpd9m",
        "outputId": "cc358b6b-136d-4663-b0b5-654e41ee07a2"
      },
      "id": "z2g_ooscpd9m",
      "execution_count": 35,
      "outputs": [
        {
          "output_type": "stream",
          "name": "stdout",
          "text": [
            "Result wordsim_relatedness_goldstandar score: SignificanceResult(statistic=0.2719258321709995, pvalue=1.2468971184402208e-05)\n",
            "Result wordsim_similarity_goldstandar score: SignificanceResult(statistic=0.4849921853813924, pvalue=2.583534627470877e-13)\n"
          ]
        }
      ]
    },
    {
      "cell_type": "markdown",
      "source": [
        "### WordNet + Brown + Fake sentences from WordNet"
      ],
      "metadata": {
        "id": "gNbiT30zpgr-"
      },
      "id": "gNbiT30zpgr-"
    },
    {
      "cell_type": "code",
      "source": [
        "%%time\n",
        "wn_corpus_with_fake = []\n",
        "for synset_type in tqdm('avrns'): # n == noun, v == verb, ...\n",
        "    for synset in list(wn.all_synsets(synset_type)):\n",
        "        defintion = synset.definition()\n",
        "        defintion = defintion.translate(\n",
        "            str.maketrans('', '', string.punctuation)\n",
        "        )\n",
        "        defintion = defintion.split()\n",
        "        defintion = [i.lower() for i in defintion]\n",
        "        wn_corpus_with_fake.append(defintion)\n",
        "        for example in synset.examples():\n",
        "            example = example.translate(\n",
        "                str.maketrans('', '', string.punctuation)\n",
        "            )\n",
        "            example = example.split()\n",
        "            example = [i.lower() for i in example]\n",
        "            wn_corpus_with_fake.append(example)\n",
        "        \n",
        "        # fakes\n",
        "        if len(synset.hypernyms()) > 0:\n",
        "            lem = [lem.name() for lem in synset.lemmas()][0]\n",
        "            hypernyms = [lem.name()[:-5] for lem in synset.hypernyms()]\n",
        "            for hyper in hypernyms:\n",
        "                wn_corpus_with_fake.append(lem + \" is \" + hyper)"
      ],
      "metadata": {
        "colab": {
          "base_uri": "https://localhost:8080/"
        },
        "id": "PAwIrtcWpgdd",
        "outputId": "00ba0934-8440-466f-a793-da971011852f"
      },
      "id": "PAwIrtcWpgdd",
      "execution_count": 36,
      "outputs": [
        {
          "output_type": "stream",
          "name": "stderr",
          "text": [
            "100%|██████████| 5/5 [00:03<00:00,  1.36it/s]"
          ]
        },
        {
          "output_type": "stream",
          "name": "stdout",
          "text": [
            "CPU times: user 3.42 s, sys: 222 ms, total: 3.64 s\n",
            "Wall time: 3.68 s\n"
          ]
        },
        {
          "output_type": "stream",
          "name": "stderr",
          "text": [
            "\n"
          ]
        }
      ]
    },
    {
      "cell_type": "code",
      "source": [
        "%%time\n",
        "wn_fake_brown_corpus = brown_corpus + wn_corpus_with_fake\n",
        "\n",
        "wordnet_fake_brown_model = Word2Vec(\n",
        "    sentences=wn_fake_brown_corpus, \n",
        "    vector_size=100, \n",
        "    window=5, \n",
        "    min_count=1, \n",
        "    workers=8, \n",
        "    sg=1\n",
        ")"
      ],
      "metadata": {
        "colab": {
          "base_uri": "https://localhost:8080/"
        },
        "id": "BsWR_O-GqgoU",
        "outputId": "3a38207a-1452-4d60-e766-b7c6bcdafe27"
      },
      "id": "BsWR_O-GqgoU",
      "execution_count": 37,
      "outputs": [
        {
          "output_type": "stream",
          "name": "stdout",
          "text": [
            "CPU times: user 2min 18s, sys: 571 ms, total: 2min 18s\n",
            "Wall time: 1min 23s\n"
          ]
        }
      ]
    },
    {
      "cell_type": "code",
      "source": [
        "evaluate(model=wordnet_fake_brown_model.wv)"
      ],
      "metadata": {
        "colab": {
          "base_uri": "https://localhost:8080/"
        },
        "id": "h-FUwY6pqmvV",
        "outputId": "a4a28082-3903-4cd1-f75c-eac4f2baef13"
      },
      "id": "h-FUwY6pqmvV",
      "execution_count": 38,
      "outputs": [
        {
          "output_type": "stream",
          "name": "stdout",
          "text": [
            "Result wordsim_relatedness_goldstandar score: SignificanceResult(statistic=0.27356162177594645, pvalue=1.0998403274931192e-05)\n",
            "Result wordsim_similarity_goldstandar score: SignificanceResult(statistic=0.4883773246948573, pvalue=1.6664606694279177e-13)\n"
          ]
        }
      ]
    },
    {
      "cell_type": "markdown",
      "id": "802bd33d",
      "metadata": {
        "id": "802bd33d"
      },
      "source": [
        "# Task 5 (4 points)\n",
        "\n",
        "Do the Problem 1 from old version of [Assigment 4](https://github.com/rnoxy/dl_uwr/blob/summer2023/Assignments/Assignment4.ipynb)"
      ]
    },
    {
      "cell_type": "markdown",
      "source": [
        "https://github.com/TheFebrin/UNIVERSITY/blob/master/Deep%20Learning/Assignments/Assignment5/Assignment5.ipynb"
      ],
      "metadata": {
        "id": "5hFkFQgalBp1"
      },
      "id": "5hFkFQgalBp1"
    }
  ],
  "metadata": {
    "kernelspec": {
      "display_name": "Python 3 (ipykernel)",
      "language": "python",
      "name": "python3"
    },
    "language_info": {
      "codemirror_mode": {
        "name": "ipython",
        "version": 3
      },
      "file_extension": ".py",
      "mimetype": "text/x-python",
      "name": "python",
      "nbconvert_exporter": "python",
      "pygments_lexer": "ipython3",
      "version": "3.10.6"
    },
    "colab": {
      "provenance": []
    }
  },
  "nbformat": 4,
  "nbformat_minor": 5
}