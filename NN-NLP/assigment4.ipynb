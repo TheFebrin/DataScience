{
  "cells": [
    {
      "cell_type": "markdown",
      "id": "5ef34449",
      "metadata": {
        "id": "5ef34449"
      },
      "source": [
        "### Assigment 4\n",
        "\n",
        "**Submission deadlines**:\n",
        "\n",
        "* get at least 4 points by 17.05.2023\n",
        "* remaining points: last lab session before or on 26.05.2023\n",
        "\n",
        "**Points:** Aim to get 12 out of 15+ possible points\n",
        "\n",
        "All needed data files should be on Drive: <https://drive.google.com/drive/folders/1HaMbhzaBxxNa_z_QJXSDCbv5VddmhVVZ?usp=sharing> \n",
        "\n"
      ]
    },
    {
      "cell_type": "code",
      "source": [
        "!ls"
      ],
      "metadata": {
        "colab": {
          "base_uri": "https://localhost:8080/"
        },
        "id": "eIzFKEWqDGo_",
        "outputId": "a04d5b0d-b9ae-443f-97f0-40881f884de8"
      },
      "id": "eIzFKEWqDGo_",
      "execution_count": 3,
      "outputs": [
        {
          "output_type": "stream",
          "name": "stdout",
          "text": [
            "'Assigment 4-20230526T031220Z-001.zip'\t task3_polish_lower.txt.gz\n",
            " sample_data\t\t\t\t task3_polish_upper.txt.gz\n"
          ]
        }
      ]
    },
    {
      "cell_type": "markdown",
      "source": [
        "## Task 1 (5 points)\n",
        "\n",
        "Implement simplified word2vec with negative sampling from scratch (using pure numpy). Assume that in the training data objects and contexts are given explicitly, one pair per line, and objects are on the left. The result of the training should be object vectors. Please, write them to a file using *natural* text format, ie\n",
        "\n",
        "<pre>\n",
        "word1 x1_1 x1_2 ... x1_N \n",
        "word2 x2_1 x2_2 ... x2_N\n",
        "...\n",
        "wordK xK_1 xK_2 ... xk_N\n",
        "</pre>\n",
        "\n",
        "Use the loss from Slide 25 in Lecture NLP.01, compute the gradient manually. You can use some gradient clipping, or regularisation. \n",
        "\n",
        "**Remark**: the data is specially prepared to make the learning process easier. \n",
        "Present vectors using the code below. In this task we define success as 'obtaining a result which looks definitely not random'"
      ],
      "metadata": {
        "id": "zCQSi6DcDBKL"
      },
      "id": "zCQSi6DcDBKL"
    },
    {
      "cell_type": "code",
      "execution_count": null,
      "id": "7ae909d9",
      "metadata": {
        "id": "7ae909d9"
      },
      "outputs": [],
      "source": [
        "from gensim.models import KeyedVectors\n",
        "task1_wv = KeyedVectors.load_word2vec_format('task1_w2v_vectors.txt', binary=False)\n",
        "\n",
        "example_english_words = ['dog', 'dragon', 'love', 'bicycle', 'marathon', 'logic', 'butterfly']  # replace, or add your own examples\n",
        "example_polish_words = ['pies', 'smok', 'miłość', 'rower', 'maraton', 'logika', 'motyl']\n",
        "\n",
        "example_words = example_polish_words\n",
        "\n",
        "for w0 in example_words:\n",
        "    print ('WORD:', w)\n",
        "    for w, v in task1_wv.most_similar(w0):\n",
        "        print ('   ', w, v)\n",
        "    print ()"
      ]
    },
    {
      "cell_type": "markdown",
      "id": "41228961",
      "metadata": {
        "id": "41228961"
      },
      "source": [
        "## Task 2 (4 points)\n",
        "\n",
        "Your task is to train the embeddings for Simple Wikipedia titles, using gensim library. As the example below shows, training is really simple:\n",
        "\n",
        "```python\n",
        "from gensim.test.utils import common_texts\n",
        "from gensim.models import Word2Vec\n",
        "model = Word2Vec(sentences=common_texts, vector_size=100, window=5, min_count=1, workers=4)\n",
        "model.save(\"word2vec.model\")\n",
        "```\n",
        "*sentences* can be a list of list of tokens, you can also use *gensim.models.word2vec.LineSentence(source)* to create restartable iterator from file. At first, use [this file] containing such pairs of titles, that one article links to another.\n",
        "\n",
        "We say that two titles are *related* if they both contain a word (or a word bigram) which is not very popular (it occurs only in several titles). Make this definition more precise, and create the corpora which contains pairs of related titles. Make a mixture of the original corpora, and the new one, then train title vectors again.\n",
        "\n",
        "Compare these two approaches using similar code to the code from Task 1."
      ]
    },
    {
      "cell_type": "code",
      "execution_count": null,
      "id": "2f6ad8e4",
      "metadata": {
        "id": "2f6ad8e4"
      },
      "outputs": [],
      "source": [
        "# The cell for your presentation"
      ]
    },
    {
      "cell_type": "markdown",
      "id": "d711fdca",
      "metadata": {
        "id": "d711fdca"
      },
      "source": [
        "# Task 3 (4 points)\n",
        "\n",
        "Suppose that we have two languages: Upper and Lower. This is an example Upper sentence:\n",
        "\n",
        "<pre>\n",
        "THE QUICK BROWN FOX JUMPS OVER THE LAZY DOG.\n",
        "</pre>\n",
        "\n",
        "And this is its translation into Lower:\n",
        "\n",
        "<pre>\n",
        "the quick brown fox jumps over the lazy dog\n",
        "</pre>\n",
        "\n",
        "You have two corpora for these languages (with different sentences). Your task is to train word embedings for both languages together, so as to make embeddings of the words which are its translations as close as possible. But unfortunately, you have the budget which allows you to prepare the translation only for 1000 words (we call it D, you have to deside which words you want to be in D)\n",
        "\n",
        "Prepare the corpora wich contains three kind of sentences:\n",
        "* Upper corpus sentences\n",
        "* Lower corpus sentences\n",
        "* sentences derived from Upper/Lower corpus, modified using D\n",
        "\n",
        "There are many possible ways of doing this, for instance this one (ROT13.COM: hfr rirel fragrapr sebz obgu pbecben gjvpr: jvgubhg nal zbqvsvpngvbaf, naq jvgu rirel jbeqf sebz Q ercynprq ol vgf genafyngvba)\n",
        "\n",
        "We define the score for an Upper WORD as  $\\frac{1}{p}$, where $p$ is a position of its translation in the list of **Lower** words most similar to WORD. For instance, when most similar words to DOG are:\n",
        "\n",
        "<pre>\n",
        "WOLF, CAT, WOLVES, LION, gopher, dog\n",
        "</pre>\n",
        "\n",
        "then the score for the word DOG is 0.5. Compute the average score separately for words from D, and for words out of D (hint: if the computation takes to much time do it for a random sample).\n"
      ]
    },
    {
      "cell_type": "code",
      "source": [
        "file_lower = \"task3_polish_lower.txt.gz\"\n",
        "file_upper = \"task3_polish_upper.txt.gz\""
      ],
      "metadata": {
        "id": "0l_NXXnrEXw0"
      },
      "id": "0l_NXXnrEXw0",
      "execution_count": 4,
      "outputs": []
    },
    {
      "cell_type": "code",
      "source": [
        "!gzip -d task3_polish_lower.txt.gz && gzip -d task3_polish_upper.txt.gz"
      ],
      "metadata": {
        "id": "IIiI80sKEcpm"
      },
      "id": "IIiI80sKEcpm",
      "execution_count": 5,
      "outputs": []
    },
    {
      "cell_type": "code",
      "source": [
        "!ls"
      ],
      "metadata": {
        "colab": {
          "base_uri": "https://localhost:8080/"
        },
        "id": "dLmyAiFVE-2n",
        "outputId": "15d0f1af-0399-4e07-dfb8-aa01c45cf4f1"
      },
      "id": "dLmyAiFVE-2n",
      "execution_count": 6,
      "outputs": [
        {
          "output_type": "stream",
          "name": "stdout",
          "text": [
            "'Assigment 4-20230526T031220Z-001.zip'\t task3_polish_lower.txt\n",
            " sample_data\t\t\t\t task3_polish_upper.txt\n"
          ]
        }
      ]
    },
    {
      "cell_type": "code",
      "source": [
        "from collections import Counter\n",
        "from random import sample\n",
        "from gensim.models import Word2Vec\n",
        "from tqdm import tqdm"
      ],
      "metadata": {
        "id": "vB41Ho13xc3Q"
      },
      "id": "vB41Ho13xc3Q",
      "execution_count": 38,
      "outputs": []
    },
    {
      "cell_type": "markdown",
      "source": [
        "### Reading the data"
      ],
      "metadata": {
        "id": "TPtS-k72FClp"
      },
      "id": "TPtS-k72FClp"
    },
    {
      "cell_type": "code",
      "source": [
        "%%time\n",
        "upper_words = set()\n",
        "all_line_words = []\n",
        "corpus = []\n",
        "\n",
        "with open(\"task3_polish_lower.txt\", \"r\") as f:\n",
        "    for line in f.readlines():\n",
        "        line_words = line.split()\n",
        "        all_line_words += line_words\n",
        "\n",
        "with open(\"task3_polish_upper.txt\", \"r\") as f:\n",
        "    for line in f.readlines():\n",
        "        line_words = line.split()\n",
        "        for word in line_words:\n",
        "            upper_words.add(word)\n",
        "\n",
        "        corpus.append(line_words)\n",
        "        line_words = [word.lower() for word in line_words]\n",
        "        all_line_words += line_words\n",
        "\n",
        "all_line_words = Counter(all_line_words)"
      ],
      "metadata": {
        "colab": {
          "base_uri": "https://localhost:8080/"
        },
        "id": "FMuRQe6BCexa",
        "outputId": "95dba375-1ab7-472f-e549-281feaed6d54"
      },
      "id": "FMuRQe6BCexa",
      "execution_count": 19,
      "outputs": [
        {
          "output_type": "stream",
          "name": "stdout",
          "text": [
            "CPU times: user 22.9 s, sys: 1.93 s, total: 24.8 s\n",
            "Wall time: 25.8 s\n"
          ]
        }
      ]
    },
    {
      "cell_type": "code",
      "source": [
        "len(all_line_words)"
      ],
      "metadata": {
        "colab": {
          "base_uri": "https://localhost:8080/"
        },
        "id": "FyApkFe_CeIG",
        "outputId": "5e2ff541-127a-4af0-e159-81372d77fca3"
      },
      "id": "FyApkFe_CeIG",
      "execution_count": 20,
      "outputs": [
        {
          "output_type": "execute_result",
          "data": {
            "text/plain": [
              "29877"
            ]
          },
          "metadata": {},
          "execution_count": 20
        }
      ]
    },
    {
      "cell_type": "code",
      "source": [
        "%%time\n",
        "D_size = 1000\n",
        "min_word_length = 4\n",
        "top_words = set()\n",
        "\n",
        "for word, word_count in all_line_words.most_common():\n",
        "    if len(word) >= min_word_length:\n",
        "        top_words.add(word.lower())\n",
        "        \n",
        "    if len(top_words) >= D_size:\n",
        "        break"
      ],
      "metadata": {
        "colab": {
          "base_uri": "https://localhost:8080/"
        },
        "id": "m0xM7AsaF8lg",
        "outputId": "28eff314-35c4-4dd1-c3ac-0a9f3291574d"
      },
      "id": "m0xM7AsaF8lg",
      "execution_count": 21,
      "outputs": [
        {
          "output_type": "stream",
          "name": "stdout",
          "text": [
            "CPU times: user 26.4 ms, sys: 1e+03 µs, total: 27.4 ms\n",
            "Wall time: 31.5 ms\n"
          ]
        }
      ]
    },
    {
      "cell_type": "code",
      "source": [
        "D_lower, D_upper = {}, {}\n",
        "\n",
        "for w in top_words:\n",
        "    wu = w.upper()\n",
        "    wl = w.lower()\n",
        "    D_lower[wu] = wl\n",
        "    D_upper[wl] = wu"
      ],
      "metadata": {
        "id": "RHc6nb9NJjeh"
      },
      "id": "RHc6nb9NJjeh",
      "execution_count": 22,
      "outputs": []
    },
    {
      "cell_type": "code",
      "source": [
        "list(D_upper.items())[:6], list(D_lower.items())[:6]"
      ],
      "metadata": {
        "colab": {
          "base_uri": "https://localhost:8080/"
        },
        "id": "GRitGXsuGKCd",
        "outputId": "c28b0bff-56e8-47bc-8213-3354cc3c4a22"
      },
      "id": "GRitGXsuGKCd",
      "execution_count": 23,
      "outputs": [
        {
          "output_type": "execute_result",
          "data": {
            "text/plain": [
              "([('sektor', 'SEKTOR'),\n",
              "  ('izba', 'IZBA'),\n",
              "  ('czynność', 'CZYNNOŚĆ'),\n",
              "  ('obowiązek', 'OBOWIĄZEK'),\n",
              "  ('ubezpieczenie', 'UBEZPIECZENIE'),\n",
              "  ('dobro_dobrze', 'DOBRO_DOBRZE')],\n",
              " [('SEKTOR', 'sektor'),\n",
              "  ('IZBA', 'izba'),\n",
              "  ('CZYNNOŚĆ', 'czynność'),\n",
              "  ('OBOWIĄZEK', 'obowiązek'),\n",
              "  ('UBEZPIECZENIE', 'ubezpieczenie'),\n",
              "  ('DOBRO_DOBRZE', 'dobro_dobrze')])"
            ]
          },
          "metadata": {},
          "execution_count": 23
        }
      ]
    },
    {
      "cell_type": "code",
      "source": [
        "%%time\n",
        "with open(\"task3_polish_lower.txt\", \"r\") as f:\n",
        "    for line in f.readlines():\n",
        "        line_words = line.split()\n",
        "        line_words = [D_upper.get(word, word) for word in line_words]\n",
        "        corpus.append(line_words)\n",
        "\n",
        "with open(\"task3_polish_upper.txt\", \"r\") as f:\n",
        "    for line in f.readlines():\n",
        "        line_words = line.split()\n",
        "        line_words = [D_lower.get(word, word) for word in line_words]\n",
        "        corpus.append(line_words)"
      ],
      "metadata": {
        "colab": {
          "base_uri": "https://localhost:8080/"
        },
        "id": "POtndAbGGTtr",
        "outputId": "3c918949-bbc6-4241-80de-694bf6dc236e"
      },
      "id": "POtndAbGGTtr",
      "execution_count": 24,
      "outputs": [
        {
          "output_type": "stream",
          "name": "stdout",
          "text": [
            "CPU times: user 13.3 s, sys: 141 ms, total: 13.5 s\n",
            "Wall time: 13.8 s\n"
          ]
        }
      ]
    },
    {
      "cell_type": "code",
      "source": [
        "task3_model = Word2Vec(\n",
        "    sentences=corpus, \n",
        "    vector_size=100, \n",
        "    window=5, \n",
        "    min_count=1, \n",
        "    workers=4, \n",
        "    sg=1\n",
        ")"
      ],
      "metadata": {
        "id": "CuJl5J1bGXTr"
      },
      "id": "CuJl5J1bGXTr",
      "execution_count": 15,
      "outputs": []
    },
    {
      "cell_type": "code",
      "source": [
        "task3_model.wv.most_similar(\"SEKTOR\", topn=5)"
      ],
      "metadata": {
        "colab": {
          "base_uri": "https://localhost:8080/"
        },
        "id": "e-e0nECJGtFv",
        "outputId": "8891fcf4-f112-490c-be19-7cdb76a9f767"
      },
      "id": "e-e0nECJGtFv",
      "execution_count": 25,
      "outputs": [
        {
          "output_type": "execute_result",
          "data": {
            "text/plain": [
              "[('PRZEDSIĘBIORSTWO', 0.8303931355476379),\n",
              " ('branża', 0.7982797026634216),\n",
              " ('mśp', 0.7803087830543518),\n",
              " ('rolno-spożywczego', 0.7764489054679871),\n",
              " ('inwestujący', 0.7649809718132019)]"
            ]
          },
          "metadata": {},
          "execution_count": 25
        }
      ]
    },
    {
      "cell_type": "markdown",
      "source": [
        "### Score words in D"
      ],
      "metadata": {
        "id": "MBR3EVniG6aa"
      },
      "id": "MBR3EVniG6aa"
    },
    {
      "cell_type": "code",
      "source": [
        "def get_similar_words(fetch_topn: int, word: str) -> list[str]:\n",
        "    return [\n",
        "        result[0] \n",
        "        for result in task3_model.wv.most_similar(word, topn=fetch_topn)\n",
        "    ]"
      ],
      "metadata": {
        "id": "rtKaz_A1LuFr"
      },
      "id": "rtKaz_A1LuFr",
      "execution_count": 33,
      "outputs": []
    },
    {
      "cell_type": "code",
      "source": [
        "%%time\n",
        "\n",
        "score_in_D = 0\n",
        "fetch_topn = 50\n",
        "\n",
        "for w in top_words:\n",
        "    similar_words = get_similar_words(word=w.upper(), fetch_topn=fetch_topn)\n",
        "    for i, word in enumerate(similar_words):\n",
        "        if word == word.lower():\n",
        "            score_in_D += 1.0 / (i + 1)\n",
        "            break\n",
        "\n",
        "print(f\"{score_in_D / 10 :.2f}%\")"
      ],
      "metadata": {
        "colab": {
          "base_uri": "https://localhost:8080/"
        },
        "id": "oN7MabU0G5iA",
        "outputId": "2a374f09-b2f8-4f5c-b08f-0ca117b8284f"
      },
      "id": "oN7MabU0G5iA",
      "execution_count": 35,
      "outputs": [
        {
          "output_type": "stream",
          "name": "stdout",
          "text": [
            "78.24%\n",
            "CPU times: user 6.11 s, sys: 1.41 s, total: 7.52 s\n",
            "Wall time: 5.78 s\n"
          ]
        }
      ]
    },
    {
      "cell_type": "markdown",
      "source": [
        "### Score words not in D"
      ],
      "metadata": {
        "id": "ko3KN70wHClJ"
      },
      "id": "ko3KN70wHClJ"
    },
    {
      "cell_type": "code",
      "source": [
        "%%time\n",
        "score_not_in_D = 0\n",
        "fetch_topn = 800\n",
        "n_samples = 10000\n",
        "\n",
        "words_not_in_d = [\n",
        "    word for word in upper_words if word.lower() not in top_words\n",
        "]\n",
        "\n",
        "words_sample = sample(words_not_in_d, n_samples)\n",
        "for w in tqdm(words_sample):\n",
        "    similar_words = get_similar_words(word=w.upper(), fetch_topn=fetch_topn)\n",
        "    for i, word in enumerate(similar_words):\n",
        "        if word == word.lower():\n",
        "            score_not_in_D += 1.0 / (i + 1)\n",
        "            break\n"
      ],
      "metadata": {
        "colab": {
          "base_uri": "https://localhost:8080/"
        },
        "id": "q3aHcQC0G-11",
        "outputId": "04d64d0c-1e75-476f-d269-9853250fff9d"
      },
      "id": "q3aHcQC0G-11",
      "execution_count": 46,
      "outputs": [
        {
          "output_type": "stream",
          "name": "stderr",
          "text": [
            "100%|██████████| 10000/10000 [01:23<00:00, 119.51it/s]"
          ]
        },
        {
          "output_type": "stream",
          "name": "stdout",
          "text": [
            "CPU times: user 1min 36s, sys: 38.5 s, total: 2min 14s\n",
            "Wall time: 1min 23s\n"
          ]
        },
        {
          "output_type": "stream",
          "name": "stderr",
          "text": [
            "\n"
          ]
        }
      ]
    },
    {
      "cell_type": "code",
      "source": [
        "print(f\"{score_not_in_D / n_samples * 100 :.2f}%\")"
      ],
      "metadata": {
        "colab": {
          "base_uri": "https://localhost:8080/"
        },
        "id": "7sjFiTIWM1qm",
        "outputId": "ab34a4fa-b8c6-4688-8f04-3e99235d85ec"
      },
      "id": "7sjFiTIWM1qm",
      "execution_count": 48,
      "outputs": [
        {
          "output_type": "stream",
          "name": "stdout",
          "text": [
            "14.24%\n"
          ]
        }
      ]
    },
    {
      "cell_type": "markdown",
      "id": "4947e307",
      "metadata": {
        "id": "4947e307"
      },
      "source": [
        "# Task 4 (4 points)\n",
        "\n",
        "In this task you are asked to do two things:\n",
        "1. compare the embeddings computed on small corpus (like Brown Corpus , see: <https://en.wikipedia.org/wiki/Brown_Corpus>) with the ones coming from Google News Corpus\n",
        "2. Try to use other resourses like WordNet to enrich to corpus, and obtain better embeddings\n",
        "\n",
        "You can use the following code snippets:\n",
        "\n",
        "```python\n",
        "# printing tokenized Brown Corpora\n",
        "from nltk.corpus import brown\n",
        "for s in brown.sents():\n",
        "    print(*s)\n",
        "    \n",
        "#iterating over all synsets in WordNet\n",
        "from nltk.corpus import wordnet as wn\n",
        "\n",
        "for synset_type in 'avrns': # n == noun, v == verb, ...\n",
        "    for synset in list(wn.all_synsets(synset_type)))[:10]:\n",
        "        print (synset.definition())\n",
        "        print (synset.examples())\n",
        "        print ([lem.name() for lem in synset.lemmas()])\n",
        "        print (synset.hyperonims()) # nodes 1 level up in ontology\n",
        "        \n",
        "# loading model and compute cosine similarity between words\n",
        "\n",
        "model = Word2Vec.load('models/w2v.wordnet5.model') \n",
        "print (model.wv.similarity('dog', 'cat'))\n",
        "```\n",
        "\n",
        "Embeddings will be tested using WordSim-353 dataset, the code showing the quality is in the cell below. Prepare the following corpora:\n",
        "1. Tokenized Brown Corpora\n",
        "2. Definitions and examples from Princeton WordNet\n",
        "3. (1) and (2) together\n",
        "4. (3) enriched with pseudosentences containing (a subset) of WordNet knowledge (such as 'tiger is a carnivore')\n",
        "\n",
        "Train 4 Word2Vec models, and raport Spearman correletion between similarities based on your vectors, and similarities based on human judgements.\n",
        "\n"
      ]
    },
    {
      "cell_type": "code",
      "execution_count": null,
      "id": "947a2fbc",
      "metadata": {
        "id": "947a2fbc"
      },
      "outputs": [],
      "source": [
        "# Code for computing correlation between W2V similarity, and human judgements\n",
        "\n",
        "import gensim.downloader\n",
        "from scipy.stats import spearmanr\n",
        "\n",
        "gn = gensim.downloader.load('word2vec-google-news-300')\n",
        "\n",
        "for similarity_type in ['relatedness', 'similarity']:\n",
        "    ws353 = []\n",
        "    for x in open(f'wordsim_{similarity_type}_goldstandard.txt'): \n",
        "        a,b,val = x.split()\n",
        "        val = float(val)\n",
        "        ws353.append( (a,b,val))\n",
        "    # spearmanr returns 2 vallues: correlation and pval. pval should be close to zero\n",
        "    print (similarity_type + ':', spearmanr(vals, ys)) "
      ]
    },
    {
      "cell_type": "markdown",
      "id": "802bd33d",
      "metadata": {
        "id": "802bd33d"
      },
      "source": [
        "# Task 5 (4 points)\n",
        "\n",
        "Do the Problem 1 from old version of [Assigment 4](https://github.com/rnoxy/dl_uwr/blob/summer2023/Assignments/Assignment4.ipynb)"
      ]
    },
    {
      "cell_type": "code",
      "execution_count": null,
      "id": "1c49d8ed",
      "metadata": {
        "id": "1c49d8ed"
      },
      "outputs": [],
      "source": []
    }
  ],
  "metadata": {
    "kernelspec": {
      "display_name": "Python 3 (ipykernel)",
      "language": "python",
      "name": "python3"
    },
    "language_info": {
      "codemirror_mode": {
        "name": "ipython",
        "version": 3
      },
      "file_extension": ".py",
      "mimetype": "text/x-python",
      "name": "python",
      "nbconvert_exporter": "python",
      "pygments_lexer": "ipython3",
      "version": "3.10.6"
    },
    "colab": {
      "provenance": []
    }
  },
  "nbformat": 4,
  "nbformat_minor": 5
}