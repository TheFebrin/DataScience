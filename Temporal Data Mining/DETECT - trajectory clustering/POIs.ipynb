{
 "cells": [
  {
   "cell_type": "code",
   "execution_count": 118,
   "id": "2b0193e2-619f-4a4d-8f35-22f506d6b17b",
   "metadata": {},
   "outputs": [],
   "source": [
    "import numpy as np\n",
    "import matplotlib.pyplot as plt\n",
    "from src.datareader import DataReader\n",
    "import overpy\n",
    "from collections import defaultdict\n",
    "import time"
   ]
  },
  {
   "cell_type": "code",
   "execution_count": 6,
   "id": "cec5a28b-04f7-42fb-a41a-d03afa3c5ac7",
   "metadata": {},
   "outputs": [
    {
     "data": {
      "text/plain": [
       "array([[ 0.00000000e+00,  4.23051058e+01, -8.36929794e+01],\n",
       "       [ 8.00000000e+02,  4.23051058e+01, -8.36929794e+01],\n",
       "       [ 1.80000000e+03,  4.23051058e+01, -8.36929794e+01],\n",
       "       ...,\n",
       "       [ 1.20640000e+06,  4.22324036e+01, -8.37392450e+01],\n",
       "       [ 1.20770000e+06,  4.22324036e+01, -8.37392450e+01],\n",
       "       [ 1.20880000e+06,  4.22324036e+01, -8.37392450e+01]])"
      ]
     },
     "execution_count": 6,
     "metadata": {},
     "output_type": "execute_result"
    }
   ],
   "source": [
    "data_reader = DataReader(\"./VED_dataset/*.csv\", files_limit=1)\n",
    "data = data_reader.get_data()\n",
    "trajectory = data[250]\n",
    "trajectory"
   ]
  },
  {
   "cell_type": "code",
   "execution_count": 27,
   "id": "5966b2c0-36c3-41f1-99b6-6456a0e350a1",
   "metadata": {},
   "outputs": [
    {
     "name": "stdout",
     "output_type": "stream",
     "text": [
      "(42.3257188889, 42.220315, -83.674, -83.8042902778)\n"
     ]
    }
   ],
   "source": [
    "def corners_of_map(data):\n",
    "    max_long, min_long, max_lat, min_lat = -10e10, 10e10, -10e10, 10e10\n",
    "    for row in data:\n",
    "        max_long, min_long = max(max(row[:,1]),max_long), min(min(row[:,1]),min_long)\n",
    "        max_lat, min_lat = max(max(row[:,2]),max_lat), min(min(row[:,2]),min_lat)\n",
    "    return max_long, min_long, max_lat, min_lat\n",
    "\n",
    "data_reader = DataReader(\"./VED_dataset/*.csv\", files_limit=10)\n",
    "data = data_reader.get_data()\n",
    "print(corners_of_map(data))"
   ]
  },
  {
   "cell_type": "code",
   "execution_count": 35,
   "id": "5c17dd81-13cf-4f8f-81cd-6a7eb5dd2e66",
   "metadata": {},
   "outputs": [],
   "source": [
    "def get_query_from_corners(data):\n",
    "    api = overpy.Overpass()\n",
    "    x1, x2 = data[1], data[0]\n",
    "    y1, y2 = data[3], data[2]\n",
    "\n",
    "    api_call = api.query(f'[out:json];node({x1},{y1},{x2},{y2}); out body;')\n",
    "    return api_call\n",
    "\n",
    "example = (42.3257188889, 42.220315, -83.674, -83.8042902778)\n",
    "query = get_query_from_corners(example)"
   ]
  },
  {
   "cell_type": "code",
   "execution_count": 48,
   "id": "001b21cb-3005-4752-944a-627d096eed08",
   "metadata": {},
   "outputs": [],
   "source": [
    "def get_query_from_corners(data):\n",
    "    api = overpy.Overpass()\n",
    "    x1, x2 = data[1], data[0]\n",
    "    y1, y2 = data[3], data[2]\n",
    "\n",
    "    api_call = api.query(f'''(node[\"shop\"]({x1},{y1},{x2},{y2});\n",
    "                node[\"building\"=\"retail\"]({x1},{y1},{x2},{y2});\n",
    "                node[\"building\"=\"supermarket\"]({x1},{y1},{x2},{y2});\n",
    "                node[\"healthcare\"=\"pharmacy\"]({x1},{y1},{x2},{y2});\n",
    "                        );out tags;''')\n",
    "    return api_call\n",
    "\n",
    "example = (42.3257188889, 42.220315, -83.674, -83.8042902778)\n",
    "query = get_query_from_corners(example)"
   ]
  },
  {
   "cell_type": "code",
   "execution_count": 58,
   "id": "df251e2c-a9dd-42a4-aaac-bf8a46856002",
   "metadata": {},
   "outputs": [],
   "source": [
    "# query.nodes\n",
    "\n",
    "def get_query_from_corners(data):\n",
    "    api = overpy.Overpass()\n",
    "    x1, x2 = data[1], data[0]\n",
    "    y1, y2 = data[3], data[2]\n",
    "\n",
    "    # api_call = api.query(f'''[out:csv(::id,::lat,::lon, amenity)];node({x1},{y1},{x2},{y2}); out;''')\n",
    "    api_call = api.query(f'''node({x1},{y1},{x2},{y2}); out meta;''')\n",
    "    return api_call\n",
    "\n",
    "example = (42.3257188889, 42.220315, -83.674, -83.8042902778)\n",
    "query = get_query_from_corners(example)"
   ]
  },
  {
   "cell_type": "code",
   "execution_count": 65,
   "id": "361cf37d-c4e9-418f-83d3-73e798b2bf94",
   "metadata": {},
   "outputs": [
    {
     "data": {
      "text/plain": [
       "<overpy.Node id=26950035 lat=42.3001518 lon=-83.6871173>"
      ]
     },
     "execution_count": 65,
     "metadata": {},
     "output_type": "execute_result"
    }
   ],
   "source": [
    "query.nodes[0]"
   ]
  },
  {
   "cell_type": "code",
   "execution_count": 33,
   "id": "ee544b4b-c549-40bb-ad39-2473887d4b57",
   "metadata": {},
   "outputs": [
    {
     "name": "stdout",
     "output_type": "stream",
     "text": [
      "42.220315 -83.8042902778 42.3257188889 -83.674\n",
      "defaultdict(<class 'int'>, {'motorway_link': 11395, 'secondary': 59884, 'service': 121486, 'tertiary': 77009, 'unclassified': 18198, 'residential': 273382, 'primary': 11857, 'cycleway': 9668, 'path': 30735, 'secondary_link': 2381, 'footway': 263779, 'track': 615, 'primary_link': 240, 'living_street': 142, 'motorway': 24716, 'pedestrian': 783, 'steps': 2648, 'tertiary_link': 265, 'raceway': 268, 'corridor': 8, 'elevator': 20, 'construction': 120, 'proposed': 42})\n"
     ]
    }
   ],
   "source": [
    "def get_pois(data):\n",
    "    api = overpy.Overpass()\n",
    "    x1, x2 = data[1], data[0]\n",
    "    y1, y2 = data[3], data[2]\n",
    "\n",
    "\n",
    "    print(x1,y1,x2,y2)\n",
    "\n",
    "    api_call = api.query(f'[out:json];way({x1},{y1},{x2},{y2}) [\"highway\"]; (._;>;); out body;')\n",
    "\n",
    "    res = defaultdict(int)\n",
    "    for way in api_call.ways:\n",
    "        for record in way.tags:\n",
    "            res[way.tags.get(\"highway\", \"n/a\")] += len(way.nodes)\n",
    "        # print(\"Name: %s\" % way.tags.get(\"name\", \"n/a\"))\n",
    "        # print(\"  Highway: %s\" % way.tags.get(\"highway\", \"n/a\"))\n",
    "        # print(\"  Nodes:\")\n",
    "        # for node in way.nodes:\n",
    "        #     print(\"    Lat: %f, Lon: %f\" % (node.lat, node.lon))\n",
    "\n",
    "    print(res)\n",
    "\n",
    "\n",
    "\n",
    "example = (42.3257188889, 42.220315, -83.674, -83.8042902778)\n",
    "get_pois(example)"
   ]
  },
  {
   "cell_type": "code",
   "execution_count": 82,
   "id": "9cce497b-33d1-4727-8ac1-33e70862f98d",
   "metadata": {},
   "outputs": [
    {
     "data": {
      "text/plain": [
       "[<overpy.Node id=28991808 lat=42.2328031 lon=-83.7477761>,\n",
       " <overpy.Node id=29311361 lat=42.2718834 lon=-83.7768909>,\n",
       " <overpy.Node id=504396195 lat=42.2553421 lon=-83.6909212>,\n",
       " <overpy.Node id=542783623 lat=42.2825365 lon=-83.7487208>,\n",
       " <overpy.Node id=693272554 lat=42.2898259 lon=-83.7387242>,\n",
       " <overpy.Node id=748965642 lat=42.2780372 lon=-83.7409510>,\n",
       " <overpy.Node id=1121114072 lat=42.2581846 lon=-83.6870322>,\n",
       " <overpy.Node id=1121114075 lat=42.2581953 lon=-83.6862347>,\n",
       " <overpy.Node id=1712874349 lat=42.2844026 lon=-83.7460461>,\n",
       " <overpy.Node id=1828938332 lat=42.2786688 lon=-83.7484752>]"
      ]
     },
     "execution_count": 82,
     "metadata": {},
     "output_type": "execute_result"
    }
   ],
   "source": [
    "def get_shops(data):\n",
    "    api = overpy.Overpass()\n",
    "    x1, x2 = data[1], data[0]\n",
    "    y1, y2 = data[3], data[2]\n",
    "\n",
    "    api_call = api.query(f'''(node[\"shop\"]({x1},{y1},{x2},{y2});\n",
    "                node[\"building\"=\"retail\"]({x1},{y1},{x2},{y2});\n",
    "                node[\"building\"=\"supermarket\"]({x1},{y1},{x2},{y2});\n",
    "                node[\"healthcare\"=\"pharmacy\"]({x1},{y1},{x2},{y2});\n",
    "                        );out;''')\n",
    "    return api_call\n",
    "\n",
    "example = (42.3257188889, 42.220315, -83.674, -83.8042902778)\n",
    "shops_list = get_shops(example).nodes\n",
    "shops_list[:10]"
   ]
  },
  {
   "cell_type": "code",
   "execution_count": 79,
   "id": "0efc697a-d809-4143-9d46-8bb11d1b1ead",
   "metadata": {},
   "outputs": [],
   "source": [
    "def get_offices(data):\n",
    "    api = overpy.Overpass()\n",
    "    x1, x2 = data[1], data[0]\n",
    "    y1, y2 = data[3], data[2]\n",
    "\n",
    "    api_call = api.query(f'''(node[\"office\"]({x1},{y1},{x2},{y2});\n",
    "                node[\"building\"=\"office\"]({x1},{y1},{x2},{y2});\n",
    "                node[\"amenity\"=\"bank\"]({x1},{y1},{x2},{y2});\n",
    "                        );out;''')\n",
    "    return api_call\n",
    "\n",
    "example = (42.3257188889, 42.220315, -83.674, -83.8042902778)\n",
    "offices_list = get_offices(example).nodes"
   ]
  },
  {
   "cell_type": "code",
   "execution_count": 80,
   "id": "6c80023e-1635-4e5b-a19f-47c35e66a216",
   "metadata": {},
   "outputs": [],
   "source": [
    "def get_industries(data):\n",
    "    api = overpy.Overpass()\n",
    "    x1, x2 = data[1], data[0]\n",
    "    y1, y2 = data[3], data[2]\n",
    "\n",
    "    api_call = api.query(f'''(node[\"building\"=\"industrial\"]({x1},{y1},{x2},{y2});\n",
    "                node[\"building\"=\"warehouse\"]({x1},{y1},{x2},{y2});\n",
    "                        );out;''')\n",
    "    return api_call\n",
    "\n",
    "example = (42.3257188889, 42.220315, -83.674, -83.8042902778)\n",
    "industries_list = get_industries(example).nodes"
   ]
  },
  {
   "cell_type": "code",
   "execution_count": 107,
   "id": "a40aa458-45a9-4812-a16f-1afe156e43e6",
   "metadata": {},
   "outputs": [
    {
     "data": {
      "text/plain": [
       "(-83.698, 42.3001, -83.688, 42.3101)"
      ]
     },
     "execution_count": 107,
     "metadata": {},
     "output_type": "execute_result"
    }
   ],
   "source": [
    "example_point = (42.3051058, -83.6929794)\n",
    "def area_around_point(point):\n",
    "    t = 0.005\n",
    "    lati,longi = point\n",
    "    x1, x2 = round(longi-t,4), round(longi+t,4)\n",
    "    y1, y2 = round(lati-t,4), round(lati+t,4)\n",
    "    return x1,y1,x2,y2\n",
    "\n",
    "area_around_point(example_point)"
   ]
  },
  {
   "cell_type": "code",
   "execution_count": 108,
   "id": "86eea577-feca-4b5a-a3c3-69d4f542a5b1",
   "metadata": {},
   "outputs": [
    {
     "data": {
      "text/plain": [
       "5"
      ]
     },
     "execution_count": 108,
     "metadata": {},
     "output_type": "execute_result"
    }
   ],
   "source": [
    "def count_in_list(listing, area):\n",
    "    counter = 0\n",
    "    long1,lat1,long2,lat2 = area\n",
    "    for node in listing:\n",
    "        if lat1 < node.lat <lat2 and long1 < node.lon < long2:\n",
    "            counter+=1\n",
    "            \n",
    "    return counter\n",
    "\n",
    "count_in_list(shops_list,area_around_point((example_point)))"
   ]
  },
  {
   "cell_type": "code",
   "execution_count": 109,
   "id": "690d2683-2275-4859-b065-7a607cb17f7a",
   "metadata": {},
   "outputs": [
    {
     "data": {
      "text/plain": [
       "<matplotlib.collections.PathCollection at 0x165e1c7c0>"
      ]
     },
     "execution_count": 109,
     "metadata": {},
     "output_type": "execute_result"
    },
    {
     "data": {
      "image/png": "[encoded data removed]",
      "text/plain": [
       "<Figure size 640x480 with 1 Axes>"
      ]
     },
     "metadata": {},
     "output_type": "display_data"
    }
   ],
   "source": [
    "for node in shops_list:\n",
    "    plt.scatter(node.lon,node.lat, c='red')\n",
    "    \n",
    "plt.scatter(-83.7477761,42.2328031, c='blue')"
   ]
  },
  {
   "cell_type": "code",
   "execution_count": 124,
   "id": "f84a32e1-9e38-423f-90a6-3c54c89b9249",
   "metadata": {},
   "outputs": [],
   "source": [
    "def get_listings(area):\n",
    "    def get_shops(data):\n",
    "        api = overpy.Overpass()\n",
    "        x1, x2 = data[1], data[0]\n",
    "        y1, y2 = data[3], data[2]\n",
    "\n",
    "        api_call = api.query(f'''(node[\"shop\"]({x1},{y1},{x2},{y2});\n",
    "                    node[\"building\"=\"retail\"]({x1},{y1},{x2},{y2});\n",
    "                    node[\"building\"=\"supermarket\"]({x1},{y1},{x2},{y2});\n",
    "                    node[\"healthcare\"=\"pharmacy\"]({x1},{y1},{x2},{y2});\n",
    "                            );out;''')\n",
    "        return api_call\n",
    "    \n",
    "    def get_offices(data):\n",
    "        api = overpy.Overpass()\n",
    "        x1, x2 = data[1], data[0]\n",
    "        y1, y2 = data[3], data[2]\n",
    "\n",
    "        api_call = api.query(f'''(node[\"office\"]({x1},{y1},{x2},{y2});\n",
    "                    node[\"building\"=\"office\"]({x1},{y1},{x2},{y2});\n",
    "                    node[\"amenity\"=\"bank\"]({x1},{y1},{x2},{y2});\n",
    "                            );out;''')\n",
    "        return api_call\n",
    "    \n",
    "    def get_industries(data):\n",
    "        api = overpy.Overpass()\n",
    "        x1, x2 = data[1], data[0]\n",
    "        y1, y2 = data[3], data[2]\n",
    "\n",
    "        api_call = api.query(f'''(node[\"building\"=\"industrial\"]({x1},{y1},{x2},{y2});\n",
    "                    node[\"building\"=\"warehouse\"]({x1},{y1},{x2},{y2});\n",
    "                            );out;''')\n",
    "        return api_call\n",
    "    \n",
    "    shops_list = get_shops(area).nodes\n",
    "    time.sleep(5)\n",
    "    offices_list = get_offices(area).nodes\n",
    "    time.sleep(5)\n",
    "    industries_list = get_industries(area).nodes\n",
    "    return shops_list, industries_list, offices_list\n",
    "\n",
    "\n",
    "area = (42.3257188889, 42.220315, -83.674, -83.8042902778)\n",
    "shops_list, industries_list, offices_list = get_listings(area)"
   ]
  },
  {
   "cell_type": "code",
   "execution_count": 125,
   "id": "deee57d8-04b5-406f-ad98-f33c8f09c3d8",
   "metadata": {},
   "outputs": [
    {
     "name": "stdout",
     "output_type": "stream",
     "text": [
      "Number of shops: 5; number of industries buildings: 0; number of offices buildings: 2\n"
     ]
    }
   ],
   "source": [
    "def pois_for_point(point,shops_list, industries_list, offices_list):\n",
    "    '''\n",
    "    Calculates number of shops, industries and offices in close range of given point\n",
    "    '''\n",
    "    def area_around_point(point):\n",
    "        t = 0.005\n",
    "        lati,longi = point\n",
    "        x1, x2 = round(longi-t,4), round(longi+t,4)\n",
    "        y1, y2 = round(lati-t,4), round(lati+t,4)\n",
    "        return x1,y1,x2,y2\n",
    "    \n",
    "    def count_in_list(listing, area):\n",
    "        counter = 0\n",
    "        long1,lat1,long2,lat2 = area\n",
    "        for node in listing:\n",
    "            if lat1 < node.lat <lat2 and long1 < node.lon < long2:\n",
    "                counter+=1\n",
    "        return counter\n",
    "    \n",
    "    aoi = area_around_point(point)\n",
    "    shops_count = count_in_list(shops_list, aoi)\n",
    "    industries_count = count_in_list(industries_list, aoi)\n",
    "    offices_count = count_in_list(offices_list, aoi)\n",
    "    \n",
    "    return shops_count, industries_count, offices_count\n",
    "\n",
    "\n",
    "example_point = (42.3051058, -83.6929794)\n",
    "res = pois_for_point(example_point,shops_list, industries_list, offices_list)\n",
    "print(f\"Number of shops: {res[0]}; number of industries buildings: {res[1]}; number of offices buildings: {res[2]}\")"
   ]
  },
  {
   "cell_type": "code",
   "execution_count": 126,
   "id": "5024d2d5-847e-4347-a655-eebfb947b53e",
   "metadata": {},
   "outputs": [
    {
     "data": {
      "text/plain": [
       "array([[0., 0., 0.],\n",
       "       [0., 0., 0.],\n",
       "       [0., 0., 0.],\n",
       "       [0., 0., 0.],\n",
       "       [0., 0., 0.],\n",
       "       [0., 0., 0.],\n",
       "       [0., 0., 0.],\n",
       "       [0., 0., 0.],\n",
       "       [0., 0., 0.],\n",
       "       [0., 0., 0.],\n",
       "       [0., 0., 0.],\n",
       "       [0., 0., 0.],\n",
       "       [0., 0., 0.],\n",
       "       [0., 0., 0.],\n",
       "       [0., 0., 0.],\n",
       "       [0., 0., 0.],\n",
       "       [0., 0., 0.],\n",
       "       [0., 0., 0.],\n",
       "       [0., 0., 0.],\n",
       "       [0., 0., 0.],\n",
       "       [0., 0., 0.],\n",
       "       [0., 0., 0.],\n",
       "       [0., 0., 0.],\n",
       "       [0., 0., 0.],\n",
       "       [0., 0., 0.],\n",
       "       [0., 0., 0.],\n",
       "       [0., 0., 0.],\n",
       "       [0., 0., 0.],\n",
       "       [0., 0., 0.],\n",
       "       [0., 0., 0.],\n",
       "       [0., 0., 0.],\n",
       "       [0., 0., 0.],\n",
       "       [0., 0., 0.],\n",
       "       [3., 0., 1.],\n",
       "       [3., 0., 1.],\n",
       "       [3., 0., 1.],\n",
       "       [3., 0., 1.],\n",
       "       [3., 0., 1.],\n",
       "       [4., 0., 4.],\n",
       "       [4., 0., 4.],\n",
       "       [4., 0., 4.],\n",
       "       [6., 0., 4.],\n",
       "       [6., 0., 4.],\n",
       "       [6., 0., 4.],\n",
       "       [6., 0., 4.],\n",
       "       [6., 0., 4.],\n",
       "       [6., 0., 4.],\n",
       "       [6., 0., 4.],\n",
       "       [6., 0., 4.],\n",
       "       [6., 0., 4.],\n",
       "       [7., 0., 4.],\n",
       "       [7., 0., 4.],\n",
       "       [7., 0., 4.],\n",
       "       [7., 0., 4.],\n",
       "       [7., 0., 4.],\n",
       "       [7., 0., 4.],\n",
       "       [7., 0., 4.],\n",
       "       [7., 0., 4.],\n",
       "       [7., 0., 4.],\n",
       "       [7., 0., 4.],\n",
       "       [7., 0., 4.],\n",
       "       [7., 0., 4.],\n",
       "       [7., 0., 4.],\n",
       "       [7., 0., 4.],\n",
       "       [7., 0., 4.],\n",
       "       [7., 0., 4.],\n",
       "       [7., 0., 4.],\n",
       "       [7., 0., 4.],\n",
       "       [7., 0., 4.],\n",
       "       [7., 0., 4.],\n",
       "       [7., 0., 4.],\n",
       "       [7., 0., 4.],\n",
       "       [7., 0., 4.],\n",
       "       [7., 0., 4.],\n",
       "       [7., 0., 4.],\n",
       "       [7., 0., 4.],\n",
       "       [7., 0., 4.],\n",
       "       [7., 0., 4.],\n",
       "       [7., 0., 4.],\n",
       "       [7., 0., 4.],\n",
       "       [7., 0., 4.],\n",
       "       [7., 0., 4.],\n",
       "       [7., 0., 4.],\n",
       "       [7., 0., 4.],\n",
       "       [7., 0., 3.],\n",
       "       [7., 0., 3.],\n",
       "       [7., 0., 3.],\n",
       "       [7., 0., 3.],\n",
       "       [7., 0., 3.],\n",
       "       [6., 0., 3.],\n",
       "       [6., 0., 3.],\n",
       "       [6., 0., 3.],\n",
       "       [6., 0., 3.],\n",
       "       [6., 0., 3.],\n",
       "       [6., 0., 3.],\n",
       "       [6., 0., 3.],\n",
       "       [6., 0., 3.],\n",
       "       [6., 0., 3.],\n",
       "       [6., 0., 3.],\n",
       "       [6., 0., 3.],\n",
       "       [6., 0., 3.],\n",
       "       [6., 0., 3.],\n",
       "       [6., 0., 3.],\n",
       "       [6., 0., 3.],\n",
       "       [6., 0., 3.],\n",
       "       [7., 0., 3.],\n",
       "       [7., 0., 3.],\n",
       "       [7., 0., 3.],\n",
       "       [7., 0., 3.],\n",
       "       [7., 0., 3.],\n",
       "       [5., 0., 2.],\n",
       "       [5., 0., 2.],\n",
       "       [5., 0., 2.],\n",
       "       [3., 0., 2.],\n",
       "       [3., 0., 2.],\n",
       "       [3., 0., 2.],\n",
       "       [3., 0., 2.],\n",
       "       [1., 0., 2.],\n",
       "       [1., 0., 2.],\n",
       "       [1., 0., 2.],\n",
       "       [1., 0., 2.],\n",
       "       [0., 0., 2.],\n",
       "       [0., 0., 2.],\n",
       "       [0., 0., 2.],\n",
       "       [0., 0., 2.],\n",
       "       [0., 0., 2.],\n",
       "       [0., 0., 1.],\n",
       "       [0., 0., 1.],\n",
       "       [0., 0., 1.],\n",
       "       [0., 0., 1.],\n",
       "       [0., 0., 1.],\n",
       "       [0., 0., 1.],\n",
       "       [0., 0., 1.],\n",
       "       [0., 0., 1.],\n",
       "       [0., 0., 1.],\n",
       "       [0., 0., 1.],\n",
       "       [0., 0., 1.],\n",
       "       [0., 0., 1.],\n",
       "       [0., 0., 1.],\n",
       "       [0., 0., 1.],\n",
       "       [0., 0., 1.],\n",
       "       [5., 0., 2.],\n",
       "       [5., 0., 2.],\n",
       "       [5., 0., 2.],\n",
       "       [5., 0., 2.],\n",
       "       [5., 0., 2.],\n",
       "       [5., 0., 2.],\n",
       "       [5., 0., 2.],\n",
       "       [5., 0., 2.],\n",
       "       [5., 0., 2.],\n",
       "       [5., 0., 2.],\n",
       "       [5., 0., 2.],\n",
       "       [5., 0., 2.],\n",
       "       [5., 0., 2.],\n",
       "       [5., 0., 2.],\n",
       "       [5., 0., 2.],\n",
       "       [5., 0., 2.],\n",
       "       [5., 0., 2.],\n",
       "       [5., 0., 2.],\n",
       "       [5., 0., 2.],\n",
       "       [5., 0., 2.],\n",
       "       [5., 0., 2.],\n",
       "       [5., 0., 2.],\n",
       "       [5., 0., 2.],\n",
       "       [5., 0., 2.],\n",
       "       [5., 0., 2.],\n",
       "       [5., 0., 2.],\n",
       "       [5., 0., 2.],\n",
       "       [5., 0., 2.],\n",
       "       [5., 0., 2.],\n",
       "       [5., 0., 2.],\n",
       "       [5., 0., 2.],\n",
       "       [5., 0., 2.],\n",
       "       [5., 0., 2.],\n",
       "       [5., 0., 2.],\n",
       "       [5., 0., 2.],\n",
       "       [5., 0., 2.],\n",
       "       [5., 0., 2.],\n",
       "       [5., 0., 2.],\n",
       "       [5., 0., 2.],\n",
       "       [5., 0., 2.],\n",
       "       [5., 0., 2.],\n",
       "       [5., 0., 2.],\n",
       "       [5., 0., 2.],\n",
       "       [5., 0., 2.]])"
      ]
     },
     "execution_count": 126,
     "metadata": {},
     "output_type": "execute_result"
    }
   ],
   "source": [
    "data_reader = DataReader(\"./VED_dataset/*.csv\", files_limit=1)\n",
    "data = data_reader.get_data()\n",
    "trajectory = data[0]\n",
    "\n",
    "matrix_of_pois = np.zeros((len(trajectory), 3))\n",
    "for i, row in enumerate(trajectory):\n",
    "    lat, lon = row[1], row[2]\n",
    "    point = lat, lon\n",
    "    matrix_of_pois[i] = pois_for_point(point,shops_list, industries_list, offices_list)\n",
    "    \n",
    "matrix_of_pois"
   ]
  },
  {
   "cell_type": "code",
   "execution_count": null,
   "id": "9eb093a3-a043-465e-b2bf-896bf5ca72eb",
   "metadata": {},
   "outputs": [],
   "source": []
  }
 ],
 "metadata": {
  "kernelspec": {
   "display_name": "Python 3 (ipykernel)",
   "language": "python",
   "name": "python3"
  },
  "language_info": {
   "codemirror_mode": {
    "name": "ipython",
    "version": 3
   },
   "file_extension": ".py",
   "mimetype": "text/x-python",
   "name": "python",
   "nbconvert_exporter": "python",
   "pygments_lexer": "ipython3",
   "version": "3.10.6"
  }
 },
 "nbformat": 4,
 "nbformat_minor": 5
}
