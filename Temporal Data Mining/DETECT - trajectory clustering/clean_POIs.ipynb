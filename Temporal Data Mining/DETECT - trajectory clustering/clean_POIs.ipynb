{
 "cells": [
  {
   "cell_type": "code",
   "execution_count": 3,
   "id": "153e79d9-b1d7-4fa6-83a2-2c148a85c447",
   "metadata": {},
   "outputs": [],
   "source": [
    "import numpy as np\n",
    "import matplotlib.pyplot as plt\n",
    "from src.datareader import DataReader\n",
    "from src.fastspd import FastSPD\n",
    "import overpy\n",
    "from collections import defaultdict\n",
    "import time"
   ]
  },
  {
   "cell_type": "code",
   "execution_count": 13,
   "id": "df451be6-728b-41b6-99c2-c1881c4bc231",
   "metadata": {},
   "outputs": [
    {
     "name": "stdout",
     "output_type": "stream",
     "text": [
      "CPU times: total: 1.59 s\n",
      "Wall time: 1.65 s\n"
     ]
    }
   ],
   "source": [
    "%%time\n",
    "data_reader = DataReader(\"VED_dataset/*.csv\", files_limit=1)\n",
    "data = data_reader.get_data()"
   ]
  },
  {
   "cell_type": "code",
   "execution_count": 19,
   "id": "7a0c662f",
   "metadata": {},
   "outputs": [
    {
     "data": {
      "text/plain": [
       "(2104, 3)"
      ]
     },
     "execution_count": 19,
     "metadata": {},
     "output_type": "execute_result"
    }
   ],
   "source": [
    "data[0].shape"
   ]
  },
  {
   "cell_type": "code",
   "execution_count": 20,
   "id": "dc7df51b-2f88-4c61-aaea-69f4feb91bff",
   "metadata": {},
   "outputs": [
    {
     "name": "stdout",
     "output_type": "stream",
     "text": [
      "(42.3255680556, 42.2203163889, -83.6740211111, -83.8041355556)\n"
     ]
    }
   ],
   "source": [
    "def corners_of_map(data):\n",
    "    max_long, min_long, max_lat, min_lat = -10e10, 10e10, -10e10, 10e10\n",
    "    for row in data:\n",
    "        max_long, min_long = max(max(row[:,1]),max_long), min(min(row[:,1]),min_long)\n",
    "        max_lat, min_lat = max(max(row[:,2]),max_lat), min(min(row[:,2]),min_lat)\n",
    "    return max_long, min_long, max_lat, min_lat\n",
    "\n",
    "area = corners_of_map(data)\n",
    "print(area)"
   ]
  },
  {
   "cell_type": "code",
   "execution_count": 21,
   "id": "deff00f2-94ea-4236-998f-6e7492619b6c",
   "metadata": {},
   "outputs": [],
   "source": [
    "def get_listings(area):\n",
    "    '''\n",
    "    takes area (x1,y1,x2,y2) and returns lists of POIs from categories:\n",
    "    (shops, industries, offices, education)\n",
    "    '''\n",
    "    def get_shops(data):\n",
    "        api = overpy.Overpass()\n",
    "        x1, x2 = data[1], data[0]\n",
    "        y1, y2 = data[3], data[2]\n",
    "\n",
    "        api_call = api.query(f'''(node[\"shop\"]({x1},{y1},{x2},{y2});\n",
    "                    node[\"building\"=\"retail\"]({x1},{y1},{x2},{y2});\n",
    "                    node[\"building\"=\"supermarket\"]({x1},{y1},{x2},{y2});\n",
    "                    node[\"healthcare\"=\"pharmacy\"]({x1},{y1},{x2},{y2});\n",
    "                            );out;''')\n",
    "        return api_call\n",
    "    \n",
    "    def get_offices(data):\n",
    "        api = overpy.Overpass()\n",
    "        x1, x2 = data[1], data[0]\n",
    "        y1, y2 = data[3], data[2]\n",
    "\n",
    "        api_call = api.query(f'''(node[\"office\"]({x1},{y1},{x2},{y2});\n",
    "                    node[\"building\"=\"office\"]({x1},{y1},{x2},{y2});\n",
    "                    node[\"amenity\"=\"bank\"]({x1},{y1},{x2},{y2});\n",
    "                            );out;''')\n",
    "        return api_call\n",
    "    \n",
    "    def get_industries(data):\n",
    "        api = overpy.Overpass()\n",
    "        x1, x2 = data[1], data[0]\n",
    "        y1, y2 = data[3], data[2]\n",
    "\n",
    "        api_call = api.query(f'''(node[\"building\"=\"industrial\"]({x1},{y1},{x2},{y2});\n",
    "                    node[\"building\"=\"warehouse\"]({x1},{y1},{x2},{y2});\n",
    "                            );out;''')\n",
    "        return api_call\n",
    "    \n",
    "    def get_education(data):\n",
    "        api = overpy.Overpass()\n",
    "        x1, x2 = data[1], data[0]\n",
    "        y1, y2 = data[3], data[2]\n",
    "\n",
    "        api_call = api.query(f'''(node[\"amenity\"=\"college\"]({x1},{y1},{x2},{y2});\n",
    "                    node[\"amenity\"=\"school\"]({x1},{y1},{x2},{y2});\n",
    "                    node[\"amenity\"=\"university\"]({x1},{y1},{x2},{y2});\n",
    "                    node[\"amenity\"=\"music_school\"]({x1},{y1},{x2},{y2});\n",
    "                            );out;''')\n",
    "        return api_call\n",
    "    \n",
    "    \n",
    "    shops_list = get_shops(area).nodes\n",
    "    time.sleep(5)\n",
    "    offices_list = get_offices(area).nodes\n",
    "    time.sleep(5)\n",
    "    industries_list = get_industries(area).nodes\n",
    "    time.sleep(5)\n",
    "    edu_list = get_education(area).nodes\n",
    "    return shops_list, industries_list, offices_list, edu_list\n",
    "\n",
    "\n",
    "listings = get_listings(area)\n",
    "shops_list, industries_list, offices_list, edu_list = listings"
   ]
  },
  {
   "cell_type": "code",
   "execution_count": 22,
   "id": "bd2ce68d-4968-4a54-9213-bee9e3ab15b9",
   "metadata": {},
   "outputs": [
    {
     "name": "stdout",
     "output_type": "stream",
     "text": [
      "Number of shops: 5; number of industries buildings: 0; number of offices buildings: 2; number of education buildings: 2\n"
     ]
    }
   ],
   "source": [
    "def pois_for_point(point, listings):\n",
    "    '''\n",
    "    Calculates number of POIs from given listings in close range of given point\n",
    "    \n",
    "    example:\n",
    "    point=(x1,y1,x2,y2)\n",
    "    listings=( list_of_shops, list_of_offices, ... )\n",
    "    '''\n",
    "    def area_around_point(point):\n",
    "        t = 0.005\n",
    "        lati,longi = point\n",
    "        x1, x2 = round(longi-t,4), round(longi+t,4)\n",
    "        y1, y2 = round(lati-t,4), round(lati+t,4)\n",
    "        return x1,y1,x2,y2\n",
    "    \n",
    "    def count_in_list(listing, area):\n",
    "        counter = 0\n",
    "        long1,lat1,long2,lat2 = area\n",
    "        for node in listing:\n",
    "            if lat1 < node.lat <lat2 and long1 < node.lon < long2:\n",
    "                counter+=1\n",
    "        return counter\n",
    "    \n",
    "    aoi = area_around_point(point)\n",
    "    POIs_count = np.zeros(len(listings),dtype=np.int8)\n",
    "    for c, category in enumerate(listings):\n",
    "        POIs_count[c] = count_in_list(category, aoi)\n",
    "    \n",
    "    return POIs_count\n",
    "\n",
    "\n",
    "example_point = (42.3051058, -83.6929794)\n",
    "res = pois_for_point(example_point, listings)\n",
    "print(f\"Number of shops: {res[0]}; number of industries buildings: {res[1]}; number of offices buildings: {res[2]}; number of education buildings: {res[2]}\")"
   ]
  },
  {
   "cell_type": "code",
   "execution_count": 23,
   "id": "ead84808-f14b-4de5-9367-3befa6f0f02e",
   "metadata": {},
   "outputs": [],
   "source": [
    "fastspd = FastSPD()\n",
    "compressed_data = list()\n",
    "for r,row in enumerate(data):\n",
    "    compressed_data.append(fastspd.compress(row))"
   ]
  },
  {
   "cell_type": "code",
   "execution_count": 24,
   "id": "2d6a04c8-a670-43be-b1d0-f34efc43cc1c",
   "metadata": {},
   "outputs": [
    {
     "data": {
      "text/plain": [
       "658"
      ]
     },
     "execution_count": 24,
     "metadata": {},
     "output_type": "execute_result"
    }
   ],
   "source": [
    "len(compressed_data)"
   ]
  },
  {
   "cell_type": "code",
   "execution_count": 53,
   "id": "4b8be46d-6823-4e88-a591-cb960ef79af8",
   "metadata": {},
   "outputs": [
    {
     "name": "stderr",
     "output_type": "stream",
     "text": [
      "100%|██████████| 658/658 [02:41<00:00,  4.08it/s]"
     ]
    },
    {
     "name": "stdout",
     "output_type": "stream",
     "text": [
      "CPU times: total: 2min 35s\n",
      "Wall time: 2min 41s\n"
     ]
    },
    {
     "name": "stderr",
     "output_type": "stream",
     "text": [
      "\n"
     ]
    }
   ],
   "source": [
    "%%time\n",
    "from tqdm import tqdm \n",
    "\n",
    "def pois_matrix(data, listings):\n",
    "    save_point = 1000\n",
    "    spid = 0\n",
    "    \n",
    "    poi_res = [[] for _ in range(len(data))] \n",
    "    for i, trajectory in tqdm(enumerate(data), total=len(data)):\n",
    "        # save trajectories to file every save_point\n",
    "        # if t % save_point == 0 and t != 0:\n",
    "        #     np.savetxt(f\"pois3/pois_{spid}.csv\", matrix_of_pois[save_point*spid:save_point*(spid+1)].reshape((save_point,-1)).astype(int), delimiter=\";\")\n",
    "        #     spid += 1\n",
    "        for j, row in enumerate(trajectory):\n",
    "            lat, lon = row[1], row[2]\n",
    "            point = lat, lon\n",
    "            poi_res[i].append(pois_for_point(point,listings))\n",
    "        \n",
    "    return poi_res\n",
    "\n",
    "result = pois_matrix(compressed_data, listings)"
   ]
  },
  {
   "cell_type": "code",
   "execution_count": 56,
   "id": "9e03c3d7",
   "metadata": {},
   "outputs": [
    {
     "data": {
      "text/plain": [
       "(658, 124, 127)"
      ]
     },
     "execution_count": 56,
     "metadata": {},
     "output_type": "execute_result"
    }
   ],
   "source": [
    "len(result), len(result[0]), len(result[1])"
   ]
  },
  {
   "cell_type": "code",
   "execution_count": null,
   "id": "68e60e33",
   "metadata": {},
   "outputs": [],
   "source": [
    "with open(\"poi_small.csv\") as f:\n",
    "    for t in result:\n",
    "        for pois in t:\n",
    "            f.write()"
   ]
  },
  {
   "cell_type": "code",
   "execution_count": 65,
   "id": "80686e07",
   "metadata": {},
   "outputs": [
    {
     "data": {
      "text/plain": [
       "(124, 4)"
      ]
     },
     "execution_count": 65,
     "metadata": {},
     "output_type": "execute_result"
    }
   ],
   "source": [
    "np.array(result[0]).shape"
   ]
  },
  {
   "cell_type": "code",
   "execution_count": 66,
   "id": "bf3556fd",
   "metadata": {},
   "outputs": [],
   "source": [
    "result = np.array(list(map(lambda x: np.array(x), result)), dtype=object)"
   ]
  },
  {
   "cell_type": "code",
   "execution_count": 67,
   "id": "e41ef020",
   "metadata": {},
   "outputs": [],
   "source": [
    "np.save('poi_small.npy', result, allow_pickle=True)"
   ]
  },
  {
   "cell_type": "code",
   "execution_count": null,
   "id": "021bcfce",
   "metadata": {},
   "outputs": [],
   "source": []
  }
 ],
 "metadata": {
  "kernelspec": {
   "display_name": "Python 3",
   "language": "python",
   "name": "python3"
  },
  "language_info": {
   "codemirror_mode": {
    "name": "ipython",
    "version": 3
   },
   "file_extension": ".py",
   "mimetype": "text/x-python",
   "name": "python",
   "nbconvert_exporter": "python",
   "pygments_lexer": "ipython3",
   "version": "3.10.10"
  },
  "vscode": {
   "interpreter": {
    "hash": "e2f3a27130d34aca3cc7158d890a0a3b752d196b28a53d9dd7db8f4aac0bff8a"
   }
  }
 },
 "nbformat": 4,
 "nbformat_minor": 5
}
