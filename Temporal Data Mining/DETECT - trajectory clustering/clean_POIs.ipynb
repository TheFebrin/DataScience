{
 "cells": [
  {
   "cell_type": "code",
   "execution_count": 1,
   "id": "153e79d9-b1d7-4fa6-83a2-2c148a85c447",
   "metadata": {},
   "outputs": [],
   "source": [
    "import numpy as np\n",
    "import matplotlib.pyplot as plt\n",
    "from src.datareader import DataReader\n",
    "from src.fastspd import FastSPD\n",
    "import overpy\n",
    "from collections import defaultdict\n",
    "import time"
   ]
  },
  {
   "cell_type": "code",
   "execution_count": 2,
   "id": "df451be6-728b-41b6-99c2-c1881c4bc231",
   "metadata": {},
   "outputs": [],
   "source": [
    "data_reader = DataReader(\"./VED_dataset/*.csv\", files_limit=100)\n",
    "data = data_reader.get_data()"
   ]
  },
  {
   "cell_type": "code",
   "execution_count": 3,
   "id": "dc7df51b-2f88-4c61-aaea-69f4feb91bff",
   "metadata": {},
   "outputs": [
    {
     "name": "stdout",
     "output_type": "stream",
     "text": [
      "(42.3258, 42.2203052778, -83.674, -83.8042902778)\n"
     ]
    }
   ],
   "source": [
    "def corners_of_map(data):\n",
    "    max_long, min_long, max_lat, min_lat = -10e10, 10e10, -10e10, 10e10\n",
    "    for row in data:\n",
    "        max_long, min_long = max(max(row[:,1]),max_long), min(min(row[:,1]),min_long)\n",
    "        max_lat, min_lat = max(max(row[:,2]),max_lat), min(min(row[:,2]),min_lat)\n",
    "    return max_long, min_long, max_lat, min_lat\n",
    "\n",
    "area = corners_of_map(data)\n",
    "print(area)"
   ]
  },
  {
   "cell_type": "code",
   "execution_count": 4,
   "id": "deff00f2-94ea-4236-998f-6e7492619b6c",
   "metadata": {},
   "outputs": [],
   "source": [
    "def get_listings(area):\n",
    "    '''\n",
    "    takes area (x1,y1,x2,y2) and returns lists of POIs from categories:\n",
    "    (shops, industries, offices, education)\n",
    "    '''\n",
    "    def get_shops(data):\n",
    "        api = overpy.Overpass()\n",
    "        x1, x2 = data[1], data[0]\n",
    "        y1, y2 = data[3], data[2]\n",
    "\n",
    "        api_call = api.query(f'''(node[\"shop\"]({x1},{y1},{x2},{y2});\n",
    "                    node[\"building\"=\"retail\"]({x1},{y1},{x2},{y2});\n",
    "                    node[\"building\"=\"supermarket\"]({x1},{y1},{x2},{y2});\n",
    "                    node[\"healthcare\"=\"pharmacy\"]({x1},{y1},{x2},{y2});\n",
    "                            );out;''')\n",
    "        return api_call\n",
    "    \n",
    "    def get_offices(data):\n",
    "        api = overpy.Overpass()\n",
    "        x1, x2 = data[1], data[0]\n",
    "        y1, y2 = data[3], data[2]\n",
    "\n",
    "        api_call = api.query(f'''(node[\"office\"]({x1},{y1},{x2},{y2});\n",
    "                    node[\"building\"=\"office\"]({x1},{y1},{x2},{y2});\n",
    "                    node[\"amenity\"=\"bank\"]({x1},{y1},{x2},{y2});\n",
    "                            );out;''')\n",
    "        return api_call\n",
    "    \n",
    "    def get_industries(data):\n",
    "        api = overpy.Overpass()\n",
    "        x1, x2 = data[1], data[0]\n",
    "        y1, y2 = data[3], data[2]\n",
    "\n",
    "        api_call = api.query(f'''(node[\"building\"=\"industrial\"]({x1},{y1},{x2},{y2});\n",
    "                    node[\"building\"=\"warehouse\"]({x1},{y1},{x2},{y2});\n",
    "                            );out;''')\n",
    "        return api_call\n",
    "    \n",
    "    def get_education(data):\n",
    "        api = overpy.Overpass()\n",
    "        x1, x2 = data[1], data[0]\n",
    "        y1, y2 = data[3], data[2]\n",
    "\n",
    "        api_call = api.query(f'''(node[\"amenity\"=\"college\"]({x1},{y1},{x2},{y2});\n",
    "                    node[\"amenity\"=\"school\"]({x1},{y1},{x2},{y2});\n",
    "                    node[\"amenity\"=\"university\"]({x1},{y1},{x2},{y2});\n",
    "                    node[\"amenity\"=\"music_school\"]({x1},{y1},{x2},{y2});\n",
    "                            );out;''')\n",
    "        return api_call\n",
    "    \n",
    "    \n",
    "    shops_list = get_shops(area).nodes\n",
    "    time.sleep(5)\n",
    "    offices_list = get_offices(area).nodes\n",
    "    time.sleep(5)\n",
    "    industries_list = get_industries(area).nodes\n",
    "    time.sleep(5)\n",
    "    edu_list = get_education(area).nodes\n",
    "    return shops_list, industries_list, offices_list, edu_list\n",
    "\n",
    "\n",
    "listings = get_listings(area)\n",
    "shops_list, industries_list, offices_list, edu_list = listings"
   ]
  },
  {
   "cell_type": "code",
   "execution_count": 5,
   "id": "bd2ce68d-4968-4a54-9213-bee9e3ab15b9",
   "metadata": {},
   "outputs": [
    {
     "name": "stdout",
     "output_type": "stream",
     "text": [
      "Number of shops: 5; number of industries buildings: 0; number of offices buildings: 2; number of education buildings: 2\n"
     ]
    }
   ],
   "source": [
    "def pois_for_point(point, listings):\n",
    "    '''\n",
    "    Calculates number of POIs from given listings in close range of given point\n",
    "    \n",
    "    example:\n",
    "    point=(x1,y1,x2,y2)\n",
    "    listings=( list_of_shops, list_of_offices, ... )\n",
    "    '''\n",
    "    def area_around_point(point):\n",
    "        t = 0.005\n",
    "        lati,longi = point\n",
    "        x1, x2 = round(longi-t,4), round(longi+t,4)\n",
    "        y1, y2 = round(lati-t,4), round(lati+t,4)\n",
    "        return x1,y1,x2,y2\n",
    "    \n",
    "    def count_in_list(listing, area):\n",
    "        counter = 0\n",
    "        long1,lat1,long2,lat2 = area\n",
    "        for node in listing:\n",
    "            if lat1 < node.lat <lat2 and long1 < node.lon < long2:\n",
    "                counter+=1\n",
    "        return counter\n",
    "    \n",
    "    aoi = area_around_point(point)\n",
    "    POIs_count = np.zeros(len(listings),dtype=np.int8)\n",
    "    for c, category in enumerate(listings):\n",
    "        POIs_count[c] = count_in_list(category, aoi)\n",
    "    \n",
    "    return POIs_count\n",
    "\n",
    "\n",
    "example_point = (42.3051058, -83.6929794)\n",
    "res = pois_for_point(example_point, listings)\n",
    "print(f\"Number of shops: {res[0]}; number of industries buildings: {res[1]}; number of offices buildings: {res[2]}; number of education buildings: {res[2]}\")"
   ]
  },
  {
   "cell_type": "code",
   "execution_count": 6,
   "id": "ead84808-f14b-4de5-9367-3befa6f0f02e",
   "metadata": {},
   "outputs": [],
   "source": [
    "fastspd = FastSPD()\n",
    "compressed_data = list()\n",
    "for r,row in enumerate(data):\n",
    "    compressed_data.append(fastspd.compress(row))"
   ]
  },
  {
   "cell_type": "code",
   "execution_count": 7,
   "id": "2d6a04c8-a670-43be-b1d0-f34efc43cc1c",
   "metadata": {},
   "outputs": [
    {
     "data": {
      "text/plain": [
       "27839"
      ]
     },
     "execution_count": 7,
     "metadata": {},
     "output_type": "execute_result"
    }
   ],
   "source": [
    "len(compressed_data)"
   ]
  },
  {
   "cell_type": "code",
   "execution_count": 8,
   "id": "4b8be46d-6823-4e88-a591-cb960ef79af8",
   "metadata": {},
   "outputs": [],
   "source": [
    "def pois_matrix(data, listings, trajectory_max_length=1000):\n",
    "    save_point = 1000\n",
    "    spid = 0\n",
    "    \n",
    "    matrix_of_pois = np.zeros((len(data), trajectory_max_length, len(listings)),dtype=np.int8)\n",
    "    for t, trajectory in enumerate(data):\n",
    "        # save trajectories to file every save_point\n",
    "        if t % save_point == 0 and t != 0:\n",
    "            np.savetxt(f\"pois3/pois_{spid}.csv\", matrix_of_pois[save_point*spid:save_point*(spid+1)].reshape((save_point,-1)).astype(int), delimiter=\";\")\n",
    "            spid += 1\n",
    "        for i, row in enumerate(trajectory):\n",
    "            if i > trajectory_max_length-1:\n",
    "                break\n",
    "            lat, lon = row[1], row[2]\n",
    "            point = lat, lon\n",
    "            matrix_of_pois[t][i] = pois_for_point(point,listings)\n",
    "        \n",
    "    return matrix_of_pois\n",
    "\n",
    "result = pois_matrix(compressed_data, listings)"
   ]
  },
  {
   "cell_type": "code",
   "execution_count": 12,
   "id": "abf1ba6e-bb75-46ed-9fad-cb600bf28e80",
   "metadata": {},
   "outputs": [
    {
     "data": {
      "text/plain": [
       "array([99,  0, 29,  0], dtype=int8)"
      ]
     },
     "execution_count": 12,
     "metadata": {},
     "output_type": "execute_result"
    }
   ],
   "source": [
    "result[1][0]"
   ]
  },
  {
   "cell_type": "code",
   "execution_count": null,
   "id": "2e4cab67-a719-4d28-bf47-069eadcb1b19",
   "metadata": {},
   "outputs": [],
   "source": []
  }
 ],
 "metadata": {
  "kernelspec": {
   "display_name": "Python 3 (ipykernel)",
   "language": "python",
   "name": "python3"
  },
  "language_info": {
   "codemirror_mode": {
    "name": "ipython",
    "version": 3
   },
   "file_extension": ".py",
   "mimetype": "text/x-python",
   "name": "python",
   "nbconvert_exporter": "python",
   "pygments_lexer": "ipython3",
   "version": "3.10.6"
  }
 },
 "nbformat": 4,
 "nbformat_minor": 5
}
