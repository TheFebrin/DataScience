{
 "cells": [
  {
   "cell_type": "code",
   "execution_count": 1,
   "metadata": {},
   "outputs": [
    {
     "name": "stderr",
     "output_type": "stream",
     "text": [
      "C:\\Users\\Febrin\\AppData\\Local\\Packages\\PythonSoftwareFoundation.Python.3.10_qbz5n2kfra8p0\\LocalCache\\local-packages\\Python310\\site-packages\\tqdm\\auto.py:22: TqdmWarning: IProgress not found. Please update jupyter and ipywidgets. See https://ipywidgets.readthedocs.io/en/stable/user_install.html\n",
      "  from .autonotebook import tqdm as notebook_tqdm\n"
     ]
    }
   ],
   "source": [
    "import numpy as np\n",
    "import pandas as pd\n",
    "from tqdm import tqdm\n",
    "\n",
    "import random\n",
    "import os, errno\n",
    "import sys\n",
    "from tqdm import trange\n",
    "\n",
    "import torch\n",
    "import torch.nn as nn\n",
    "from torch import optim\n",
    "import torch.nn.functional as F\n",
    "\n",
    "import matplotlib.pyplot as plt\n",
    "\n",
    "\n",
    "from lstm_encoder_decoder import *"
   ]
  },
  {
   "cell_type": "markdown",
   "metadata": {},
   "source": [
    "# Data\n",
    "\n",
    "Each trajectory is represented by a N x M matrix,\n",
    "\n",
    "where N is the number of stay points, and M i number of all POIs\n"
   ]
  },
  {
   "cell_type": "code",
   "execution_count": 2,
   "metadata": {},
   "outputs": [
    {
     "data": {
      "text/plain": [
       "array([[0, 6, 0],\n",
       "       [0, 0, 5],\n",
       "       [0, 3, 3],\n",
       "       [2, 6, 1],\n",
       "       [1, 7, 2],\n",
       "       [9, 3, 9],\n",
       "       [5, 4, 6],\n",
       "       [6, 3, 4],\n",
       "       [3, 5, 7],\n",
       "       [6, 6, 2]])"
      ]
     },
     "execution_count": 2,
     "metadata": {},
     "output_type": "execute_result"
    }
   ],
   "source": [
    "M = 100\n",
    "\n",
    "x = np.array(\n",
    "    [\n",
    "        [np.random.randint(0, 10) for _ in range(3)]\n",
    "        for __ in range(10)\n",
    "    ]\n",
    ")\n",
    "x"
   ]
  },
  {
   "cell_type": "code",
   "execution_count": 3,
   "metadata": {},
   "outputs": [
    {
     "name": "stdout",
     "output_type": "stream",
     "text": [
      "CPU times: total: 6.84 s\n",
      "Wall time: 7.02 s\n"
     ]
    }
   ],
   "source": [
    "%%time\n",
    "def normalize(x):\n",
    "    x = np.array(x)\n",
    "    return x / (x.sum() + 1e-18)\n",
    "\n",
    "dataset = [\n",
    "    np.array(\n",
    "        [\n",
    "            normalize([np.random.randint(0, 10) for _ in range(M)])\n",
    "            for __ in range(np.random.randint(10, 50))\n",
    "        ]\n",
    "    )\n",
    "    for ___ in range(1000)\n",
    "]\n"
   ]
  },
  {
   "cell_type": "markdown",
   "metadata": {},
   "source": [
    "## Training"
   ]
  },
  {
   "cell_type": "code",
   "execution_count": 5,
   "metadata": {},
   "outputs": [
    {
     "name": "stderr",
     "output_type": "stream",
     "text": [
      "100%|████████████████████████████████████████████████████████████████████████████████████████████████████████████████████████████████████| 2/2 [00:03<00:00,  1.67s/it]\n"
     ]
    }
   ],
   "source": [
    "n_epochs = 2\n",
    "batch_size = 1\n",
    "learning_rate = 0.01\n",
    "\n",
    "model = EncoderDecoder(input_size=M, hidden_size=2)\n",
    "\n",
    "optimizer = optim.Adam(model.parameters(), lr = learning_rate)\n",
    "criterion = nn.MSELoss()\n",
    "\n",
    "losses = []\n",
    "for epoch in tqdm(range(n_epochs)):\n",
    "    \n",
    "    for i, x in enumerate(dataset):\n",
    "        input_batch = torch.from_numpy(x).type(torch.Tensor).view(1, *x.shape)\n",
    "#         print(input_batch.shape)\n",
    "        \n",
    "        # initialize hidden state\n",
    "        encoder_hidden = model.encoder.init_hidden(batch_size)\n",
    "\n",
    "        # zero the gradient\n",
    "        optimizer.zero_grad()\n",
    "        \n",
    "         # encoder outputs\n",
    "        encoder_output, encoder_hidden = model.encoder(input_batch)\n",
    "        \n",
    "#          # outputs tensor\n",
    "#         target_len = len(input_batch)\n",
    "#         outputs = torch.zeros(target_len, batch_size, input_batch.shape[2])\n",
    "                \n",
    "#         # decoder with teacher forcing\n",
    "#         decoder_input = input_batch[-1, :, :]   # shape: (batch_size, input_size)\n",
    "#         decoder_hidden = encoder_hidden\n",
    "\n",
    "#         for t in range(target_len): \n",
    "#             decoder_output, decoder_hidden = model.decoder(decoder_input, decoder_hidden)\n",
    "#             decoder_input = decoder_output\n",
    "            \n",
    "#             print(decoder_output.shape)\n",
    "#             print(outputs.shape)\n",
    "#             outputs[t] = decoder_output\n",
    "\n",
    "        decoder_output, decoder_hidden = model.decoder(input_batch[-1, :, :], encoder_hidden)\n",
    "        \n",
    "        loss = criterion(input_batch[0], decoder_output)\n",
    "        # backpropagation\n",
    "        loss.backward()\n",
    "        optimizer.step()\n",
    "        \n",
    "        losses.append(loss)"
   ]
  },
  {
   "cell_type": "code",
   "execution_count": 6,
   "metadata": {},
   "outputs": [
    {
     "data": {
      "text/plain": [
       "[<matplotlib.lines.Line2D at 0x25f84d4c4e0>]"
      ]
     },
     "execution_count": 6,
     "metadata": {},
     "output_type": "execute_result"
    },
    {
     "data": {
      "image/png": "[encoded data removed]",
      "text/plain": [
       "<Figure size 432x288 with 1 Axes>"
      ]
     },
     "metadata": {
      "needs_background": "light"
     },
     "output_type": "display_data"
    }
   ],
   "source": [
    "plt.plot([x.detach().numpy() for x in losses])"
   ]
  },
  {
   "cell_type": "code",
   "execution_count": 7,
   "metadata": {},
   "outputs": [],
   "source": [
    "encoder_output, encoder_hidden = model.encoder(input_batch)\n",
    "\n",
    "decoder_output, decoder_hidden = model.decoder(input_batch[-1, :, :], encoder_hidden)"
   ]
  },
  {
   "cell_type": "code",
   "execution_count": 8,
   "metadata": {},
   "outputs": [
    {
     "data": {
      "text/plain": [
       "tensor(4.2670e-05, grad_fn=<MseLossBackward>)"
      ]
     },
     "execution_count": 8,
     "metadata": {},
     "output_type": "execute_result"
    }
   ],
   "source": [
    "criterion(decoder_output, input_batch[0])"
   ]
  },
  {
   "cell_type": "code",
   "execution_count": 9,
   "metadata": {},
   "outputs": [
    {
     "data": {
      "text/plain": [
       "torch.Size([1, 39, 2])"
      ]
     },
     "execution_count": 9,
     "metadata": {},
     "output_type": "execute_result"
    }
   ],
   "source": [
    "encoder_output.shape"
   ]
  },
  {
   "cell_type": "code",
   "execution_count": 10,
   "metadata": {},
   "outputs": [
    {
     "data": {
      "text/plain": [
       "torch.Size([1, 39, 100])"
      ]
     },
     "execution_count": 10,
     "metadata": {},
     "output_type": "execute_result"
    }
   ],
   "source": [
    "input_batch.shape"
   ]
  },
  {
   "cell_type": "code",
   "execution_count": 11,
   "metadata": {},
   "outputs": [
    {
     "data": {
      "text/plain": [
       "torch.Size([39, 100])"
      ]
     },
     "execution_count": 11,
     "metadata": {},
     "output_type": "execute_result"
    }
   ],
   "source": [
    "decoder_output.shape"
   ]
  },
  {
   "cell_type": "code",
   "execution_count": 22,
   "metadata": {},
   "outputs": [
    {
     "name": "stderr",
     "output_type": "stream",
     "text": [
      "100%|█████████████████████████████████████████████████████████████████████████████████████████████████████████████████████████████| 1000/1000 [00:02<00:00, 479.34it/s]\n"
     ]
    },
    {
     "data": {
      "image/png": "[encoded data removed]",
      "text/plain": [
       "<Figure size 432x288 with 1 Axes>"
      ]
     },
     "metadata": {
      "needs_background": "light"
     },
     "output_type": "display_data"
    }
   ],
   "source": [
    "from matplotlib.pyplot import cm\n",
    "\n",
    "color = cm.rainbow(np.linspace(0, 1, len(dataset)))\n",
    "model = EncoderDecoder(input_size=M, hidden_size=2)\n",
    "\n",
    "for i, x in enumerate(tqdm(dataset)):\n",
    "    input_batch = torch.from_numpy(x).type(torch.Tensor).view(1, *x.shape)\n",
    "    encoder_output, encoder_hidden = model.encoder(input_batch)\n",
    "    \n",
    "    for p in encoder_output.detach().numpy():\n",
    "        plt.scatter(p[0], p[1])\n",
    "        \n",
    "plt.show()"
   ]
  },
  {
   "cell_type": "code",
   "execution_count": null,
   "metadata": {},
   "outputs": [],
   "source": []
  }
 ],
 "metadata": {
  "kernelspec": {
   "display_name": "Python 3",
   "language": "python",
   "name": "python3"
  },
  "language_info": {
   "codemirror_mode": {
    "name": "ipython",
    "version": 3
   },
   "file_extension": ".py",
   "mimetype": "text/x-python",
   "name": "python",
   "nbconvert_exporter": "python",
   "pygments_lexer": "ipython3",
   "version": "3.10.10"
  },
  "vscode": {
   "interpreter": {
    "hash": "e2f3a27130d34aca3cc7158d890a0a3b752d196b28a53d9dd7db8f4aac0bff8a"
   }
  }
 },
 "nbformat": 4,
 "nbformat_minor": 4
}
