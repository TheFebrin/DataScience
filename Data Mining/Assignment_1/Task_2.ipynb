{
 "cells": [
  {
   "cell_type": "code",
   "execution_count": 2,
   "metadata": {},
   "outputs": [],
   "source": [
    "# Set up\n",
    "import numpy as np"
   ]
  },
  {
   "cell_type": "markdown",
   "metadata": {},
   "source": [
    "#### a) \n",
    "**Niech x, y, w będą wektorami kolumnowymi ustalonej długości d. <br/>\n",
    "Policz: <br/>**\n",
    "- długość wektora x, <br/>\n",
    "- średnią ważoną wektora x z wagami w, <br/>\n",
    "- odległość euklidesową między wektorami x i y, <br/>\n",
    "- iloczyn skalarny wektorów x i y.  <br/>\n",
    "\n",
    "**Obliczenia przeprowadź dla losowo wygenerowanych wektorów x, y, w (dla d = 100).**"
   ]
  },
  {
   "cell_type": "code",
   "execution_count": 71,
   "metadata": {},
   "outputs": [],
   "source": [
    "d = 100\n",
    "x = np.random.rand(d)[np.newaxis].T\n",
    "y = np.random.rand(d)[np.newaxis].T\n",
    "w = np.random.rand(d)[np.newaxis].T\n",
    "\n",
    "len_x = np.sqrt(np.sum(x * x))\n",
    "weighted_average = np.sum(x * w) / np.sum(w)\n",
    "distance = np.sqrt(np.sum((x - y) ** 2))\n",
    "dot_product = np.sum(x * y)"
   ]
  },
  {
   "cell_type": "markdown",
   "metadata": {},
   "source": [
    "#### b) \n",
    "**Niech X będzie macierzą ustalonego rozmiaru d x N zawierającą N wektorów kolumnowych długości d. Niech y i w będą wektorami kolumnowymi długości d. <br/>\n",
    "Policz:**\n",
    "- długości kolejnych wektorów z macierzy X (wyznacz wektor długości N zawierający te długości), \n",
    "- średnią ważoną kolejnych wektorów z macierzy X z wagami w (wyznacz wektor długości N zawierający te średnie),\n",
    "- odległości euklidesowe między kolejnymi wektorami z macierzy X i wektorem y (wyznacz wektor długości N zawierający te odległości),\n",
    "- iloczyny skalarne kolejnych wektorów z macierzy X i wektora y (wyznacz wektor długości N zawierający te iloczyny). \n",
    "\n",
    "**Obliczenia przeprowadź dla losowo wygenerowanej macierzy X i losowo wygenerowanych wektorów y i w (dla d = 100 i N = 1000).**"
   ]
  },
  {
   "cell_type": "code",
   "execution_count": 76,
   "metadata": {},
   "outputs": [],
   "source": [
    "N, d = 1000, 100\n",
    "X = np.random.rand(d * N).reshape(d, N)\n",
    "y = np.random.rand(d)[np.newaxis].T\n",
    "w = np.random.rand(d)[np.newaxis].T\n",
    "\n",
    "lengths = np.sqrt(np.sum(X*X, axis=0))\n",
    "sum_w = np.sum(w)\n",
    "weights = np.sum(X*w / sum_w, axis=0)\n",
    "distances = np.sqrt(np.sum((X - y) ** 2, axis=0))\n",
    "dot_products = np.sum(X*y, axis = 0)"
   ]
  }
 ],
 "metadata": {
  "kernelspec": {
   "display_name": "Python 3",
   "language": "python",
   "name": "python3"
  },
  "language_info": {
   "codemirror_mode": {
    "name": "ipython",
    "version": 3
   },
   "file_extension": ".py",
   "mimetype": "text/x-python",
   "name": "python",
   "nbconvert_exporter": "python",
   "pygments_lexer": "ipython3",
   "version": "3.7.3"
  }
 },
 "nbformat": 4,
 "nbformat_minor": 4
}
