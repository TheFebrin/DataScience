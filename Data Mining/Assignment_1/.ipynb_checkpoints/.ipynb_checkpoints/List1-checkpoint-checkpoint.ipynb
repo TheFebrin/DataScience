{
 "cells": [
  {
   "cell_type": "code",
   "execution_count": 92,
   "metadata": {},
   "outputs": [],
   "source": [
    "# Set up\n",
    "import numpy as np\n",
    "import math\n",
    "from scipy.special import factorial"
   ]
  },
  {
   "cell_type": "markdown",
   "metadata": {},
   "source": [
    "Zadanie 0. (rozgrzewkowe, 1 punkt, zadanie należy przesłać emailem)\n",
    "Utwórz skrypt definiujący poniższe zmienne:\n",
    "a = [1, 2, 3, 4, …, 100] (wektor złożony z liczb całkowitych od 1 do 100)\n",
    "b = [1, 3, 5, 7, …, 99] (wektor złożony z liczb całkowitych nieparzystych od 1 do 99)\n",
    "c = [-1.00 * π, -0.99 * π, …, -0.01 * π, 0, 0.01 * π, …, 0.99 * π, 1.00 * π]\n",
    "d = [-1.00 * π, -0.99 * π, …, -0.01 * π, 0.01 * π, …, 0.99 * π, 1.00 * π]\n",
    "e = [e1, e2, …, e100], gdzie ei = sin(i), jeśli sin(i) > 0, lub ei = 0 w przeciwnym przypadku"
   ]
  },
  {
   "cell_type": "code",
   "execution_count": 40,
   "metadata": {},
   "outputs": [],
   "source": [
    "a = np.arange(1, 101)\n",
    "b = np.arange(50) * 2 + 1\n",
    "c = np.linspace(-math.pi, math.pi,201).round(6)\n",
    "d = c[c.nonzero()]\n",
    "e = np.maximum(np.zeros(100), np.sin((np.arange(100) + 1))) \n",
    "# Alternative e\n",
    "# e = [max(0, math.sin(x)) for x in range(1,101)]\n",
    "\n",
    "#a,b,c,d,e"
   ]
  },
  {
   "cell_type": "markdown",
   "metadata": {},
   "source": [
    "A = macierz rozmiaru 10 x 10 zawierająca liczby całkowite od 1 do 100: w pierwszym wierszu od\n",
    "lewej 1, 2, …, w drugim wierszu od lewej 11, 12, .., itd. (wskazówka: użyć polecenia reshape)"
   ]
  },
  {
   "cell_type": "code",
   "execution_count": 74,
   "metadata": {},
   "outputs": [
    {
     "data": {
      "text/plain": [
       "array([[  1,   2,   3,   4,   5,   6,   7,   8,   9,  10],\n",
       "       [ 11,  12,  13,  14,  15,  16,  17,  18,  19,  20],\n",
       "       [ 21,  22,  23,  24,  25,  26,  27,  28,  29,  30],\n",
       "       [ 31,  32,  33,  34,  35,  36,  37,  38,  39,  40],\n",
       "       [ 41,  42,  43,  44,  45,  46,  47,  48,  49,  50],\n",
       "       [ 51,  52,  53,  54,  55,  56,  57,  58,  59,  60],\n",
       "       [ 61,  62,  63,  64,  65,  66,  67,  68,  69,  70],\n",
       "       [ 71,  72,  73,  74,  75,  76,  77,  78,  79,  80],\n",
       "       [ 81,  82,  83,  84,  85,  86,  87,  88,  89,  90],\n",
       "       [ 91,  92,  93,  94,  95,  96,  97,  98,  99, 100]])"
      ]
     },
     "execution_count": 74,
     "metadata": {},
     "output_type": "execute_result"
    }
   ],
   "source": [
    "A = np.arange(1, 101).reshape(10,10)\n",
    "A"
   ]
  },
  {
   "cell_type": "markdown",
   "metadata": {},
   "source": [
    "B = macierz trójdiagonalna rozmiaru 100 x 100 mająca na głównej przekątnej liczby całkowite od 1\n",
    "do 100, a poniżej i powyżej głównej przekątnej liczby od 99 do 1"
   ]
  },
  {
   "cell_type": "code",
   "execution_count": 66,
   "metadata": {},
   "outputs": [
    {
     "data": {
      "text/plain": [
       "array([[  1,  99,   0, ...,   0,   0,   0],\n",
       "       [ 99,   2,  98, ...,   0,   0,   0],\n",
       "       [  0,  98,   3, ...,   0,   0,   0],\n",
       "       ...,\n",
       "       [  0,   0,   0, ...,  98,   2,   0],\n",
       "       [  0,   0,   0, ...,   2,  99,   1],\n",
       "       [  0,   0,   0, ...,   0,   1, 100]])"
      ]
     },
     "execution_count": 66,
     "metadata": {},
     "output_type": "execute_result"
    }
   ],
   "source": [
    "B = np.diag(np.arange(1, 101)) + np.diag(np.arange(99, 0, -1), k=1) + np.diag(np.arange(99, 0, -1), k=-1)\n",
    "B"
   ]
  },
  {
   "cell_type": "markdown",
   "metadata": {},
   "source": [
    "C = macierz trójkątna górna wypełniona jedynkami (łącznie z główną przekątną)"
   ]
  },
  {
   "cell_type": "code",
   "execution_count": 70,
   "metadata": {},
   "outputs": [
    {
     "data": {
      "text/plain": [
       "array([[1., 1., 1., 1., 1., 1., 1., 1., 1., 1.],\n",
       "       [0., 1., 1., 1., 1., 1., 1., 1., 1., 1.],\n",
       "       [0., 0., 1., 1., 1., 1., 1., 1., 1., 1.],\n",
       "       [0., 0., 0., 1., 1., 1., 1., 1., 1., 1.],\n",
       "       [0., 0., 0., 0., 1., 1., 1., 1., 1., 1.],\n",
       "       [0., 0., 0., 0., 0., 1., 1., 1., 1., 1.],\n",
       "       [0., 0., 0., 0., 0., 0., 1., 1., 1., 1.],\n",
       "       [0., 0., 0., 0., 0., 0., 0., 1., 1., 1.],\n",
       "       [0., 0., 0., 0., 0., 0., 0., 0., 1., 1.],\n",
       "       [0., 0., 0., 0., 0., 0., 0., 0., 0., 1.]])"
      ]
     },
     "execution_count": 70,
     "metadata": {},
     "output_type": "execute_result"
    }
   ],
   "source": [
    "C = np.triu(np.ones((10,10)))\n",
    "C"
   ]
  },
  {
   "cell_type": "markdown",
   "metadata": {},
   "source": [
    "D = macierz rozmiaru 2 x 100, w której pierwszy wiersz zawiera elementy d1i = 1 + 2 + … + i, a\n",
    "drugi wiersz zawiera elementy d2i = i!"
   ]
  },
  {
   "cell_type": "code",
   "execution_count": 107,
   "metadata": {},
   "outputs": [
    {
     "data": {
      "text/plain": [
       "array([[1.00000000e+000, 3.00000000e+000, 6.00000000e+000,\n",
       "        1.00000000e+001, 1.50000000e+001, 2.10000000e+001,\n",
       "        2.80000000e+001, 3.60000000e+001, 4.50000000e+001,\n",
       "        5.50000000e+001, 6.60000000e+001, 7.80000000e+001,\n",
       "        9.10000000e+001, 1.05000000e+002, 1.20000000e+002,\n",
       "        1.36000000e+002, 1.53000000e+002, 1.71000000e+002,\n",
       "        1.90000000e+002, 2.10000000e+002, 2.31000000e+002,\n",
       "        2.53000000e+002, 2.76000000e+002, 3.00000000e+002,\n",
       "        3.25000000e+002, 3.51000000e+002, 3.78000000e+002,\n",
       "        4.06000000e+002, 4.35000000e+002, 4.65000000e+002,\n",
       "        4.96000000e+002, 5.28000000e+002, 5.61000000e+002,\n",
       "        5.95000000e+002, 6.30000000e+002, 6.66000000e+002,\n",
       "        7.03000000e+002, 7.41000000e+002, 7.80000000e+002,\n",
       "        8.20000000e+002, 8.61000000e+002, 9.03000000e+002,\n",
       "        9.46000000e+002, 9.90000000e+002, 1.03500000e+003,\n",
       "        1.08100000e+003, 1.12800000e+003, 1.17600000e+003,\n",
       "        1.22500000e+003, 1.27500000e+003, 1.32600000e+003,\n",
       "        1.37800000e+003, 1.43100000e+003, 1.48500000e+003,\n",
       "        1.54000000e+003, 1.59600000e+003, 1.65300000e+003,\n",
       "        1.71100000e+003, 1.77000000e+003, 1.83000000e+003,\n",
       "        1.89100000e+003, 1.95300000e+003, 2.01600000e+003,\n",
       "        2.08000000e+003, 2.14500000e+003, 2.21100000e+003,\n",
       "        2.27800000e+003, 2.34600000e+003, 2.41500000e+003,\n",
       "        2.48500000e+003, 2.55600000e+003, 2.62800000e+003,\n",
       "        2.70100000e+003, 2.77500000e+003, 2.85000000e+003,\n",
       "        2.92600000e+003, 3.00300000e+003, 3.08100000e+003,\n",
       "        3.16000000e+003, 3.24000000e+003, 3.32100000e+003,\n",
       "        3.40300000e+003, 3.48600000e+003, 3.57000000e+003,\n",
       "        3.65500000e+003, 3.74100000e+003, 3.82800000e+003,\n",
       "        3.91600000e+003, 4.00500000e+003, 4.09500000e+003,\n",
       "        4.18600000e+003, 4.27800000e+003, 4.37100000e+003,\n",
       "        4.46500000e+003, 4.56000000e+003, 4.65600000e+003,\n",
       "        4.75300000e+003, 4.85100000e+003, 4.95000000e+003,\n",
       "        5.05000000e+003],\n",
       "       [1.00000000e+000, 2.00000000e+000, 6.00000000e+000,\n",
       "        2.40000000e+001, 1.20000000e+002, 7.20000000e+002,\n",
       "        5.04000000e+003, 4.03200000e+004, 3.62880000e+005,\n",
       "        3.62880000e+006, 3.99168000e+007, 4.79001600e+008,\n",
       "        6.22702080e+009, 8.71782912e+010, 1.30767437e+012,\n",
       "        2.09227899e+013, 3.55687428e+014, 6.40237371e+015,\n",
       "        1.21645100e+017, 2.43290201e+018, 5.10909422e+019,\n",
       "        1.12400073e+021, 2.58520167e+022, 6.20448402e+023,\n",
       "        1.55112100e+025, 4.03291461e+026, 1.08888695e+028,\n",
       "        3.04888345e+029, 8.84176199e+030, 2.65252860e+032,\n",
       "        8.22283865e+033, 2.63130837e+035, 8.68331762e+036,\n",
       "        2.95232799e+038, 1.03331480e+040, 3.71993327e+041,\n",
       "        1.37637531e+043, 5.23022617e+044, 2.03978821e+046,\n",
       "        8.15915283e+047, 3.34525266e+049, 1.40500612e+051,\n",
       "        6.04152631e+052, 2.65827157e+054, 1.19622221e+056,\n",
       "        5.50262216e+057, 2.58623242e+059, 1.24139156e+061,\n",
       "        6.08281864e+062, 3.04140932e+064, 1.55111875e+066,\n",
       "        8.06581752e+067, 4.27488328e+069, 2.30843697e+071,\n",
       "        1.26964034e+073, 7.10998588e+074, 4.05269195e+076,\n",
       "        2.35056133e+078, 1.38683119e+080, 8.32098711e+081,\n",
       "        5.07580214e+083, 3.14699733e+085, 1.98260832e+087,\n",
       "        1.26886932e+089, 8.24765059e+090, 5.44344939e+092,\n",
       "        3.64711109e+094, 2.48003554e+096, 1.71122452e+098,\n",
       "        1.19785717e+100, 8.50478589e+101, 6.12344584e+103,\n",
       "        4.47011546e+105, 3.30788544e+107, 2.48091408e+109,\n",
       "        1.88549470e+111, 1.45183092e+113, 1.13242812e+115,\n",
       "        8.94618213e+116, 7.15694570e+118, 5.79712602e+120,\n",
       "        4.75364334e+122, 3.94552397e+124, 3.31424013e+126,\n",
       "        2.81710411e+128, 2.42270954e+130, 2.10775730e+132,\n",
       "        1.85482642e+134, 1.65079552e+136, 1.48571596e+138,\n",
       "        1.35200153e+140, 1.24384141e+142, 1.15677251e+144,\n",
       "        1.08736616e+146, 1.03299785e+148, 9.91677935e+149,\n",
       "        9.61927597e+151, 9.42689045e+153, 9.33262154e+155,\n",
       "        9.33262154e+157]])"
      ]
     },
     "execution_count": 107,
     "metadata": {},
     "output_type": "execute_result"
    }
   ],
   "source": [
    "D1 = np.cumsum(np.arange(1,101))\n",
    "D2 = np.cumprod(np.arange(1,101), dtype=np.float)\n",
    "D = np.append(D1,D2).reshape(2,100)\n",
    "D\n"
   ]
  },
  {
   "cell_type": "markdown",
   "metadata": {},
   "source": [
    "E = macierz rozmiaru 100 x 100 mająca 1 w pozycji (i, j), jeśli i dzieli j, lub 0 w przeciwnym\n",
    "przypadku. "
   ]
  },
  {
   "cell_type": "code",
   "execution_count": 113,
   "metadata": {},
   "outputs": [
    {
     "data": {
      "text/plain": [
       "array([[1, 0, 0, ..., 0, 0, 0],\n",
       "       [1, 1, 0, ..., 0, 0, 0],\n",
       "       [1, 0, 1, ..., 0, 0, 0],\n",
       "       ...,\n",
       "       [1, 1, 0, ..., 1, 0, 0],\n",
       "       [1, 0, 1, ..., 0, 1, 0],\n",
       "       [1, 1, 0, ..., 0, 0, 1]])"
      ]
     },
     "execution_count": 113,
     "metadata": {},
     "output_type": "execute_result"
    }
   ],
   "source": [
    "E = np.array([[0 if i % j else 1 for j in range(1, 101)] for i in range(1, 101)])\n",
    "E\n"
   ]
  },
  {
   "cell_type": "code",
   "execution_count": null,
   "metadata": {},
   "outputs": [],
   "source": []
  }
 ],
 "metadata": {
  "kernelspec": {
   "display_name": "Python 3",
   "language": "python",
   "name": "python3"
  },
  "language_info": {
   "codemirror_mode": {
    "name": "ipython",
    "version": 3
   },
   "file_extension": ".py",
   "mimetype": "text/x-python",
   "name": "python",
   "nbconvert_exporter": "python",
   "pygments_lexer": "ipython3",
   "version": "3.7.4"
  }
 },
 "nbformat": 4,
 "nbformat_minor": 4
}
