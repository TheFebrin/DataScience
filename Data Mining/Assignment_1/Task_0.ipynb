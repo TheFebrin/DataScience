{
 "cells": [
  {
   "cell_type": "code",
   "execution_count": 2,
   "metadata": {},
   "outputs": [],
   "source": [
    "# Set up\n",
    "import numpy as np\n",
    "import math\n",
    "from scipy.special import factorial"
   ]
  },
  {
   "cell_type": "markdown",
   "metadata": {},
   "source": [
    "Zadanie 0. <br/>\n",
    "Utwórz skrypt definiujący poniższe zmienne: <br/>\n",
    "a = [1, 2, 3, 4, …, 100] (wektor złożony z liczb całkowitych od 1 do 100) <br/>\n",
    "b = [1, 3, 5, 7, …, 99] (wektor złożony z liczb całkowitych nieparzystych od 1 do 99) <br/>\n",
    "c = [-1.00 * π, -0.99 * π, …, -0.01 * π, 0, 0.01 * π, …, 0.99 * π, 1.00 * π] <br/>\n",
    "d = [-1.00 * π, -0.99 * π, …, -0.01 * π, 0.01 * π, …, 0.99 * π, 1.00 * π] <br/>\n",
    "e = [e1, e2, …, e100], gdzie ei = sin(i), jeśli sin(i) > 0, lub ei = 0 w przeciwnym przypadku <br/>"
   ]
  },
  {
   "cell_type": "code",
   "execution_count": 2,
   "metadata": {},
   "outputs": [],
   "source": [
    "a = np.arange(1, 101)\n",
    "b = np.arange(50) * 2 + 1\n",
    "c = np.linspace(-math.pi, math.pi,201).round(6)\n",
    "d = c[c.nonzero()]\n",
    "e = np.maximum(np.zeros(100), np.sin((np.arange(100) + 1))) \n",
    "# Alternative e\n",
    "# e = [max(0, math.sin(x)) for x in range(1,101)]\n",
    "\n",
    "#a,b,c,d,e"
   ]
  },
  {
   "cell_type": "markdown",
   "metadata": {},
   "source": [
    "A = macierz rozmiaru 10 x 10 zawierająca liczby całkowite od 1 do 100: w pierwszym wierszu od\n",
    "lewej 1, 2, …, w drugim wierszu od lewej 11, 12, .., itd. (wskazówka: użyć polecenia reshape)"
   ]
  },
  {
   "cell_type": "code",
   "execution_count": 74,
   "metadata": {},
   "outputs": [
    {
     "data": {
      "text/plain": [
       "array([[  1,   2,   3,   4,   5,   6,   7,   8,   9,  10],\n",
       "       [ 11,  12,  13,  14,  15,  16,  17,  18,  19,  20],\n",
       "       [ 21,  22,  23,  24,  25,  26,  27,  28,  29,  30],\n",
       "       [ 31,  32,  33,  34,  35,  36,  37,  38,  39,  40],\n",
       "       [ 41,  42,  43,  44,  45,  46,  47,  48,  49,  50],\n",
       "       [ 51,  52,  53,  54,  55,  56,  57,  58,  59,  60],\n",
       "       [ 61,  62,  63,  64,  65,  66,  67,  68,  69,  70],\n",
       "       [ 71,  72,  73,  74,  75,  76,  77,  78,  79,  80],\n",
       "       [ 81,  82,  83,  84,  85,  86,  87,  88,  89,  90],\n",
       "       [ 91,  92,  93,  94,  95,  96,  97,  98,  99, 100]])"
      ]
     },
     "execution_count": 74,
     "metadata": {},
     "output_type": "execute_result"
    }
   ],
   "source": [
    "A = np.arange(1, 101).reshape(10,10)\n",
    "A"
   ]
  },
  {
   "cell_type": "markdown",
   "metadata": {},
   "source": [
    "B = macierz trójdiagonalna rozmiaru 100 x 100 mająca na głównej przekątnej liczby całkowite od 1\n",
    "do 100, a poniżej i powyżej głównej przekątnej liczby od 99 do 1"
   ]
  },
  {
   "cell_type": "code",
   "execution_count": 66,
   "metadata": {},
   "outputs": [
    {
     "data": {
      "text/plain": [
       "array([[  1,  99,   0, ...,   0,   0,   0],\n",
       "       [ 99,   2,  98, ...,   0,   0,   0],\n",
       "       [  0,  98,   3, ...,   0,   0,   0],\n",
       "       ...,\n",
       "       [  0,   0,   0, ...,  98,   2,   0],\n",
       "       [  0,   0,   0, ...,   2,  99,   1],\n",
       "       [  0,   0,   0, ...,   0,   1, 100]])"
      ]
     },
     "execution_count": 66,
     "metadata": {},
     "output_type": "execute_result"
    }
   ],
   "source": [
    "B = np.diag(np.arange(1, 101)) + np.diag(np.arange(99, 0, -1), k=1) + np.diag(np.arange(99, 0, -1), k=-1)\n",
    "B"
   ]
  },
  {
   "cell_type": "markdown",
   "metadata": {},
   "source": [
    "C = macierz trójkątna górna wypełniona jedynkami (łącznie z główną przekątną)"
   ]
  },
  {
   "cell_type": "code",
   "execution_count": 70,
   "metadata": {},
   "outputs": [
    {
     "data": {
      "text/plain": [
       "array([[1., 1., 1., 1., 1., 1., 1., 1., 1., 1.],\n",
       "       [0., 1., 1., 1., 1., 1., 1., 1., 1., 1.],\n",
       "       [0., 0., 1., 1., 1., 1., 1., 1., 1., 1.],\n",
       "       [0., 0., 0., 1., 1., 1., 1., 1., 1., 1.],\n",
       "       [0., 0., 0., 0., 1., 1., 1., 1., 1., 1.],\n",
       "       [0., 0., 0., 0., 0., 1., 1., 1., 1., 1.],\n",
       "       [0., 0., 0., 0., 0., 0., 1., 1., 1., 1.],\n",
       "       [0., 0., 0., 0., 0., 0., 0., 1., 1., 1.],\n",
       "       [0., 0., 0., 0., 0., 0., 0., 0., 1., 1.],\n",
       "       [0., 0., 0., 0., 0., 0., 0., 0., 0., 1.]])"
      ]
     },
     "execution_count": 70,
     "metadata": {},
     "output_type": "execute_result"
    }
   ],
   "source": [
    "C = np.triu(np.ones((10,10)))\n",
    "C"
   ]
  },
  {
   "cell_type": "markdown",
   "metadata": {},
   "source": [
    "D = macierz rozmiaru 2 x 100, w której pierwszy wiersz zawiera elementy d1i = 1 + 2 + … + i, a\n",
    "drugi wiersz zawiera elementy d2i = i!"
   ]
  },
  {
   "cell_type": "code",
   "execution_count": 3,
   "metadata": {},
   "outputs": [],
   "source": [
    "D1 = np.cumsum(np.arange(1,101))\n",
    "D2 = np.cumprod(np.arange(1,101), dtype=np.float)\n",
    "D = np.append(D1,D2).reshape(2,100)"
   ]
  },
  {
   "cell_type": "markdown",
   "metadata": {},
   "source": [
    "E = macierz rozmiaru 100 x 100 mająca 1 w pozycji (i, j), jeśli i dzieli j, lub 0 w przeciwnym\n",
    "przypadku. "
   ]
  },
  {
   "cell_type": "code",
   "execution_count": 5,
   "metadata": {},
   "outputs": [],
   "source": [
    "E = np.array([[0 if i % j else 1 for j in range(1, 101)] for i in range(1, 101)])\n"
   ]
  },
  {
   "cell_type": "code",
   "execution_count": null,
   "metadata": {},
   "outputs": [],
   "source": []
  }
 ],
 "metadata": {
  "kernelspec": {
   "display_name": "Python 3",
   "language": "python",
   "name": "python3"
  },
  "language_info": {
   "codemirror_mode": {
    "name": "ipython",
    "version": 3
   },
   "file_extension": ".py",
   "mimetype": "text/x-python",
   "name": "python",
   "nbconvert_exporter": "python",
   "pygments_lexer": "ipython3",
   "version": "3.7.3"
  },
  "toc-autonumbering": true,
  "toc-showmarkdowntxt": true
 },
 "nbformat": 4,
 "nbformat_minor": 4
}
