{
 "cells": [
  {
   "cell_type": "markdown",
   "metadata": {},
   "source": [
    "#### Zadanie 0. \n",
    "(rozgrzewkowe, 1 punkt, zadanie należy przesłać emailem) <br/>\n",
    "Utwórz skrypt definiujący poniższe zmienne: <br/>\n",
    "- a = [1, 2, 3, 4, …, 100] (wektor złożony z liczb całkowitych od 1 do 100) \n",
    "- b = [1, 3, 5, 7, …, 99] (wektor złożony z liczb całkowitych nieparzystych od 1 do 99)\n",
    "- c = [-1.00 * π, -0.99 * π, …, -0.01 * π, 0, 0.01 * π, …, 0.99 * π, 1.00 * π]\n",
    "- d = [-1.00 * π, -0.99 * π, …, -0.01 * π, 0.01 * π, …, 0.99 * π, 1.00 * π]\n",
    "- e = [e1, e2, …, e100], gdzie ei= sin(i), jeśli sin(i) > 0, lub ei = 0 w przeciwnym przypadku\n",
    "<br/>\n",
    "- A = macierz rozmiaru 10 x 10 zawierająca liczby całkowite od 1 do 100: w pierwszym wierszu od lewej 1, 2, …, w drugim wierszu od lewej 11, 12, .., itd.\n",
    "- B = macierz trójdiagonalna rozmiaru 100 x 100 mająca na głównej przekątnej liczby całkowite od 1 do 100, a poniżej i powyżej głównej przekątnej liczby od 99 do 1\n",
    "- C = macierz trójkątna górna wypełniona jedynkami (łącznie z główną przekątną)\n",
    "- D = macierz rozmiaru 2 x 100, w której pierwszy wiersz zawiera elementy d1i = 1 + 2 + … + i, a drugi wiersz zawiera elementy d2i = i!\n",
    "- E = macierz rozmiaru 100 x 100 mająca 1 w pozycji (i, j), jeśli i dzieli j, lub 0 w przeciwnym przypadku. \n"
   ]
  },
  {
   "cell_type": "code",
   "execution_count": 47,
   "metadata": {},
   "outputs": [],
   "source": [
    "a = [1:1: 100];\n",
    "b = [1:2: 100];\n",
    "c = [-1 * pi : 0.01 * pi : pi];\n",
    "c = round(c .* 10 ^ 6) / 10^6;\n",
    "d = c(c~=0);\n",
    "e = [sin(1:1:100) .* (sin(1:1:100) > 0)];"
   ]
  },
  {
   "cell_type": "code",
   "execution_count": 67,
   "metadata": {},
   "outputs": [],
   "source": [
    "A = reshape(a, [10,10]);\n",
    "B = diag(1:1:100) + diag(99:-1:1,-1) + diag(99:-1:1,1);\n",
    "C = triu(ones(10,10));\n",
    "D = [cumsum(1:1:100);factorial(1:1:100)];\n",
    "\n",
    "E = ones(100,100);\n",
    "for i = 1:100\n",
    "  for j = 1:100\n",
    "    E(i,j) = mod(j,i) == 0;\n",
    "  endfor\n",
    "endfor"
   ]
  }
 ],
 "metadata": {
  "kernelspec": {
   "display_name": "Octave",
   "language": "octave",
   "name": "octave"
  },
  "language_info": {
   "file_extension": ".m",
   "help_links": [
    {
     "text": "GNU Octave",
     "url": "https://www.gnu.org/software/octave/support.html"
    },
    {
     "text": "Octave Kernel",
     "url": "https://github.com/Calysto/octave_kernel"
    },
    {
     "text": "MetaKernel Magics",
     "url": "https://metakernel.readthedocs.io/en/latest/source/README.html"
    }
   ],
   "mimetype": "text/x-octave",
   "name": "octave",
   "version": "5.1.0"
  },
  "toc-autonumbering": false,
  "toc-showmarkdowntxt": false
 },
 "nbformat": 4,
 "nbformat_minor": 4
}
