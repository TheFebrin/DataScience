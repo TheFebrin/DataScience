{
 "cells": [
  {
   "cell_type": "markdown",
   "metadata": {
    "toc-hr-collapsed": false
   },
   "source": [
    "#### Zadanie 1. (1 punkt)\n",
    "a) Niech x, y, w będą wektorami kolumnowymi ustalonej długości d. <br/>\n",
    "Policz:  <br/>\n",
    "- długość wektora x,\n",
    "- średnią ważoną wektora x z wagami w,\n",
    "- odległość euklidesową między wektorami x i y,\n",
    "- iloczyn skalarny wektorów x i y.\n",
    "Obliczenia przeprowadź dla losowo wygenerowanych wektorów x, y, w (dla d = 100). "
   ]
  },
  {
   "cell_type": "code",
   "execution_count": 7,
   "metadata": {},
   "outputs": [
    {
     "name": "stdout",
     "output_type": "stream",
     "text": [
      "len_x =  6.2308\n",
      "mean_xw =  0.53051\n",
      "dist =  4.5411\n",
      "dot_prod =  26.450\n"
     ]
    }
   ],
   "source": [
    "d = 100;\n",
    "\n",
    "x = rand(d,1);\n",
    "y = rand(d,1);\n",
    "w = rand(d,1);\n",
    "\n",
    "len_x = sqrt(sum(x.**2))\n",
    "mean_xw = sum(x.*w)/sum(w)\n",
    "dist = sqrt(sum((x.-y).**2))\n",
    "dot_prod = sum(x.*y)"
   ]
  },
  {
   "cell_type": "markdown",
   "metadata": {},
   "source": [
    "b) Niech X będzie macierzą ustalonego rozmiaru d x N zawierającą N wektorów kolumnowych <br/>\n",
    "długości d. Niech y i w będą wektorami kolumnowymi długości d. <br/>\n",
    "Policz <br/> \n",
    "- długości kolejnych wektorów z macierzy X (wyznacz wektor długości N zawierający tedługości),\n",
    "- średnią ważoną kolejnych wektorów z macierzy X z wagami w (wyznacz wektor długości Nzawierający te średnie),\n",
    "- odległości euklidesowe między kolejnymi wektorami z macierzy X i wektorem y (wyznaczwektor długości N zawierający te odległości),\n",
    "- iloczyny skalarne kolejnych wektorów z macierzy X i wektora y (wyznacz wektor długości Nzawierający te iloczyny).\n",
    "Obliczenia przeprowadź dla losowo wy <br/>"
   ]
  },
  {
   "cell_type": "code",
   "execution_count": 12,
   "metadata": {},
   "outputs": [],
   "source": [
    "N = 1000;\n",
    "\n",
    "X = rand(d, N);\n",
    "\n",
    "lens = sqrt(sum(X.**2));\n",
    "means_w = sum(X.*w) ./ sum(w);\n",
    "dists = sqrt(sum((X.-y).**2));\n",
    "dot_prods = sum(X.*y);"
   ]
  },
  {
   "cell_type": "markdown",
   "metadata": {},
   "source": [
    "#### Zadanie 2. (1 punkt)\n",
    "Napisz funkcję, która dla danych macierzy X i Y ustalonego rozmiaru d x N i d x M odpowiednio, <br/>\n",
    "zawierających N i M wektorów kolumnowych długości d, wyznacza macierz odległości <br/>\n",
    "euklidesowych między wektorami tych macierzy, tzn. macierz D rozmiaru N x M, <br/>\n",
    "gdzie D(i, j) to odległości między i-tym wektorem z macierzy X i j-tym wektorem z macierzy Y. <br/>\n",
    "Oblicz czas działania napisanej funkcji dla losowo wygenerowanych macierzy X i Y dla d = 100 i N = M = 1 000 <br/>\n",
    "oraz dla d = 100, N = 10 000 i M = 1 000.  <br/>"
   ]
  },
  {
   "cell_type": "code",
   "execution_count": 14,
   "metadata": {},
   "outputs": [],
   "source": [
    "function [dists] = matrix_of_dists (X, Y)\n",
    "  dists = sqrt((-2 .* X' * Y) .+ (sum(X.**2)') .+ (sum(Y.**2)));\n",
    "end"
   ]
  },
  {
   "cell_type": "code",
   "execution_count": 19,
   "metadata": {},
   "outputs": [
    {
     "name": "stdout",
     "output_type": "stream",
     "text": [
      "Elapsed time is 0.0599818 seconds.\n",
      "Elapsed time is 0.530747 seconds.\n"
     ]
    }
   ],
   "source": [
    "N = M = 1000;\n",
    "d = 100;\n",
    "\n",
    "X = rand(d, N);\n",
    "Y = rand(d, M);\n",
    "\n",
    "tic;\n",
    "dists = matrix_of_dists(X,Y);\n",
    "toc\n",
    "\n",
    "N = 10000; M = 1000;\n",
    "\n",
    "X2 = rand(d, N);\n",
    "Y2 = rand(d, M);\n",
    "tic;\n",
    "dists = matrix_of_dists(X2,Y2);\n",
    "toc"
   ]
  },
  {
   "cell_type": "markdown",
   "metadata": {},
   "source": [
    "#### Zadanie 3. (1 punkt)\n",
    "Napisz funkcję, która dla danych macierzy X i Y ustalonego rozmiaru d x N i d x M odpowiednio, <br/>\n",
    "zawierających N i M wektorów kolumnowych długości d, wyznacza dla każdego wektora z<br/>\n",
    "macierzy X najbliższego sąsiada spośród wektorów z macierzy Y, tzn. zwraca wektor h rozmiaru 1<br/>\n",
    "x N, gdzie h(i) to numer wektora z macierzy Y będącego najbliższym sąsiadem i-tego wektora z<br/>\n",
    "macierzy X. Napisz też wersję tej funkcji, która wyznacza k najbliższych sąsiadów, tzn. zwraca<br/>\n",
    "macierz H rozmiaru k x N, gdzie H(i, j) to numer wektora z macierzy Y będącego i-tym najbliższym<br/>\n",
    "sąsiadem j-tego wektora z macierzy X (czyli h(j) = H(1, j)). <br/>\n"
   ]
  },
  {
   "cell_type": "code",
   "execution_count": 104,
   "metadata": {},
   "outputs": [],
   "source": [
    "function [argmins] = NN (X, Y)\n",
    "  [mins, argmins] = min(((-2 .* X' * Y) .+ (sum(X.**2)') .+ (sum(Y.**2)))');\n",
    "end\n",
    "\n",
    "function [knn] = KNN (X, Y, k)\n",
    "  [a,b] = sort(((-2 .* X' * Y) .+ (sum(Y.**2)))');\n",
    "  knn = b(1:k,:);\n",
    "end"
   ]
  },
  {
   "cell_type": "code",
   "execution_count": 105,
   "metadata": {},
   "outputs": [
    {
     "name": "stdout",
     "output_type": "stream",
     "text": [
      "X =\n",
      "\n",
      "   0.263780   0.563452   0.907942   0.877477   0.696171\n",
      "   0.093409   0.229168   0.693631   0.520385   0.551830\n",
      "   0.562056   0.132783   0.193109   0.484554   0.279624\n",
      "\n",
      "Y =\n",
      "\n",
      "   0.091475   0.813654   0.199680   0.933779   0.966719\n",
      "   0.195627   0.094851   0.306375   0.836451   0.295464\n",
      "   0.626958   0.728339   0.806638   0.313682   0.864927\n",
      "\n",
      "nearest_n =\n",
      "\n",
      "   1   2   4   4   4\n",
      "\n",
      "knn =\n",
      "\n",
      "   1   2   4   4   4\n",
      "   3   1   5   5   2\n",
      "   2   4   2   2   5\n",
      "\n"
     ]
    }
   ],
   "source": [
    "N = M = 5;\n",
    "d = 3;\n",
    "\n",
    "X = rand(d, N)\n",
    "Y = rand(d, M)\n",
    "\n",
    "nearest_n = NN(X,Y)\n",
    "\n",
    "k = 3;\n",
    "knn = KNN(X, Y, k)"
   ]
  },
  {
   "cell_type": "markdown",
   "metadata": {},
   "source": [
    "#### Zadanie 4. (1 punkt)\n",
    "Utwórz skrypt generujący losowe sudoku, tzn. macierz M rozmiaru 9x9 zawierającą liczby 1, 2, …, 9,<br/>\n",
    "taką, że w każdym wierszu każda z liczb występuje dokładnie jeden raz, w każdej kolumnie <br/>\n",
    "każda z liczb występuje dokładnie jeden raz oraz w każdej klatce 3x3, powstałej przez podział<br/>\n",
    "macierzy M dwoma liniami pionowymi i dwoma liniami poziomymi, każda z liczb występuje<br/>\n",
    "dokładnie jeden raz. <br/>\n"
   ]
  },
  {
   "cell_type": "code",
   "execution_count": 135,
   "metadata": {},
   "outputs": [],
   "source": [
    "# first generate 3 diagonal 3x3 squares at random\n",
    "# they are independent\n",
    "\n",
    "S1 = reshape(randperm(9), [3,3]);\n",
    "S2 = reshape(randperm(9), [3,3]);\n",
    "S3 = reshape(randperm(9), [3,3]);\n",
    "Z = zeros(3);\n",
    "\n",
    "global M = [ S1, Z, Z,\n",
    "             Z, S2, Z,\n",
    "             Z, Z, S3\n",
    "             ]\n",
    "# generate rest using backtracking\n",
    "# TODO"
   ]
  },
  {
   "cell_type": "code",
   "execution_count": 41,
   "metadata": {},
   "outputs": [
    {
     "name": "stdout",
     "output_type": "stream",
     "text": [
      "SUDOKU =\n",
      "\n",
      "   9   6   5   4   3   7   1   2   8\n",
      "   3   7   4   1   8   2   5   6   9\n",
      "   8   2   1   5   9   6   4   7   3\n",
      "   2   4   3   8   6   1   9   5   7\n",
      "   6   1   8   9   7   5   3   4   2\n",
      "   7   5   9   3   2   4   8   1   6\n",
      "   1   3   2   6   5   8   7   9   4\n",
      "   5   8   6   7   4   9   2   3   1\n",
      "   4   9   7   2   1   3   6   8   5\n",
      "\n",
      "Sum in row: 45\n",
      "Sum in row: 45\n",
      "Sum in row: 45\n",
      "Sum in row: 45\n",
      "Sum in row: 45\n",
      "Sum in row: 45\n",
      "Sum in row: 45\n",
      "Sum in row: 45\n",
      "Sum in row: 45\n",
      "Sum in column: 45\n",
      "Sum in column: 45\n",
      "Sum in column: 45\n",
      "Sum in column: 45\n",
      "Sum in column: 45\n",
      "Sum in column: 45\n",
      "Sum in column: 45\n",
      "Sum in column: 45\n",
      "Sum in column: 45\n",
      "\n",
      "Sum in square 1 1 = 45\n",
      "Sum in square 1 4 = 45\n",
      "Sum in square 1 7 = 45\n",
      "Sum in square 4 1 = 45\n",
      "Sum in square 4 4 = 45\n",
      "Sum in square 4 7 = 45\n",
      "Sum in square 7 1 = 45\n",
      "Sum in square 7 4 = 45\n",
      "Sum in square 7 7 = 45\n"
     ]
    }
   ],
   "source": [
    "# simple solution\n",
    "\n",
    "first_row = randperm(9);\n",
    "M = zeros(9, 9);\n",
    "for i = 0:8\n",
    "  for j = 0:8\n",
    "    M(i + 1, j + 1) = first_row(mod(3 * mod(i, 3) + fix(i / 3) + j, 9) + 1);\n",
    "  end\n",
    "end\n",
    "\n",
    "% M\n",
    "\n",
    "r = randperm(3);\n",
    "j = 1;\n",
    "rows = 1:9;\n",
    "for i = r\n",
    "    rows(j:j + 2) = randperm(3) + 3 * (i - 1);\n",
    "    j = j + 3;\n",
    "end\n",
    "\n",
    "r = randperm(3);\n",
    "j = 1;\n",
    "cols = 1:9;\n",
    "for i = r\n",
    "    cols(j:j+2) = randperm(3) + 3*(i-1);\n",
    "    j = j+3;\n",
    "endfor\n",
    "\n",
    "SUDOKU = zeros(9,9);\n",
    "for i = 1:9\n",
    "  for j = 1:9\n",
    "    SUDOKU(i,j) = M(rows(i),cols(j));\n",
    "  endfor\n",
    "endfor\n",
    "  \n",
    "SUDOKU\n",
    "\n",
    "% Check if it's valid\n",
    "\n",
    "fprintf('Sum in row: %d\\n', sum(SUDOKU,1))\n",
    "fprintf('Sum in column: %d\\n', sum(SUDOKU,2))\n",
    "fprintf('\\n')\n",
    "\n",
    "for i = 1:3:9\n",
    "  for j = 1:3:9\n",
    "    fprintf(\"Sum in square %d %d = %d\\n\", i, j, sum(sum(SUDOKU(i:i + 2, j:j + 2))))\n",
    "  endfor\n",
    "endfor"
   ]
  },
  {
   "cell_type": "markdown",
   "metadata": {},
   "source": [
    "#### Zadanie 5. (bonusowe, 1 punkt)\n",
    "Zapoznaj się z paradoksem Monty’ego Halla (który był podstawą teleturniejów telewizyjnych <br/>\n",
    "\"Let’s make a deal\", w polskiej wersji \"Idź na całość\"). Napisz skrypt symulujący taki teleturniej.  <br/>\n",
    "Przeprowadź minimum 10 000 prób i oszacuj prawdopodobieństwo wygranej dla strategii  <br/>\n",
    "pozostawania przy swoim wyborze oraz dla strategii zmiany wyboru.  <br/>\n"
   ]
  },
  {
   "cell_type": "code",
   "execution_count": 252,
   "metadata": {},
   "outputs": [
    {
     "name": "stdout",
     "output_type": "stream",
     "text": [
      "Stay: 33.9\n",
      "Change: 66.1\n"
     ]
    }
   ],
   "source": [
    "function res = play(strategy)\n",
    "%     1 - stay\n",
    "%     2 - change\n",
    "    car = randi(3);\n",
    "    choice = randi(3);\n",
    "    \n",
    "    res = [choice == car, choice != car];\n",
    "end\n",
    "\n",
    "stay = 0;\n",
    "change = 0;\n",
    "N = 10000;\n",
    "for i = 1:N\n",
    "    res = play();\n",
    "    if res(1)\n",
    "        stay = stay + 1;\n",
    "    end\n",
    "    \n",
    "    if res(2)\n",
    "        change = change + 1;\n",
    "    end\n",
    "end\n",
    "\n",
    "fprintf(\"Stay: %d\\n\", (stay / N) * 100)\n",
    "fprintf(\"Change: %d\\n\", (change / N) * 100)"
   ]
  }
 ],
 "metadata": {
  "kernelspec": {
   "display_name": "Octave",
   "language": "octave",
   "name": "octave"
  },
  "language_info": {
   "file_extension": ".m",
   "help_links": [
    {
     "text": "GNU Octave",
     "url": "https://www.gnu.org/software/octave/support.html"
    },
    {
     "text": "Octave Kernel",
     "url": "https://github.com/Calysto/octave_kernel"
    },
    {
     "text": "MetaKernel Magics",
     "url": "https://metakernel.readthedocs.io/en/latest/source/README.html"
    }
   ],
   "mimetype": "text/x-octave",
   "name": "octave",
   "version": "5.1.0"
  },
  "toc-autonumbering": false
 },
 "nbformat": 4,
 "nbformat_minor": 4
}
