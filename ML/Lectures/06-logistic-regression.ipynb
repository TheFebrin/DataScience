{
  "nbformat": 4,
  "nbformat_minor": 0,
  "metadata": {
    "colab": {
      "name": "06-logistic-regression.ipynb",
      "provenance": [],
      "collapsed_sections": [],
      "toc_visible": true
    },
    "kernelspec": {
      "display_name": "Python 3",
      "language": "python",
      "name": "python3"
    },
    "language_info": {
      "codemirror_mode": {
        "name": "ipython",
        "version": 3
      },
      "file_extension": ".py",
      "mimetype": "text/x-python",
      "name": "python",
      "nbconvert_exporter": "python",
      "pygments_lexer": "ipython3",
      "version": "3.7.3"
    }
  },
  "cells": [
    {
      "cell_type": "code",
      "metadata": {
        "colab_type": "code",
        "id": "KdNFuudzL007",
        "colab": {}
      },
      "source": [
        "# Please note that this code needs only to be run in a fresh runtime.\n",
        "# However, it can be rerun afterwards too.\n",
        "!pip install -q gdown httpimport\n",
        "![ -e cifar.npz ] || gdown 'https://drive.google.com/uc?id=1oBzZdtg2zNTPGhbRy6DQ_wrf5L5OAhNR' -O cifar.npz\n",
        "![ -e mnist.npz ] || gdown 'https://drive.google.com/uc?id=1QPaC3IKB_5tX6yIZgRgkpcqFrfVqPTXU' -O mnist.npz"
      ],
      "execution_count": 0,
      "outputs": []
    },
    {
      "cell_type": "code",
      "metadata": {
        "colab_type": "code",
        "id": "_nEUuMnl8pfO",
        "outputId": "a7c106f6-1847-42d3-f7c8-99b82274fe90",
        "colab": {
          "base_uri": "https://localhost:8080/",
          "height": 34
        }
      },
      "source": [
        "%pylab inline"
      ],
      "execution_count": 0,
      "outputs": [
        {
          "output_type": "stream",
          "text": [
            "Populating the interactive namespace from numpy and matplotlib\n"
          ],
          "name": "stdout"
        }
      ]
    },
    {
      "cell_type": "code",
      "metadata": {
        "colab_type": "code",
        "id": "e5whWOXe8pfX",
        "colab": {}
      },
      "source": [
        "from __future__ import absolute_import\n",
        "from __future__ import division\n",
        "from __future__ import print_function"
      ],
      "execution_count": 0,
      "outputs": []
    },
    {
      "cell_type": "code",
      "metadata": {
        "colab_type": "code",
        "id": "yg0qHw_R8pfa",
        "colab": {}
      },
      "source": [
        "import os\n",
        "import sys\n",
        "\n",
        "import pandas as pd\n",
        "\n",
        "from matplotlib import animation, pyplot, rc\n",
        "\n",
        "import httpimport\n",
        "with httpimport.github_repo('janchorowski', 'nn_assignments', \n",
        "                            module='common', branch='nn18'):\n",
        "     from common.plotting import plot_mat"
      ],
      "execution_count": 0,
      "outputs": []
    },
    {
      "cell_type": "code",
      "metadata": {
        "cellView": "both",
        "colab_type": "code",
        "id": "P3CTSLf6LToe",
        "colab": {}
      },
      "source": [
        "#@title Logistic regression implementation\n",
        "#This code is part of homework assignment and is removed on purpose\n"
      ],
      "execution_count": 0,
      "outputs": []
    },
    {
      "cell_type": "markdown",
      "metadata": {
        "colab_type": "text",
        "id": "IY5pR6fh8pfh"
      },
      "source": [
        "Suppose you have gathered some data about heights and weight of people (the dataset we will use comes form https://vincentarelbundock.github.io/Rdatasets/datasets.html). The data contains information about the self-reported and measured heights and weights along with the sex of each person."
      ]
    },
    {
      "cell_type": "code",
      "metadata": {
        "colab_type": "code",
        "id": "RKLZf9Vy8pfi",
        "outputId": "3b241e4e-08f8-486d-9629-8ad13be85341",
        "colab": {
          "base_uri": "https://localhost:8080/",
          "height": 204
        }
      },
      "source": [
        "data = pd.read_csv('https://raw.githubusercontent.com/janchorowski/nn_assignments/nn18/lectures/03-davis.csv',\n",
        "                   index_col=0)\n",
        "data.head()"
      ],
      "execution_count": 0,
      "outputs": [
        {
          "output_type": "execute_result",
          "data": {
            "text/html": [
              "<div>\n",
              "<style scoped>\n",
              "    .dataframe tbody tr th:only-of-type {\n",
              "        vertical-align: middle;\n",
              "    }\n",
              "\n",
              "    .dataframe tbody tr th {\n",
              "        vertical-align: top;\n",
              "    }\n",
              "\n",
              "    .dataframe thead th {\n",
              "        text-align: right;\n",
              "    }\n",
              "</style>\n",
              "<table border=\"1\" class=\"dataframe\">\n",
              "  <thead>\n",
              "    <tr style=\"text-align: right;\">\n",
              "      <th></th>\n",
              "      <th>sex</th>\n",
              "      <th>weight</th>\n",
              "      <th>height</th>\n",
              "      <th>repwt</th>\n",
              "      <th>repht</th>\n",
              "    </tr>\n",
              "  </thead>\n",
              "  <tbody>\n",
              "    <tr>\n",
              "      <th>1</th>\n",
              "      <td>M</td>\n",
              "      <td>77</td>\n",
              "      <td>182</td>\n",
              "      <td>77.0</td>\n",
              "      <td>180.0</td>\n",
              "    </tr>\n",
              "    <tr>\n",
              "      <th>2</th>\n",
              "      <td>F</td>\n",
              "      <td>58</td>\n",
              "      <td>161</td>\n",
              "      <td>51.0</td>\n",
              "      <td>159.0</td>\n",
              "    </tr>\n",
              "    <tr>\n",
              "      <th>3</th>\n",
              "      <td>F</td>\n",
              "      <td>53</td>\n",
              "      <td>161</td>\n",
              "      <td>54.0</td>\n",
              "      <td>158.0</td>\n",
              "    </tr>\n",
              "    <tr>\n",
              "      <th>4</th>\n",
              "      <td>M</td>\n",
              "      <td>68</td>\n",
              "      <td>177</td>\n",
              "      <td>70.0</td>\n",
              "      <td>175.0</td>\n",
              "    </tr>\n",
              "    <tr>\n",
              "      <th>5</th>\n",
              "      <td>F</td>\n",
              "      <td>59</td>\n",
              "      <td>157</td>\n",
              "      <td>59.0</td>\n",
              "      <td>155.0</td>\n",
              "    </tr>\n",
              "  </tbody>\n",
              "</table>\n",
              "</div>"
            ],
            "text/plain": [
              "  sex  weight  height  repwt  repht\n",
              "1   M      77     182   77.0  180.0\n",
              "2   F      58     161   51.0  159.0\n",
              "3   F      53     161   54.0  158.0\n",
              "4   M      68     177   70.0  175.0\n",
              "5   F      59     157   59.0  155.0"
            ]
          },
          "metadata": {
            "tags": []
          },
          "execution_count": 6
        }
      ]
    },
    {
      "cell_type": "markdown",
      "metadata": {
        "colab_type": "text",
        "id": "RW-bqdK08pfn"
      },
      "source": [
        "Knowing the height of a person, can we predict the sex?\n",
        "\n",
        "Clearly, the average male is taller than the average woman. We notice that in our dataset there are no woman above 180 cm and no man below 160 cm. Predicting the sex in those regions seems easy, however what about someone 170 cm tall?\n",
        "\n",
        "What would like to build a model that can predict the conditional probability of sex given the height of a person. The input to the model is going to be a single real-valued number, the height, while the output needs to be a probability value, that is a real number form the $[0,1]$ range.\n",
        "\n",
        "Please note thet for visualization purposes a small jitter is added to the encoded sex variable. It helps to see overlapping points."
      ]
    },
    {
      "cell_type": "code",
      "metadata": {
        "colab_type": "code",
        "id": "mGPSb4fq8pfo",
        "outputId": "8d2dbff9-ea4b-4536-adc9-bf6068594038",
        "colab": {
          "base_uri": "https://localhost:8080/",
          "height": 279
        }
      },
      "source": [
        "jitter=0.10\n",
        "scatter(data.height, (data.sex=='M') + (np.random.rand(*data.sex.shape)* 2.0 - 1.0) * jitter, \n",
        "        c=data.sex=='M', cmap='spring', alpha=0.3)\n",
        "xlim(140,200)\n",
        "xlabel('height [cm]')\n",
        "ylabel('sex 1-Man, 0-Woman')\n",
        "grid(True)"
      ],
      "execution_count": 0,
      "outputs": [
        {
          "output_type": "display_data",
          "data": {
            "image/png": "[encoded data removed]",
            "text/plain": [
              "<Figure size 432x288 with 1 Axes>"
            ]
          },
          "metadata": {
            "tags": []
          }
        }
      ]
    },
    {
      "cell_type": "markdown",
      "metadata": {
        "colab_type": "text",
        "id": "FCS7Az3b8pfs"
      },
      "source": [
        "## Logistic regression is for classification\n",
        "\n",
        "We have learned about linear regression - predicting the value of a continuous variable. This was the task in the house pricing and the height vs weight problems we have seen. However, a linear regression model has an unbounded output. To predict the class of a sample (in our example the sex of a person) we want a bounded output.\n",
        "\n",
        "To solve this problem we will use a *squashing function* to confine the model's outputs to the $(0,1)$ range. A very popular function is the logistic sigmoid:\n",
        "$$ \\sigma(z) = \\frac{1}{1+e^{-z}} $$\n",
        "\n",
        "Please note, that we can try to fit a model without the squashing function. We can just treat the binary class identifier as a numerical value, and fit the model to it, that is we want the model to output a number close to 0 for one class and close to 1 for the other class. However, this simplified approach has certain disadvantages. For instance, how do we interpret an output of 2? Is the model extremely confident about its output? Why do we penalize an output of 2 in the same way as the output of 0 (the distance from the target 1 is the same in both cases)?"
      ]
    },
    {
      "cell_type": "code",
      "metadata": {
        "colab_type": "code",
        "id": "l7SaMefp8pfu",
        "outputId": "02fab5c1-6a33-4c8f-92a5-f9a41d7b4ae5",
        "colab": {
          "base_uri": "https://localhost:8080/",
          "height": 298
        }
      },
      "source": [
        "z = linspace(-6,6,100)\n",
        "plot(z, 1/(1+exp(-z)))\n",
        "title('The logistic sigmoid function')"
      ],
      "execution_count": 0,
      "outputs": [
        {
          "output_type": "execute_result",
          "data": {
            "text/plain": [
              "Text(0.5, 1.0, 'The logistic sigmoid function')"
            ]
          },
          "metadata": {
            "tags": []
          },
          "execution_count": 8
        },
        {
          "output_type": "display_data",
          "data": {
            "image/png": "[encoded data removed]",
            "text/plain": [
              "<Figure size 432x288 with 1 Axes>"
            ]
          },
          "metadata": {
            "tags": []
          }
        }
      ]
    },
    {
      "cell_type": "markdown",
      "metadata": {
        "colab_type": "text",
        "id": "suFrszWl8pfz"
      },
      "source": [
        "## Logistic regression hypothesis\n",
        "\n",
        "Our hypothesis space contains functions $h(x;\\Theta) = \\sigma(\\Theta^Tx)$. Since for all $x$ we have that $h(x,\\Theta)\\in[0,1]$, we can treat the value $h(x,\\Theta)$ as the conditional probability of the sample $x$ belonging to class 1:\n",
        "\n",
        "$$\n",
        "p(y=1|x;\\Theta) = h(x,\\Theta) = \\sigma(\\Theta^Tx) = \\frac{1}{1+e^{-\\Theta^Tx}}\n",
        "$$\n",
        "\n",
        "## Logistic regression loss function\n",
        "\n",
        "We will again use the maximum likelihood principle. Please observe that:\n",
        "\n",
        "$$\n",
        "\\begin{align}\n",
        "p(y=y^{(i)}|x^{(i)};\\Theta) &=\n",
        "\\begin{cases}\n",
        "p(y=1|x;\\Theta) &\\text{if} y^{(i)}=1 \\\\\n",
        "1-p(y=1|x;\\Theta) &\\text{if} y^{(i)}=0\n",
        "\\end{cases}\n",
        "\\\\ &= p(y=1|x;\\Theta)^{y^{(i)}}(1-p(y=1|x;\\Theta))^{(1-y^{(i)})}\n",
        "\\\\ &= \\sigma(\\Theta^Tx)^{y^{(i)}}(1-\\sigma(\\Theta^Tx))^{(1-y^{(i)})}\n",
        "\\end{align}\n",
        "$$\n",
        "\n",
        "Therefore the negative log likelihood ($nll$) is:\n",
        "$$\n",
        "\\begin{split}\n",
        "nll(\\Theta) &= -\\sum_{i=1}^{N} y^{(i)} \\log \\sigma(\\Theta^Tx) + (1-y^{(i)})\\log(1-\\sigma(\\Theta^Tx)) = \\\\\n",
        "&= -\\sum_{i=1}^{N}y^{(i)}\\log p(y=1|x^{(i)}; \\Theta) + (1-y^{(i)})\\log  p(y=0|x^{(i)}; \\Theta)\n",
        "\\end{split}\n",
        "$$\n",
        "\n",
        "This loss function is often referred to as the *cross-entropy* loss.\n",
        "\n",
        "## Logistic regression training\n",
        "\n",
        "To fit the logistic regression model we will again need to compute the gradient of the loss function. We will do it in steps. First please observe how simple is the gradient of the logistic sigmoid function:\n",
        "\n",
        "$$ \\frac{\\partial}{\\partial z}\\sigma(z) = \\sigma(z)(1-\\sigma(z))$$\n",
        "\n",
        "Now let $z^{(i)} = \\Theta^Tx^{(i)}$. First lets compute the gradient of the loss on a single sample $nll^{(i)}$:\n",
        "\n",
        "$$\n",
        "\\frac{\\partial nll^{(i)}(\\Theta)}{\\partial \\Theta} = \\frac{\\partial nll^{(i)}}{\\partial z^{(i)}}\\frac{\\partial z^{(i)}}{\\partial\\Theta}\n",
        "$$\n",
        "\n",
        "The derivative of the first term on the right hand turns out to be very simple:\n",
        "\n",
        "$$\n",
        "\\begin{align}\n",
        "\\frac{\\partial nll^{(i)}}{\\partial z^{(i)}} &= \\frac{\\partial -\\left(y^{(i)} \\log \\sigma(z^{(i)}) + (1-y^{(i)})\\log(1-\\sigma(z^{(i)}))\\right)}{\\partial z^{(i)}} \\\\\n",
        "&= -y^{(i)}\\frac{\\sigma(z^{(i)})(1-\\sigma(z^{(i)}))}{\\sigma(z^{(i)})} + \n",
        "(1-y^{(i)})\\frac{\\sigma(z^{(i)})(1-\\sigma(z^{(i)}))}{1-\\sigma(z^{(i)})} \\\\\n",
        "&= -y^{(i)}(1-\\sigma(z^{(i)})) + (1-y^{(i)})\\sigma(z^{(i)})\\\\\n",
        "&=\\sigma(z^{(i)})-y^{(i)}\n",
        "\\end{align}\n",
        "$$\n",
        "\n",
        "The second term $\\frac{\\partial z^{(i)}}{\\partial\\Theta}$ is also easy:\n",
        "\n",
        "$$\n",
        "\\frac{\\partial z^{(i)}}{\\partial\\Theta} = \\frac{\\partial \\Theta^Tx^{(i)}}{\\partial\\Theta} = x^{(i)}\n",
        "$$\n",
        "\n",
        "Taken together the loss derivative is:\n",
        "\n",
        "$$\n",
        "\\frac{\\partial nll(\\Theta)}{\\partial \\Theta} = \\sum_{i=1}^{N}\\frac{\\partial nll^{(i)}}{\\partial z^{(i)}} = \\sum_{i=1}^{N}\\left(\\sigma(z^{(i)})-y^{(i)}\\right)x^{(i)}\n",
        "$$\n",
        "\n",
        "The expression can be further simplified by using the data matrix $X$ (whose $i$-th column is the $i$-th sample), the target matrix $Y$, letting $Z=\\Theta^T X$, and assuming that the function $\\sigma()$ is applied separately to all elements of its input.\n",
        "\n",
        "$$\n",
        "\\frac{\\partial nll(\\Theta)}{\\partial \\Theta} = X\\left(\\sigma(Z)-Y\\right)^T\n",
        "$$\n",
        "\n",
        "Unfortunately, the gradient of the loss is no longer linear with $\\Theta$. No closed-form solution exists. Therefore we will search for the minimum of the loss function by taking small steps along the gradient of the loss. We will call this the **gradient descent**."
      ]
    },
    {
      "cell_type": "markdown",
      "metadata": {
        "colab_type": "text",
        "id": "h94G8mlL8pf0"
      },
      "source": [
        "## The Gradient Descent algorithm\n",
        "\n",
        "The algorithm is very simple:\n",
        "\n",
        "* $\\Theta \\gets $ a sane initial value\n",
        "* `While` not bored:\n",
        "    * \n",
        "$\\Theta \\gets \\Theta - \\alpha \\frac{\\partial L(\\Theta)}{\\partial\\Theta}$\n",
        "\n",
        "We make many $\\alpha$-long steps along the gradient, hoping to reach the optimum. "
      ]
    },
    {
      "cell_type": "code",
      "metadata": {
        "colab_type": "code",
        "id": "uHizVNS08pf2",
        "outputId": "9854bec2-d033-4896-870c-83e016b04263",
        "colab": {
          "base_uri": "https://localhost:8080/",
          "height": 51
        }
      },
      "source": [
        "# Note - we divide the height by 100.\n",
        "# Otherwise the simple GD algorithm will have trouble converging.\n",
        "X = np.vstack((np.ones_like(data.height), data.height/100.)).astype(float)\n",
        "print('X has shape', X.shape)\n",
        "\n",
        "Y = np.asarray(data.sex=='M')[None,:]\n",
        "print('Y has shape', Y.shape)"
      ],
      "execution_count": 0,
      "outputs": [
        {
          "output_type": "stream",
          "text": [
            "X has shape (2, 200)\n",
            "Y has shape (1, 200)\n"
          ],
          "name": "stdout"
        }
      ]
    },
    {
      "cell_type": "code",
      "metadata": {
        "colab_type": "code",
        "id": "o40GmInm8pf5",
        "outputId": "ceccf15d-6a95-46c9-945c-ea202f762542",
        "scrolled": false,
        "colab": {
          "base_uri": "https://localhost:8080/",
          "height": 51
        }
      },
      "source": [
        "#note: the step-size needs to be tuned!\n",
        "ThetaOpt, history = logreg(X, Y, alpha=1e-0, stop_tolerance=1e-8, max_steps=100000)\n",
        "print(len(history))\n",
        "print(ThetaOpt)"
      ],
      "execution_count": 0,
      "outputs": [
        {
          "output_type": "stream",
          "text": [
            "56407\n",
            "[-63.1462792   36.77890007]\n"
          ],
          "name": "stdout"
        }
      ]
    },
    {
      "cell_type": "code",
      "metadata": {
        "colab_type": "code",
        "id": "-yd-9GWv8pf_",
        "outputId": "a823b648-26b7-463e-c132-3032e828b1a4",
        "colab": {
          "base_uri": "https://localhost:8080/",
          "height": 390
        }
      },
      "source": [
        "fig = plt.figure()\n",
        "ax = plt.axes(xlim=(1.40,2.05), ylim=(-0.2, 1.2))\n",
        "ax.scatter(X[1,:], Y[0,:], c=Y[0,:], cmap='spring')\n",
        "\n",
        "xx = np.vstack((np.ones((100,)), np.linspace(ax.get_xlim()[0], ax.get_xlim()[1], 100)))\n",
        "num_frames=100\n",
        "line, = ax.plot([],[])\n",
        "\n",
        "xlabel('height [m]')\n",
        "ylabel('sex 1-Man, 0-Woman')\n",
        "grid(True)\n",
        "plt.close()\n",
        "\n",
        "\n",
        "def init():\n",
        "    line.set_data([], [])\n",
        "    return line,\n",
        "\n",
        "def animate(i):\n",
        "    epoch = int(1.0*len(history)/num_frames*i)\n",
        "    Theta = history[epoch]\n",
        "    ax.set_title('Epoch %d, Theta: %s' % (epoch, Theta,))\n",
        "    yy = 1.0/(1.0 + np.exp(-Theta.T.dot(xx)))\n",
        "    line.set_data(xx[1,:], yy)\n",
        "    return line,\n",
        "\n",
        "anim = animation.FuncAnimation(fig, animate, init_func=init,\n",
        "                               frames=100, interval=30, blit=True)\n",
        "rc('animation', html='jshtml')\n",
        "anim"
      ],
      "execution_count": 0,
      "outputs": []
    },
    {
      "cell_type": "markdown",
      "metadata": {
        "colab_type": "text",
        "id": "dpxJj_XK8pgT"
      },
      "source": [
        "## Softmax regression - dealing with multiple classes\n",
        "\n",
        "When we have $k$ classes we need a model that can predict the probability distribution over all classes. An easy solution is to assume that our model has $k$ outputs, each in the range $[0,1]$ and summing to $1$.\n",
        "\n",
        "Typically, we will learn a set of parameters for each class. Therefore, $\\Theta$ will be a matrix of size $n \\times k$ where $n$ is the number of data features (including the bias terms), and $k$ is the number of classes. Therefore $z = \\Theta^T x$ will be a vector of $k$ per-class scores. We will normalize them using the SoftMax function:\n",
        "\n",
        "$$\n",
        "\\text{SoftMax}(z)_j = \\frac{e^{z_j}}{\\sum_k e^{z_k}}\n",
        "$$\n",
        "\n",
        "The model learns the function\n",
        "\n",
        "$$\n",
        "h(x, \\Theta) = \\text{SoftMax}(\\Theta^Tx).\n",
        "$$\n",
        "\n",
        "The SoftMax regression loss is the $k$-class cross-entropy:\n",
        "\n",
        "$$\n",
        "J(\\Theta) = -\\sum_{i=1}^N\\sum_k[y^{(i)}=k]\\log \\left(h(x^{(i)}, \\Theta)_k\\right)\n",
        "$$\n",
        "\n",
        "where $[y^{(i)}=k]$ is an indicator function which tajes value 1 if $y^{(i)}=k$ and 0 otherwise."
      ]
    },
    {
      "cell_type": "markdown",
      "metadata": {
        "colab_type": "text",
        "id": "HyHTkQmE8pgU"
      },
      "source": [
        "### Examples of softmax regression\n",
        "\n",
        "We can look at the results of softmax regression by picturing the parameters learned for each class.\n",
        "\n",
        "We will use two datasets containing images - MNIST and CIFAR10. They both contain samples belonging to 10 classes. Therefore for each dataset we will find a set of parameters for each of the 10 classes. Then we will display the parameters as images. We can think about them as prototype vectors sensitive to elements of a given class."
      ]
    },
    {
      "cell_type": "code",
      "metadata": {
        "colab_type": "code",
        "id": "qXrHhOaq8pgW",
        "colab": {}
      },
      "source": [
        "with np.load('mnist.npz') as data:\n",
        "    mnist_train_data = data[\n",
        "        'train_data'].astype(np.float32).reshape(-1, 28*28).T / 255.0\n",
        "    mnist_train_labels = data['train_labels']\n",
        "    mnist_test_data = data[\n",
        "        'test_data'].astype(np.float32).reshape(-1, 28*28).T / 255.0\n",
        "    mnist_test_labels = data['test_labels']"
      ],
      "execution_count": 0,
      "outputs": []
    },
    {
      "cell_type": "code",
      "metadata": {
        "colab_type": "code",
        "id": "M-NTUTsv8pgc",
        "colab": {}
      },
      "source": [
        "# note: we want to keep the number of iterations low, afterwards we may \n",
        "# start to overfit. This will firther explained in later lectures.\n",
        "ThetaMnist = softmax_regression(\n",
        "    mnist_train_data, mnist_train_labels, 10, maxiter=25)"
      ],
      "execution_count": 0,
      "outputs": []
    },
    {
      "cell_type": "code",
      "metadata": {
        "colab_type": "code",
        "id": "5hHEhrAI8pgf",
        "outputId": "5b0082f0-1a21-4b0a-853c-f919fd55349e",
        "colab": {
          "base_uri": "https://localhost:8080/",
          "height": 51
        }
      },
      "source": [
        "predicted_train_labels = ThetaMnist.T.dot(mnist_train_data).argmax(0)\n",
        "print (\"Train error rate: %f\" % ((predicted_train_labels != mnist_train_labels).mean(), ))\n",
        "\n",
        "predicted_test_labels = ThetaMnist.T.dot(mnist_test_data).argmax(0)\n",
        "print (\"Test error rate: %f\" % ((predicted_test_labels != mnist_test_labels).mean(), ))"
      ],
      "execution_count": 0,
      "outputs": [
        {
          "output_type": "stream",
          "text": [
            "Train error rate: 0.084367\n",
            "Test error rate: 0.082900\n"
          ],
          "name": "stdout"
        }
      ]
    },
    {
      "cell_type": "code",
      "metadata": {
        "colab_type": "code",
        "id": "1WGeSFkZ8pgk",
        "outputId": "254767f4-29ff-4ce5-f162-96a8cafa17fc",
        "colab": {
          "base_uri": "https://localhost:8080/",
          "height": 162
        }
      },
      "source": [
        "plot_mat(ThetaMnist[:,:].reshape(28,28,1,-1).transpose(3,2,0,1), cmap='gray')"
      ],
      "execution_count": 0,
      "outputs": [
        {
          "output_type": "display_data",
          "data": {
            "image/png": "[encoded data removed]",
            "text/plain": [
              "<Figure size 432x288 with 1 Axes>"
            ]
          },
          "metadata": {
            "tags": []
          }
        }
      ]
    },
    {
      "cell_type": "code",
      "metadata": {
        "colab_type": "code",
        "id": "jxxYVQW98pgp",
        "colab": {}
      },
      "source": [
        "with np.load('cifar.npz') as data:\n",
        "    cifar_train_data = data[\n",
        "        'train_data'].astype(np.float32).reshape(-1, 32*32*3).T / 255.0\n",
        "    cifar_train_labels = data['train_labels']\n",
        "    cifar_test_data = data[\n",
        "        'test_data'].astype(np.float32).reshape(-1, 32*32*3).T / 255.0\n",
        "    cifar_test_labels = data['test_labels']"
      ],
      "execution_count": 0,
      "outputs": []
    },
    {
      "cell_type": "code",
      "metadata": {
        "colab_type": "code",
        "id": "UqBn8dff8pgt",
        "colab": {}
      },
      "source": [
        "# note: we want to keep the number of iterations low, afterwards we may \n",
        "# start to overfit. This will befurther explained in later lectures\n",
        "ThetaCifar = softmax_regression(\n",
        "    cifar_train_data, cifar_train_labels, 10, maxiter=50)"
      ],
      "execution_count": 0,
      "outputs": []
    },
    {
      "cell_type": "code",
      "metadata": {
        "colab_type": "code",
        "id": "3mkNsS9i8pgv",
        "outputId": "cc5b23c0-fcec-4df4-d18d-db0cd33e439b",
        "colab": {
          "base_uri": "https://localhost:8080/",
          "height": 51
        }
      },
      "source": [
        "predicted_train_labels = ThetaCifar.T.dot(cifar_train_data).argmax(0)\n",
        "print (\"Train error rate: %f\" % ((predicted_train_labels != cifar_train_labels).mean(), ))\n",
        "\n",
        "predicted_test_labels = ThetaCifar.T.dot(cifar_test_data).argmax(0)\n",
        "print (\"Test error rate: %f\" % ((predicted_test_labels != cifar_test_labels).mean(), ))"
      ],
      "execution_count": 0,
      "outputs": [
        {
          "output_type": "stream",
          "text": [
            "Train error rate: 0.598300\n",
            "Test error rate: 0.607700\n"
          ],
          "name": "stdout"
        }
      ]
    },
    {
      "cell_type": "code",
      "metadata": {
        "colab_type": "code",
        "id": "lkjgZgE68pgz",
        "outputId": "38b8d0fe-8fba-427d-bcb8-d4bbbd58380b",
        "colab": {
          "base_uri": "https://localhost:8080/",
          "height": 162
        }
      },
      "source": [
        "# We skip the first row of parameters because they represent the \n",
        "# constant term. The remaming ones are rehsaped as RGB images\n",
        "#\n",
        "# The 10 classes are:\n",
        "# ------------------------------------------------\n",
        "# | airplane | automobile | bird  | cat  | deer  |\n",
        "# |----------|------------|-------|------|-------|\n",
        "# |   dog    |     frog   | horse | ship | truck |\n",
        "# ------------------------------------------------\n",
        "#\n",
        "# Again, the learned parameters ressebmle the average image in each class.\n",
        "#\n",
        "plot_mat(ThetaCifar[:,:].reshape(32,32,3,-1).transpose(3,2,0,1))"
      ],
      "execution_count": 0,
      "outputs": [
        {
          "output_type": "display_data",
          "data": {
            "image/png": "[encoded data removed]",
            "text/plain": [
              "<Figure size 432x288 with 1 Axes>"
            ]
          },
          "metadata": {
            "tags": []
          }
        }
      ]
    },
    {
      "cell_type": "markdown",
      "metadata": {
        "id": "levIEG_xzCof",
        "colab_type": "text"
      },
      "source": [
        "# Relationship between Logistic Regression loss and AdaBoost loss\n",
        "\n",
        "Both AdaBoost and Logistic regression compute a score $h(x)$:\n",
        "- In AdaBoost $h(x) = \\sum_j \\alpha_j h_j(x)$, where $h_j$ is the $j-$th weak classifier and $\\alpha_j$ are weights.\n",
        "- In Loistic Regression $h(x) = \\Theta^T x$ with $\\Theta$ a parameter vector.\n",
        "\n",
        "Moreover, both methods have the same decision rule $y=1$ if and only if $h(x) \\geq 0$.\n",
        "\n",
        "Similarly, both are trained to minimize a loss function:\n",
        "- AdaBosst minimizes $$\n",
        "\\begin{cases}\n",
        "e^{-h(x)}&\\text{ if }y=1 \\\\\n",
        "e^{h(x)}&\\text{ if }y\\neq 1\n",
        " \\end{cases}\n",
        " =e^{-yh(x)}\n",
        " $$ when $y\\in{-1, 1}$\n",
        "- Logistic Regrassion minimizes \n",
        "$$\n",
        "\\begin{split}\n",
        "nll &= \\begin{cases}\n",
        "-\\log p(y=1|x)&\\text{ if }y=1 \\\\\n",
        "-\\log(1 - p(y=1|x))&\\text{ if }y\\neq 1\n",
        "\\end{cases} \\\\\n",
        " &= -y \\log p(y=1|x) - (1-y)\\log(1 - p(y=1|x)) \\\\\n",
        " &= -y \\log \\sigma(h(x)) - (1-y)\\log(1 - \\sigma(h(x)))\n",
        "\\end{split}\n",
        "$$ when $y\\in{0,1}$.\n",
        "\n",
        "To get a better insight into the relationship between the two functions we will find an alternative formulation for the Logistic Regression Loss.\n",
        "$$\n",
        "\\begin{split}\n",
        "nll &= \\begin{cases}\n",
        "-\\log p(y=1|x)&\\text{ if }y=1 \\\\\n",
        "-\\log(1 - p(y=1|x))&\\text{ if }y\\neq 1\n",
        "\\end{cases} \\\\\n",
        "&= \\begin{cases}\n",
        "-\\log \\frac{1}{1+e^{-h(x)}} &\\text{ if }y=1 \\\\\n",
        "-\\log \\frac{1}{1+e^{h(x)}} &\\text{ if }y\\neq 1\n",
        "\\end{cases} \\\\\n",
        "&= \\log(1+e^{-y h(x)})\n",
        "\\end{split}\n",
        "$$ when $y\\in{-1, 1}$.\n",
        "\n",
        "Thus, we can alternatively view the logistic regression loss as $\\log(1+e^{-y h(x)})$.\n",
        "\n",
        "Below we plot 3 loss functions for the case when $y=1$:\n",
        "- the 0-1 loss $\\text{sign}(h(x)) = 1$,\n",
        "- the exponential loss from AdaBoost $e^{-yh(x)}$,\n",
        "- the cross-entropy from Logistic Regression $\\log(1+e^{-yh(x)})$"
      ]
    },
    {
      "cell_type": "code",
      "metadata": {
        "id": "KxzRvTpl3lSw",
        "colab_type": "code",
        "outputId": "b525e02f-f9af-46a1-c3f2-0ca882f8c2ce",
        "colab": {
          "base_uri": "https://localhost:8080/",
          "height": 286
        }
      },
      "source": [
        "#@title Loss Comparison\n",
        "h = np.linspace(-8, 4, 1000)\n",
        "plt.plot(h, h<0, label='0-1 loss')\n",
        "plt.plot(h, np.exp(-h), label='Exp loss AdaBoost')\n",
        "plt.plot(h, np.log(1 + np.exp(-h)), label='Log Reg')\n",
        "plt.plot([h[0], 0], [-h[0], 0], ':', label='y=-x')\n",
        "plt.axis('square')\n",
        "plt.ylim(0, -h[0])\n",
        "plt.xlim(h[0], h[-1])\n",
        "plt.grid(True)\n",
        "plt.legend()"
      ],
      "execution_count": 0,
      "outputs": [
        {
          "output_type": "execute_result",
          "data": {
            "text/plain": [
              "<matplotlib.legend.Legend at 0x7f39100d3198>"
            ]
          },
          "metadata": {
            "tags": []
          },
          "execution_count": 39
        },
        {
          "output_type": "display_data",
          "data": {
            "image/png": "[encoded data removed]",
            "text/plain": [
              "<Figure size 432x288 with 1 Axes>"
            ]
          },
          "metadata": {
            "tags": []
          }
        }
      ]
    },
    {
      "cell_type": "markdown",
      "metadata": {
        "id": "2kg-zHON5Cfs",
        "colab_type": "text"
      },
      "source": [
        "As we can see, both exponential loss, and the logistic loss (after scaling) can be seen as upper bounds on the 0-1 loss:\n",
        "- they both tend to zero if the model is confidently correct,\n",
        "- they both grow to infinity if the model is confidently incorrect.\n",
        "\n",
        "However, the logistic regression loss grows linearly with the magnitude of the error, and the Adaboost's loss grows exponentially fast. This has a practical implication: a model trained with the AdaBoost's loss will make more to avoid training misclassifications, which can make the model more prone to outliers.\n",
        "\n",
        "In fact, the [LogitBooost algorithm](https://projecteuclid.org/download/pdf_1/euclid.aos/1016218223) was designed to merge the logistic regression loss with boosting!"
      ]
    },
    {
      "cell_type": "markdown",
      "metadata": {
        "colab_type": "text",
        "id": "GQ7aqgrf8pg3"
      },
      "source": [
        "# Further reading\n",
        "1. Andrew Ng \"CS229 Lecture notes\", http://cs229.stanford.edu/notes/cs229-notes1.pdf\n",
        "2. Leon Bottou \"Stochastic Gradient Descent Tricks\", http://leon.bottou.org/papers/bottou-tricks-2012"
      ]
    },
    {
      "cell_type": "code",
      "metadata": {
        "colab_type": "code",
        "id": "8CoJB70O8pg5",
        "colab": {}
      },
      "source": [
        ""
      ],
      "execution_count": 0,
      "outputs": []
    }
  ]
}