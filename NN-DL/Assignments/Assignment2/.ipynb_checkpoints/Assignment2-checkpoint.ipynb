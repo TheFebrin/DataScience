{
 "cells": [
  {
   "cell_type": "markdown",
   "metadata": {
    "colab_type": "text",
    "id": "view-in-github"
   },
   "source": [
    "<a href=\"https://colab.research.google.com/github/janchorowski/dl_uwr/blob/summer2020/Assignment2/Assignment2.ipynb\" target=\"_parent\"><img src=\"https://colab.research.google.com/assets/colab-badge.svg\" alt=\"Open In Colab\"/></a>"
   ]
  },
  {
   "cell_type": "markdown",
   "metadata": {
    "colab_type": "text",
    "id": "CGXgWugfJ0Vl"
   },
   "source": [
    "# Assignment 2\n",
    "\n",
    "**Submission deadline: last lab session before or on Thursday, 26.03.2020**\n",
    "\n",
    "**Points: 6 + 1 bonus points**\n",
    "\n",
    "## Submission instructions\n",
    "The class is held remotely. To sumbmit your solutions please save the notebook to your Google Drive, then:\n",
    "1. Rename it it to: Assignment2_Surname_FirstName\n",
    "2. Rerun the whole notebook `Runtime -> Restar and run all`\n",
    "3. Make a pinned revision `File->Save and pin revision`\n",
    "4. Share the notebook with your instructor using his `cs.uni.wroc.pl` email\n",
    "\n",
    "We will use the commenting system and video conferences to check and discuss the solutions.\n",
    "\n",
    "As always, please submit corrections using GitHub's Pull Requests."
   ]
  },
  {
   "cell_type": "code",
   "execution_count": 1,
   "metadata": {
    "colab": {},
    "colab_type": "code",
    "id": "nfVDe-bMqVT_"
   },
   "outputs": [],
   "source": [
    "%matplotlib inline\n",
    "\n",
    "import numpy as np\n",
    "import matplotlib.pyplot as plt"
   ]
  },
  {
   "cell_type": "markdown",
   "metadata": {
    "colab_type": "text",
    "id": "RZCM_hdELE04"
   },
   "source": [
    "The code below contains a mock-up of a two-layer neural network. Fill in the code and manually set weights to solve the XOR problem.\n",
    "\n",
    "Please note: the shapes are set to be compatible with PyTorch's conventions:\n",
    "* a batch containing $N$ $D$-dimensional examples has shape $N\\times D$ (each example is a row!)\n",
    "* a weight matrix in a linear layer with $I$ inputs and $O$ outputs has shape $O \\times I$\n",
    "* a bias vector is a 1D vector. Please note that [broadcasting rules](https://docs.scipy.org/doc/numpy/user/basics.broadcasting.html) allow us to think about it as a $1 \\times D` matrix."
   ]
  },
  {
   "cell_type": "code",
   "execution_count": 2,
   "metadata": {
    "colab": {
     "base_uri": "https://localhost:8080/",
     "height": 296
    },
    "colab_type": "code",
    "id": "lYEbCfbSpv5M",
    "outputId": "f00ddeb4-b61c-4e0d-d1d4-f7fdfca62930"
   },
   "outputs": [
    {
     "data": {
      "text/plain": [
       "Text(0, 0.5, 'X[1]')"
      ]
     },
     "execution_count": 2,
     "metadata": {},
     "output_type": "execute_result"
    },
    {
     "data": {
      "image/png": "[encoded data removed]",
      "text/plain": [
       "<Figure size 432x288 with 1 Axes>"
      ]
     },
     "metadata": {
      "needs_background": "light"
     },
     "output_type": "display_data"
    }
   ],
   "source": [
    "# Let's define a XOR dataset\n",
    "\n",
    "# X will be matrix of N 2-dimensional inputs\n",
    "X = np.array(\n",
    "    [[0, 0],\n",
    "     [0, 1],\n",
    "     [1, 0],\n",
    "     [1, 1],\n",
    "    ], dtype=np.float32)\n",
    "# Y is a matrix of N numners - answers\n",
    "Y = np.array(\n",
    "    [[0],\n",
    "     [1],\n",
    "     [1],\n",
    "     [0],\n",
    "    ], dtype=np.float32)\n",
    "\n",
    "plt.scatter(X[:,0], X[:,1], c=Y[:,0], )\n",
    "plt.xlabel('X[0]')\n",
    "plt.ylabel('X[1]')"
   ]
  },
  {
   "cell_type": "markdown",
   "metadata": {
    "colab_type": "text",
    "id": "Rb3azMn929_I"
   },
   "source": [
    "# Problem 1 [2p]\n",
    "\n",
    "Fill in the details of a forward pass, then manually set the weights and biases in the network to solve the 2D XOR task defined above."
   ]
  },
  {
   "cell_type": "code",
   "execution_count": 129,
   "metadata": {
    "colab": {},
    "colab_type": "code",
    "id": "lrrRuk6zLiF0"
   },
   "outputs": [],
   "source": [
    "def sigmoid(x):\n",
    "    return 1 / (1 + np.exp(-x))  \n",
    "\n",
    "\n",
    "def ReLU(x):\n",
    "    return x * (x > 0)\n",
    "\n",
    "\n",
    "class SmallNet:\n",
    "    def __init__(self, in_features, num_hidden, dtype=np.float32, activation='sigmoid'):\n",
    "        self.W1 = np.zeros((in_features, num_hidden), dtype=dtype)\n",
    "        self.b1 = np.zeros((num_hidden,), dtype=dtype)\n",
    "        self.W2 = np.zeros((num_hidden, 1), dtype=dtype)\n",
    "        self.b2 = np.zeros((1,), dtype=dtype)\n",
    "        self.activation = activation\n",
    "        self.init_params()\n",
    "\n",
    "    def init_params(self):\n",
    "        # TODO Problem 2:\n",
    "        # set all parameters to small random values, e.g. from N(0, 0.5)\n",
    "        mu, std = 0, 0.5\n",
    "        self.W1 = np.random.normal(mu, std, size=(self.W1.shape)) # m x hidden\n",
    "        self.W2 = np.random.normal(mu, std, size=(self.W2.shape)) # hidden x 1\n",
    "        self.b1 = np.random.normal(mu, std, size=(self.b1.shape))\n",
    "        self.b2 = np.random.normal(mu, std, size=(self.b2.shape))\n",
    "        \n",
    "        if self.activation == 'sigmoid':\n",
    "            self.activation_f = sigmoid\n",
    "        elif self.activation == 'relu':\n",
    "            self.activation_f = ReLU\n",
    "        else:\n",
    "            print('NO VALID ACTIVATION FUNCTION!')\n",
    "\n",
    "    def forward(self, X, Y=None, do_backward=False):\n",
    "        # TODO Problem 1: Fill in details of forward propagation\n",
    "\n",
    "        # Input to neurons in 1st layer\n",
    "        A1 = np.dot(X, self.W1) + self.b1 # n x num_hidden\n",
    "    \n",
    "        # Outputs after the sigmoid non-linearity\n",
    "        O1 = self.activation_f(A1) # n x num_hidden\n",
    "\n",
    "        # Inputs to neuron in the second layer\n",
    "        A2 = np.dot(O1, self.W2) + self.b2 # n x 1\n",
    "        \n",
    "        # Outputs after the sigmoid non-linearity\n",
    "        O2 = self.activation_f(A2).reshape(1, -1) # 1 x n\n",
    "\n",
    "#         https://www.tensorflow.org/api_docs/python/tf/nn/sigmoid_cross_entropy_with_logits\n",
    "        if Y is not None:\n",
    "            Y = Y.reshape(1, -1)\n",
    "            A2 = A2.reshape(1, -1)\n",
    "            loss = None\n",
    "            if self.activation == 'sigmoid':\n",
    "                loss =  (A2 - A2 * Y + np.log(1 + np.exp(-A2)))\n",
    "#                 loss = -Y * np.log(O2 + 1e-10)\n",
    "            if self.activation == 'relu':\n",
    "                loss = (O2 - Y) ** 2\n",
    "\n",
    "            # normalize loss by batch size\n",
    "            loss = loss.sum() / X.shape[0]\n",
    "        else:\n",
    "            loss = np.nan\n",
    "\n",
    "        if do_backward:\n",
    "            # TODO in Problem 2: fill in the gradient computation\n",
    "            # Please note, thate there is a correspondance between\n",
    "            # the forward and backward pass: with backward computations happening\n",
    "            # in reversed order. \n",
    "\n",
    "            # A2_grad is the gradient of loss with respect to A2\n",
    "            # Hint: there is a concise formula for the gradient \n",
    "            # of logistic sigmoid and cross-entropy loss \n",
    "            \n",
    "            n, m = X.shape\n",
    "            A2_grad = (O2 - Y) # 1 x n\n",
    "            self.b2_grad = A2_grad.sum(axis=1) / n\n",
    "            self.W2_grad = A2_grad.dot(O1).T / n # ((1 x n) x (n x h)).T = (1 x h).T\n",
    "            \n",
    "            O1_grad = A2_grad.T.dot(self.W2.T) # (n x 1) x (1 x h) = n x h\n",
    "            A1_grad = O1_grad * O1 * (np.ones(O1.shape) - O1) # n x h\n",
    "            self.b1_grad = A1_grad.sum(axis=0) / n # 1 x h\n",
    "            self.W1_grad = X.T.dot(A1_grad) / n # (m x n) x (n x h) = m x h\n",
    "\n",
    "        return O2, loss"
   ]
  },
  {
   "cell_type": "code",
   "execution_count": 101,
   "metadata": {
    "colab": {
     "base_uri": "https://localhost:8080/",
     "height": 85
    },
    "colab_type": "code",
    "id": "jJswvBk0oiIY",
    "outputId": "331c7ce6-a3ad-4121-f6e1-d09d5ab6bcfd"
   },
   "outputs": [
    {
     "name": "stdout",
     "output_type": "stream",
     "text": [
      "(array([[0.37896692, 0.4100431 , 0.42193382, 0.44641262]]), 0.7055266077794052)\n"
     ]
    }
   ],
   "source": [
    "# TODO Problem 1:\n",
    "# Set by hand the weight values to solve the XOR problem\n",
    "\n",
    "net = SmallNet(2, 2, dtype=np.float64)\n",
    "mu, std = 0, 0.5\n",
    "net.W1 = np.random.normal(mu, std, size=(net.W1.shape)) # m x hidden\n",
    "net.W2 = np.random.normal(mu, std, size=(net.W2.shape)) # hidden x 1\n",
    "net.b1 = np.random.normal(mu, std, size=(net.b1.shape))\n",
    "net.b2 = np.random.normal(mu, std)\n",
    "\n",
    "# Hint: since we use the logistic sigmoid activation, the weights may need to \n",
    "# be fairly large \n",
    "\n",
    "\n",
    "print(net.forward(X, Y, do_backward=True))"
   ]
  },
  {
   "cell_type": "markdown",
   "metadata": {
    "colab_type": "text",
    "id": "wmxCi5Vl6_xB"
   },
   "source": [
    "# Problem 2 [2p]\n",
    "\n",
    "1. Fill in the backward pass.\n",
    "2. Implement random initialization of network parameters.\n",
    "3. Using `float64` verify correctness of your backward pass."
   ]
  },
  {
   "cell_type": "code",
   "execution_count": 102,
   "metadata": {
    "colab": {},
    "colab_type": "code",
    "id": "eSM5hgJ1mrhY"
   },
   "outputs": [],
   "source": [
    "def check_grad(net, param_name, X, Y, eps=1e-5):\n",
    "    \"\"\"A gradient checking routine\"\"\"\n",
    "    \n",
    "    param = getattr(net, param_name)\n",
    "    param_flat_accessor = param.reshape(-1)\n",
    "\n",
    "    grad = np.empty_like(param)\n",
    "    grad_flat_accessor = grad.reshape(-1)\n",
    "\n",
    "    net.forward(X, Y, do_backward=True)\n",
    "    orig_grad = getattr(net, param_name + '_grad')\n",
    "    assert (param.shape == orig_grad.shape)\n",
    "\n",
    "    for i in range(param_flat_accessor.shape[0]):\n",
    "        orig_val = param_flat_accessor[i]\n",
    "        param_flat_accessor[i] = orig_val + eps\n",
    "        _, loss_positive = net.forward(X, Y)\n",
    "        param_flat_accessor[i] = orig_val - eps\n",
    "        _, loss_negative = net.forward(X, Y)\n",
    "        param_flat_accessor[i] = orig_val\n",
    "        grad_flat_accessor[i] = (loss_positive - loss_negative) / (2 * eps)\n",
    "        \n",
    "    assert np.allclose(grad, orig_grad)\n",
    "    \n",
    "    return grad, orig_grad"
   ]
  },
  {
   "cell_type": "code",
   "execution_count": 103,
   "metadata": {
    "colab": {},
    "colab_type": "code",
    "id": "TTZu0jFEvgXF"
   },
   "outputs": [
    {
     "name": "stdout",
     "output_type": "stream",
     "text": [
      "W1\n",
      "[[-0.00123624 -0.00387929]\n",
      " [-0.000838    0.00067858]]\n",
      "[[-0.00123624 -0.00387929]\n",
      " [-0.000838    0.00067858]]\n",
      "\n",
      "b1\n",
      "[-0.0013283  -0.00200037]\n",
      "[-0.0013283  -0.00200037]\n",
      "\n",
      "W2\n",
      "[[-0.009439  ]\n",
      " [-0.00792293]]\n",
      "[[-0.009439  ]\n",
      " [-0.00792293]]\n",
      "\n",
      "b2\n",
      "[-0.01491974]\n",
      "[-0.01491974]\n",
      "\n"
     ]
    }
   ],
   "source": [
    "net = SmallNet(2, 2, dtype=np.float64)\n",
    "\n",
    "for param_name in ['W1', 'b1', 'W2', 'b2']:\n",
    "    print(param_name)\n",
    "    grad, orig_grad = (check_grad(net, param_name, X, Y))\n",
    "    print(grad, end='\\n')\n",
    "    print(orig_grad, end='\\n\\n')"
   ]
  },
  {
   "cell_type": "markdown",
   "metadata": {
    "colab_type": "text",
    "id": "8mUOs3cVvjM2"
   },
   "source": [
    "# Problem 3 [2p]\n",
    "\n",
    "Fill in the details of batch gradient descent below, then train a network to solve 2D XOR problem.\n",
    "\n",
    "Then test the reliability of solving the 3D XOR task."
   ]
  },
  {
   "cell_type": "code",
   "execution_count": 122,
   "metadata": {
    "colab": {
     "base_uri": "https://localhost:8080/",
     "height": 357
    },
    "colab_type": "code",
    "id": "nn2AAoZo0vjU",
    "outputId": "88d897f3-e3ca-47ea-92c5-878964344f23"
   },
   "outputs": [
    {
     "name": "stdout",
     "output_type": "stream",
     "text": [
      "iter: 0, L: 0.8346317249757171\n",
      "iter: 5000, L: 0.03434520686199972\n",
      "iter: 10000, L: 0.008744601345677812\n",
      "iter: 15000, L: 0.004714262750018782\n",
      "iter: 20000, L: 0.003165185823845043\n",
      "iter: 25000, L: 0.002360308055773962\n",
      "iter: 30000, L: 0.0018716835078558618\n",
      "iter: 35000, L: 0.0015452894782017955\n",
      "iter: 40000, L: 0.0013126603431296653\n",
      "iter: 45000, L: 0.001138900224003493\n",
      "iter: 50000, L: 0.001004421056839886\n",
      "iter: 55000, L: 0.0008974068539878764\n",
      "iter: 60000, L: 0.0008103205154297705\n",
      "iter: 65000, L: 0.000738134824646505\n",
      "iter: 70000, L: 0.0006773718962716431\n",
      "iter: 75000, L: 0.0006255512857178647\n",
      "iter: 80000, L: 0.000580857714062627\n",
      "iter: 85000, L: 0.0005419329787129764\n",
      "iter: 90000, L: 0.000507741176590076\n",
      "iter: 95000, L: 0.0004774788342728543\n"
     ]
    }
   ],
   "source": [
    "net = SmallNet(2, 10, dtype=np.float64)\n",
    "\n",
    "iters = 100000\n",
    "alpha = 0.1\n",
    "\n",
    "for i in range(iters):\n",
    "    _, loss = net.forward(X, Y, do_backward=True)\n",
    "    if (i % 5000) == 0:\n",
    "        print(f'iter: {i}, L: {loss}')\n",
    "    for param_name in ['W1', 'b1', 'W2', 'b2']:\n",
    "        param = getattr(net, param_name)\n",
    "        # Hint: use the construct `param[:]` to change the contents of the array!\n",
    "        # Doing instead `param = new_val` simply changes to what the variable\n",
    "        # param points to, without affecting the network!\n",
    "        grad = getattr(net, param_name + '_grad')\n",
    "#         print(param_name)\n",
    "#         print(param[:])\n",
    "        param[:] = param[:] - alpha * grad\n",
    "#         print(param[:])"
   ]
  },
  {
   "cell_type": "code",
   "execution_count": 123,
   "metadata": {
    "colab": {
     "base_uri": "https://localhost:8080/",
     "height": 85
    },
    "colab_type": "code",
    "id": "TwpEjpkU1JvK",
    "outputId": "8bcbfa0e-5845-4c53-cf66-3010eec03a67"
   },
   "outputs": [
    {
     "data": {
      "text/plain": [
       "array([[2.73431231e-04, 9.99647554e-01, 9.99478901e-01, 6.54627364e-04]])"
      ]
     },
     "execution_count": 123,
     "metadata": {},
     "output_type": "execute_result"
    }
   ],
   "source": [
    "preds, loss = net.forward(X, Y, do_backward=True)\n",
    "preds"
   ]
  },
  {
   "cell_type": "code",
   "execution_count": 124,
   "metadata": {},
   "outputs": [
    {
     "data": {
      "text/plain": [
       "<matplotlib.collections.PathCollection at 0x134e3a685c0>"
      ]
     },
     "execution_count": 124,
     "metadata": {},
     "output_type": "execute_result"
    },
    {
     "data": {
      "image/png": "[encoded data removed]",
      "text/plain": [
       "<Figure size 432x288 with 1 Axes>"
      ]
     },
     "metadata": {
      "needs_background": "light"
     },
     "output_type": "display_data"
    }
   ],
   "source": [
    "x = np.linspace(0, 1, 100)\n",
    "y = np.linspace(0, 1, 100)\n",
    "\n",
    "xv, yv = np.meshgrid(x, y)\n",
    "xv = xv.reshape(1, -1)\n",
    "yv = yv.reshape(1, -1)\n",
    "\n",
    "cords = np.r_[xv, yv].T\n",
    "preds = net.forward(cords)[0]\n",
    "\n",
    "plt.scatter(xv, yv, c=preds)"
   ]
  },
  {
   "cell_type": "code",
   "execution_count": 125,
   "metadata": {},
   "outputs": [
    {
     "data": {
      "text/plain": [
       "<matplotlib.collections.PathCollection at 0x134e3d47940>"
      ]
     },
     "execution_count": 125,
     "metadata": {},
     "output_type": "execute_result"
    },
    {
     "data": {
      "image/png": "[encoded data removed]",
      "text/plain": [
       "<Figure size 432x288 with 1 Axes>"
      ]
     },
     "metadata": {
      "needs_background": "light"
     },
     "output_type": "display_data"
    }
   ],
   "source": [
    "plt.scatter(xv, yv, c=preds < 0.5)"
   ]
  },
  {
   "cell_type": "markdown",
   "metadata": {
    "colab_type": "text",
    "id": "w3NiL0ku2Unr"
   },
   "source": [
    "Generate below data for a 3D XOR task. Try a few values of hidden layer size. Plot the reliability of training, i.e. how many trainings succeed for a given hiden layer size.\n",
    "\n",
    "What is easier to train: a smaller, or large network?"
   ]
  },
  {
   "cell_type": "code",
   "execution_count": 126,
   "metadata": {},
   "outputs": [],
   "source": [
    "x, y = [], []\n",
    "\n",
    "for i in range(8):\n",
    "    num = bin(i)[2:]\n",
    "    num = '0' *(3 - len(num)) + num\n",
    "    x.append(list(map(int, num)))\n",
    "#     y.append()\n",
    "\n",
    "x = np.array(x)\n",
    "y = x.sum(axis=1) % 2"
   ]
  },
  {
   "cell_type": "code",
   "execution_count": 127,
   "metadata": {
    "colab": {},
    "colab_type": "code",
    "id": "U0ZMyHqz8xrC"
   },
   "outputs": [
    {
     "name": "stdout",
     "output_type": "stream",
     "text": [
      "Hidden: 2\n",
      "iter: 0, L: 0.7142328778805667\n",
      "iter: 10000, L: 0.6919420002030032\n",
      "iter: 20000, L: 0.3666674197665593\n",
      "iter: 30000, L: 0.3529630104409297\n",
      "iter: 40000, L: 0.35028249168843595\n",
      "iter: 50000, L: 0.3491671316578328\n",
      "iter: 60000, L: 0.3485604707923362\n",
      "iter: 70000, L: 0.3481805281417878\n",
      "iter: 80000, L: 0.34792078786414093\n",
      "iter: 90000, L: 0.34773226754483977\n",
      "Hidden: 3\n",
      "iter: 0, L: 0.6963440213692944\n",
      "iter: 10000, L: 0.6930949460783531\n",
      "iter: 20000, L: 0.6902863134924808\n",
      "iter: 30000, L: 0.14495793985919922\n",
      "iter: 40000, L: 0.01584941553092533\n",
      "iter: 50000, L: 0.00852780250556101\n",
      "iter: 60000, L: 0.005867529754770765\n",
      "iter: 70000, L: 0.004478054760317315\n",
      "iter: 80000, L: 0.003621761611459334\n",
      "iter: 90000, L: 0.003040594650886373\n",
      "Hidden: 5\n",
      "iter: 0, L: 0.6946321612523523\n",
      "iter: 10000, L: 0.02464908141697769\n",
      "iter: 20000, L: 0.005977739282726432\n",
      "iter: 30000, L: 0.0030938718297754434\n",
      "iter: 40000, L: 0.002017237399400698\n",
      "iter: 50000, L: 0.0014725983230923175\n",
      "iter: 60000, L: 0.0011491994415163869\n",
      "iter: 70000, L: 0.0009370646555838637\n",
      "iter: 80000, L: 0.0007881323974504205\n",
      "iter: 90000, L: 0.0006782886972127181\n",
      "Hidden: 10\n",
      "iter: 0, L: 0.6953041746419966\n",
      "iter: 10000, L: 0.017304391291418995\n",
      "iter: 20000, L: 0.004741096137924469\n",
      "iter: 30000, L: 0.002586985707158437\n",
      "iter: 40000, L: 0.0017436852606515423\n",
      "iter: 50000, L: 0.0013025287677632103\n",
      "iter: 60000, L: 0.0010338786335882528\n",
      "iter: 70000, L: 0.0008541385052514199\n",
      "iter: 80000, L: 0.0007259206436142172\n",
      "iter: 90000, L: 0.0006301002671835847\n",
      "Hidden: 20\n",
      "iter: 0, L: 0.777757043325817\n",
      "iter: 10000, L: 0.026849970150730616\n",
      "iter: 20000, L: 0.004954870607253777\n",
      "iter: 30000, L: 0.002547643914889779\n",
      "iter: 40000, L: 0.0016819832907297846\n",
      "iter: 50000, L: 0.0012444645368174829\n",
      "iter: 60000, L: 0.0009827485130448623\n",
      "iter: 70000, L: 0.0008094822480109933\n",
      "iter: 80000, L: 0.0006867101031464362\n",
      "iter: 90000, L: 0.00059537324102774\n"
     ]
    }
   ],
   "source": [
    "X3 = x\n",
    "Y3 = y\n",
    "\n",
    "iters = 100000\n",
    "alpha = 0.1\n",
    "    \n",
    "for hidden_dim in [2, 3, 5, 10, 20]:\n",
    "    print(f'Hidden: {hidden_dim}')\n",
    "    net = SmallNet(in_features=3, num_hidden=hidden_dim, dtype=np.float64)\n",
    "    net.init_params()\n",
    "    for i in range(iters):\n",
    "        _, loss = net.forward(X3, Y3, do_backward=True)\n",
    "        if (i % 10000) == 0:\n",
    "            print(f'iter: {i}, L: {loss}')\n",
    "        for param_name in ['W1', 'b1', 'W2', 'b2']:\n",
    "            param = getattr(net, param_name)\n",
    "            grad = getattr(net, param_name + '_grad')\n",
    "            param[:] = param[:] - alpha * grad"
   ]
  },
  {
   "cell_type": "markdown",
   "metadata": {
    "colab_type": "text",
    "id": "UuaLEoV-9DLG"
   },
   "source": [
    "# Problem 4 [1bp]\n",
    "\n",
    "Replace the first nonlinearity with the [ReLU](https://en.wikipedia.org/wiki/Rectifier_(neural_networks)) activation function. Verify ho"
   ]
  },
  {
   "cell_type": "code",
   "execution_count": 130,
   "metadata": {},
   "outputs": [
    {
     "name": "stdout",
     "output_type": "stream",
     "text": [
      "iter: 0, L: 0.6644116125790868\n",
      "iter: 5000, L: 2.6601907356848695e-29\n",
      "iter: 10000, L: 1.9501388837881834e-29\n",
      "iter: 15000, L: 1.963158170212241e-29\n",
      "iter: 20000, L: 1.963158170212241e-29\n",
      "iter: 25000, L: 1.963158170212241e-29\n",
      "iter: 30000, L: 1.963158170212241e-29\n",
      "iter: 35000, L: 1.963158170212241e-29\n",
      "iter: 40000, L: 1.963158170212241e-29\n",
      "iter: 45000, L: 1.8913017239871534e-29\n",
      "iter: 50000, L: 1.963158170212241e-29\n",
      "iter: 55000, L: 1.963158170212241e-29\n",
      "iter: 60000, L: 1.897830626498626e-29\n",
      "iter: 65000, L: 1.897830626498626e-29\n",
      "iter: 70000, L: 1.963158170212241e-29\n",
      "iter: 75000, L: 1.897830626498626e-29\n",
      "iter: 80000, L: 1.897830626498626e-29\n",
      "iter: 85000, L: 1.8848113400745684e-29\n",
      "iter: 90000, L: 1.963158170212241e-29\n",
      "iter: 95000, L: 1.8913017239871534e-29\n"
     ]
    }
   ],
   "source": [
    "net = SmallNet(2, 10, dtype=np.float64, activation='relu')\n",
    "\n",
    "\n",
    "iters = 100000\n",
    "alpha = 0.1\n",
    "\n",
    "for i in range(iters):\n",
    "    _, loss = net.forward(X, Y, do_backward=True)\n",
    "    if (i % 5000) == 0:\n",
    "        print(f'iter: {i}, L: {loss}')\n",
    "    for param_name in ['W1', 'b1', 'W2', 'b2']:\n",
    "        param = getattr(net, param_name)\n",
    "        grad = getattr(net, param_name + '_grad')\n",
    "        param[:] = param[:] - alpha * grad"
   ]
  },
  {
   "cell_type": "code",
   "execution_count": 131,
   "metadata": {},
   "outputs": [
    {
     "data": {
      "text/plain": [
       "array([[3.63598041e-15, 1.00000000e+00, 1.00000000e+00, 4.66293670e-15]])"
      ]
     },
     "execution_count": 131,
     "metadata": {},
     "output_type": "execute_result"
    }
   ],
   "source": [
    "preds, loss = net.forward(X, Y, do_backward=True)\n",
    "preds"
   ]
  },
  {
   "cell_type": "code",
   "execution_count": 132,
   "metadata": {},
   "outputs": [
    {
     "data": {
      "text/plain": [
       "<matplotlib.collections.PathCollection at 0x134e4dfce48>"
      ]
     },
     "execution_count": 132,
     "metadata": {},
     "output_type": "execute_result"
    },
    {
     "data": {
      "image/png": "[encoded data removed]",
      "text/plain": [
       "<Figure size 432x288 with 1 Axes>"
      ]
     },
     "metadata": {
      "needs_background": "light"
     },
     "output_type": "display_data"
    }
   ],
   "source": [
    "x = np.linspace(0, 1, 100)\n",
    "y = np.linspace(0, 1, 100)\n",
    "\n",
    "xv, yv = np.meshgrid(x, y)\n",
    "xv = xv.reshape(1, -1)\n",
    "yv = yv.reshape(1, -1)\n",
    "\n",
    "cords = np.r_[xv, yv].T\n",
    "preds = net.forward(cords)[0]\n",
    "\n",
    "plt.scatter(xv, yv, c=preds)"
   ]
  },
  {
   "cell_type": "code",
   "execution_count": null,
   "metadata": {},
   "outputs": [],
   "source": []
  }
 ],
 "metadata": {
  "colab": {
   "collapsed_sections": [],
   "include_colab_link": true,
   "name": "Assignment2.ipynb",
   "provenance": [],
   "toc_visible": true
  },
  "kernelspec": {
   "display_name": "Python 3",
   "language": "python",
   "name": "python3"
  },
  "language_info": {
   "codemirror_mode": {
    "name": "ipython",
    "version": 3
   },
   "file_extension": ".py",
   "mimetype": "text/x-python",
   "name": "python",
   "nbconvert_exporter": "python",
   "pygments_lexer": "ipython3",
   "version": "3.7.3"
  }
 },
 "nbformat": 4,
 "nbformat_minor": 4
}
