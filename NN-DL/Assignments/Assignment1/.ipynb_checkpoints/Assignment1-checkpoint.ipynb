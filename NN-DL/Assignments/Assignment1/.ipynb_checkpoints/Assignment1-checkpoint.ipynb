{
 "cells": [
  {
   "cell_type": "markdown",
   "metadata": {
    "colab_type": "text",
    "id": "Bb0zN1GvapSt"
   },
   "source": [
    "# Assignment 1"
   ]
  },
  {
   "cell_type": "markdown",
   "metadata": {
    "colab_type": "text",
    "id": "zIBf-IF_ahTI"
   },
   "source": [
    "## Assignment text\n",
    "1. **[1p]** Download data competition from a Kaggle competition on sentiment prediction from [[https://www.kaggle.com/c/sentiment-analysis-on-movie-reviews/data](https://www.kaggle.com/c/sentiment-analysis-on-movie-reviews/data)].  Keep only full sentences, i.e. for each `SenteceId` keep only the entry with the lowest `PhraseId`.  Use first 7000 sentences as a `train set` and the remaining 1529 sentences as the `test set`. \n",
    "\n",
    "2. **[1p]** Prepare the data for logistic regression:\n",
    "\tMap the sentiment scores $0,1,2,3,4$ to a probability of the sentence being by setting $p(\\textrm{positive}) = \\textrm{sentiment}/4$.\n",
    "\tBuild a dictionary of at most 20000 most frequent words.\n",
    "\n",
    "3. **[3p]** Treat each document as a bag of words. e.g. if the vocabulary is \n",
    "\t```\n",
    "\t0: the\n",
    "\t1: good\n",
    "\t2: movie\n",
    "\t3: is\n",
    "\t4: not\n",
    "\t5: a\n",
    "\t6: funny\n",
    "\t```\n",
    "\tThen the encodings can be:\n",
    "\t```\n",
    "\tgood:                           [0,1,0,0,0,0,0]\n",
    "\tnot good:                       [0,1,0,0,1,0,0] \n",
    "\tthe movie is not a funny movie: [1,0,2,1,1,1,1]\n",
    "\t```\n",
    "    Train a logistic regression model to predict the sentiment. Compute the correlation between the predicted probabilities and the sentiment. Record the most positive and negative words.\n",
    "    Please note that in this model each word gets its sentiment parameter $S_w$ and the score for a sentence is \n",
    "    $$\\text{score}(\\text{sentence}) = \\sum_{w\\text{ in sentence}}S_w$$\n",
    "\n",
    "4. **[3p]** Now prepare an encoding in which negation flips the sign of the following words. For instance for our vocabulary the encodings become:\n",
    "\t```\n",
    "\tgood:                           [0,1,0,0,0,0,0]\n",
    "\tnot good:                       [0,-1,0,0,1,0,0]\n",
    "\tnot not good:                   [0,1,0,0,0,0,0]\n",
    "\tthe movie is not a funny movie: [1,0,0,1,1,-1,-1]\n",
    "\t```\n",
    "\tFor best results, you will probably need to construct a list of negative words.\n",
    "\t\n",
    "\tAgain train a logistic regression classifier and compare the results to the Bag of Words approach.\n",
    "\t\n",
    "\tPlease note that this model still maintains a single parameter for each word, but now the sentence score is\n",
    "\t$$\\text{score}(\\text{sentence}) = \\sum_{w\\text{ in sentence}}-1^{\\text{count of negations preceeding }w}S_w$$\n",
    "\n",
    "5. **[5p]** Now also consider emphasizing words such as `very`. They can boost (multiply by a constant >1) the following words.\n",
    "\tImplement learning the modifying multiplier for negation and for emphasis. One way to do this is to introduce a model which has:\n",
    "\t- two modifiers, $N$ for negation and $E$ for emphasis\n",
    "\t- a sentiment score $S_w$ for each word \n",
    "And score each sentence as:\n",
    "$$\\text{score}(\\text{sentence}) = \\sum_{w\\text{ in sentence}}N^{\\text{\\#negs prec. }w}E^{\\text{\\#emphs prec. }w}S_w$$\n",
    "\n",
    "You will need to implement a custom logistic regression model to support it.\n",
    "\n",
    "6. **[2pb]** Propose, implement, and evaluate an extension to the above model.\n"
   ]
  },
  {
   "cell_type": "code",
   "execution_count": 1,
   "metadata": {},
   "outputs": [
    {
     "name": "stderr",
     "output_type": "stream",
     "text": [
      "C:\\Users\\Febrin\\AppData\\Local\\Programs\\Python\\Python37\\lib\\site-packages\\sklearn\\externals\\six.py:31: DeprecationWarning: The module is deprecated in version 0.21 and will be removed in version 0.23 since we've dropped support for Python 2.7. Please rely on the official version of six (https://pypi.org/project/six/).\n",
      "  \"(https://pypi.org/project/six/).\", DeprecationWarning)\n",
      "C:\\Users\\Febrin\\AppData\\Local\\Programs\\Python\\Python37\\lib\\site-packages\\sklearn\\externals\\joblib\\__init__.py:15: DeprecationWarning: sklearn.externals.joblib is deprecated in 0.21 and will be removed in 0.23. Please import this functionality directly from joblib, which can be installed with: pip install joblib. If this warning is raised when loading pickled models, you may need to re-serialize those models with scikit-learn 0.21+.\n",
      "  warnings.warn(msg, category=DeprecationWarning)\n"
     ]
    }
   ],
   "source": [
    "# imports\n",
    "import numpy as np\n",
    "import pandas as pd\n",
    "from collections import defaultdict \n",
    "import re\n",
    "\n",
    "from sklearn.linear_model import LogisticRegression\n",
    "import scipy.optimize as sopt\n",
    "from tqdm import tqdm\n",
    "from sklearn.metrics import confusion_matrix\n",
    "from mord import LogisticAT\n",
    "import matplotlib.pyplot as plt\n",
    "import mglearn"
   ]
  },
  {
   "cell_type": "code",
   "execution_count": 28,
   "metadata": {},
   "outputs": [],
   "source": [
    "negation_words = ['not','no','never','none']\n",
    "enhance_words  = ['very', 'consistently', 'constantly', 'continually', 'inadvertently', 'mutually', 'simply', 'strongly', 'actively', 'energetically', 'firmly', 'fully', 'heartily', 'heavily', 'resolutely', 'robustly', 'solidly', 'staunchly', 'steadily', 'vigorously', 'completely', 'decidedly', 'forcibly', 'indomitably', 'invincibly', 'mightily', 'securely', 'stoutly', 'sturdily']\n",
    "positive_words = ['accomplished', 'economical', 'instrumental', 'skilled', 'adept', 'expert', 'productive', 'skillful', 'advanced', 'fluent', 'proficient', 'strong', 'competent', 'ideal', 'profitable', 'superior', 'constructive', 'industrious', 'significant', 'qualified', 'costeffective', 'influential', 'smooth', 'quality', 'cuttingedge', 'imaginative', 'novel', 'sophisticated', 'elegant', 'ingenious', 'progressive', 'unique', 'firstclass', 'innovative', 'revolutionary', 'unprecedented', 'groundbreaking', 'inventive', 'robust', 'worldclass', 'astute', 'insightful', 'methodical', 'practical', 'calculating', 'intelligent', 'meticulous', 'shrewd', 'complex', 'investigative', 'objective', 'strategic', 'discerning', 'logical', 'perceptive', 'thoughtful', 'accept', 'favor', 'acclaim', 'admire', 'applaud', 'appreciate', 'approbate', 'commend', 'countenance', 'esteem', 'handle', 'like', 'praise', 'respect']\n",
    "negative_words = ['only', 'coarse', 'dead', 'feeble', 'rely', 'faintly', 'bad', 'hate', 'enraged', 'fight', 'hard', 'practically', 'callous', 'ghastly', 'simply', 'banal', 'filthy', 'grave', 'grimace', 'harmful', 'annoy', 'damaging', 'perceptibly', 'deformed', 'infrequently', 'bemoan', 'faulty', 'fail', 'hardhearted', 'grim', 'sparsely', 'angry', 'gawky', 'abysmal', 'somewhat', 'evil', 'imperceptibly', 'coldhearted', 'sporadically', 'cold', 'decaying', 'fear', 'eroding', 'clumsy', 'rarely', 'adverse', 'gradually', 'slightly', 'scantly', 'just', 'damage', 'anxious', 'haggard', 'cant', 'barbed', 'little', 'comparatively', 'belligerent', 'dastardly', 'detectably', 'alarming', 'seldom', 'beneath']"
   ]
  },
  {
   "cell_type": "code",
   "execution_count": 97,
   "metadata": {},
   "outputs": [],
   "source": [
    "negation_words = ['not','no','never','no','hardly','nobody','none','scarcely','nowhere','sparsely','scantly','seldom','sporadically','somewhat','infrequently','imperceptibly','rarely','comparatively','perceptibly','gradually','detectably','slightly','just','only','faintly','little']"
   ]
  },
  {
   "cell_type": "markdown",
   "metadata": {},
   "source": [
    "## Task 1."
   ]
  },
  {
   "cell_type": "code",
   "execution_count": 2,
   "metadata": {},
   "outputs": [],
   "source": [
    "def regex(text):\n",
    "    text = re.sub(r'[^\\w\\s]', '', text.lower())\n",
    "    return text"
   ]
  },
  {
   "cell_type": "code",
   "execution_count": 3,
   "metadata": {},
   "outputs": [
    {
     "data": {
      "text/plain": [
       "(8529, 2)"
      ]
     },
     "execution_count": 3,
     "metadata": {},
     "output_type": "execute_result"
    }
   ],
   "source": [
    "df = pd.read_csv('train.tsv', sep='\\t')\n",
    "# test_df = pd.read_csv('test.tsv', sep='\\t')\n",
    "\n",
    "df = df.groupby(['SentenceId'], \n",
    "                          as_index=False).agg({'PhraseId' : 'min',\n",
    "                                               'Phrase' : 'first',\n",
    "                                               'Sentiment' : 'first'})\n",
    "\n",
    "df['Sentiment'] = df['Sentiment'].apply(lambda x: x / 4)\n",
    "df = df.drop(['PhraseId', 'SentenceId'], axis=1)\n",
    "df.Phrase = df.Phrase.apply(lambda row: regex(row))\n",
    "df.shape"
   ]
  },
  {
   "cell_type": "code",
   "execution_count": 4,
   "metadata": {},
   "outputs": [
    {
     "data": {
      "text/html": [
       "<div>\n",
       "<style scoped>\n",
       "    .dataframe tbody tr th:only-of-type {\n",
       "        vertical-align: middle;\n",
       "    }\n",
       "\n",
       "    .dataframe tbody tr th {\n",
       "        vertical-align: top;\n",
       "    }\n",
       "\n",
       "    .dataframe thead th {\n",
       "        text-align: right;\n",
       "    }\n",
       "</style>\n",
       "<table border=\"1\" class=\"dataframe\">\n",
       "  <thead>\n",
       "    <tr style=\"text-align: right;\">\n",
       "      <th></th>\n",
       "      <th>Phrase</th>\n",
       "      <th>Sentiment</th>\n",
       "    </tr>\n",
       "  </thead>\n",
       "  <tbody>\n",
       "    <tr>\n",
       "      <th>0</th>\n",
       "      <td>a series of escapades demonstrating the adage ...</td>\n",
       "      <td>0.25</td>\n",
       "    </tr>\n",
       "    <tr>\n",
       "      <th>1</th>\n",
       "      <td>this quiet  introspective and entertaining ind...</td>\n",
       "      <td>1.00</td>\n",
       "    </tr>\n",
       "    <tr>\n",
       "      <th>2</th>\n",
       "      <td>even fans of ismail merchant s work  i suspect...</td>\n",
       "      <td>0.25</td>\n",
       "    </tr>\n",
       "    <tr>\n",
       "      <th>3</th>\n",
       "      <td>a positively thrilling combination of ethnogra...</td>\n",
       "      <td>0.75</td>\n",
       "    </tr>\n",
       "    <tr>\n",
       "      <th>4</th>\n",
       "      <td>aggressive selfglorification and a manipulativ...</td>\n",
       "      <td>0.25</td>\n",
       "    </tr>\n",
       "  </tbody>\n",
       "</table>\n",
       "</div>"
      ],
      "text/plain": [
       "                                              Phrase  Sentiment\n",
       "0  a series of escapades demonstrating the adage ...       0.25\n",
       "1  this quiet  introspective and entertaining ind...       1.00\n",
       "2  even fans of ismail merchant s work  i suspect...       0.25\n",
       "3  a positively thrilling combination of ethnogra...       0.75\n",
       "4  aggressive selfglorification and a manipulativ...       0.25"
      ]
     },
     "execution_count": 4,
     "metadata": {},
     "output_type": "execute_result"
    }
   ],
   "source": [
    "df.head()"
   ]
  },
  {
   "cell_type": "code",
   "execution_count": 5,
   "metadata": {},
   "outputs": [
    {
     "data": {
      "text/plain": [
       "0.75    2321\n",
       "0.25    2200\n",
       "0.50    1655\n",
       "1.00    1281\n",
       "0.00    1072\n",
       "Name: Sentiment, dtype: int64"
      ]
     },
     "execution_count": 5,
     "metadata": {},
     "output_type": "execute_result"
    }
   ],
   "source": [
    "# target value counts\n",
    "df['Sentiment'].value_counts()"
   ]
  },
  {
   "cell_type": "code",
   "execution_count": 6,
   "metadata": {},
   "outputs": [
    {
     "name": "stdout",
     "output_type": "stream",
     "text": [
      "(7000, 2) (1529, 2)\n"
     ]
    }
   ],
   "source": [
    "# test and train split\n",
    "train_df = df.iloc[: 7000]\n",
    "test_df = df.iloc[7000: ]\n",
    "\n",
    "print(train_df.shape, test_df.shape)"
   ]
  },
  {
   "cell_type": "markdown",
   "metadata": {},
   "source": [
    "# Task 2 & 3"
   ]
  },
  {
   "cell_type": "code",
   "execution_count": 77,
   "metadata": {},
   "outputs": [],
   "source": [
    "class Logistic_Regression:\n",
    "    def __init__(self, max_iter=500, solver_calls=5,lambda_ = 0.1,Theta=None,\n",
    "                 solver=sopt.fmin_l_bfgs_b, debug=False):\n",
    "        self.Theta = Theta\n",
    "        self.solver_calls = solver_calls\n",
    "        self.max_iter = max_iter\n",
    "        self.solver = solver\n",
    "        self.debug = debug\n",
    "        self.lambda_ = lambda_\n",
    "    \n",
    "    def __sigmoid(self, x):\n",
    "        return 1 / (1 + np.exp(-x))    \n",
    "    \n",
    "    def __logreg_loss(self, Theta, X, Y):\n",
    "        Theta = Theta.astype(np.float64)\n",
    "        X = X.astype(np.float64)\n",
    "        Y = Y.astype(np.float64)\n",
    "        \n",
    "        Z = np.dot(Theta, X.T)\n",
    "\n",
    "        SZ = self.__sigmoid(Z)\n",
    "        Y_ = Y[:,np.newaxis]\n",
    "        nll = -np.sum((Y_ * np.log2(SZ + 1e-50) + (1-Y_) * np.log2(1 - SZ + 1e-50)))\n",
    "\n",
    "        nll += (self.lambda_/2) * np.sum(Theta**2)\n",
    "\n",
    "        grad = np.dot(X.T, (SZ - Y).T )\n",
    "        grad = grad.reshape(Theta.shape) + self.lambda_ * Theta\n",
    "\n",
    "        return nll / len(Y), grad / len(Y)\n",
    "    \n",
    "    def fit(self, X, y):\n",
    "        Theta = self.Theta\n",
    "        if Theta is None:\n",
    "            Theta = np.ones(X.shape[1]+1)\n",
    "        \n",
    "        X_with_ones = np.hstack((np.ones((X.shape[0], 1)), X))\n",
    "      \n",
    "        for i in tqdm(range(self.solver_calls), desc='Calculating Theta', position=0):\n",
    "            Theta = self.solver(lambda th: self.__logreg_loss(th, X_with_ones, y), \n",
    "                                Theta, maxiter=self.max_iter)[0]\n",
    "        self.Theta = Theta\n",
    "    \n",
    "    def predict(self, X):\n",
    "        X_with_ones = np.hstack((np.ones((X.shape[0], 1)), X))\n",
    "        preds = np.dot(self.Theta, X_with_ones.T)\n",
    "#         preds = np.dot(self.Theta, X_with_ones.T)\n",
    "        return preds, self.__sigmoid(preds)"
   ]
  },
  {
   "cell_type": "code",
   "execution_count": 110,
   "metadata": {},
   "outputs": [],
   "source": [
    "class MyCountVectorizer:\n",
    "    def __init__(self, min_df=-1, max_df=1e18, negative=False, enhance=False):\n",
    "        self.min_df = min_df\n",
    "        self.max_df = max_df\n",
    "        self.negative = negative\n",
    "        self.enhence_coeff = 5\n",
    "        self.enhance = enhance\n",
    "        \n",
    "    def fit(self, df):\n",
    "        words_cnt = defaultdict(int)\n",
    "        col = df.columns[0]\n",
    "        \n",
    "        for i in range(len(df)):\n",
    "            text = df.iloc[i][col]\n",
    "            for word in text.split():\n",
    "                words_cnt[word] += 1\n",
    "                \n",
    "        all_words = []\n",
    "        for word, cnt in words_cnt.items():\n",
    "            if self.min_df <= cnt <= self.max_df:\n",
    "                all_words.append(word)\n",
    "                \n",
    "        self.all_words_ids = {w:i for i,w in enumerate(all_words)}\n",
    "        self.width = len(all_words)\n",
    "        \n",
    "    \n",
    "    def transform(self, df):\n",
    "        col = df.columns[0]\n",
    "        count_matrix = np.zeros([len(df), self.width], \\\n",
    "                                dtype=np.int32)\n",
    "        \n",
    "        for i in range(len(df)):\n",
    "            text = df.iloc[i][col].split()\n",
    "\n",
    "            cnt_neg = 0\n",
    "            for word in text:\n",
    "                if word in self.all_words_ids:\n",
    "                    pos = self.all_words_ids[word]\n",
    "                \n",
    "                    if self.negative:\n",
    "                        if word in negation_words:\n",
    "                            cnt_neg += 1\n",
    "                        else:\n",
    "                            count_matrix[i][pos] += (1 * (-1) ** cnt_neg)\n",
    "                            cnt_neg = 0\n",
    "                    else:\n",
    "                        count_matrix[i][pos] += 1\n",
    "                        \n",
    "                    enhance = 0\n",
    "                    if self.enhance:\n",
    "                        if word in enhance_words:\n",
    "                            enhance += self.enhence_coeff\n",
    "                        else:\n",
    "                            count_matrix[i][pos] *= enhance\n",
    "                            enhance = 0\n",
    "                    \n",
    "        return count_matrix"
   ]
  },
  {
   "cell_type": "code",
   "execution_count": 9,
   "metadata": {},
   "outputs": [],
   "source": [
    "# takes LR output and maps for closest targets\n",
    "\n",
    "targets = np.array([0, 0.25, 0.5, 0.75, 1])\n",
    "def find_nearest(value, array=targets):\n",
    "    array = np.asarray(array)\n",
    "    idx = (np.abs(array - value)).argmin()\n",
    "    return array[idx]"
   ]
  },
  {
   "cell_type": "code",
   "execution_count": 10,
   "metadata": {},
   "outputs": [],
   "source": [
    "# Data embedding \n",
    "\n",
    "cv = MyCountVectorizer()\n",
    "cv.fit(train_df)\n",
    "\n",
    "X_train = cv.transform(train_df) \n",
    "X_test = cv.transform(test_df)\n",
    "\n",
    "y_train = train_df.Sentiment\n",
    "y_test = test_df.Sentiment"
   ]
  },
  {
   "cell_type": "markdown",
   "metadata": {},
   "source": [
    "## My Logistic Regression"
   ]
  },
  {
   "cell_type": "code",
   "execution_count": 11,
   "metadata": {},
   "outputs": [
    {
     "name": "stderr",
     "output_type": "stream",
     "text": [
      "Calculating Theta: 100%|████████████████████████████████████████████████████████████████| 1/1 [03:09<00:00, 189.85s/it]\n"
     ]
    },
    {
     "name": "stdout",
     "output_type": "stream",
     "text": [
      "Wall time: 3min 10s\n"
     ]
    }
   ],
   "source": [
    "%%time\n",
    "\n",
    "my_LR = Logistic_Regression(max_iter=1000, lambda_=1, Theta=None, debug=False, solver_calls=1)\n",
    "my_LR.fit(X_train, y_train)"
   ]
  },
  {
   "cell_type": "code",
   "execution_count": 12,
   "metadata": {},
   "outputs": [],
   "source": [
    "train_preds = my_LR.predict(X_train)\n",
    "test_preds = my_LR.predict(X_test)"
   ]
  },
  {
   "cell_type": "code",
   "execution_count": 13,
   "metadata": {},
   "outputs": [
    {
     "name": "stdout",
     "output_type": "stream",
     "text": [
      "Test\n",
      "[[1.         0.90856649]\n",
      " [0.90856649 1.        ]]\n",
      "\n",
      "Train\n",
      "[[1.         0.58121798]\n",
      " [0.58121798 1.        ]]\n"
     ]
    }
   ],
   "source": [
    "# correlation\n",
    "\n",
    "print('Test')\n",
    "print(np.corrcoef(train_preds[1], y_train))\n",
    "print('\\nTrain')\n",
    "print(np.corrcoef(test_preds[1], y_test))"
   ]
  },
  {
   "cell_type": "code",
   "execution_count": 14,
   "metadata": {},
   "outputs": [],
   "source": [
    "test_preds = list(map(lambda x: find_nearest(x), test_preds[1]))\n",
    "train_preds = list(map(lambda x: find_nearest(x), train_preds[1]))"
   ]
  },
  {
   "cell_type": "code",
   "execution_count": 15,
   "metadata": {},
   "outputs": [
    {
     "name": "stdout",
     "output_type": "stream",
     "text": [
      "Train acc: 62.529%\n",
      "Test acc: 36.429%\n"
     ]
    }
   ],
   "source": [
    "print(f'Train acc: {(np.array(train_preds) == np.array(y_train)).mean() * 100:.3f}%')\n",
    "print(f'Test acc: {(np.array(test_preds) == np.array(y_test)).mean() * 100:.3f}%')"
   ]
  },
  {
   "cell_type": "code",
   "execution_count": 16,
   "metadata": {},
   "outputs": [
    {
     "name": "stdout",
     "output_type": "stream",
     "text": [
      "Train\n",
      "0.50    2245\n",
      "0.75    2118\n",
      "0.25    1914\n",
      "1.00     426\n",
      "0.00     297\n",
      "dtype: int64\n",
      "\n",
      "Actual Train\n",
      "0.75    1902\n",
      "0.25    1810\n",
      "0.50    1362\n",
      "1.00    1048\n",
      "0.00     878\n",
      "Name: Sentiment, dtype: int64\n"
     ]
    }
   ],
   "source": [
    "print('Train')\n",
    "print(pd.Series(train_preds).value_counts())\n",
    "\n",
    "print('\\nActual Train')\n",
    "print(pd.Series(y_train).value_counts())"
   ]
  },
  {
   "cell_type": "code",
   "execution_count": 17,
   "metadata": {},
   "outputs": [
    {
     "name": "stdout",
     "output_type": "stream",
     "text": [
      "Test\n",
      "0.50    606\n",
      "0.75    407\n",
      "0.25    394\n",
      "1.00     74\n",
      "0.00     48\n",
      "dtype: int64\n",
      "\n",
      "Actual Test\n",
      "0.75    419\n",
      "0.25    390\n",
      "0.50    293\n",
      "1.00    233\n",
      "0.00    194\n",
      "Name: Sentiment, dtype: int64\n"
     ]
    }
   ],
   "source": [
    "print('Test')\n",
    "print(pd.Series(test_preds).value_counts())\n",
    "\n",
    "print('\\nActual Test')\n",
    "print(pd.Series(y_test).value_counts())"
   ]
  },
  {
   "cell_type": "markdown",
   "metadata": {},
   "source": [
    "## Sklearn"
   ]
  },
  {
   "cell_type": "code",
   "execution_count": 19,
   "metadata": {},
   "outputs": [
    {
     "name": "stdout",
     "output_type": "stream",
     "text": [
      "Wall time: 35.8 s\n"
     ]
    },
    {
     "data": {
      "text/plain": [
       "LogisticRegression(C=1.0, class_weight=None, dual=False, fit_intercept=True,\n",
       "                   intercept_scaling=1, l1_ratio=None, max_iter=1000,\n",
       "                   multi_class='multinomial', n_jobs=None, penalty='l2',\n",
       "                   random_state=None, solver='lbfgs', tol=0.0001, verbose=0,\n",
       "                   warm_start=False)"
      ]
     },
     "execution_count": 19,
     "metadata": {},
     "output_type": "execute_result"
    }
   ],
   "source": [
    "%%time\n",
    "\n",
    "LR = LogisticRegression(multi_class='multinomial', solver='lbfgs', max_iter=1000)\n",
    "LR.fit(X_train, y_train * 4)"
   ]
  },
  {
   "cell_type": "code",
   "execution_count": 20,
   "metadata": {},
   "outputs": [
    {
     "name": "stdout",
     "output_type": "stream",
     "text": [
      "Train acc: 96.700%\n",
      "Test acc: 39.111%\n"
     ]
    }
   ],
   "source": [
    "train_preds2 = LR.predict(X_train)\n",
    "test_preds2 = LR.predict(X_test)\n",
    "\n",
    "print(f'Train acc: {(np.array(train_preds2) == np.array(y_train * 4)).mean() * 100:.3f}%')\n",
    "print(f'Test acc: {(np.array(test_preds2) == np.array(y_test * 4)).mean() * 100:.3f}%')"
   ]
  },
  {
   "cell_type": "code",
   "execution_count": 21,
   "metadata": {},
   "outputs": [
    {
     "name": "stdout",
     "output_type": "stream",
     "text": [
      "Train\n",
      "3.0    1913\n",
      "1.0    1866\n",
      "2.0    1355\n",
      "4.0    1018\n",
      "0.0     848\n",
      "dtype: int64\n",
      "\n",
      "Actual Train\n",
      "0.75    419\n",
      "0.25    390\n",
      "0.50    293\n",
      "1.00    233\n",
      "0.00    194\n",
      "Name: Sentiment, dtype: int64\n"
     ]
    }
   ],
   "source": [
    "print('Train')\n",
    "print(pd.Series(train_preds2).value_counts())\n",
    "\n",
    "print('\\nActual Train')\n",
    "print(pd.Series(y_test).value_counts())"
   ]
  },
  {
   "cell_type": "code",
   "execution_count": 22,
   "metadata": {},
   "outputs": [
    {
     "name": "stdout",
     "output_type": "stream",
     "text": [
      "Test\n",
      "3.0    459\n",
      "1.0    432\n",
      "2.0    292\n",
      "4.0    202\n",
      "0.0    144\n",
      "dtype: int64\n",
      "\n",
      "Actual Test\n",
      "0.75    419\n",
      "0.25    390\n",
      "0.50    293\n",
      "1.00    233\n",
      "0.00    194\n",
      "Name: Sentiment, dtype: int64\n"
     ]
    }
   ],
   "source": [
    "print('Test')\n",
    "print(pd.Series(test_preds2).value_counts())\n",
    "\n",
    "print('\\nActual Test')\n",
    "print(pd.Series(y_test).value_counts())"
   ]
  },
  {
   "cell_type": "markdown",
   "metadata": {},
   "source": [
    "## The most positive and negative words"
   ]
  },
  {
   "cell_type": "code",
   "execution_count": 23,
   "metadata": {},
   "outputs": [
    {
     "data": {
      "image/png": "[encoded data removed]",
      "text/plain": [
       "<Figure size 1080x360 with 1 Axes>"
      ]
     },
     "metadata": {
      "needs_background": "light"
     },
     "output_type": "display_data"
    }
   ],
   "source": [
    "mglearn.tools.visualize_coefficients(my_LR.Theta[1:], list(cv.all_words_ids.keys()), n_top_features=20)\n",
    "plt.show()"
   ]
  },
  {
   "cell_type": "markdown",
   "metadata": {},
   "source": [
    "# Task 4\n",
    "## Flip the sign of words after negations"
   ]
  },
  {
   "cell_type": "code",
   "execution_count": 98,
   "metadata": {},
   "outputs": [],
   "source": [
    "cv = MyCountVectorizer(negative=True)\n",
    "cv.fit(train_df)\n",
    "\n",
    "X_train = cv.transform(train_df) \n",
    "X_test = cv.transform(test_df)\n",
    "\n",
    "y_train = train_df.Sentiment\n",
    "y_test = test_df.Sentiment"
   ]
  },
  {
   "cell_type": "code",
   "execution_count": 99,
   "metadata": {},
   "outputs": [
    {
     "name": "stderr",
     "output_type": "stream",
     "text": [
      "Calculating Theta: 100%|████████████████████████████████████████████████████████████████| 1/1 [04:34<00:00, 274.83s/it]\n"
     ]
    },
    {
     "name": "stdout",
     "output_type": "stream",
     "text": [
      "Wall time: 4min 35s\n"
     ]
    }
   ],
   "source": [
    "%%time\n",
    "\n",
    "my_LR = Logistic_Regression(max_iter=1000, lambda_=1, Theta=None, debug=False, solver_calls=1)\n",
    "my_LR.fit(X_train, y_train)"
   ]
  },
  {
   "cell_type": "code",
   "execution_count": 100,
   "metadata": {},
   "outputs": [
    {
     "name": "stdout",
     "output_type": "stream",
     "text": [
      "Train acc: 62.557%\n",
      "Test acc: 37.279%\n"
     ]
    }
   ],
   "source": [
    "train_preds3 = my_LR.predict(X_train)\n",
    "test_preds3 = my_LR.predict(X_test)\n",
    "\n",
    "test_preds3 = list(map(lambda x: find_nearest(x), test_preds3[1]))\n",
    "train_preds3 = list(map(lambda x: find_nearest(x), train_preds3[1]))\n",
    "\n",
    "print(f'Train acc: {(np.array(train_preds3) == np.array(y_train)).mean() * 100:.3f}%')\n",
    "print(f'Test acc: {(np.array(test_preds3) == np.array(y_test)).mean() * 100:.3f}%')"
   ]
  },
  {
   "cell_type": "markdown",
   "metadata": {},
   "source": [
    "# Task 5\n",
    "## Emphasizing words"
   ]
  },
  {
   "cell_type": "code",
   "execution_count": 111,
   "metadata": {},
   "outputs": [],
   "source": [
    "cv = MyCountVectorizer(negative=True, enhance=True)\n",
    "cv.fit(train_df)\n",
    "\n",
    "X_train = cv.transform(train_df) \n",
    "X_test = cv.transform(test_df)\n",
    "\n",
    "y_train = train_df.Sentiment\n",
    "y_test = test_df.Sentiment"
   ]
  },
  {
   "cell_type": "code",
   "execution_count": 112,
   "metadata": {},
   "outputs": [
    {
     "name": "stderr",
     "output_type": "stream",
     "text": [
      "Calculating Theta: 100%|████████████████████████████████████████████████████████████████| 1/1 [06:42<00:00, 402.19s/it]\n"
     ]
    },
    {
     "name": "stdout",
     "output_type": "stream",
     "text": [
      "Wall time: 6min 42s\n"
     ]
    }
   ],
   "source": [
    "%%time\n",
    "\n",
    "my_LR = Logistic_Regression(max_iter=2000, lambda_=1, Theta=None, debug=False, solver_calls=1)\n",
    "my_LR.fit(X_train, y_train)"
   ]
  },
  {
   "cell_type": "code",
   "execution_count": 113,
   "metadata": {},
   "outputs": [
    {
     "name": "stdout",
     "output_type": "stream",
     "text": [
      "Train acc: 19.457%\n",
      "Test acc: 19.294%\n"
     ]
    }
   ],
   "source": [
    "train_preds4 = my_LR.predict(X_train)\n",
    "test_preds4 = my_LR.predict(X_test)\n",
    "\n",
    "test_preds4 = list(map(lambda x: find_nearest(x), test_preds4[1]))\n",
    "train_preds4 = list(map(lambda x: find_nearest(x), train_preds4[1]))\n",
    "\n",
    "print(f'Train acc: {(np.array(train_preds4) == np.array(y_train)).mean() * 100:.3f}%')\n",
    "print(f'Test acc: {(np.array(test_preds4) == np.array(y_test)).mean() * 100:.3f}%')"
   ]
  },
  {
   "cell_type": "code",
   "execution_count": null,
   "metadata": {},
   "outputs": [],
   "source": []
  }
 ],
 "metadata": {
  "colab": {
   "authorship_tag": "ABX9TyOq9DmD52l9ZwYdGlCpK8hb",
   "include_colab_link": true,
   "name": "Assignment1.ipynb",
   "provenance": []
  },
  "kernelspec": {
   "display_name": "Python 3",
   "language": "python",
   "name": "python3"
  },
  "language_info": {
   "codemirror_mode": {
    "name": "ipython",
    "version": 3
   },
   "file_extension": ".py",
   "mimetype": "text/x-python",
   "name": "python",
   "nbconvert_exporter": "python",
   "pygments_lexer": "ipython3",
   "version": "3.7.3"
  }
 },
 "nbformat": 4,
 "nbformat_minor": 4
}
