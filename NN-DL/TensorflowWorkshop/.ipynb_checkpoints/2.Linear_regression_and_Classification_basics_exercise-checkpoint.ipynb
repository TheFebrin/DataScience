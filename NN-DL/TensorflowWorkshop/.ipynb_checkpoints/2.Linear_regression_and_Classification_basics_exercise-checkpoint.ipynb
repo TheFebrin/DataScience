{
  "nbformat": 4,
  "nbformat_minor": 0,
  "metadata": {
    "colab": {
      "name": "Copy of 2 - Linear regression and Classification basics - exercise",
      "provenance": [],
      "collapsed_sections": [],
      "toc_visible": true
    },
    "kernelspec": {
      "name": "python3",
      "display_name": "Python 3"
    },
    "accelerator": "GPU"
  },
  "cells": [
    {
      "cell_type": "markdown",
      "metadata": {
        "id": "wPOWxNtKvxqK",
        "colab_type": "text"
      },
      "source": [
        "Rafał Nowak\n",
        "\n",
        "<img style=\"float: left\" src=\"http://rno.ii.uni.wroc.pl/uploads/cats-dogs/img/tplx-academy_rgb_transparent.png\" width=\"450\"><br/>\n",
        "<font size=\"+4\">Neural Networks in Tensorflow 2.x<br/></font>\n",
        "<ul>\n",
        "<li><font size=\"+2\">Classification basics</font>\n",
        "<li><font size=\"+2\">Optimization</font>\n",
        "</ul>"
      ]
    },
    {
      "cell_type": "code",
      "metadata": {
        "colab_type": "code",
        "outputId": "875cb36d-94bf-4ed2-ad6e-993538880e7f",
        "id": "PFbyWwPBPC6q",
        "colab": {
          "base_uri": "https://localhost:8080/",
          "height": 51
        }
      },
      "source": [
        "# %tensorflow_version 2.x - switch only for Google Colab notebook\n",
        "%tensorflow_version 2.x\n",
        "\n",
        "import tensorflow as tf\n",
        "print(tf.__version__)"
      ],
      "execution_count": 1,
      "outputs": [
        {
          "output_type": "stream",
          "text": [
            "TensorFlow 2.x selected.\n",
            "2.1.0\n"
          ],
          "name": "stdout"
        }
      ]
    },
    {
      "cell_type": "markdown",
      "metadata": {
        "id": "rHK77MATMRTX",
        "colab_type": "text"
      },
      "source": [
        "# Dataset representation\n",
        "\n",
        "* each **sample** is described by $n$ **features** (vector with $n$ numbers)\n",
        "* $m$ samples are represented by matrix with size $m \\times n$\n",
        "\n",
        "<img align=\"left\" src=\"http://rno.ii.uni.wroc.pl/uploads/tooploox/matrix_m_n.png\" width=\"250\">"
      ]
    },
    {
      "cell_type": "markdown",
      "metadata": {
        "id": "tYPjDJbYZnvr",
        "colab_type": "text"
      },
      "source": [
        "# Linear regression - review"
      ]
    },
    {
      "cell_type": "markdown",
      "metadata": {
        "id": "rgC7ikw6Q000",
        "colab_type": "text"
      },
      "source": [
        "## Example - Boston houses dataset (506x13)"
      ]
    },
    {
      "cell_type": "code",
      "metadata": {
        "id": "O0zdMZeePYAg",
        "colab_type": "code",
        "outputId": "eb61eafa-8f8a-4773-a309-bca2b4dfb987",
        "colab": {
          "base_uri": "https://localhost:8080/",
          "height": 34
        }
      },
      "source": [
        "from   sklearn import datasets\n",
        "\n",
        "X, y = datasets.load_boston(return_X_y=True)\n",
        "\n",
        "X = tf.convert_to_tensor(X, dtype=float)\n",
        "y = tf.convert_to_tensor(y, dtype=float)\n",
        "\n",
        "m, n = X.shape\n",
        "\n",
        "X.shape, y.shape"
      ],
      "execution_count": 2,
      "outputs": [
        {
          "output_type": "execute_result",
          "data": {
            "text/plain": [
              "(TensorShape([506, 13]), TensorShape([506]))"
            ]
          },
          "metadata": {
            "tags": []
          },
          "execution_count": 2
        }
      ]
    },
    {
      "cell_type": "markdown",
      "metadata": {
        "id": "5IIi_8-jFvwP",
        "colab_type": "text"
      },
      "source": [
        "## Linear model\n",
        "\n",
        "Simple linear model with $n+1$ parameters (weights):\n",
        "* $w_1, w_2, \\ldots, w_n$ - called by _kernel_, _weights_,\n",
        "* $b$ - usually called by _bias_ or _intercept_.\n",
        "\n",
        "<img align=\"right\" src=\"http://rno.ii.uni.wroc.pl/uploads/tooploox/perceptron.png\" width=\"500\">\n",
        "\n",
        "It performs the following matrix-vector operation:\n",
        "$$ y = Xw+b \\in \\mathbb{R}^m $$"
      ]
    },
    {
      "cell_type": "code",
      "metadata": {
        "id": "-qPyb0c3RPAV",
        "colab_type": "code",
        "colab": {}
      },
      "source": [
        "# TODO: initialize model parameters W, b with zeros\n",
        "\n",
        "W = tf.Variable(tf.zeros((n, 1)), dtype=tf.float32)\n",
        "b = tf.Variable(0.0, dtype=tf.float32)"
      ],
      "execution_count": 0,
      "outputs": []
    },
    {
      "cell_type": "code",
      "metadata": {
        "id": "iiv1DT8FFpgY",
        "colab_type": "code",
        "outputId": "3fe25a4c-5e93-48d7-9e91-af3000bcff66",
        "colab": {
          "base_uri": "https://localhost:8080/",
          "height": 34
        }
      },
      "source": [
        "W.shape, b.shape"
      ],
      "execution_count": 4,
      "outputs": [
        {
          "output_type": "execute_result",
          "data": {
            "text/plain": [
              "(TensorShape([13, 1]), TensorShape([]))"
            ]
          },
          "metadata": {
            "tags": []
          },
          "execution_count": 4
        }
      ]
    },
    {
      "cell_type": "markdown",
      "metadata": {
        "colab_type": "text",
        "id": "rmxlbsGoRG7I"
      },
      "source": [
        "* Implement the forward propagation $$ \\hat y = Xw + b \\in \\mathbb{R}^{m} $$\n",
        "* Implement the _mean squarred error_ (MSE)"
      ]
    },
    {
      "cell_type": "code",
      "metadata": {
        "id": "BIRkB7pWFx0w",
        "colab_type": "code",
        "colab": {}
      },
      "source": [
        "# TODO\n",
        "\n",
        "def model(X): # Compute logits\n",
        "  return tf.add(tf.matmul(X, W), b)\n",
        "    \n",
        "def loss(y_true, y_predict): # MSE loss\n",
        "  return tf.reduce_mean(tf.pow(y_true - y_predict, 2))"
      ],
      "execution_count": 0,
      "outputs": []
    },
    {
      "cell_type": "code",
      "metadata": {
        "id": "W2JPz6K8eqv1",
        "colab_type": "code",
        "outputId": "b1ec94a6-480b-4adc-96f5-8fddedcec18a",
        "colab": {
          "base_uri": "https://localhost:8080/",
          "height": 34
        }
      },
      "source": [
        "loss( y, model(X) ).numpy()"
      ],
      "execution_count": 6,
      "outputs": [
        {
          "output_type": "execute_result",
          "data": {
            "text/plain": [
              "592.1469"
            ]
          },
          "metadata": {
            "tags": []
          },
          "execution_count": 6
        }
      ]
    },
    {
      "cell_type": "markdown",
      "metadata": {
        "id": "KKLW9O6wfBIY",
        "colab_type": "text"
      },
      "source": [
        "# Optimization in Tensorflow\n",
        "\n",
        "see https://www.tensorflow.org/api_docs/python/tf/keras/optimizers"
      ]
    },
    {
      "cell_type": "markdown",
      "metadata": {
        "id": "mN8hzTDMo5Su",
        "colab_type": "text"
      },
      "source": [
        "**Gradient descent algorithm**<br/>\n",
        "<img align=\"left\" src=\"http://rno.ii.uni.wroc.pl/uploads/tooploox/gradient_descent.png\" width=\"450\">\n",
        "<img align=\"left\" src=\"http://rno.ii.uni.wroc.pl/uploads/tooploox/gradient_descent_formula.jpg\" width=\"450\">"
      ]
    },
    {
      "cell_type": "code",
      "metadata": {
        "colab_type": "code",
        "id": "wqS8utz3FMmB",
        "colab": {}
      },
      "source": [
        "# Choose optimizer\n",
        "optimizer = tf.keras.optimizers.SGD(learning_rate=0.000001, momentum=0.0, nesterov=False)  # simple Gradient-descent algorithm\n",
        "# optimizer = tf.keras.optimizers.RMSprop(learning_rate=0.01)\n",
        "# optimizer = tf.keras.optimizers.Adam()"
      ],
      "execution_count": 0,
      "outputs": []
    },
    {
      "cell_type": "markdown",
      "metadata": {
        "id": "ctcaQnVZhGGS",
        "colab_type": "text"
      },
      "source": [
        "## Single step of optimizer\n",
        "\n",
        "See\n",
        "* <a href=\"https://www.tensorflow.org/api_docs/python/tf/keras/optimizers/SGD#minimize\">`minimize`</a>\n",
        "* `optimizer.apply_gradients`"
      ]
    },
    {
      "cell_type": "code",
      "metadata": {
        "id": "TMTXbfBajRsH",
        "colab_type": "code",
        "outputId": "f339b69e-3581-4f68-daa3-7f88c9ba6f84",
        "colab": {
          "base_uri": "https://localhost:8080/",
          "height": 51
        }
      },
      "source": [
        "J = lambda : loss(y, model(X))\n",
        "print( \"Loss before optimiztion step: \", J().numpy() )\n",
        "\n",
        "optimizer.minimize(J, [W, b])\n",
        "\n",
        "print( \"Loss after optimiztion step: \", J().numpy() )"
      ],
      "execution_count": 8,
      "outputs": [
        {
          "output_type": "stream",
          "text": [
            "Loss before optimiztion step:  592.1469\n",
            "Loss after optimiztion step:  174.04004\n"
          ],
          "name": "stdout"
        }
      ]
    },
    {
      "cell_type": "markdown",
      "metadata": {
        "id": "8TwG9kWHjfKN",
        "colab_type": "text"
      },
      "source": [
        "## Utilizing gradients"
      ]
    },
    {
      "cell_type": "code",
      "metadata": {
        "id": "uGbjX7v8jqpG",
        "colab_type": "code",
        "outputId": "f00ce06f-dc58-4aaf-9c7b-b0c270fed456",
        "colab": {
          "base_uri": "https://localhost:8080/",
          "height": 34
        }
      },
      "source": [
        "with tf.GradientTape() as tape:\n",
        "    J = loss(y, model(X))\n",
        "dW, db = tape.gradient(J, [W, b])\n",
        "dW.shape, db.shape"
      ],
      "execution_count": 9,
      "outputs": [
        {
          "output_type": "execute_result",
          "data": {
            "text/plain": [
              "(TensorShape([13, 1]), TensorShape([]))"
            ]
          },
          "metadata": {
            "tags": []
          },
          "execution_count": 9
        }
      ]
    },
    {
      "cell_type": "code",
      "metadata": {
        "id": "fxgD3DkKg_AC",
        "colab_type": "code",
        "outputId": "c888f9fc-94cc-4682-b1f4-fcfcd0dfc13a",
        "colab": {
          "base_uri": "https://localhost:8080/",
          "height": 34
        }
      },
      "source": [
        "grads_and_vars = [(dW, W), (db, b)]\n",
        "optimizer.apply_gradients(grads_and_vars)"
      ],
      "execution_count": 10,
      "outputs": [
        {
          "output_type": "execute_result",
          "data": {
            "text/plain": [
              "<tf.Variable 'UnreadVariable' shape=() dtype=int64, numpy=2>"
            ]
          },
          "metadata": {
            "tags": []
          },
          "execution_count": 10
        }
      ]
    },
    {
      "cell_type": "markdown",
      "metadata": {
        "id": "u8LomOskjzQU",
        "colab_type": "text"
      },
      "source": [
        "## Some test"
      ]
    },
    {
      "cell_type": "code",
      "metadata": {
        "id": "8qHLDnmAh1e8",
        "colab_type": "code",
        "outputId": "866e637e-f11a-4131-b90e-7e87da6f4444",
        "colab": {
          "base_uri": "https://localhost:8080/",
          "height": 34
        }
      },
      "source": [
        "# Check Gradient descent\n",
        "\n",
        "with tf.GradientTape() as tape:\n",
        "    J = loss(y, model(X))\n",
        "dW, db = tape.gradient(J, [W, b])\n",
        "\n",
        "nextW = W.numpy() - optimizer.get_config()['learning_rate'] * dW.numpy()\n",
        "nextb = b.numpy() - optimizer.get_config()['learning_rate'] * db.numpy()\n",
        "\n",
        "grads_and_vars = [(dW, W), (db, b)]\n",
        "optimizer.apply_gradients(grads_and_vars)"
      ],
      "execution_count": 11,
      "outputs": [
        {
          "output_type": "execute_result",
          "data": {
            "text/plain": [
              "<tf.Variable 'UnreadVariable' shape=() dtype=int64, numpy=3>"
            ]
          },
          "metadata": {
            "tags": []
          },
          "execution_count": 11
        }
      ]
    },
    {
      "cell_type": "code",
      "metadata": {
        "id": "5EmihfyVkfsO",
        "colab_type": "code",
        "outputId": "5e40aef2-349f-4f16-97d2-054238ad33fc",
        "colab": {
          "base_uri": "https://localhost:8080/",
          "height": 255
        }
      },
      "source": [
        "print(W.numpy() - nextW)\n",
        "print(b.numpy() - nextb)"
      ],
      "execution_count": 12,
      "outputs": [
        {
          "output_type": "stream",
          "text": [
            "[[0.]\n",
            " [0.]\n",
            " [0.]\n",
            " [0.]\n",
            " [0.]\n",
            " [0.]\n",
            " [0.]\n",
            " [0.]\n",
            " [0.]\n",
            " [0.]\n",
            " [0.]\n",
            " [0.]\n",
            " [0.]]\n",
            "0.0\n"
          ],
          "name": "stdout"
        }
      ]
    },
    {
      "cell_type": "markdown",
      "metadata": {
        "id": "Rp55fkL6lXMx",
        "colab_type": "text"
      },
      "source": [
        "# Classification - cross entropy loss"
      ]
    },
    {
      "cell_type": "markdown",
      "metadata": {
        "id": "CQR9XzuGlaDM",
        "colab_type": "text"
      },
      "source": [
        "## Binary classification\n",
        "Lets consider **binary classification**\n",
        "Assume that $ y, \\hat y\\in\\mathbb{R}^{m\\times 1} $ are true labels and predictions, respectively, i.e.\n",
        "$$ y^{(i)} \\in \\{0,1\\}, \\quad \\hat y^{(i)} \\in [0,1]\\qquad (i=1,2,\\ldots,m). $$\n",
        "\n",
        "Here we show that `tf.losses.log_loss( ytrue, ypred )` computes \n",
        "$$ \\mathtt{log\\_{}loss}( \\boldsymbol y, \\hat{\\boldsymbol y} ) = - \\frac{1}{m} \\sum_{i=1}^{m} \\left[ y^{(i)} \\log( {\\hat y}^{(i)} ) +  (1-y^{(i)}) \\log( 1-{\\hat y}^{(i)} ) \\right] $$\n"
      ]
    },
    {
      "cell_type": "markdown",
      "metadata": {
        "id": "D0KbTQxsmZgi",
        "colab_type": "text"
      },
      "source": [
        "### `numpy`\n"
      ]
    },
    {
      "cell_type": "code",
      "metadata": {
        "id": "AeCErcFLlvw-",
        "colab_type": "code",
        "outputId": "c84a18f8-11ce-48f9-94b0-5770833b9644",
        "colab": {
          "base_uri": "https://localhost:8080/",
          "height": 34
        }
      },
      "source": [
        "m,n = 300, 10\n",
        "import numpy as np\n",
        "np.random.seed(1234)\n",
        "\n",
        "np_X, np_Y = datasets.make_classification(n_samples=m, n_features=n, random_state=1234)\n",
        "\n",
        "np_X = np_X.astype(np.float32)\n",
        "np_Y = np_Y.astype(np.float32)\n",
        "\n",
        "np_Y = np.reshape( np_Y, (m,1) )\n",
        "\n",
        "np_W = np.random.randn(n,1).astype(np.float32)\n",
        "np_b = np.float32(0.0)\n",
        "\n",
        "def sigmoid(x):\n",
        "  return 1.0/(1.0+np.exp(-x))\n",
        "\n",
        "np_logits = np_X.dot(np_W) + np_b\n",
        "np_pred = sigmoid( np_logits )     # shape = (300,1)\n",
        "np_loss = - np.mean( np_Y * np.log(np_pred) + (1.0 - np_Y)*np.log(1.0-np_pred) )\n",
        "\n",
        "np_loss"
      ],
      "execution_count": 13,
      "outputs": [
        {
          "output_type": "execute_result",
          "data": {
            "text/plain": [
              "2.5339074"
            ]
          },
          "metadata": {
            "tags": []
          },
          "execution_count": 13
        }
      ]
    },
    {
      "cell_type": "markdown",
      "metadata": {
        "id": "9g0tZO-fmIAF",
        "colab_type": "text"
      },
      "source": [
        "### `tf.losses.log_loss`"
      ]
    },
    {
      "cell_type": "code",
      "metadata": {
        "id": "hplovEltmVGJ",
        "colab_type": "code",
        "outputId": "b3963348-96e9-40b0-e62b-0e6a344ee8a8",
        "colab": {
          "base_uri": "https://localhost:8080/",
          "height": 34
        }
      },
      "source": [
        "tf_X = tf.convert_to_tensor( np_X, dtype=tf.float32 )\n",
        "tf_Y = tf.convert_to_tensor( np_Y, dtype=tf.float32 )\n",
        "\n",
        "tf_W = tf.Variable( np_W.astype('float32') )\n",
        "tf_b = tf.Variable( np.float32( np_b ) )\n",
        "\n",
        "tf_logits = tf.add(tf.matmul(tf_X,tf_W), tf_b)\n",
        "tf_pred = tf.nn.sigmoid( tf_logits )\n",
        "\n",
        "tf_loss = tf.compat.v1.losses.log_loss( tf_Y, tf_pred )                     # log_loss\n",
        "\n",
        "tf_loss"
      ],
      "execution_count": 14,
      "outputs": [
        {
          "output_type": "execute_result",
          "data": {
            "text/plain": [
              "<tf.Tensor: shape=(), dtype=float32, numpy=2.5335143>"
            ]
          },
          "metadata": {
            "tags": []
          },
          "execution_count": 14
        }
      ]
    },
    {
      "cell_type": "markdown",
      "metadata": {
        "id": "mjwuxdj5meZP",
        "colab_type": "text"
      },
      "source": [
        "### `tf.nn.sigmoid_cross_entropy_with_logits`"
      ]
    },
    {
      "cell_type": "code",
      "metadata": {
        "id": "WjH6T_qKmhnm",
        "colab_type": "code",
        "outputId": "72131cf1-5421-45ba-e313-4450f0c268af",
        "colab": {
          "base_uri": "https://localhost:8080/",
          "height": 34
        }
      },
      "source": [
        "# tf_logits = tf.add(tf.matmul(tf_X,tf_W), tf_b)\n",
        "\n",
        "tf_loss2 = tf.reduce_mean( tf.nn.sigmoid_cross_entropy_with_logits(labels=tf_Y, logits=tf_logits) )\n",
        "\n",
        "tf_loss2"
      ],
      "execution_count": 15,
      "outputs": [
        {
          "output_type": "execute_result",
          "data": {
            "text/plain": [
              "<tf.Tensor: shape=(), dtype=float32, numpy=2.5339067>"
            ]
          },
          "metadata": {
            "tags": []
          },
          "execution_count": 15
        }
      ]
    },
    {
      "cell_type": "markdown",
      "metadata": {
        "id": "u5D9TL4lmngZ",
        "colab_type": "text"
      },
      "source": [
        "## Multiclass classification\n",
        "Niech $X,y$ będą danymi uczącymi ($m$ próbek pochodzących z $K$ klas). Wówczas wartość funkcji kosztu dla predykcji $\\hat{y}$ dana jest wzorem (ang. _cross entropy_)\n",
        "$$\n",
        "\\begin{aligned}\n",
        "L(y,\\hat{y}) = - \\frac{1}{m} \\sum_{i \\in m} \\sum_{k \\in K} y_{k}^{(i)} \\log\\hat{y}_{k}^{(i)}\n",
        "\\end{aligned}\n",
        "$$\n"
      ]
    },
    {
      "cell_type": "code",
      "metadata": {
        "id": "eI-6k93lmuc1",
        "colab_type": "code",
        "outputId": "2a559456-966d-4233-d096-b76d75275d9b",
        "colab": {
          "base_uri": "https://localhost:8080/",
          "height": 34
        }
      },
      "source": [
        "from sklearn import datasets\n",
        "\n",
        "digits = datasets.load_digits()\n",
        "np_X = digits.data\n",
        "\n",
        "np_X.shape\n",
        "\n",
        "np_Y = tf.keras.utils.to_categorical( digits.target )\n",
        "\n",
        "m,n = np_X.shape\n",
        "K = np_Y.shape[1]\n",
        "m,n,K"
      ],
      "execution_count": 16,
      "outputs": [
        {
          "output_type": "execute_result",
          "data": {
            "text/plain": [
              "(1797, 64, 10)"
            ]
          },
          "metadata": {
            "tags": []
          },
          "execution_count": 16
        }
      ]
    },
    {
      "cell_type": "markdown",
      "metadata": {
        "id": "YAgF1zmznDW0",
        "colab_type": "text"
      },
      "source": [
        "### `numpy`\n"
      ]
    },
    {
      "cell_type": "code",
      "metadata": {
        "id": "o1fH2CVwnE8g",
        "colab_type": "code",
        "outputId": "851a087d-8c83-4e8f-b9f3-b57dd1aa50d1",
        "colab": {
          "base_uri": "https://localhost:8080/",
          "height": 34
        }
      },
      "source": [
        "np_W = np.random.randn(n,K)\n",
        "np_b = 0.0\n",
        "\n",
        "def softmax(x):\n",
        "  x -= np.max(x,axis=1,keepdims=True)\n",
        "  x  = np.exp(x)\n",
        "  x /= np.sum(x,axis=1,keepdims=True)\n",
        "  return x\n",
        "\n",
        "np_pred = softmax( np_X.dot(np_W) + np_b )     # shape = (1797,10)\n",
        "\n",
        "np_loss1 = -np.sum( np_Y * np.log( np_pred ) ) / m\n",
        "np_loss2 = -np.mean( np.log( np_pred[ np_Y==1 ] ) )\n",
        "\n",
        "np_loss1, np_loss2"
      ],
      "execution_count": 17,
      "outputs": [
        {
          "output_type": "execute_result",
          "data": {
            "text/plain": [
              "(72.0623855005558, 72.0623855005558)"
            ]
          },
          "metadata": {
            "tags": []
          },
          "execution_count": 17
        }
      ]
    },
    {
      "cell_type": "markdown",
      "metadata": {
        "id": "HVclubbfnIe1",
        "colab_type": "text"
      },
      "source": [
        "### `tf.nn.softmax_cross_entropy_with_logits`"
      ]
    },
    {
      "cell_type": "code",
      "metadata": {
        "id": "1TT2r7OpnKRe",
        "colab_type": "code",
        "outputId": "5eca4fb7-85b6-4891-c137-91ce045a42ea",
        "colab": {
          "base_uri": "https://localhost:8080/",
          "height": 34
        }
      },
      "source": [
        "tf_X = tf.convert_to_tensor( np_X, dtype=tf.float32 )\n",
        "tf_Y = tf.convert_to_tensor( np_Y )\n",
        "\n",
        "tf_W = tf.Variable( np_W.astype('float32') )\n",
        "tf_b = tf.Variable( np.float32( np_b ) )\n",
        "\n",
        "tf_logits = tf.add(tf.matmul(tf_X,tf_W), tf_b)\n",
        "\n",
        "tf_loss = tf.reduce_mean( tf.nn.softmax_cross_entropy_with_logits( labels=tf_Y, logits=tf_logits ) )\n",
        "\n",
        "tf_loss"
      ],
      "execution_count": 18,
      "outputs": [
        {
          "output_type": "execute_result",
          "data": {
            "text/plain": [
              "<tf.Tensor: shape=(), dtype=float32, numpy=72.062386>"
            ]
          },
          "metadata": {
            "tags": []
          },
          "execution_count": 18
        }
      ]
    },
    {
      "cell_type": "markdown",
      "metadata": {
        "id": "Mr98rsIHUh-Z",
        "colab_type": "text"
      },
      "source": [
        "# Toy dataset - FACESW \n",
        "\n",
        "<center><img src=\"https://scikit-learn.org/stable/_images/sphx_glr_plot_face_recognition_001.png\" width=\"50%\"></center>\n",
        "\n",
        "Labeled Faces in the Wild, a database of face photographs designed for studying the problem of unconstrained face recognition. The data set contains more than 13,000 images of faces collected from the web. \n",
        "Each face has been labeled with the name of the person pictured. 1680 of the people pictured have two or more distinct photos in the data set. The only constraint on these faces is that they were detected by the Viola-Jones face detector. More details can be found in the [technical report](http://vis-www.cs.umass.edu/lfw/)\n",
        "\n",
        "\n",
        "**Dataset subset (min_faces_per_person=70, resize=0.4)**\n",
        "- 1288 images of size 50x37"
      ]
    },
    {
      "cell_type": "code",
      "metadata": {
        "id": "v9TnAa3Mpx2l",
        "colab_type": "code",
        "outputId": "58c52802-1db9-41ad-9506-f9fa3a7adae8",
        "colab": {
          "base_uri": "https://localhost:8080/",
          "height": 85
        }
      },
      "source": [
        "import numpy as np\n",
        "import tensorflow as tf\n",
        "import matplotlib.pyplot as plt\n",
        "from sklearn import datasets\n",
        "lfw_people = datasets.fetch_lfw_people(min_faces_per_person=70, resize=0.4)"
      ],
      "execution_count": 19,
      "outputs": [
        {
          "output_type": "stream",
          "text": [
            "Downloading LFW metadata: https://ndownloader.figshare.com/files/5976012\n",
            "Downloading LFW metadata: https://ndownloader.figshare.com/files/5976009\n",
            "Downloading LFW metadata: https://ndownloader.figshare.com/files/5976006\n",
            "Downloading LFW data (~200MB): https://ndownloader.figshare.com/files/5976015\n"
          ],
          "name": "stderr"
        }
      ]
    },
    {
      "cell_type": "code",
      "metadata": {
        "id": "wsw1E2GXp6CJ",
        "colab_type": "code",
        "outputId": "e3a91612-fbf0-40fd-e7cb-79e9af932c4c",
        "colab": {
          "base_uri": "https://localhost:8080/",
          "height": 284
        }
      },
      "source": [
        "plt.imshow( lfw_people.images[6] , cmap='gray')\n",
        "plt.show()\n",
        "print( lfw_people.target[6] , lfw_people.target_names[lfw_people.target[6]] )"
      ],
      "execution_count": 20,
      "outputs": [
        {
          "output_type": "display_data",
          "data": {
            "image/png": "[encoded data removed]",
            "text/plain": [
              "<Figure size 432x288 with 1 Axes>"
            ]
          },
          "metadata": {
            "tags": []
          }
        },
        {
          "output_type": "stream",
          "text": [
            "3 George W Bush\n"
          ],
          "name": "stdout"
        }
      ]
    },
    {
      "cell_type": "code",
      "metadata": {
        "id": "eEzEWf4grLS4",
        "colab_type": "code",
        "outputId": "482ba14d-19df-4ebe-ac0e-345d38141e24",
        "colab": {
          "base_uri": "https://localhost:8080/",
          "height": 136
        }
      },
      "source": [
        "n_samples, height, width = lfw_people.images.shape\n",
        "\n",
        "Xdata = np.reshape( lfw_people.data, (n_samples, -1) )\n",
        "ydata = lfw_people.target\n",
        "\n",
        "from sklearn.model_selection import train_test_split\n",
        "X_train, X_test, y_train, y_test = train_test_split(Xdata, ydata, test_size=0.25, random_state = 980)\n",
        "\n",
        "n_classes = 7\n",
        "n_features = Xdata.shape[1]\n",
        "target_names = lfw_people.target_names\n",
        "\n",
        "print('')\n",
        "print('n_samples  = ', n_samples)\n",
        "print('n_features = ', n_features)\n",
        "print('n_classes  = ', n_classes)\n",
        "print('Xdata.shape = ', Xdata.shape)\n",
        "print('X_train.shape = ', X_train.shape)\n",
        "# print('y_train_one_hot.shape = ', y_train_one_hot.shape)\n",
        "print('X_test.shape = ', X_test.shape)\n",
        "# print('y_test_one_hot.shape = ', y_test_one_hot.shape)"
      ],
      "execution_count": 22,
      "outputs": [
        {
          "output_type": "stream",
          "text": [
            "\n",
            "n_samples  =  1288\n",
            "n_features =  1850\n",
            "n_classes  =  7\n",
            "Xdata.shape =  (1288, 1850)\n",
            "X_train.shape =  (966, 1850)\n",
            "X_test.shape =  (322, 1850)\n"
          ],
          "name": "stdout"
        }
      ]
    },
    {
      "cell_type": "code",
      "metadata": {
        "id": "J25nqekBWScG",
        "colab_type": "code",
        "colab": {}
      },
      "source": [
        "X_train = X_train / X_train.max()"
      ],
      "execution_count": 0,
      "outputs": []
    },
    {
      "cell_type": "markdown",
      "metadata": {
        "id": "uXuuywDVFzAm",
        "colab_type": "text"
      },
      "source": [
        "# MLP\n",
        "<img align=\"left\" src=\"http://rno.ii.uni.wroc.pl/uploads/tooploox/mlp.png\" width=\"750\">"
      ]
    },
    {
      "cell_type": "markdown",
      "metadata": {
        "id": "DSvYswJUF6oB",
        "colab_type": "text"
      },
      "source": [
        "## Forward propagation"
      ]
    },
    {
      "cell_type": "code",
      "metadata": {
        "id": "DaBAbDNouyxk",
        "colab_type": "code",
        "colab": {}
      },
      "source": [
        "tf.random.set_seed(1234)\n",
        "\n",
        "W1 = tf.Variable(tf.random.normal((n_features, 100)), dtype=tf.float32)\n",
        "b1 = tf.Variable(tf.random.normal((100,)), dtype=tf.float32)\n",
        "\n",
        "W2 = tf.Variable(tf.random.normal((100, 50)), dtype=tf.float32)\n",
        "b2 = tf.Variable(tf.random.normal((50,)), dtype=tf.float32)\n",
        "\n",
        "W3 = tf.Variable(tf.random.normal((50, 7)), dtype=tf.float32)\n",
        "b3 = tf.Variable(tf.random.normal((7,)), dtype=tf.float32)\n",
        "\n",
        "\n",
        "def model(X):\n",
        "  Z1 = tf.matmul(X, W1) + b1\n",
        "  A1 = tf.nn.tanh(Z1)\n",
        "\n",
        "  Z2 = tf.matmul(A1, W2) + b2\n",
        "  A2 = tf.nn.tanh(Z2)\n",
        "\n",
        "  Z3 = tf.matmul(A2, W3) + b3\n",
        "  A3 = tf.nn.tanh(Z3)\n",
        "\n",
        "  return Z3"
      ],
      "execution_count": 0,
      "outputs": []
    },
    {
      "cell_type": "markdown",
      "metadata": {
        "id": "99hKm9_SR8rI",
        "colab_type": "text"
      },
      "source": [
        "## Loss"
      ]
    },
    {
      "cell_type": "code",
      "metadata": {
        "id": "I4H70ip6R_6g",
        "colab_type": "code",
        "colab": {}
      },
      "source": [
        "y_train_one_hot = tf.one_hot(y_train, depth=n_classes)\n",
        "\n",
        "def loss(y_pred, Y):\n",
        "  loss = tf.nn.softmax_cross_entropy_with_logits(Y, y_pred)\n",
        "  return tf.reduce_mean(loss)"
      ],
      "execution_count": 0,
      "outputs": []
    },
    {
      "cell_type": "code",
      "metadata": {
        "id": "MBiKWCkHTWnx",
        "colab_type": "code",
        "colab": {
          "base_uri": "https://localhost:8080/",
          "height": 34
        },
        "outputId": "a720ac52-18b4-4eba-9713-e7b21dd49be3"
      },
      "source": [
        "loss(model(X_train), y_train_one_hot)"
      ],
      "execution_count": 98,
      "outputs": [
        {
          "output_type": "execute_result",
          "data": {
            "text/plain": [
              "<tf.Tensor: shape=(), dtype=float32, numpy=9.711108>"
            ]
          },
          "metadata": {
            "tags": []
          },
          "execution_count": 98
        }
      ]
    },
    {
      "cell_type": "markdown",
      "metadata": {
        "id": "RXKdB8ywZH6X",
        "colab_type": "text"
      },
      "source": [
        "## Backward propagation"
      ]
    },
    {
      "cell_type": "code",
      "metadata": {
        "id": "m08_yheAu1M5",
        "colab_type": "code",
        "colab": {}
      },
      "source": [
        "with tf.GradientTape() as tape:\n",
        "  L = loss(model(X_train), y_train_one_hot)\n",
        "\n",
        "dW1, db1, dW2, db2, dW3, db3 = tape.gradient(L, [W1, b1, W2, b2, W3, b3])"
      ],
      "execution_count": 0,
      "outputs": []
    },
    {
      "cell_type": "markdown",
      "metadata": {
        "id": "chzoD1gKhDk_",
        "colab_type": "text"
      },
      "source": [
        "## Single step of GD"
      ]
    },
    {
      "cell_type": "code",
      "metadata": {
        "id": "aGLdVyDNu0qq",
        "colab_type": "code",
        "colab": {
          "base_uri": "https://localhost:8080/",
          "height": 34
        },
        "outputId": "51551389-6f92-46b0-bc4d-8c5c89137077"
      },
      "source": [
        "optimizer = tf.keras.optimizers.RMSprop()\n",
        "\n",
        "optimizer.minimize(lambda : loss(model(X_train), y_train_one_hot), [W1, b1, W2, b2, W3, b3])"
      ],
      "execution_count": 100,
      "outputs": [
        {
          "output_type": "execute_result",
          "data": {
            "text/plain": [
              "<tf.Variable 'UnreadVariable' shape=() dtype=int64, numpy=1>"
            ]
          },
          "metadata": {
            "tags": []
          },
          "execution_count": 100
        }
      ]
    },
    {
      "cell_type": "code",
      "metadata": {
        "id": "pMZ7TN90UMKI",
        "colab_type": "code",
        "colab": {
          "base_uri": "https://localhost:8080/",
          "height": 34
        },
        "outputId": "2d72142e-aae8-4178-a262-772514ad29e0"
      },
      "source": [
        "loss(model(X_train), y_train_one_hot)"
      ],
      "execution_count": 101,
      "outputs": [
        {
          "output_type": "execute_result",
          "data": {
            "text/plain": [
              "<tf.Tensor: shape=(), dtype=float32, numpy=5.6185794>"
            ]
          },
          "metadata": {
            "tags": []
          },
          "execution_count": 101
        }
      ]
    },
    {
      "cell_type": "markdown",
      "metadata": {
        "id": "f90M1B-XGExi",
        "colab_type": "text"
      },
      "source": [
        "## Final training loop"
      ]
    },
    {
      "cell_type": "code",
      "metadata": {
        "id": "C2NJimggusTI",
        "colab_type": "code",
        "colab": {
          "base_uri": "https://localhost:8080/",
          "height": 867
        },
        "outputId": "bb911f6b-5bbf-4098-e6b2-0fe1f36bb4bf"
      },
      "source": [
        "for epoch in range(5000):\n",
        "  optimizer.minimize(lambda : loss(model(X_train), y_train_one_hot), [W1, b1, W2, b2, W3, b3])\n",
        "  if epoch % 100 == 0:\n",
        "    print(f'Epoch: {epoch}, loss:{loss(model(X_train), y_train_one_hot)}')"
      ],
      "execution_count": 102,
      "outputs": [
        {
          "output_type": "stream",
          "text": [
            "Epoch: 0, loss:4.180069923400879\n",
            "Epoch: 100, loss:1.4735599756240845\n",
            "Epoch: 200, loss:1.1727566719055176\n",
            "Epoch: 300, loss:1.0544281005859375\n",
            "Epoch: 400, loss:0.9027789831161499\n",
            "Epoch: 500, loss:0.8548702001571655\n",
            "Epoch: 600, loss:0.8138182163238525\n",
            "Epoch: 700, loss:0.7327111959457397\n",
            "Epoch: 800, loss:0.6039687991142273\n",
            "Epoch: 900, loss:0.522610068321228\n",
            "Epoch: 1000, loss:0.46293914318084717\n",
            "Epoch: 1100, loss:0.47848013043403625\n",
            "Epoch: 1200, loss:0.3726591169834137\n",
            "Epoch: 1300, loss:0.36897534132003784\n",
            "Epoch: 1400, loss:0.38602644205093384\n",
            "Epoch: 1500, loss:0.2592291533946991\n",
            "Epoch: 1600, loss:0.23327790200710297\n",
            "Epoch: 1700, loss:0.3739057183265686\n",
            "Epoch: 1800, loss:0.19441241025924683\n",
            "Epoch: 1900, loss:0.17662733793258667\n",
            "Epoch: 2000, loss:0.291789174079895\n",
            "Epoch: 2100, loss:0.14882339537143707\n",
            "Epoch: 2200, loss:0.1356576532125473\n",
            "Epoch: 2300, loss:0.22673051059246063\n",
            "Epoch: 2400, loss:0.11383379995822906\n",
            "Epoch: 2500, loss:0.10167594254016876\n",
            "Epoch: 2600, loss:0.0933145061135292\n",
            "Epoch: 2700, loss:0.08665872365236282\n",
            "Epoch: 2800, loss:0.5182775855064392\n",
            "Epoch: 2900, loss:0.07548681646585464\n",
            "Epoch: 3000, loss:0.06384846568107605\n",
            "Epoch: 3100, loss:0.07682234793901443\n",
            "Epoch: 3200, loss:0.053486019372940063\n",
            "Epoch: 3300, loss:0.06568481028079987\n",
            "Epoch: 3400, loss:0.046980392187833786\n",
            "Epoch: 3500, loss:0.04352830350399017\n",
            "Epoch: 3600, loss:0.04035859927535057\n",
            "Epoch: 3700, loss:0.036582399159669876\n",
            "Epoch: 3800, loss:0.037104107439517975\n",
            "Epoch: 3900, loss:0.031145602464675903\n",
            "Epoch: 4000, loss:0.028665071353316307\n",
            "Epoch: 4100, loss:0.025973409414291382\n",
            "Epoch: 4200, loss:0.02545146457850933\n",
            "Epoch: 4300, loss:0.022028671577572823\n",
            "Epoch: 4400, loss:0.024137306958436966\n",
            "Epoch: 4500, loss:0.019366351887583733\n",
            "Epoch: 4600, loss:0.01900234818458557\n",
            "Epoch: 4700, loss:0.7550323009490967\n",
            "Epoch: 4800, loss:0.02140956185758114\n",
            "Epoch: 4900, loss:0.24809062480926514\n"
          ],
          "name": "stdout"
        }
      ]
    },
    {
      "cell_type": "code",
      "metadata": {
        "id": "BD_Vgf-VUa3x",
        "colab_type": "code",
        "colab": {}
      },
      "source": [
        "y_pred = tf.nn.softmax(model(X_train))\n",
        "y_pred = tf.argmax(y_pred, axis=1)"
      ],
      "execution_count": 0,
      "outputs": []
    },
    {
      "cell_type": "code",
      "metadata": {
        "id": "ZCP3_6lzU3NK",
        "colab_type": "code",
        "colab": {
          "base_uri": "https://localhost:8080/",
          "height": 34
        },
        "outputId": "f5883a89-86b5-4743-d5e2-72be3820f457"
      },
      "source": [
        "np.mean(y_pred == y_train)"
      ],
      "execution_count": 104,
      "outputs": [
        {
          "output_type": "execute_result",
          "data": {
            "text/plain": [
              "0.7287784679089027"
            ]
          },
          "metadata": {
            "tags": []
          },
          "execution_count": 104
        }
      ]
    },
    {
      "cell_type": "code",
      "metadata": {
        "id": "KERXTNQFXjuz",
        "colab_type": "code",
        "colab": {
          "base_uri": "https://localhost:8080/",
          "height": 34
        },
        "outputId": "d48108bc-c559-4583-fc21-428be5105e10"
      },
      "source": [
        "y_pred_test = tf.nn.softmax(model(X_test))\n",
        "y_pred_test = tf.argmax(y_pred_test, axis=1)\n",
        "\n",
        "np.mean(y_pred_test == y_test)"
      ],
      "execution_count": 105,
      "outputs": [
        {
          "output_type": "execute_result",
          "data": {
            "text/plain": [
              "0.45652173913043476"
            ]
          },
          "metadata": {
            "tags": []
          },
          "execution_count": 105
        }
      ]
    },
    {
      "cell_type": "code",
      "metadata": {
        "id": "c4o1BY4jXsiO",
        "colab_type": "code",
        "colab": {}
      },
      "source": [
        ""
      ],
      "execution_count": 0,
      "outputs": []
    }
  ]
}