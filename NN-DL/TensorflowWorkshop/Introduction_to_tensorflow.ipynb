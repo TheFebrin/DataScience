{
  "nbformat": 4,
  "nbformat_minor": 0,
  "metadata": {
    "colab": {
      "name": "Introduction to NN - tensorflow - exercise",
      "provenance": [],
      "collapsed_sections": [
        "rgC7ikw6Q000",
        "Mr98rsIHUh-Z",
        "Sm2DuuLiVqdv",
        "0soRuLb4VqeI",
        "8ailcvJoXloh",
        "p7z4e7xgj5Uy"
      ],
      "toc_visible": true
    },
    "kernelspec": {
      "name": "python3",
      "display_name": "Python 3"
    },
    "accelerator": "GPU"
  },
  "cells": [
    {
      "cell_type": "markdown",
      "metadata": {
        "id": "wPOWxNtKvxqK",
        "colab_type": "text"
      },
      "source": [
        "Rafał Nowak\n",
        "\n",
        "<img style=\"float: left\" src=\"http://rno.ii.uni.wroc.pl/uploads/cats-dogs/img/tplx-academy_rgb_transparent.png\" width=\"450\"><br/>\n",
        "<font size=\"+4\">Neural Networks in Tensorflow 2.x<br/>but with some math details</font><br/>"
      ]
    },
    {
      "cell_type": "code",
      "metadata": {
        "colab_type": "code",
        "outputId": "b5e780cf-b26e-4f15-8d72-8ec1bb7b249b",
        "id": "PFbyWwPBPC6q",
        "colab": {
          "base_uri": "https://localhost:8080/",
          "height": 34
        }
      },
      "source": [
        "# %tensorflow_version 2.x - switch only for Google Colab notebook\n",
        "%tensorflow_version 2.x\n",
        "\n",
        "import tensorflow as tf\n",
        "import numpy as np\n",
        "print(tf.__version__)"
      ],
      "execution_count": 60,
      "outputs": [
        {
          "output_type": "stream",
          "text": [
            "2.1.0\n"
          ],
          "name": "stdout"
        }
      ]
    },
    {
      "cell_type": "markdown",
      "metadata": {
        "id": "9B7Fzed586eQ",
        "colab_type": "text"
      },
      "source": [
        "# Tensorflow basics"
      ]
    },
    {
      "cell_type": "markdown",
      "metadata": {
        "id": "C4yosLe1884p",
        "colab_type": "text"
      },
      "source": [
        "## List available devices"
      ]
    },
    {
      "cell_type": "code",
      "metadata": {
        "id": "9u0pFOtR9Bx6",
        "colab_type": "code",
        "outputId": "b6b4e2d4-1df7-4554-da65-9e6a05cc839d",
        "colab": {
          "base_uri": "https://localhost:8080/",
          "height": 34
        }
      },
      "source": [
        "tf.config.list_physical_devices('CPU')"
      ],
      "execution_count": 2,
      "outputs": [
        {
          "output_type": "execute_result",
          "data": {
            "text/plain": [
              "[PhysicalDevice(name='/physical_device:CPU:0', device_type='CPU')]"
            ]
          },
          "metadata": {
            "tags": []
          },
          "execution_count": 2
        }
      ]
    },
    {
      "cell_type": "code",
      "metadata": {
        "id": "koJZaY-3pxs-",
        "colab_type": "code",
        "outputId": "3e6993c4-becb-4bbb-d959-eec7a14dec77",
        "colab": {
          "base_uri": "https://localhost:8080/",
          "height": 34
        }
      },
      "source": [
        "tf.config.list_physical_devices('GPU')"
      ],
      "execution_count": 3,
      "outputs": [
        {
          "output_type": "execute_result",
          "data": {
            "text/plain": [
              "[PhysicalDevice(name='/physical_device:GPU:0', device_type='GPU')]"
            ]
          },
          "metadata": {
            "tags": []
          },
          "execution_count": 3
        }
      ]
    },
    {
      "cell_type": "markdown",
      "metadata": {
        "id": "YPZ6639PwJ2k",
        "colab_type": "text"
      },
      "source": [
        "## Constants and variables in tensorflow"
      ]
    },
    {
      "cell_type": "markdown",
      "metadata": {
        "id": "l5sU9TEDliGt",
        "colab_type": "text"
      },
      "source": [
        "### Scalars"
      ]
    },
    {
      "cell_type": "code",
      "metadata": {
        "id": "hutJha0xlkLH",
        "colab_type": "code",
        "outputId": "f0414acb-cbd9-414b-8c7f-76e63650ed97",
        "colab": {
          "base_uri": "https://localhost:8080/",
          "height": 102
        }
      },
      "source": [
        "tf.constant( 42 ),   tf.constant( 42.0 ),  tf.constant( 42.0, dtype=tf.float16 ),  tf.constant( 42.0, dtype=tf.float32 ),  tf.constant( 42.0, dtype=tf.float64 )"
      ],
      "execution_count": 6,
      "outputs": [
        {
          "output_type": "execute_result",
          "data": {
            "text/plain": [
              "(<tf.Tensor: shape=(), dtype=int32, numpy=42>,\n",
              " <tf.Tensor: shape=(), dtype=float32, numpy=42.0>,\n",
              " <tf.Tensor: shape=(), dtype=float16, numpy=42.0>,\n",
              " <tf.Tensor: shape=(), dtype=float32, numpy=42.0>,\n",
              " <tf.Tensor: shape=(), dtype=float64, numpy=42.0>)"
            ]
          },
          "metadata": {
            "tags": []
          },
          "execution_count": 6
        }
      ]
    },
    {
      "cell_type": "markdown",
      "metadata": {
        "id": "Me6vnVfHnEUM",
        "colab_type": "text"
      },
      "source": [
        "### `tf.device`"
      ]
    },
    {
      "cell_type": "code",
      "metadata": {
        "id": "I31-oFSwm49u",
        "colab_type": "code",
        "outputId": "367c6dec-48c2-4d3a-d816-6337f2e59235",
        "colab": {
          "base_uri": "https://localhost:8080/",
          "height": 34
        }
      },
      "source": [
        "a = tf.constant(5)\n",
        "a.device"
      ],
      "execution_count": 7,
      "outputs": [
        {
          "output_type": "execute_result",
          "data": {
            "text/plain": [
              "'/job:localhost/replica:0/task:0/device:CPU:0'"
            ]
          },
          "metadata": {
            "tags": []
          },
          "execution_count": 7
        }
      ]
    },
    {
      "cell_type": "code",
      "metadata": {
        "id": "gpyoKkggniVp",
        "colab_type": "code",
        "outputId": "0b638fb8-0cb0-49a3-ca47-88a9399c31e6",
        "colab": {
          "base_uri": "https://localhost:8080/",
          "height": 34
        }
      },
      "source": [
        "# b = a.gpu()  # <--- deprecated :-(\n",
        "\n",
        "with tf.device('/gpu:0'):\n",
        "    b = tf.identity(a)\n",
        "\n",
        "b.device"
      ],
      "execution_count": 9,
      "outputs": [
        {
          "output_type": "execute_result",
          "data": {
            "text/plain": [
              "'/job:localhost/replica:0/task:0/device:GPU:0'"
            ]
          },
          "metadata": {
            "tags": []
          },
          "execution_count": 9
        }
      ]
    },
    {
      "cell_type": "code",
      "metadata": {
        "id": "LGzmutrHq0wv",
        "colab_type": "code",
        "outputId": "498bfc10-27fd-492b-aad1-c0d83a3327fb",
        "colab": {
          "base_uri": "https://localhost:8080/",
          "height": 68
        }
      },
      "source": [
        "c = a+b\n",
        "c, c.numpy(),  c.device"
      ],
      "execution_count": 11,
      "outputs": [
        {
          "output_type": "execute_result",
          "data": {
            "text/plain": [
              "(<tf.Tensor: shape=(), dtype=int32, numpy=10>,\n",
              " 10,\n",
              " '/job:localhost/replica:0/task:0/device:GPU:0')"
            ]
          },
          "metadata": {
            "tags": []
          },
          "execution_count": 11
        }
      ]
    },
    {
      "cell_type": "markdown",
      "metadata": {
        "id": "ETpOeihl1t-S",
        "colab_type": "text"
      },
      "source": [
        "### Vectors\n",
        "<img align=\"right\" src=\"http://rno.ii.uni.wroc.pl/uploads/tooploox/vector.jpeg\" width=\"450\">"
      ]
    },
    {
      "cell_type": "code",
      "metadata": {
        "id": "odbiEaup0rRZ",
        "colab_type": "code",
        "outputId": "3067201d-b997-4672-ce96-f36d08a7bbdf",
        "colab": {
          "base_uri": "https://localhost:8080/",
          "height": 71
        }
      },
      "source": [
        "x = tf.constant([2.0, 5.0, 1.0, 3.0, 4.0], dtype=float)\n",
        "\n",
        "print( x )\n",
        "print( x.shape )\n",
        "print( x.device )"
      ],
      "execution_count": 0,
      "outputs": [
        {
          "output_type": "stream",
          "text": [
            "tf.Tensor([2. 5. 1. 3. 4.], shape=(5,), dtype=float32)\n",
            "(5,)\n",
            "/job:localhost/replica:0/task:0/device:CPU:0\n"
          ],
          "name": "stdout"
        }
      ]
    },
    {
      "cell_type": "code",
      "metadata": {
        "id": "kfmVZXiLUg_J",
        "colab_type": "code",
        "outputId": "278a1366-2ee5-43ef-fd91-baa05b4b10d6",
        "colab": {
          "base_uri": "https://localhost:8080/",
          "height": 51
        }
      },
      "source": [
        "x = tf.Variable([2.0, 5.0, 1.0, 3.0, 4.0], dtype=float)\n",
        "\n",
        "print( x )\n",
        "print( x.shape )"
      ],
      "execution_count": 12,
      "outputs": [
        {
          "output_type": "stream",
          "text": [
            "<tf.Variable 'Variable:0' shape=(5,) dtype=float32, numpy=array([2., 5., 1., 3., 4.], dtype=float32)>\n",
            "(5,)\n"
          ],
          "name": "stdout"
        }
      ]
    },
    {
      "cell_type": "markdown",
      "metadata": {
        "id": "kfLiiuxyJNPQ",
        "colab_type": "text"
      },
      "source": [
        "### Dot product\n",
        "<img align=\"right\" src=\"http://rno.ii.uni.wroc.pl/uploads/tooploox/dot_product.gif\" width=\"450\">"
      ]
    },
    {
      "cell_type": "markdown",
      "metadata": {
        "id": "WBTx2nXPJ4hh",
        "colab_type": "text"
      },
      "source": [
        "<img align=\"right\" src=\"http://rno.ii.uni.wroc.pl/uploads/tooploox/dot_product_example.png\" width=\"250\">\n",
        "\n",
        "* `tf.tensordot(a, b, axes=1)`; see <a href=\"https://www.tensorflow.org/api_docs/python/tf/tensordot\">tensordot</a>"
      ]
    },
    {
      "cell_type": "code",
      "metadata": {
        "id": "GAIvFT0AJL0h",
        "colab_type": "code",
        "outputId": "4cfb5c3f-0258-41f3-d29a-30f67ef4037f",
        "colab": {
          "base_uri": "https://localhost:8080/",
          "height": 34
        }
      },
      "source": [
        "a = tf.constant([ 1, 4, -2])\n",
        "b = tf.constant([-2, 1,  7])\n",
        "\n",
        "tf.tensordot( a, b, axes=1 )"
      ],
      "execution_count": 19,
      "outputs": [
        {
          "output_type": "execute_result",
          "data": {
            "text/plain": [
              "<tf.Tensor: shape=(), dtype=int32, numpy=-12>"
            ]
          },
          "metadata": {
            "tags": []
          },
          "execution_count": 19
        }
      ]
    },
    {
      "cell_type": "markdown",
      "metadata": {
        "colab_type": "text",
        "id": "kX9mku4j3L-9"
      },
      "source": [
        "### Matrices\n",
        "<img align=\"right\" src=\"http://rno.ii.uni.wroc.pl/uploads/tooploox/matrix_dot_vector.png\" width=\"650\">"
      ]
    },
    {
      "cell_type": "code",
      "metadata": {
        "id": "DJDcVWTd06Hc",
        "colab_type": "code",
        "outputId": "f02bbbb2-9e22-4b89-ba7d-4bd3cad64e9b",
        "colab": {
          "base_uri": "https://localhost:8080/",
          "height": 153
        }
      },
      "source": [
        "A = tf.constant( [ \n",
        "                 [2.0, 3.0],\n",
        "                 [1.0, 1.0],\n",
        "                 [3.0, 0.0],\n",
        "                 [4.0, 1.0] ] )\n",
        "\n",
        "B = tf.constant( [ \n",
        "                 [1.0, 2.0, 3.0],\n",
        "                 [1.0, 0.0, 1.0] ] )\n",
        "A, B"
      ],
      "execution_count": 21,
      "outputs": [
        {
          "output_type": "execute_result",
          "data": {
            "text/plain": [
              "(<tf.Tensor: shape=(4, 2), dtype=float32, numpy=\n",
              " array([[2., 3.],\n",
              "        [1., 1.],\n",
              "        [3., 0.],\n",
              "        [4., 1.]], dtype=float32)>,\n",
              " <tf.Tensor: shape=(2, 3), dtype=float32, numpy=\n",
              " array([[1., 2., 3.],\n",
              "        [1., 0., 1.]], dtype=float32)>)"
            ]
          },
          "metadata": {
            "tags": []
          },
          "execution_count": 21
        }
      ]
    },
    {
      "cell_type": "code",
      "metadata": {
        "id": "zfC_PWel_lW-",
        "colab_type": "code",
        "outputId": "35d787cb-88d0-45ff-b25f-4d62baa9780b",
        "colab": {
          "base_uri": "https://localhost:8080/",
          "height": 35
        }
      },
      "source": [
        "A.device"
      ],
      "execution_count": 0,
      "outputs": [
        {
          "output_type": "execute_result",
          "data": {
            "text/plain": [
              "'/job:localhost/replica:0/task:0/device:CPU:0'"
            ]
          },
          "metadata": {
            "tags": []
          },
          "execution_count": 12
        }
      ]
    },
    {
      "cell_type": "markdown",
      "metadata": {
        "id": "ssTQn3baENpH",
        "colab_type": "text"
      },
      "source": [
        "See <a href=\"https://www.tensorflow.org/api_docs/python/tf/linalg/matmul\">`tf.matmul`</a> documentation."
      ]
    },
    {
      "cell_type": "code",
      "metadata": {
        "id": "oY22cQyl_fdA",
        "colab_type": "code",
        "outputId": "dc7ea1df-651b-42af-cb49-64bde30289c0",
        "colab": {
          "base_uri": "https://localhost:8080/",
          "height": 107
        }
      },
      "source": [
        "tf.matmul(A, B)"
      ],
      "execution_count": 0,
      "outputs": [
        {
          "output_type": "execute_result",
          "data": {
            "text/plain": [
              "<tf.Tensor: shape=(4, 3), dtype=float32, numpy=\n",
              "array([[ 5.,  4.,  9.],\n",
              "       [ 2.,  2.,  4.],\n",
              "       [ 3.,  6.,  9.],\n",
              "       [ 5.,  8., 13.]], dtype=float32)>"
            ]
          },
          "metadata": {
            "tags": []
          },
          "execution_count": 13
        }
      ]
    },
    {
      "cell_type": "code",
      "metadata": {
        "id": "_geegWlJ2WHy",
        "colab_type": "code",
        "outputId": "d58573c0-d785-468b-f7bf-645f10697644",
        "colab": {
          "base_uri": "https://localhost:8080/",
          "height": 34
        }
      },
      "source": [
        "tf.tensordot(A, B, axes=1).shape"
      ],
      "execution_count": 25,
      "outputs": [
        {
          "output_type": "execute_result",
          "data": {
            "text/plain": [
              "TensorShape([4, 3])"
            ]
          },
          "metadata": {
            "tags": []
          },
          "execution_count": 25
        }
      ]
    },
    {
      "cell_type": "markdown",
      "metadata": {
        "id": "rHK77MATMRTX",
        "colab_type": "text"
      },
      "source": [
        "# Dataset representation\n",
        "\n",
        "* each **sample** is described by $n$ **features** (vector with $n$ numbers)\n",
        "* $m$ samples are represented by matrix with size $m \\times n$\n",
        "\n",
        "<img align=\"left\" src=\"http://rno.ii.uni.wroc.pl/uploads/tooploox/matrix_m_n.png\" width=\"250\">"
      ]
    },
    {
      "cell_type": "markdown",
      "metadata": {
        "id": "rgC7ikw6Q000",
        "colab_type": "text"
      },
      "source": [
        "## Example - diabetes dataset (442x10)"
      ]
    },
    {
      "cell_type": "markdown",
      "metadata": {
        "id": "5mm9HW4WErH6",
        "colab_type": "text"
      },
      "source": [
        "## Tensor representation"
      ]
    },
    {
      "cell_type": "code",
      "metadata": {
        "id": "O0zdMZeePYAg",
        "colab_type": "code",
        "outputId": "a5fa4d7d-3921-48b3-b02d-75cfbb084548",
        "colab": {
          "base_uri": "https://localhost:8080/",
          "height": 238
        }
      },
      "source": [
        "# Diabetes dataset (442 people descirbed by 10 features:\n",
        "# age, sex, BMI, avg blood pressure, s1, s2, ..., s6)\n",
        "import sklearn\n",
        "from sklearn import datasets as sklearn_datasets\n",
        "\n",
        "X_numpy = sklearn_datasets.load_diabetes().data\n",
        "X_numpy"
      ],
      "execution_count": 27,
      "outputs": [
        {
          "output_type": "execute_result",
          "data": {
            "text/plain": [
              "array([[ 0.03807591,  0.05068012,  0.06169621, ..., -0.00259226,\n",
              "         0.01990842, -0.01764613],\n",
              "       [-0.00188202, -0.04464164, -0.05147406, ..., -0.03949338,\n",
              "        -0.06832974, -0.09220405],\n",
              "       [ 0.08529891,  0.05068012,  0.04445121, ..., -0.00259226,\n",
              "         0.00286377, -0.02593034],\n",
              "       ...,\n",
              "       [ 0.04170844,  0.05068012, -0.01590626, ..., -0.01107952,\n",
              "        -0.04687948,  0.01549073],\n",
              "       [-0.04547248, -0.04464164,  0.03906215, ...,  0.02655962,\n",
              "         0.04452837, -0.02593034],\n",
              "       [-0.04547248, -0.04464164, -0.0730303 , ..., -0.03949338,\n",
              "        -0.00421986,  0.00306441]])"
            ]
          },
          "metadata": {
            "tags": []
          },
          "execution_count": 27
        }
      ]
    },
    {
      "cell_type": "markdown",
      "metadata": {
        "id": "f-g4bI4ZIBWg",
        "colab_type": "text"
      },
      "source": [
        "### `tf.convert_to_tensor`"
      ]
    },
    {
      "cell_type": "code",
      "metadata": {
        "id": "_vxAPd5iFqyK",
        "colab_type": "code",
        "outputId": "8fc59850-e510-4a4c-cbfe-b2c739b0c98c",
        "colab": {
          "base_uri": "https://localhost:8080/",
          "height": 272
        }
      },
      "source": [
        "X = tf.convert_to_tensor(X_numpy,  dtype=tf.float32)\n",
        "print(X)\n",
        "print(X.shape)"
      ],
      "execution_count": 33,
      "outputs": [
        {
          "output_type": "stream",
          "text": [
            "tf.Tensor(\n",
            "[[ 0.03807591  0.05068012  0.06169621 ... -0.00259226  0.01990842\n",
            "  -0.01764612]\n",
            " [-0.00188202 -0.04464164 -0.05147406 ... -0.03949338 -0.06832974\n",
            "  -0.09220405]\n",
            " [ 0.0852989   0.05068012  0.04445121 ... -0.00259226  0.00286377\n",
            "  -0.02593034]\n",
            " ...\n",
            " [ 0.04170844  0.05068012 -0.01590626 ... -0.01107952 -0.04687948\n",
            "   0.01549073]\n",
            " [-0.04547248 -0.04464164  0.03906215 ...  0.02655962  0.04452837\n",
            "  -0.02593034]\n",
            " [-0.04547248 -0.04464164 -0.0730303  ... -0.03949338 -0.00421986\n",
            "   0.00306441]], shape=(442, 10), dtype=float32)\n",
            "(442, 10)\n"
          ],
          "name": "stdout"
        }
      ]
    },
    {
      "cell_type": "code",
      "metadata": {
        "id": "-qR9BjTSQvty",
        "colab_type": "code",
        "outputId": "194b0393-f4c6-4e4c-8ab2-a3aea073bfb4",
        "colab": {
          "base_uri": "https://localhost:8080/",
          "height": 136
        }
      },
      "source": [
        "# First 3 people\n",
        "print(X[:3])"
      ],
      "execution_count": 35,
      "outputs": [
        {
          "output_type": "stream",
          "text": [
            "tf.Tensor(\n",
            "[[ 0.03807591  0.05068012  0.06169621  0.02187235 -0.0442235  -0.03482076\n",
            "  -0.04340085 -0.00259226  0.01990842 -0.01764612]\n",
            " [-0.00188202 -0.04464164 -0.05147406 -0.02632784 -0.00844872 -0.01916334\n",
            "   0.07441156 -0.03949338 -0.06832974 -0.09220405]\n",
            " [ 0.0852989   0.05068012  0.04445121 -0.00567061 -0.04559945 -0.03419447\n",
            "  -0.03235593 -0.00259226  0.00286377 -0.02593034]], shape=(3, 10), dtype=float32)\n"
          ],
          "name": "stdout"
        }
      ]
    },
    {
      "cell_type": "markdown",
      "metadata": {
        "id": "81PzuBRjEv4Y",
        "colab_type": "text"
      },
      "source": [
        "## `tf.data.Dataset`"
      ]
    },
    {
      "cell_type": "code",
      "metadata": {
        "id": "11Fj0iyzFdOG",
        "colab_type": "code",
        "outputId": "610a2047-2932-431f-f17c-dc3d1d21452a",
        "colab": {
          "base_uri": "https://localhost:8080/",
          "height": 34
        }
      },
      "source": [
        "dataset = tf.data.Dataset.from_tensor_slices(X_numpy)\n",
        "dataset"
      ],
      "execution_count": 36,
      "outputs": [
        {
          "output_type": "execute_result",
          "data": {
            "text/plain": [
              "<TensorSliceDataset shapes: (10,), types: tf.float64>"
            ]
          },
          "metadata": {
            "tags": []
          },
          "execution_count": 36
        }
      ]
    },
    {
      "cell_type": "code",
      "metadata": {
        "id": "yDwl-4HsGIVN",
        "colab_type": "code",
        "outputId": "1f72f2b6-c03b-4f53-ea2f-67363755101b",
        "colab": {
          "base_uri": "https://localhost:8080/",
          "height": 51
        }
      },
      "source": [
        "iterator = dataset.as_numpy_iterator()\n",
        "print(next(iterator))"
      ],
      "execution_count": 37,
      "outputs": [
        {
          "output_type": "stream",
          "text": [
            "[ 0.03807591  0.05068012  0.06169621  0.02187235 -0.0442235  -0.03482076\n",
            " -0.04340085 -0.00259226  0.01990842 -0.01764613]\n"
          ],
          "name": "stdout"
        }
      ]
    },
    {
      "cell_type": "code",
      "metadata": {
        "id": "ctnINIFCHKc_",
        "colab_type": "code",
        "outputId": "ace695a9-ed35-4a5d-e1f3-ac64396992cb",
        "colab": {
          "base_uri": "https://localhost:8080/",
          "height": 51
        }
      },
      "source": [
        "X_numpy[0]"
      ],
      "execution_count": 38,
      "outputs": [
        {
          "output_type": "execute_result",
          "data": {
            "text/plain": [
              "array([ 0.03807591,  0.05068012,  0.06169621,  0.02187235, -0.0442235 ,\n",
              "       -0.03482076, -0.04340085, -0.00259226,  0.01990842, -0.01764613])"
            ]
          },
          "metadata": {
            "tags": []
          },
          "execution_count": 38
        }
      ]
    },
    {
      "cell_type": "markdown",
      "metadata": {
        "id": "5IIi_8-jFvwP",
        "colab_type": "text"
      },
      "source": [
        "# Perceptron - single neuron unit\n",
        "\n",
        "Simple linear model with $n+1$ parameters (weights):\n",
        "* $w_1, w_2, \\ldots, w_n$ - called by _kernel_, _weights_,\n",
        "* $b$ - usually called by _bias_ or _intercept_.\n",
        "\n",
        "<img align=\"right\" src=\"http://rno.ii.uni.wroc.pl/uploads/tooploox/perceptron.png\" width=\"500\">\n",
        "\n",
        "It performs the following matrix-vector operation:\n",
        "$$ \\mathtt{logits} = Xw+b = w_1 x_1 + w_2 x_2 + \\cdots + w_n x_n + b. $$"
      ]
    },
    {
      "cell_type": "markdown",
      "metadata": {
        "id": "bjL0TAhoTROP",
        "colab_type": "text"
      },
      "source": [
        "### Step 1 - Weights initialization\n",
        "\n",
        "**TODO**\n",
        "\n",
        "Initialize somehow parameters of the model.\n",
        "\n",
        "Lets try to start with<br/>\n",
        "$ w = [ 0.1, 0.2, 0.3, 0.1, 0.0, 0.7, 0.8, 0.9, 1.0, 0.5 ] $<br/>\n",
        "$ b = 0.66 $\n"
      ]
    },
    {
      "cell_type": "code",
      "metadata": {
        "id": "-qPyb0c3RPAV",
        "colab_type": "code",
        "colab": {}
      },
      "source": [
        "# TODO: initialize somehow parameters w, b\n",
        "w = tf.Variable([ 0.1, 0.2, 0.3, 0.1, 0.0, 0.7, 0.8, 0.9, 1.0, 0.5 ], dtype=tf.float32)\n",
        "b = tf.Variable(0.66, dtype=tf.float32)"
      ],
      "execution_count": 0,
      "outputs": []
    },
    {
      "cell_type": "markdown",
      "metadata": {
        "colab_type": "text",
        "id": "rmxlbsGoRG7I"
      },
      "source": [
        "### Step 2 - Forward propagation\n",
        "\n",
        "**TODO**:\n",
        "- perform matrix-vector operation $$ \\mathtt{logits} = Xw + b $$"
      ]
    },
    {
      "cell_type": "code",
      "metadata": {
        "id": "BIRkB7pWFx0w",
        "colab_type": "code",
        "outputId": "74153682-c7ff-4779-ee87-7b7d85660236",
        "colab": {
          "base_uri": "https://localhost:8080/",
          "height": 34
        }
      },
      "source": [
        "# TODO\n",
        "logits = tf.tensordot(X, w, axes=1) + b\n",
        "print(logits.shape)"
      ],
      "execution_count": 53,
      "outputs": [
        {
          "output_type": "stream",
          "text": [
            "(442,)\n"
          ],
          "name": "stdout"
        }
      ]
    },
    {
      "cell_type": "code",
      "metadata": {
        "id": "ZPNJEQRWF-fr",
        "colab_type": "code",
        "colab": {
          "base_uri": "https://localhost:8080/",
          "height": 34
        },
        "outputId": "415db14a-2785-4932-808c-ce2239980ee1"
      },
      "source": [
        "logits.device"
      ],
      "execution_count": 54,
      "outputs": [
        {
          "output_type": "execute_result",
          "data": {
            "text/plain": [
              "'/job:localhost/replica:0/task:0/device:GPU:0'"
            ]
          },
          "metadata": {
            "tags": []
          },
          "execution_count": 54
        }
      ]
    },
    {
      "cell_type": "markdown",
      "metadata": {
        "id": "Mr98rsIHUh-Z",
        "colab_type": "text"
      },
      "source": [
        "# Toy dataset - MNIST digits (1797 x 64)\n",
        "<img align=\"left\" src=\"http://rno.ii.uni.wroc.pl/uploads/tooploox/digits_8x8.png\" width=\"450\">"
      ]
    },
    {
      "cell_type": "markdown",
      "metadata": {
        "id": "XKlBfeMKZabQ",
        "colab_type": "text"
      },
      "source": [
        "* 1797 images (handwritten digits 0, 1, ..., 9) represented by 8x8 pixels (64 features)"
      ]
    },
    {
      "cell_type": "code",
      "metadata": {
        "id": "MrJ_JhfVUsmb",
        "colab_type": "code",
        "outputId": "f18caa16-f186-4f31-9066-8a97f22d6d0e",
        "colab": {
          "base_uri": "https://localhost:8080/",
          "height": 51
        }
      },
      "source": [
        "dataset = sklearn.datasets.load_digits()\n",
        "X = tf.convert_to_tensor(dataset.data, dtype=float)\n",
        "target = tf.convert_to_tensor(dataset.target)\n",
        "\n",
        "print(X.shape)\n",
        "print(target.shape)"
      ],
      "execution_count": 56,
      "outputs": [
        {
          "output_type": "stream",
          "text": [
            "(1797, 64)\n",
            "(1797,)\n"
          ],
          "name": "stdout"
        }
      ]
    },
    {
      "cell_type": "code",
      "metadata": {
        "id": "R4-WETrUWuiY",
        "colab_type": "code",
        "outputId": "e39e6433-f320-47d4-b357-2212d5d0c49b",
        "colab": {
          "base_uri": "https://localhost:8080/",
          "height": 187
        }
      },
      "source": [
        "# some two images\n",
        "print(X[60:62])\n",
        "print(target[60:62])"
      ],
      "execution_count": 57,
      "outputs": [
        {
          "output_type": "stream",
          "text": [
            "tf.Tensor(\n",
            "[[ 0.  0. 10. 15. 14.  4.  0.  0.  0.  0.  4.  6. 13. 16.  2.  0.  0.  0.\n",
            "   0.  3. 16.  9.  0.  0.  0.  0.  0.  1. 16.  6.  0.  0.  0.  0.  0.  0.\n",
            "  10. 12.  0.  0.  0.  0.  0.  0.  1. 16.  4.  0.  0.  1.  9.  5.  6. 16.\n",
            "   7.  0.  0.  0. 14. 12. 15. 11.  2.  0.]\n",
            " [ 0.  0.  6. 13. 16.  6.  0.  0.  0.  3. 16. 14. 15. 16.  1.  0.  0.  0.\n",
            "   5.  0.  8. 16.  2.  0.  0.  0.  0.  0.  8. 16.  3.  0.  0.  3. 15. 16.\n",
            "  16. 16.  9.  0.  0.  5. 13. 14. 16. 11.  3.  0.  0.  0.  0. 12. 15.  1.\n",
            "   0.  0.  0.  0.  4. 16.  7.  0.  0.  0.]], shape=(2, 64), dtype=float32)\n",
            "tf.Tensor([3 7], shape=(2,), dtype=int64)\n"
          ],
          "name": "stdout"
        }
      ]
    },
    {
      "cell_type": "markdown",
      "metadata": {
        "colab_type": "text",
        "id": "Sm2DuuLiVqdv"
      },
      "source": [
        "## Weights initialization\n",
        "\n",
        "**TODO**\n",
        "\n",
        "Initialize **randomly** the model parameters."
      ]
    },
    {
      "cell_type": "code",
      "metadata": {
        "colab_type": "code",
        "id": "Hwl1nCl9Vqd6",
        "colab": {}
      },
      "source": [
        "tf.random.set_seed(1234)\n",
        "\n",
        "# TODO: initialize random (with normal distribution) parameters w, b\n",
        "w = tf.Variable(tf.random.normal((64,)))\n",
        "b = tf.Variable(tf.random.normal(()))"
      ],
      "execution_count": 0,
      "outputs": []
    },
    {
      "cell_type": "code",
      "metadata": {
        "id": "184ARUbGHhRp",
        "colab_type": "code",
        "colab": {
          "base_uri": "https://localhost:8080/",
          "height": 68
        },
        "outputId": "180fa033-fb91-4964-abae-9cc884a8c611"
      },
      "source": [
        "w[:5]"
      ],
      "execution_count": 65,
      "outputs": [
        {
          "output_type": "execute_result",
          "data": {
            "text/plain": [
              "<tf.Tensor: shape=(5,), dtype=float32, numpy=\n",
              "array([ 0.8369314 , -0.73429775,  1.0402943 ,  0.04035992, -0.72186583],\n",
              "      dtype=float32)>"
            ]
          },
          "metadata": {
            "tags": []
          },
          "execution_count": 65
        }
      ]
    },
    {
      "cell_type": "markdown",
      "metadata": {
        "colab_type": "text",
        "id": "0soRuLb4VqeI"
      },
      "source": [
        "## Forward propagation\n",
        "\n",
        "**TODO**:\n",
        "- perform matrix-vector operation $$ \\mathtt{logits} = Xw + b $$"
      ]
    },
    {
      "cell_type": "code",
      "metadata": {
        "colab_type": "code",
        "outputId": "59fbc983-2f9a-4e5e-b09e-226eae692e28",
        "id": "MGTjBbYkVqeM",
        "colab": {
          "base_uri": "https://localhost:8080/",
          "height": 51
        }
      },
      "source": [
        "# TODO\n",
        "logits = tf.tensordot(X, w, axes=1) + b\n",
        "print(logits.shape)\n",
        "print(logits[:3])"
      ],
      "execution_count": 66,
      "outputs": [
        {
          "output_type": "stream",
          "text": [
            "(1797,)\n",
            "tf.Tensor([ -4.024562 -18.443037 -20.574102], shape=(3,), dtype=float32)\n"
          ],
          "name": "stdout"
        }
      ]
    },
    {
      "cell_type": "markdown",
      "metadata": {
        "id": "8ailcvJoXloh",
        "colab_type": "text"
      },
      "source": [
        "## Multi-class case\n",
        "<img style=\"float: left\" src=\"http://rno.ii.uni.wroc.pl/uploads/tooploox/nn.png\" width=\"250\">\n",
        "\n",
        "In more general case:\n",
        "* dataset $X \\in \\mathbb{R}^{m\\times n}$ --- $m$ samples, $n$ features,\n",
        "* $K$ classes,\n",
        "we have parameters $W\\in\\mathbb{R}^{n\\times K}$ and $b\\in\\mathbb{R}^{K}$.\n",
        "\n",
        "**Forward propagation**\n",
        "$$ \\mathtt{logits} = XW+b \\in \\mathbb{R}^{m\\times K} $$\n",
        "\n",
        "In our toy dataset we have 10 classes (10 digits).\n",
        "We need 10 perceptrons."
      ]
    },
    {
      "cell_type": "code",
      "metadata": {
        "id": "2ZO6ClmmX1th",
        "colab_type": "code",
        "outputId": "3301c3f2-bb08-41db-d020-53b3ec6c3bf3",
        "colab": {
          "base_uri": "https://localhost:8080/",
          "height": 34
        }
      },
      "source": [
        "tf.random.set_seed(1234)\n",
        "# TODO: inilize paramters for 10 perceptrons\n",
        "W = tf.Variable(tf.random.normal((64, 10)))\n",
        "b = tf.Variable(tf.random.normal((10,)))\n",
        "\n",
        "# Forward propagation should give 10 numbers for each sample from dataset\n",
        "logits = tf.matmul(X, W) + b\n",
        "print(logits.shape)"
      ],
      "execution_count": 67,
      "outputs": [
        {
          "output_type": "stream",
          "text": [
            "(1797, 10)\n"
          ],
          "name": "stdout"
        }
      ]
    },
    {
      "cell_type": "code",
      "metadata": {
        "id": "hzN3paxFYdLB",
        "colab_type": "code",
        "outputId": "f554ffd8-1258-49a1-ef93-8be086a604e8",
        "colab": {
          "base_uri": "https://localhost:8080/",
          "height": 187
        }
      },
      "source": [
        "logits[:3]"
      ],
      "execution_count": 68,
      "outputs": [
        {
          "output_type": "execute_result",
          "data": {
            "text/plain": [
              "<tf.Tensor: shape=(3, 10), dtype=float32, numpy=\n",
              "array([[  28.0057   ,  -10.317568 ,    4.1859493,   41.452213 ,\n",
              "          87.12719  ,   12.526066 ,  -32.508133 ,   14.999803 ,\n",
              "          50.011566 ,  -46.345615 ],\n",
              "       [  65.52083  ,   68.911575 ,    3.0044184,   27.64514  ,\n",
              "         120.454605 ,  -18.31042  ,   41.88183  ,  -60.928543 ,\n",
              "         -53.047035 ,  -75.92069  ],\n",
              "       [ 138.8532   ,   21.11906  ,    9.45552  ,   27.635242 ,\n",
              "         126.546005 ,   64.14821  ,   51.996555 ,  -12.506589 ,\n",
              "          80.02577  , -110.63597  ]], dtype=float32)>"
            ]
          },
          "metadata": {
            "tags": []
          },
          "execution_count": 68
        }
      ]
    },
    {
      "cell_type": "markdown",
      "metadata": {
        "id": "nUjYf4LEF8_w",
        "colab_type": "text"
      },
      "source": [
        "# Loss function"
      ]
    },
    {
      "cell_type": "markdown",
      "metadata": {
        "id": "AqtE_v-DaprO",
        "colab_type": "text"
      },
      "source": [
        "## Softmax function\n",
        "<img style=\"float: left\" src=\"http://rno.ii.uni.wroc.pl/uploads/tooploox/softmax.png\" width=\"850\">\n",
        "\n",
        "Lets consider the function `softmax`, which for given vector $\\mathtt{logits} = z\\in\\mathbb R^K$  returns the vector $\\hat y\\in \\mathbb R^K$ such that\n",
        "\n",
        "$$ \\hat y_j = \\frac{\\text{exp}(z_j)}{\\sum_{k=1}^{K} \\text{exp}(z_k)}. $$\n",
        "\n",
        "```python\n",
        "def softmax(z):\n",
        "    z -= np.max(z,axis=1,keepdims=True)\n",
        "    z  = np.exp(z)\n",
        "    z /= np.sum(z,axis=1,keepdims=True)\n",
        "    return z\n",
        "```"
      ]
    },
    {
      "cell_type": "markdown",
      "metadata": {
        "id": "d94KjgQb7ISQ",
        "colab_type": "text"
      },
      "source": [
        "**Exercise**: compute softmax function for logits<br/>\n",
        "Hint: see <a href=\"https://www.tensorflow.org/api_docs/python/tf/nn/softmax\">`tf.nn.softmax`</a>"
      ]
    },
    {
      "cell_type": "code",
      "metadata": {
        "id": "_QOBSr-7GEBc",
        "colab_type": "code",
        "outputId": "484e7566-8b63-4d5b-8be3-1aa1d4b702b0",
        "colab": {
          "base_uri": "https://localhost:8080/",
          "height": 34
        }
      },
      "source": [
        "# Compute the softmax(logits)\n",
        "y_hat = tf.matmul(X, W) + b\n",
        "y_hat = tf.nn.softmax(y_hat)\n",
        "print('y_hat.shape = ', y_hat.shape)"
      ],
      "execution_count": 72,
      "outputs": [
        {
          "output_type": "stream",
          "text": [
            "y_hat.shape =  (1797, 10)\n"
          ],
          "name": "stdout"
        }
      ]
    },
    {
      "cell_type": "code",
      "metadata": {
        "id": "mOGCIQMebhil",
        "colab_type": "code",
        "outputId": "b8d7dff9-7dcd-43c2-cdbb-0aeb56becb05",
        "colab": {
          "base_uri": "https://localhost:8080/",
          "height": 119
        }
      },
      "source": [
        "for i in range(45, 51):\n",
        "  print(\"y_hat[{:d}]=[\".format(i), \", \".join([\"{:.4f}\".format(v) for v in y_hat[i]]), \"]\")"
      ],
      "execution_count": 73,
      "outputs": [
        {
          "output_type": "stream",
          "text": [
            "y_hat[45]=[ 0.0000, 0.0000, 0.0000, 0.0000, 0.1314, 0.0000, 0.0000, 0.0000, 0.8686, 0.0000 ]\n",
            "y_hat[46]=[ 0.0000, 0.0000, 0.0000, 0.0000, 1.0000, 0.0000, 0.0000, 0.0000, 0.0000, 0.0000 ]\n",
            "y_hat[47]=[ 0.0000, 0.0000, 0.0000, 0.0000, 1.0000, 0.0000, 0.0000, 0.0000, 0.0000, 0.0000 ]\n",
            "y_hat[48]=[ 0.9991, 0.0000, 0.0000, 0.0000, 0.0009, 0.0000, 0.0000, 0.0000, 0.0000, 0.0000 ]\n",
            "y_hat[49]=[ 0.0000, 0.0000, 0.0000, 0.0000, 0.0000, 0.0000, 0.0000, 0.0000, 1.0000, 0.0000 ]\n",
            "y_hat[50]=[ 0.8167, 0.0000, 0.0000, 0.0000, 0.1833, 0.0000, 0.0000, 0.0000, 0.0000, 0.0000 ]\n"
          ],
          "name": "stdout"
        }
      ]
    },
    {
      "cell_type": "markdown",
      "metadata": {
        "id": "MAmK0Vmad-sm",
        "colab_type": "text"
      },
      "source": [
        "## Cross-entropy loss functions\n",
        "\n",
        "Assume that:\n",
        "\n",
        "Example $x^{(i)}$ (of target class $k_i$) -- (forward propagation) --> $\\hat y^{(i)}$\n",
        "\n",
        "We apply the following loss for such example\n",
        "$$\n",
        "\\mathrm{loss} = - \\log \\hat y^{(i)}_{k_i}\n",
        "$$\n",
        "\n",
        "For the whole training dataset we calculate the mean loss\n",
        "$$\n",
        "\\begin{aligned}\n",
        "J(W,b) = - \\frac{1}{m} \\sum_{i \\in m} \\log\\hat{y}_{\\mathtt{target}[i]}^{(i)} \\in \\mathbb{R}\n",
        "\\end{aligned}\n",
        "$$"
      ]
    },
    {
      "cell_type": "markdown",
      "metadata": {
        "id": "_EjzekVn7_JT",
        "colab_type": "text"
      },
      "source": [
        "**Exercise**: compute cross-entropy loss for whole training dataset<br/>\n",
        "Hint: use <a href=\"https://www.tensorflow.org/api_docs/python/tf/nn/softmax_cross_entropy_with_logits\">`tf.nn.softmax_cross_entropy_with_logits`</a> instead of <a href=\"https://www.tensorflow.org/api_docs/python/tf/nn/softmax\">`tf.nn.softmax`</a>; see also:\n",
        "* <a href=\"https://www.tensorflow.org/api_docs/python/tf/one_hot\">`tf.one_hot`</a>\n",
        "* <a href=\"https://www.tensorflow.org/api_docs/python/tf/math/reduce_mean\">`tf.math.reduce_mean`</a>"
      ]
    },
    {
      "cell_type": "code",
      "metadata": {
        "id": "DMI9nyXYbAJB",
        "colab_type": "code",
        "colab": {}
      },
      "source": [
        "# TODO: one_hot\n",
        "oh_target = tf.one_hot(target, depth=10)"
      ],
      "execution_count": 0,
      "outputs": []
    },
    {
      "cell_type": "code",
      "metadata": {
        "id": "sQcoo70RZ9Iq",
        "colab_type": "code",
        "colab": {}
      },
      "source": [
        "# softmax cross-entropy\n",
        "sce = tf.nn.softmax_cross_entropy_with_logits(oh_target, logits)"
      ],
      "execution_count": 0,
      "outputs": []
    },
    {
      "cell_type": "code",
      "metadata": {
        "id": "a7yVDZRMg7Tf",
        "colab_type": "code",
        "outputId": "15d1a892-4900-4e0c-c49c-5745bf4df203",
        "colab": {
          "base_uri": "https://localhost:8080/",
          "height": 34
        }
      },
      "source": [
        "# reduce_mean\n",
        "rm = tf.reduce_mean(sce)\n",
        "rm"
      ],
      "execution_count": 82,
      "outputs": [
        {
          "output_type": "execute_result",
          "data": {
            "text/plain": [
              "<tf.Tensor: shape=(), dtype=float32, numpy=84.14354>"
            ]
          },
          "metadata": {
            "tags": []
          },
          "execution_count": 82
        }
      ]
    },
    {
      "cell_type": "markdown",
      "metadata": {
        "id": "FBQIp1FX9aIV",
        "colab_type": "text"
      },
      "source": [
        "**Exercise**: implement `loss` function"
      ]
    },
    {
      "cell_type": "code",
      "metadata": {
        "id": "89vRM2sXim52",
        "colab_type": "code",
        "outputId": "fb134720-614d-45cd-e615-c291a5468856",
        "colab": {
          "base_uri": "https://localhost:8080/",
          "height": 34
        }
      },
      "source": [
        "# Now it is all about good parameters :-)\n",
        "\n",
        "# TODO: try to find the seed such that random parameters give better loss, \n",
        "# i.e. less than 62\n",
        "\n",
        "def loss(X, target, W, b):\n",
        "    logits = tf.matmul(X, W) + b\n",
        "\n",
        "    oh_target = tf.one_hot(target, depth=10)\n",
        "    sce = tf.nn.softmax_cross_entropy_with_logits(oh_target, logits)\n",
        "    return tf.reduce_mean(sce)\n",
        "\n",
        "tf.random.set_seed( 99 )  # TODO <-- put your seed here\n",
        "\n",
        "# TODO: inilize paramters for 10 perceptrons\n",
        "W = tf.Variable(tf.random.normal((64, 10)))\n",
        "b = tf.Variable(tf.random.normal((10, )))\n",
        "\n",
        "loss(X, target, W, b)"
      ],
      "execution_count": 88,
      "outputs": [
        {
          "output_type": "execute_result",
          "data": {
            "text/plain": [
              "<tf.Tensor: shape=(), dtype=float32, numpy=57.797626>"
            ]
          },
          "metadata": {
            "tags": []
          },
          "execution_count": 88
        }
      ]
    },
    {
      "cell_type": "code",
      "metadata": {
        "id": "vWXjYKmwaUsf",
        "colab_type": "code",
        "outputId": "8602e949-6db1-4501-ea9e-76ef1ed59bde",
        "colab": {
          "base_uri": "https://localhost:8080/",
          "height": 34
        }
      },
      "source": [
        "W.shape, b.shape"
      ],
      "execution_count": 86,
      "outputs": [
        {
          "output_type": "execute_result",
          "data": {
            "text/plain": [
              "(TensorShape([64, 10]), TensorShape([10]))"
            ]
          },
          "metadata": {
            "tags": []
          },
          "execution_count": 86
        }
      ]
    },
    {
      "cell_type": "markdown",
      "metadata": {
        "id": "KPM7iJS4pa3r",
        "colab_type": "text"
      },
      "source": [
        "# Optimization with gradient descent\n",
        "<img align=\"left\" src=\"http://rno.ii.uni.wroc.pl/uploads/tooploox/gradient_descent.png\" width=\"450\">\n",
        "<img align=\"left\" src=\"http://rno.ii.uni.wroc.pl/uploads/tooploox/gradient_descent_formula.jpg\" width=\"450\">"
      ]
    },
    {
      "cell_type": "markdown",
      "metadata": {
        "id": "4k7dbvE2sAyr",
        "colab_type": "text"
      },
      "source": [
        "We need to compute the gradients\n",
        "$$ \\frac{\\partial}{\\partial W}J(W,b), \\qquad  \\frac{\\partial}{\\partial b}J(W,b) $$"
      ]
    },
    {
      "cell_type": "code",
      "metadata": {
        "id": "GvTzmBNBdD5z",
        "colab_type": "code",
        "colab": {}
      },
      "source": [
        "with tf.GradientTape() as gradient_tape:\n",
        "    L = loss(X, target, W, b)\n",
        "dW, db = gradient_tape.gradient(L, [W, b])"
      ],
      "execution_count": 0,
      "outputs": []
    },
    {
      "cell_type": "code",
      "metadata": {
        "id": "qe4r_iSHdFnh",
        "colab_type": "code",
        "outputId": "b40508b7-9296-4ec2-970c-b4c8d84117d3",
        "colab": {
          "base_uri": "https://localhost:8080/",
          "height": 34
        }
      },
      "source": [
        "W.shape, dW.shape"
      ],
      "execution_count": 90,
      "outputs": [
        {
          "output_type": "execute_result",
          "data": {
            "text/plain": [
              "(TensorShape([64, 10]), TensorShape([64, 10]))"
            ]
          },
          "metadata": {
            "tags": []
          },
          "execution_count": 90
        }
      ]
    },
    {
      "cell_type": "code",
      "metadata": {
        "id": "0nHZvd4cd9NU",
        "colab_type": "code",
        "outputId": "96942afe-bd10-4190-ad32-09c83b39d1d3",
        "colab": {
          "base_uri": "https://localhost:8080/",
          "height": 34
        }
      },
      "source": [
        "dW.shape, db.shape"
      ],
      "execution_count": 95,
      "outputs": [
        {
          "output_type": "execute_result",
          "data": {
            "text/plain": [
              "(TensorShape([64, 10]), TensorShape([10]))"
            ]
          },
          "metadata": {
            "tags": []
          },
          "execution_count": 95
        }
      ]
    },
    {
      "cell_type": "markdown",
      "metadata": {
        "colab_type": "text",
        "id": "p7z4e7xgj5Uy"
      },
      "source": [
        "# Backward propagation"
      ]
    },
    {
      "cell_type": "markdown",
      "metadata": {
        "id": "ea-ZjzP0z1Ls",
        "colab_type": "text"
      },
      "source": [
        "On get the gradient $\\frac{\\partial}{\\partial W}J$ by using the chain rule \n",
        "$$ \\frac{\\partial J}{\\partial W} = \\frac{\\partial \\texttt{logits}}{\\partial W} \\frac{\\partial J}{\\partial \\texttt{logits}}.  $$\n",
        "\n",
        "First term is simple since `logits` is linear function of $W$:\n",
        "$$ \\frac{\\partial \\texttt{logits}}{\\partial W} = X^T \\in \\mathbb{R}^{n\\times m} $$\n",
        "\n",
        "The second term, can be find after some calculus. Finally one can check that\n",
        "$$\\frac{\\partial J}{\\partial\\texttt{logits}} = (\\hat y - \\mathtt{target\\_{}one\\_{}hot}\n",
        " ) / m =: \\delta, $$\n",
        "where `target_one_hot` is one-hot encoding of `target`.\n",
        "\n",
        "Hence we get:\n",
        "$$ \\frac{\\partial J}{\\partial W} = \\frac{\\partial \\texttt{logits}}{\\partial W} \\frac{\\partial J}{\\partial \\texttt{logits}} = X^T \\delta  $$\n",
        "\n",
        "The gadient $\\frac{\\partial J}{\\partial b}$ can be computed in the same way,\n",
        "but one should use $\\mathbb{1}^T$ (vector with ones) instead of $X^T$."
      ]
    },
    {
      "cell_type": "markdown",
      "metadata": {
        "id": "a4zixrN3eJ5s",
        "colab_type": "text"
      },
      "source": [
        "```python\n",
        "# Step 1. Compute delta\n",
        "delta = ( y_hat - to_categorical(target))/len(y_hat)\n",
        "# TODO: Compute ∂J / ∂W\n",
        "dW = X.T.dot(delta)\n",
        "print( 'dW.shape = ', dW.shape )\n",
        "# TODO: Compute ∂J / ∂b\n",
        "db = np.sum(delta, axis=0)\n",
        "print( 'db.shape = ', db.shape )\n",
        "```"
      ]
    },
    {
      "cell_type": "markdown",
      "metadata": {
        "id": "uXuuywDVFzAm",
        "colab_type": "text"
      },
      "source": [
        "# MLP\n",
        "<img align=\"left\" src=\"http://rno.ii.uni.wroc.pl/uploads/tooploox/mlp.png\" width=\"750\">"
      ]
    },
    {
      "cell_type": "code",
      "metadata": {
        "id": "Cf5Alp4NOXK7",
        "colab_type": "code",
        "colab": {}
      },
      "source": [
        "# TODO: Initilize parameters\n",
        "tf.random.set_seed(12345)\n",
        "# first hidden layers (100 neurons)\n",
        "# second hidden layers (50 neurons)\n",
        "# output layer (10 neurons)\n",
        "\n",
        "W1 = tf.Variable(tf.random.normal((64, 100)))\n",
        "b1 = tf.Variable(tf.random.normal((100, )))\n",
        "\n",
        "W2 = tf.Variable(tf.random.normal((100, 50)))\n",
        "b2 = tf.Variable(tf.random.normal((50, )))\n",
        "\n",
        "W3 = tf.Variable(tf.random.normal((50, 10)))\n",
        "b3 = tf.Variable(tf.random.normal((10, )))"
      ],
      "execution_count": 0,
      "outputs": []
    },
    {
      "cell_type": "markdown",
      "metadata": {
        "id": "DSvYswJUF6oB",
        "colab_type": "text"
      },
      "source": [
        "## Forward propagation"
      ]
    },
    {
      "cell_type": "code",
      "metadata": {
        "colab_type": "code",
        "id": "Zrf2Moaug2UN",
        "colab": {}
      },
      "source": [
        "A0 = X # input\n",
        "\n",
        "Z1 = tf.matmul(X, W1) + b1\n",
        "A1 = tf.tanh(Z1) # tanh\n",
        "\n",
        "Z2 = tf.matmul(A1, W2) + b2\n",
        "A2 = tf.tanh(Z2) # tanh\n",
        "\n",
        "Z3 = tf.matmul(A2, W3) + b3 # logits\n",
        "A3 = tf.nn.softmax(Z3) # softmax\n",
        "\n",
        "y_hat = A3 # output"
      ],
      "execution_count": 0,
      "outputs": []
    },
    {
      "cell_type": "code",
      "metadata": {
        "id": "wF_Ijz0yg3hM",
        "colab_type": "code",
        "outputId": "ae3ca537-92d9-4a9b-8e85-9110c733abd5",
        "colab": {
          "base_uri": "https://localhost:8080/",
          "height": 85
        }
      },
      "source": [
        "print('A0.shape (input ): ',  A0.shape)\n",
        "print('A1.shape (hidden): ',  A1.shape)\n",
        "print('A2.shape (hidden): ',  A2.shape)\n",
        "print('A3.shape (output): ',  A3.shape)"
      ],
      "execution_count": 101,
      "outputs": [
        {
          "output_type": "stream",
          "text": [
            "A0.shape (input ):  (1797, 64)\n",
            "A1.shape (hidden):  (1797, 100)\n",
            "A2.shape (hidden):  (1797, 50)\n",
            "A3.shape (output):  (1797, 10)\n"
          ],
          "name": "stdout"
        }
      ]
    },
    {
      "cell_type": "code",
      "metadata": {
        "id": "3WU6FhgwgkGK",
        "colab_type": "code",
        "colab": {}
      },
      "source": [
        "# TODO\n",
        "def loss(X,target, W1,b1,W2,b2,W3,b3):\n",
        "  A0 = X # input\n",
        "\n",
        "  Z1 = tf.matmul(X, W1) + b1\n",
        "  A1 = tf.tanh(Z1) # tanh\n",
        "\n",
        "  Z2 = tf.matmul(A1, W2) + b2\n",
        "  A2 = tf.tanh(Z2) # tanh\n",
        "\n",
        "  Z3 = tf.matmul(A2, W3) + b3 # logits\n",
        "  A3 = tf.nn.softmax(Z3) # softmax\n",
        "\n",
        "  y_hat = A3 # output\n",
        "\n",
        "  oh_target = tf.one_hot(target, depth=10)\n",
        "  sce = tf.nn.softmax_cross_entropy_with_logits(oh_target, Z3)\n",
        "  \n",
        "  return tf.reduce_mean(sce)"
      ],
      "execution_count": 0,
      "outputs": []
    },
    {
      "cell_type": "markdown",
      "metadata": {
        "id": "OZO0eKKOgiUK",
        "colab_type": "text"
      },
      "source": [
        "## Loss"
      ]
    },
    {
      "cell_type": "code",
      "metadata": {
        "id": "hG4yAjXvgjxX",
        "colab_type": "code",
        "outputId": "4684ed9e-3385-450b-88a6-c433dcccff03",
        "colab": {
          "base_uri": "https://localhost:8080/",
          "height": 34
        }
      },
      "source": [
        "with tf.GradientTape() as gradient_tape:\n",
        "    L = loss(X, target, W1, b1, W2, b2, W3, b3)\n",
        "L"
      ],
      "execution_count": 103,
      "outputs": [
        {
          "output_type": "execute_result",
          "data": {
            "text/plain": [
              "<tf.Tensor: shape=(), dtype=float32, numpy=10.479221>"
            ]
          },
          "metadata": {
            "tags": []
          },
          "execution_count": 103
        }
      ]
    },
    {
      "cell_type": "markdown",
      "metadata": {
        "id": "RXKdB8ywZH6X",
        "colab_type": "text"
      },
      "source": [
        "## Backward propagation"
      ]
    },
    {
      "cell_type": "code",
      "metadata": {
        "id": "CqD0rOq0fvmY",
        "colab_type": "code",
        "colab": {}
      },
      "source": [
        "dW1, db1, dW2, db2, dW3, db3 = gradient_tape.gradient(L, [W1,b1,W2,b2,W3,b3])"
      ],
      "execution_count": 0,
      "outputs": []
    },
    {
      "cell_type": "code",
      "metadata": {
        "id": "4_LAAqQwgXCG",
        "colab_type": "code",
        "outputId": "561d7acd-bacf-41f6-a52d-5e2183748ebc",
        "colab": {
          "base_uri": "https://localhost:8080/",
          "height": 34
        }
      },
      "source": [
        "dW1.shape"
      ],
      "execution_count": 105,
      "outputs": [
        {
          "output_type": "execute_result",
          "data": {
            "text/plain": [
              "TensorShape([64, 100])"
            ]
          },
          "metadata": {
            "tags": []
          },
          "execution_count": 105
        }
      ]
    },
    {
      "cell_type": "markdown",
      "metadata": {
        "id": "chzoD1gKhDk_",
        "colab_type": "text"
      },
      "source": [
        "# Single step of GD"
      ]
    },
    {
      "cell_type": "code",
      "metadata": {
        "id": "yY4B2cE1hFPX",
        "colab_type": "code",
        "outputId": "ee41f9f3-0110-48ad-f9d6-7964680ed8c3",
        "colab": {
          "base_uri": "https://localhost:8080/",
          "height": 85
        }
      },
      "source": [
        "alpha = tf.constant(0.1, dtype=float)\n",
        "W1.assign_sub( alpha * dW1 )\n",
        "W2.assign_sub( alpha * dW2 )\n",
        "W3.assign_sub( alpha * dW3 )\n",
        "\n",
        "b1.assign_sub( alpha * db1 )\n",
        "b2.assign_sub( alpha * db2 )\n",
        "b3.assign_sub( alpha * db3 )"
      ],
      "execution_count": 106,
      "outputs": [
        {
          "output_type": "execute_result",
          "data": {
            "text/plain": [
              "<tf.Variable 'UnreadVariable' shape=(10,) dtype=float32, numpy=\n",
              "array([ 0.8738941 , -0.66149586, -0.3649803 ,  0.01973989, -1.130679  ,\n",
              "       -1.4375238 , -0.37911487,  0.40206444,  1.2475984 , -0.7922754 ],\n",
              "      dtype=float32)>"
            ]
          },
          "metadata": {
            "tags": []
          },
          "execution_count": 106
        }
      ]
    },
    {
      "cell_type": "code",
      "metadata": {
        "id": "y59DBUKMhKfN",
        "colab_type": "code",
        "outputId": "195d98fe-3c32-43ae-9595-a791ba516109",
        "colab": {
          "base_uri": "https://localhost:8080/",
          "height": 35
        }
      },
      "source": [
        "loss(X, target, W1, b1, W2, b2, W3, b3)"
      ],
      "execution_count": 0,
      "outputs": [
        {
          "output_type": "execute_result",
          "data": {
            "text/plain": [
              "<tf.Tensor: shape=(), dtype=float32, numpy=9.290512>"
            ]
          },
          "metadata": {
            "tags": []
          },
          "execution_count": 41
        }
      ]
    },
    {
      "cell_type": "markdown",
      "metadata": {
        "id": "enZY7k7LhhJY",
        "colab_type": "text"
      },
      "source": [
        "Next step"
      ]
    },
    {
      "cell_type": "code",
      "metadata": {
        "id": "bSZm_wW3hZ5N",
        "colab_type": "code",
        "outputId": "929595e2-dd07-40c3-ae03-d11f1399e9a7",
        "colab": {
          "base_uri": "https://localhost:8080/",
          "height": 34
        }
      },
      "source": [
        "with tf.GradientTape() as gradient_tape:\n",
        "    L = loss(X, target, W1, b1, W2, b2, W3, b3)\n",
        "dW1, db1, dW2, db2, dW3, db3 = gradient_tape.gradient(L, [W1,b1,W2,b2,W3,b3])\n",
        "W1.assign_sub( alpha * dW1 )\n",
        "W2.assign_sub( alpha * dW2 )\n",
        "W3.assign_sub( alpha * dW3 )\n",
        "b1.assign_sub( alpha * db1 )\n",
        "b2.assign_sub( alpha * db2 )\n",
        "b3.assign_sub( alpha * db3 )\n",
        "loss(X, target, W1, b1, W2, b2, W3, b3)"
      ],
      "execution_count": 107,
      "outputs": [
        {
          "output_type": "execute_result",
          "data": {
            "text/plain": [
              "<tf.Tensor: shape=(), dtype=float32, numpy=8.389771>"
            ]
          },
          "metadata": {
            "tags": []
          },
          "execution_count": 107
        }
      ]
    },
    {
      "cell_type": "markdown",
      "metadata": {
        "id": "f90M1B-XGExi",
        "colab_type": "text"
      },
      "source": [
        "# Final training loop"
      ]
    },
    {
      "cell_type": "code",
      "metadata": {
        "id": "kgjzlSzQhndN",
        "colab_type": "code",
        "colab": {
          "base_uri": "https://localhost:8080/",
          "height": 187
        },
        "outputId": "40d9b1b4-29d9-44f1-c4d5-bb5c780bee37"
      },
      "source": [
        "epochs = 10\n",
        "\n",
        "for i in range(epochs):\n",
        "    with tf.GradientTape() as gradient_tape:\n",
        "        L = loss(X, target, W1, b1, W2, b2, W3, b3)\n",
        "    dW1, db1, dW2, db2, dW3, db3 = gradient_tape.gradient(L, [W1,b1,W2,b2,W3,b3])\n",
        "    W1.assign_sub( alpha * dW1 )\n",
        "    W2.assign_sub( alpha * dW2 )\n",
        "    W3.assign_sub( alpha * dW3 )\n",
        "    b1.assign_sub( alpha * db1 )\n",
        "    b2.assign_sub( alpha * db2 )\n",
        "    b3.assign_sub( alpha * db3 )\n",
        "\n",
        "    print(\"Step {:3d}/{:3d} : loss = {:.5f}\".format(i+1, epochs, L))"
      ],
      "execution_count": 108,
      "outputs": [
        {
          "output_type": "stream",
          "text": [
            "Step   1/ 10 : loss = 8.38977\n",
            "Step   2/ 10 : loss = 7.66874\n",
            "Step   3/ 10 : loss = 6.98112\n",
            "Step   4/ 10 : loss = 6.54724\n",
            "Step   5/ 10 : loss = 6.16826\n",
            "Step   6/ 10 : loss = 5.88399\n",
            "Step   7/ 10 : loss = 5.53995\n",
            "Step   8/ 10 : loss = 5.27516\n",
            "Step   9/ 10 : loss = 5.05868\n",
            "Step  10/ 10 : loss = 4.80365\n"
          ],
          "name": "stdout"
        }
      ]
    },
    {
      "cell_type": "markdown",
      "metadata": {
        "id": "xemi2DW4pnSf",
        "colab_type": "text"
      },
      "source": [
        "# Homework\n",
        "\n",
        "Train your MLP and recognize the Fashion MNIST dataset.\n",
        "\n",
        "_Remark_: in the case of RGB images one can flatten all the channels\n",
        "<img align=\"left\" src=\"http://rno.ii.uni.wroc.pl/uploads/tooploox/image_to_vector.png\" width=\"750\">"
      ]
    },
    {
      "cell_type": "code",
      "metadata": {
        "id": "hPEcAvlOpwsR",
        "colab_type": "code",
        "outputId": "465d85eb-9f65-4b01-bf40-c6dd4fe5e812",
        "colab": {
          "base_uri": "https://localhost:8080/",
          "height": 161
        }
      },
      "source": [
        "(X_train, y_train), (X_test, y_test) = tf.keras.datasets.fashion_mnist.load_data()"
      ],
      "execution_count": 0,
      "outputs": [
        {
          "output_type": "stream",
          "text": [
            "Downloading data from https://storage.googleapis.com/tensorflow/tf-keras-datasets/train-labels-idx1-ubyte.gz\n",
            "32768/29515 [=================================] - 0s 0us/step\n",
            "Downloading data from https://storage.googleapis.com/tensorflow/tf-keras-datasets/train-images-idx3-ubyte.gz\n",
            "26427392/26421880 [==============================] - 0s 0us/step\n",
            "Downloading data from https://storage.googleapis.com/tensorflow/tf-keras-datasets/t10k-labels-idx1-ubyte.gz\n",
            "8192/5148 [===============================================] - 0s 0us/step\n",
            "Downloading data from https://storage.googleapis.com/tensorflow/tf-keras-datasets/t10k-images-idx3-ubyte.gz\n",
            "4423680/4422102 [==============================] - 0s 0us/step\n"
          ],
          "name": "stdout"
        }
      ]
    },
    {
      "cell_type": "code",
      "metadata": {
        "id": "2w5WxqJfp-qo",
        "colab_type": "code",
        "outputId": "c2c723b9-a950-4c7a-b0bd-92471449e02b",
        "colab": {
          "base_uri": "https://localhost:8080/",
          "height": 35
        }
      },
      "source": [
        "X_train.shape"
      ],
      "execution_count": 0,
      "outputs": [
        {
          "output_type": "execute_result",
          "data": {
            "text/plain": [
              "(60000, 28, 28)"
            ]
          },
          "metadata": {
            "tags": []
          },
          "execution_count": 45
        }
      ]
    },
    {
      "cell_type": "code",
      "metadata": {
        "id": "K4j5XRG-qHtV",
        "colab_type": "code",
        "outputId": "6a94abd1-5829-46bd-b496-a4789feb111b",
        "colab": {
          "base_uri": "https://localhost:8080/",
          "height": 35
        }
      },
      "source": [
        "X_train = X_train.reshape((-1, 28*28))\n",
        "X_train.shape"
      ],
      "execution_count": 0,
      "outputs": [
        {
          "output_type": "execute_result",
          "data": {
            "text/plain": [
              "(60000, 784)"
            ]
          },
          "metadata": {
            "tags": []
          },
          "execution_count": 46
        }
      ]
    },
    {
      "cell_type": "code",
      "metadata": {
        "id": "gDvKVxDxkjzL",
        "colab_type": "code",
        "colab": {}
      },
      "source": [
        ""
      ],
      "execution_count": 0,
      "outputs": []
    }
  ]
}